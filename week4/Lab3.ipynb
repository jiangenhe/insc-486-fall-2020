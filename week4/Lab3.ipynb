{
  "nbformat": 4,
  "nbformat_minor": 0,
  "metadata": {
    "colab": {
      "name": "Lab3.ipynb",
      "provenance": [],
      "collapsed_sections": [],
      "authorship_tag": "ABX9TyPvOfIgoyKWFD50ZjZwmRkg",
      "include_colab_link": true
    },
    "kernelspec": {
      "name": "python3",
      "display_name": "Python 3"
    }
  },
  "cells": [
    {
      "cell_type": "markdown",
      "metadata": {
        "id": "view-in-github",
        "colab_type": "text"
      },
      "source": [
        "<a href=\"https://colab.research.google.com/github/jiangenhe/insc-486-fall-2021/blob/main/week4/Lab3.ipynb\" target=\"_parent\"><img src=\"https://colab.research.google.com/assets/colab-badge.svg\" alt=\"Open In Colab\"/></a>"
      ]
    },
    {
      "cell_type": "markdown",
      "metadata": {
        "id": "rXuDYgRmFdgA"
      },
      "source": [
        "1. Create a pandas series from each of the items below: a list, numpy and a dictionary"
      ]
    },
    {
      "cell_type": "code",
      "metadata": {
        "id": "RkZRO4abEr6W"
      },
      "source": [
        "import numpy as np\n",
        "mylist = list('abcdefghijklmnopqrstuvwxyz')\n",
        "myarr = np.arange(26)\n",
        "mydict = dict(zip(mylist, myarr))\n",
        "\n"
      ],
      "execution_count": null,
      "outputs": []
    },
    {
      "cell_type": "markdown",
      "metadata": {
        "id": "JHYBzXT0GXgw"
      },
      "source": [
        "2. Use loc, iloc, and [] to read 4th value in the series created from mydict."
      ]
    },
    {
      "cell_type": "code",
      "metadata": {
        "id": "Hg2klbZAH5Lp"
      },
      "source": [
        ""
      ],
      "execution_count": null,
      "outputs": []
    },
    {
      "cell_type": "markdown",
      "metadata": {
        "id": "Q8Th02hOIFEP"
      },
      "source": [
        "3. Use the following DataFrame to answer questions"
      ]
    },
    {
      "cell_type": "code",
      "metadata": {
        "colab": {
          "base_uri": "https://localhost:8080/",
          "height": 390
        },
        "id": "N-SNPL3MJXcC",
        "outputId": "e6b40f55-30d5-4332-9873-9dc45d8b94a9"
      },
      "source": [
        "import pandas as pd\n",
        "\n",
        "p = pd.DataFrame({\n",
        "    \"Rank\": range(1,11),\n",
        "    \"State\": [\"CA\", \"TX\", \"FL\", \"NY\", \"IL\", \"PA\", \"OH\", \"GA\", \"NC\", \"MI\"],\n",
        "    \"Population\": [39.5, 29.0, 21.5, 19.5, 12.8, 12.7, 11.7, 10.6, 10.5, 10.0],\n",
        "    \"Land Area\": [155973, 261914, 53997, 47224,55593,44820, 40953, 57919, 48718, 56539]\n",
        "})\n",
        "\n",
        "p.index = p['State']\n",
        "p"
      ],
      "execution_count": null,
      "outputs": [
        {
          "output_type": "execute_result",
          "data": {
            "text/html": [
              "<div>\n",
              "<style scoped>\n",
              "    .dataframe tbody tr th:only-of-type {\n",
              "        vertical-align: middle;\n",
              "    }\n",
              "\n",
              "    .dataframe tbody tr th {\n",
              "        vertical-align: top;\n",
              "    }\n",
              "\n",
              "    .dataframe thead th {\n",
              "        text-align: right;\n",
              "    }\n",
              "</style>\n",
              "<table border=\"1\" class=\"dataframe\">\n",
              "  <thead>\n",
              "    <tr style=\"text-align: right;\">\n",
              "      <th></th>\n",
              "      <th>Rank</th>\n",
              "      <th>State</th>\n",
              "      <th>Population</th>\n",
              "      <th>Land Area</th>\n",
              "    </tr>\n",
              "    <tr>\n",
              "      <th>State</th>\n",
              "      <th></th>\n",
              "      <th></th>\n",
              "      <th></th>\n",
              "      <th></th>\n",
              "    </tr>\n",
              "  </thead>\n",
              "  <tbody>\n",
              "    <tr>\n",
              "      <th>CA</th>\n",
              "      <td>1</td>\n",
              "      <td>CA</td>\n",
              "      <td>39.5</td>\n",
              "      <td>155973</td>\n",
              "    </tr>\n",
              "    <tr>\n",
              "      <th>TX</th>\n",
              "      <td>2</td>\n",
              "      <td>TX</td>\n",
              "      <td>29.0</td>\n",
              "      <td>261914</td>\n",
              "    </tr>\n",
              "    <tr>\n",
              "      <th>FL</th>\n",
              "      <td>3</td>\n",
              "      <td>FL</td>\n",
              "      <td>21.5</td>\n",
              "      <td>53997</td>\n",
              "    </tr>\n",
              "    <tr>\n",
              "      <th>NY</th>\n",
              "      <td>4</td>\n",
              "      <td>NY</td>\n",
              "      <td>19.5</td>\n",
              "      <td>47224</td>\n",
              "    </tr>\n",
              "    <tr>\n",
              "      <th>IL</th>\n",
              "      <td>5</td>\n",
              "      <td>IL</td>\n",
              "      <td>12.8</td>\n",
              "      <td>55593</td>\n",
              "    </tr>\n",
              "    <tr>\n",
              "      <th>PA</th>\n",
              "      <td>6</td>\n",
              "      <td>PA</td>\n",
              "      <td>12.7</td>\n",
              "      <td>44820</td>\n",
              "    </tr>\n",
              "    <tr>\n",
              "      <th>OH</th>\n",
              "      <td>7</td>\n",
              "      <td>OH</td>\n",
              "      <td>11.7</td>\n",
              "      <td>40953</td>\n",
              "    </tr>\n",
              "    <tr>\n",
              "      <th>GA</th>\n",
              "      <td>8</td>\n",
              "      <td>GA</td>\n",
              "      <td>10.6</td>\n",
              "      <td>57919</td>\n",
              "    </tr>\n",
              "    <tr>\n",
              "      <th>NC</th>\n",
              "      <td>9</td>\n",
              "      <td>NC</td>\n",
              "      <td>10.5</td>\n",
              "      <td>48718</td>\n",
              "    </tr>\n",
              "    <tr>\n",
              "      <th>MI</th>\n",
              "      <td>10</td>\n",
              "      <td>MI</td>\n",
              "      <td>10.0</td>\n",
              "      <td>56539</td>\n",
              "    </tr>\n",
              "  </tbody>\n",
              "</table>\n",
              "</div>"
            ],
            "text/plain": [
              "       Rank State  Population  Land Area\n",
              "State                                   \n",
              "CA        1    CA        39.5     155973\n",
              "TX        2    TX        29.0     261914\n",
              "FL        3    FL        21.5      53997\n",
              "NY        4    NY        19.5      47224\n",
              "IL        5    IL        12.8      55593\n",
              "PA        6    PA        12.7      44820\n",
              "OH        7    OH        11.7      40953\n",
              "GA        8    GA        10.6      57919\n",
              "NC        9    NC        10.5      48718\n",
              "MI       10    MI        10.0      56539"
            ]
          },
          "metadata": {
            "tags": []
          },
          "execution_count": 28
        }
      ]
    },
    {
      "cell_type": "markdown",
      "metadata": {
        "id": "WCxQZv_2Qa0n"
      },
      "source": [
        "1. The total population of the ten states"
      ]
    },
    {
      "cell_type": "code",
      "metadata": {
        "id": "lhxBec_tLKB1"
      },
      "source": [
        ""
      ],
      "execution_count": null,
      "outputs": []
    },
    {
      "cell_type": "markdown",
      "metadata": {
        "id": "sqFGuQW8QlWO"
      },
      "source": [
        "2. Multiply the popoluation column with 1,000,000"
      ]
    },
    {
      "cell_type": "code",
      "metadata": {
        "id": "rMXbMdkDK1BJ"
      },
      "source": [
        ""
      ],
      "execution_count": null,
      "outputs": []
    },
    {
      "cell_type": "markdown",
      "metadata": {
        "id": "g9Uwuw7JRCdk"
      },
      "source": [
        "3. Read PA's population"
      ]
    },
    {
      "cell_type": "code",
      "metadata": {
        "id": "zu68bjfjKzsz"
      },
      "source": [
        ""
      ],
      "execution_count": null,
      "outputs": []
    },
    {
      "cell_type": "markdown",
      "metadata": {
        "id": "ROypwA9MUTm0"
      },
      "source": [
        "4. Read Land Area and Population of PA and NY."
      ]
    },
    {
      "cell_type": "code",
      "metadata": {
        "id": "0sDvr2QBUc7Y"
      },
      "source": [
        ""
      ],
      "execution_count": null,
      "outputs": []
    },
    {
      "cell_type": "markdown",
      "metadata": {
        "id": "L-GDYCHmRXzN"
      },
      "source": [
        "5. How many states with more than 11 million people?"
      ]
    },
    {
      "cell_type": "code",
      "metadata": {
        "id": "yHnRtCJxSGQI"
      },
      "source": [
        ""
      ],
      "execution_count": null,
      "outputs": []
    },
    {
      "cell_type": "markdown",
      "metadata": {
        "id": "te2NEY-RSGwK"
      },
      "source": [
        "6. Change the index of the DataFrame to Rank"
      ]
    },
    {
      "cell_type": "code",
      "metadata": {
        "id": "FVLFC7hsSM3h"
      },
      "source": [
        ""
      ],
      "execution_count": null,
      "outputs": []
    },
    {
      "cell_type": "markdown",
      "metadata": {
        "id": "UqELE1zNSNMw"
      },
      "source": [
        "7. The total population of states with more than 12 million people or with a  land area larger than 50000 square miles."
      ]
    },
    {
      "cell_type": "code",
      "metadata": {
        "id": "20V7KwYHUGyl"
      },
      "source": [
        ""
      ],
      "execution_count": null,
      "outputs": []
    }
  ]
}