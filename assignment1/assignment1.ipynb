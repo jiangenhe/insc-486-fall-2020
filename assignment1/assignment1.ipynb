{
  "nbformat": 4,
  "nbformat_minor": 0,
  "metadata": {
    "coursera": {
      "schema_names": [
        "mooc_adswpy_1_v2_assignment1"
      ]
    },
    "kernelspec": {
      "display_name": "Python 3",
      "language": "python",
      "name": "python3"
    },
    "language_info": {
      "codemirror_mode": {
        "name": "ipython",
        "version": 3
      },
      "file_extension": ".py",
      "mimetype": "text/x-python",
      "name": "python",
      "nbconvert_exporter": "python",
      "pygments_lexer": "ipython3",
      "version": "3.7.3"
    },
    "colab": {
      "name": "assignment1.ipynb",
      "provenance": [],
      "toc_visible": true,
      "include_colab_link": true
    }
  },
  "cells": [
    {
      "cell_type": "markdown",
      "metadata": {
        "id": "view-in-github",
        "colab_type": "text"
      },
      "source": [
        "<a href=\"https://colab.research.google.com/github/jiangenhe/insc-486-2021-spring/blob/main/assignment1/assignment1.ipynb\" target=\"_parent\"><img src=\"https://colab.research.google.com/assets/colab-badge.svg\" alt=\"Open In Colab\"/></a>"
      ]
    },
    {
      "cell_type": "markdown",
      "metadata": {
        "deletable": false,
        "editable": false,
        "nbgrader": {
          "checksum": "a7460f3e3c42534125a0802936889559",
          "grade": false,
          "grade_id": "cell-fa48e7f1b94baa5b",
          "locked": true,
          "schema_version": 1,
          "solution": false
        },
        "id": "plCxJlMjxuzn"
      },
      "source": [
        "# INSC 486 - Assignment 1\n",
        "\n"
      ]
    },
    {
      "cell_type": "markdown",
      "metadata": {
        "id": "C1gcgKfMyp_T"
      },
      "source": [
        "- Due: Feburary 12, Friday, 11:59 pm\n",
        "- Submit your Colab link or ipynb file through Canvas\n",
        "- This assignment is worth 100 points that accounts for 10% of your final grade.\n",
        "- All the datasets are available on Canvas."
      ]
    },
    {
      "cell_type": "markdown",
      "metadata": {
        "deletable": false,
        "editable": false,
        "nbgrader": {
          "checksum": "36e3e2a3a3e29fa7b823d22476392320",
          "grade": false,
          "grade_id": "cell-e253518e37d33f0c",
          "locked": true,
          "schema_version": 1,
          "solution": false
        },
        "id": "VRdhCzslxuzu"
      },
      "source": [
        "## Part 1: Read and process txt file (30%)\n",
        "\n",
        "Load the standard web log file **logdata.txt**. This file records the access a user makes when visiting a web page (like this one!). Each line of the log has the following items:\n",
        "* a host (e.g., '146.204.224.152') \n",
        "* a user_name (e.g., 'feest6811' **note: sometimes the user name is missing! In this case, use '-' as the value for the username.**)\n",
        "* the time a request was made (e.g., '21/Jun/2019:15:45:24 -0700')\n",
        "* the post request type (e.g., 'POST /incentivize HTTP/1.1' **note: not everything is a POST!**)\n",
        "\n",
        "Your task is to convert this into a list of dictionaries, where each dictionary looks like the following:\n",
        "```\n",
        "example_dict = {\"host\":\"146.204.224.152\", \n",
        "                \"user_name\":\"feest6811\", \n",
        "                \"time\":\"21/Jun/2019:15:45:24 -0700\",\n",
        "                \"request\":\"POST /incentivize HTTP/1.1\"}\n",
        "```"
      ]
    },
    {
      "cell_type": "code",
      "metadata": {
        "deletable": false,
        "nbgrader": {
          "checksum": "c04017e59e48b2f4c77bf425ed84b356",
          "grade": false,
          "grade_id": "logs",
          "locked": false,
          "schema_version": 1,
          "solution": true
        },
        "id": "2HPfFEroxuzu"
      },
      "source": [
        "import re\n",
        "def logs():\n",
        "    with open(\"assets/logdata.txt\", \"r\") as file:\n",
        "        logdata = file.read()\n",
        "    \n",
        "    # YOUR CODE HERE \n",
        "    # The solution should be written within the function body given, and the final result should be returned.\n",
        "    "
      ],
      "execution_count": null,
      "outputs": []
    },
    {
      "cell_type": "code",
      "metadata": {
        "deletable": false,
        "editable": false,
        "nbgrader": {
          "checksum": "1fd5f2cca190d37c667fb189352540d3",
          "grade": true,
          "grade_id": "cell-correct_logs",
          "locked": true,
          "points": 1,
          "schema_version": 1,
          "solution": false
        },
        "id": "mXxU78csxuzu"
      },
      "source": [
        "# You can use the following code to validate your answers \n",
        "\n",
        "assert len(logs()) == 979\n",
        "\n",
        "one_item={'host': '146.204.224.152',\n",
        "  'user_name': 'feest6811',\n",
        "  'time': '21/Jun/2019:15:45:24 -0700',\n",
        "  'request': 'POST /incentivize HTTP/1.1'}\n",
        "assert one_item in logs(), \"Sorry, this item should be in the log results, check your formating\"\n"
      ],
      "execution_count": null,
      "outputs": []
    },
    {
      "cell_type": "markdown",
      "metadata": {
        "id": "ha-xzYDH-6gZ"
      },
      "source": [
        "## Part 2: Numpy (30%)"
      ]
    },
    {
      "cell_type": "markdown",
      "metadata": {
        "id": "bRDQyrMpEl5n"
      },
      "source": [
        "### Question 1\n",
        "\n",
        "Load the **winequality-red.csv** file by using numpy.genfromtxt method. Keep the names for the columns. "
      ]
    },
    {
      "cell_type": "code",
      "metadata": {
        "id": "9_XURsm7He-m"
      },
      "source": [
        ""
      ],
      "execution_count": null,
      "outputs": []
    },
    {
      "cell_type": "markdown",
      "metadata": {
        "id": "QcSWk5LeHfaQ"
      },
      "source": [
        "### Question 2\n",
        "\n",
        "Supposing the quality column is on a scale of 10 points, transform the quality column on a scale of 100 points."
      ]
    },
    {
      "cell_type": "code",
      "metadata": {
        "id": "amq-An3gJXFV"
      },
      "source": [
        ""
      ],
      "execution_count": null,
      "outputs": []
    },
    {
      "cell_type": "markdown",
      "metadata": {
        "id": "w7lS12CNJXvN"
      },
      "source": [
        "### Question 3\n",
        "\n",
        "Separate the wine data into a low quality class (quality $\\leq5$) and a high quality class (quality $>5$), find the mean and standard deviation for  ''residual sugar'', ''total sulfur dioxide'' and ''alcohol'' for the two classes. Based on the statistical information, describe the most different properties of low quality red wines and high quality red wines. \n",
        "\n",
        "  (*Add text cell or use comment in code cell to write your description*)"
      ]
    },
    {
      "cell_type": "code",
      "metadata": {
        "id": "dglup1s2KmbV"
      },
      "source": [
        ""
      ],
      "execution_count": null,
      "outputs": []
    },
    {
      "cell_type": "markdown",
      "metadata": {
        "id": "lKUzNpEuK69f"
      },
      "source": [
        "## Part 3: Pandas (40%)\n",
        "\n",
        "The following code loads the olympics dataset (**olympics.csv**), which was derrived from the Wikipedia entry on [All Time Olympic Games Medals](https://en.wikipedia.org/wiki/All-time_Olympic_Games_medal_table), and does some basic data cleaning. Use this dataset to answer the questions below."
      ]
    },
    {
      "cell_type": "code",
      "metadata": {
        "colab": {
          "base_uri": "https://localhost:8080/",
          "height": 241
        },
        "id": "z_6g4vpGQht9",
        "outputId": "82f55175-2b90-439e-e70b-6303292f05ef"
      },
      "source": [
        "import pandas as pd\n",
        "\n",
        "df = pd.read_csv('olympics.csv', index_col=0, skiprows=1)\n",
        "\n",
        "for col in df.columns:\n",
        "    if col[:2]=='01':\n",
        "        df.rename(columns={col:'Gold'+col[4:]}, inplace=True)\n",
        "    if col[:2]=='02':\n",
        "        df.rename(columns={col:'Silver'+col[4:]}, inplace=True)\n",
        "    if col[:2]=='03':\n",
        "        df.rename(columns={col:'Bronze'+col[4:]}, inplace=True)\n",
        "    if col[:1]=='№':\n",
        "        df.rename(columns={col:'#'+col[1:]}, inplace=True)\n",
        "\n",
        "names_ids = df.index.str.split('\\s\\(') # split the index by '('\n",
        "\n",
        "df.index = names_ids.str[0] # the [0] element is the country name (new index) \n",
        "df['ID'] = names_ids.str[1].str[:3] # the [1] element is the abbreviation or ID (take first 3 characters from that)\n",
        "\n",
        "df = df.drop('Totals')\n",
        "df.head()"
      ],
      "execution_count": null,
      "outputs": [
        {
          "output_type": "execute_result",
          "data": {
            "text/html": [
              "<div>\n",
              "<style scoped>\n",
              "    .dataframe tbody tr th:only-of-type {\n",
              "        vertical-align: middle;\n",
              "    }\n",
              "\n",
              "    .dataframe tbody tr th {\n",
              "        vertical-align: top;\n",
              "    }\n",
              "\n",
              "    .dataframe thead th {\n",
              "        text-align: right;\n",
              "    }\n",
              "</style>\n",
              "<table border=\"1\" class=\"dataframe\">\n",
              "  <thead>\n",
              "    <tr style=\"text-align: right;\">\n",
              "      <th></th>\n",
              "      <th># Summer</th>\n",
              "      <th>Gold</th>\n",
              "      <th>Silver</th>\n",
              "      <th>Bronze</th>\n",
              "      <th>Total</th>\n",
              "      <th># Winter</th>\n",
              "      <th>Gold.1</th>\n",
              "      <th>Silver.1</th>\n",
              "      <th>Bronze.1</th>\n",
              "      <th>Total.1</th>\n",
              "      <th># Games</th>\n",
              "      <th>Gold.2</th>\n",
              "      <th>Silver.2</th>\n",
              "      <th>Bronze.2</th>\n",
              "      <th>Combined total</th>\n",
              "      <th>ID</th>\n",
              "    </tr>\n",
              "  </thead>\n",
              "  <tbody>\n",
              "    <tr>\n",
              "      <th>Afghanistan</th>\n",
              "      <td>13</td>\n",
              "      <td>0</td>\n",
              "      <td>0</td>\n",
              "      <td>2</td>\n",
              "      <td>2</td>\n",
              "      <td>0</td>\n",
              "      <td>0</td>\n",
              "      <td>0</td>\n",
              "      <td>0</td>\n",
              "      <td>0</td>\n",
              "      <td>13</td>\n",
              "      <td>0</td>\n",
              "      <td>0</td>\n",
              "      <td>2</td>\n",
              "      <td>2</td>\n",
              "      <td>AFG</td>\n",
              "    </tr>\n",
              "    <tr>\n",
              "      <th>Algeria</th>\n",
              "      <td>12</td>\n",
              "      <td>5</td>\n",
              "      <td>2</td>\n",
              "      <td>8</td>\n",
              "      <td>15</td>\n",
              "      <td>3</td>\n",
              "      <td>0</td>\n",
              "      <td>0</td>\n",
              "      <td>0</td>\n",
              "      <td>0</td>\n",
              "      <td>15</td>\n",
              "      <td>5</td>\n",
              "      <td>2</td>\n",
              "      <td>8</td>\n",
              "      <td>15</td>\n",
              "      <td>ALG</td>\n",
              "    </tr>\n",
              "    <tr>\n",
              "      <th>Argentina</th>\n",
              "      <td>23</td>\n",
              "      <td>18</td>\n",
              "      <td>24</td>\n",
              "      <td>28</td>\n",
              "      <td>70</td>\n",
              "      <td>18</td>\n",
              "      <td>0</td>\n",
              "      <td>0</td>\n",
              "      <td>0</td>\n",
              "      <td>0</td>\n",
              "      <td>41</td>\n",
              "      <td>18</td>\n",
              "      <td>24</td>\n",
              "      <td>28</td>\n",
              "      <td>70</td>\n",
              "      <td>ARG</td>\n",
              "    </tr>\n",
              "    <tr>\n",
              "      <th>Armenia</th>\n",
              "      <td>5</td>\n",
              "      <td>1</td>\n",
              "      <td>2</td>\n",
              "      <td>9</td>\n",
              "      <td>12</td>\n",
              "      <td>6</td>\n",
              "      <td>0</td>\n",
              "      <td>0</td>\n",
              "      <td>0</td>\n",
              "      <td>0</td>\n",
              "      <td>11</td>\n",
              "      <td>1</td>\n",
              "      <td>2</td>\n",
              "      <td>9</td>\n",
              "      <td>12</td>\n",
              "      <td>ARM</td>\n",
              "    </tr>\n",
              "    <tr>\n",
              "      <th>Australasia</th>\n",
              "      <td>2</td>\n",
              "      <td>3</td>\n",
              "      <td>4</td>\n",
              "      <td>5</td>\n",
              "      <td>12</td>\n",
              "      <td>0</td>\n",
              "      <td>0</td>\n",
              "      <td>0</td>\n",
              "      <td>0</td>\n",
              "      <td>0</td>\n",
              "      <td>2</td>\n",
              "      <td>3</td>\n",
              "      <td>4</td>\n",
              "      <td>5</td>\n",
              "      <td>12</td>\n",
              "      <td>ANZ</td>\n",
              "    </tr>\n",
              "  </tbody>\n",
              "</table>\n",
              "</div>"
            ],
            "text/plain": [
              "             # Summer  Gold  Silver  ...  Bronze.2  Combined total   ID\n",
              "Afghanistan        13     0       0  ...         2               2  AFG\n",
              "Algeria            12     5       2  ...         8              15  ALG\n",
              "Argentina          23    18      24  ...        28              70  ARG\n",
              "Armenia             5     1       2  ...         9              12  ARM\n",
              "Australasia         2     3       4  ...         5              12  ANZ\n",
              "\n",
              "[5 rows x 16 columns]"
            ]
          },
          "metadata": {
            "tags": []
          },
          "execution_count": 1
        }
      ]
    },
    {
      "cell_type": "markdown",
      "metadata": {
        "id": "4P0VH80cOhS0"
      },
      "source": [
        "### Question 1\n",
        "Which country has won the most gold medals in winter games?"
      ]
    },
    {
      "cell_type": "code",
      "metadata": {
        "nbgrader": {
          "grade": false,
          "locked": false,
          "solution": false
        },
        "id": "4WPbgFyQOhS1"
      },
      "source": [
        ""
      ],
      "execution_count": null,
      "outputs": []
    },
    {
      "cell_type": "markdown",
      "metadata": {
        "id": "TPIZNfAWOhS1"
      },
      "source": [
        "### Question 2\n",
        "Which country had the biggest difference between their summer and winter gold medal counts?\n"
      ]
    },
    {
      "cell_type": "code",
      "metadata": {
        "id": "NQy-sDFYOhS1"
      },
      "source": [
        ""
      ],
      "execution_count": null,
      "outputs": []
    },
    {
      "cell_type": "markdown",
      "metadata": {
        "id": "JFWdWs0WOhS2"
      },
      "source": [
        "### Question 3\n",
        "Which country has the biggest difference between their summer and winter gold medal counts relative to their total gold medal count? Only include countries that have won at least 1 gold in both summer and winter."
      ]
    },
    {
      "cell_type": "code",
      "metadata": {
        "id": "F8W77svZOhS2"
      },
      "source": [
        ""
      ],
      "execution_count": null,
      "outputs": []
    },
    {
      "cell_type": "markdown",
      "metadata": {
        "id": "D8HWa911OhS2"
      },
      "source": [
        "### Question 4\n",
        "Write code to update the dataframe to include a new column called \"Points\" which is a weighted value where each gold medal counts for 4 points, silver medals for 2 points, and bronze mdeals for 1 point. The function should return only the column (a Series object) which you created.\n",
        "\n",
        "*The answer should be a Series named of length 146*"
      ]
    },
    {
      "cell_type": "code",
      "metadata": {
        "id": "YMTL3LxkOhS2"
      },
      "source": [
        ""
      ],
      "execution_count": null,
      "outputs": []
    }
  ]
}