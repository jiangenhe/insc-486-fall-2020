{
  "nbformat": 4,
  "nbformat_minor": 0,
  "metadata": {
    "coursera": {
      "schema_names": [
        "mooc_adswpy_1_v2_assignment1"
      ]
    },
    "kernelspec": {
      "display_name": "Python 3",
      "language": "python",
      "name": "python3"
    },
    "language_info": {
      "codemirror_mode": {
        "name": "ipython",
        "version": 3
      },
      "file_extension": ".py",
      "mimetype": "text/x-python",
      "name": "python",
      "nbconvert_exporter": "python",
      "pygments_lexer": "ipython3",
      "version": "3.7.3"
    },
    "colab": {
      "name": "assignment1.ipynb",
      "provenance": [],
      "toc_visible": true,
      "include_colab_link": true
    }
  },
  "cells": [
    {
      "cell_type": "markdown",
      "metadata": {
        "id": "view-in-github",
        "colab_type": "text"
      },
      "source": [
        "<a href=\"https://colab.research.google.com/github/jiangenhe/insc-486-fall-2021/blob/main/assignment1/assignment1.ipynb\" target=\"_parent\"><img src=\"https://colab.research.google.com/assets/colab-badge.svg\" alt=\"Open In Colab\"/></a>"
      ]
    },
    {
      "cell_type": "markdown",
      "metadata": {
        "deletable": false,
        "editable": false,
        "nbgrader": {
          "checksum": "a7460f3e3c42534125a0802936889559",
          "grade": false,
          "grade_id": "cell-fa48e7f1b94baa5b",
          "locked": true,
          "schema_version": 1,
          "solution": false
        },
        "id": "plCxJlMjxuzn"
      },
      "source": [
        "# INSC 486 - Assignment 1\n",
        "\n"
      ]
    },
    {
      "cell_type": "markdown",
      "metadata": {
        "id": "C1gcgKfMyp_T"
      },
      "source": [
        "- Submit your Colab link via Canvas\n",
        "- This assignment is worth 90 points that accounts for 9% of your final grade."
      ]
    },
    {
      "cell_type": "markdown",
      "metadata": {
        "id": "ha-xzYDH-6gZ"
      },
      "source": [
        "## Part 1: Numpy (35 points)"
      ]
    },
    {
      "cell_type": "markdown",
      "metadata": {
        "id": "bRDQyrMpEl5n"
      },
      "source": [
        "### Question 1 (5 points)\n",
        "\n",
        "Load the **[winequality-red.csv](https://raw.githubusercontent.com/jiangenhe/insc-486-fall-2021/main/assignment1/winequality.csv)** file by using numpy.genfromtxt method. Keep the names for the columns. "
      ]
    },
    {
      "cell_type": "code",
      "metadata": {
        "id": "9_XURsm7He-m"
      },
      "source": [
        ""
      ],
      "execution_count": null,
      "outputs": []
    },
    {
      "cell_type": "markdown",
      "metadata": {
        "id": "QcSWk5LeHfaQ"
      },
      "source": [
        "### Question 2 (10 points)\n",
        "\n",
        "Supposing the quality column is on a scale of 10 points, transform the quality column on a scale of 100 points."
      ]
    },
    {
      "cell_type": "code",
      "metadata": {
        "id": "amq-An3gJXFV"
      },
      "source": [
        ""
      ],
      "execution_count": null,
      "outputs": []
    },
    {
      "cell_type": "markdown",
      "metadata": {
        "id": "w7lS12CNJXvN"
      },
      "source": [
        "### Question 3 (20 points)\n",
        "\n",
        "Separate the wine data into a low quality class (quality $\\leq5$) and a high quality class (quality $>5$), find the mean and standard deviation for  ''residual sugar'', ''total sulfur dioxide'' and ''alcohol'' for the two classes. Based on the statistical information, describe the most different properties of low quality red wines and high quality red wines. \n",
        "\n",
        "  (*Add text cell or use comment in code cell to write your description*)"
      ]
    },
    {
      "cell_type": "code",
      "metadata": {
        "id": "dglup1s2KmbV"
      },
      "source": [
        ""
      ],
      "execution_count": null,
      "outputs": []
    },
    {
      "cell_type": "markdown",
      "metadata": {
        "id": "lKUzNpEuK69f"
      },
      "source": [
        "## Part 2: Pandas (55 points)\n",
        "\n",
        "The following code loads the olympics dataset (**olympics.csv**), which was derrived from the Wikipedia entry on [All Time Olympic Games Medals](https://en.wikipedia.org/wiki/All-time_Olympic_Games_medal_table), and does some basic data cleaning. Use this dataset to answer the questions below."
      ]
    },
    {
      "cell_type": "code",
      "metadata": {
        "id": "z_6g4vpGQht9"
      },
      "source": [
        "import pandas as pd\n",
        "\n",
        "df = pd.read_csv('https://raw.githubusercontent.com/jiangenhe/insc-486-fall-2021/main/assignment1/olympics.csv', index_col=0, skiprows=1)\n",
        "\n",
        "for col in df.columns:\n",
        "    if col[:2]=='01':\n",
        "        df.rename(columns={col:'Gold'+col[4:]}, inplace=True)\n",
        "    if col[:2]=='02':\n",
        "        df.rename(columns={col:'Silver'+col[4:]}, inplace=True)\n",
        "    if col[:2]=='03':\n",
        "        df.rename(columns={col:'Bronze'+col[4:]}, inplace=True)\n",
        "    if col[:1]=='№':\n",
        "        df.rename(columns={col:'#'+col[1:]}, inplace=True)\n",
        "\n",
        "names_ids = df.index.str.split('\\s\\(') # split the index by '('\n",
        "\n",
        "df.index = names_ids.str[0] # the [0] element is the country name (new index) \n",
        "df['ID'] = names_ids.str[1].str[:3] # the [1] element is the abbreviation or ID (take first 3 characters from that)\n",
        "\n",
        "df = df.drop('Totals')\n",
        "df.head()"
      ],
      "execution_count": null,
      "outputs": []
    },
    {
      "cell_type": "markdown",
      "metadata": {
        "id": "4P0VH80cOhS0"
      },
      "source": [
        "### Question 1 (10 points)\n",
        "Which country has won the most gold medals in winter games?"
      ]
    },
    {
      "cell_type": "code",
      "metadata": {
        "nbgrader": {
          "grade": false,
          "locked": false,
          "solution": false
        },
        "id": "4WPbgFyQOhS1"
      },
      "source": [
        ""
      ],
      "execution_count": null,
      "outputs": []
    },
    {
      "cell_type": "markdown",
      "metadata": {
        "id": "TPIZNfAWOhS1"
      },
      "source": [
        "### Question 2 (10 points)\n",
        "Which country had the biggest difference between their summer and winter gold medal counts?\n"
      ]
    },
    {
      "cell_type": "code",
      "metadata": {
        "id": "NQy-sDFYOhS1"
      },
      "source": [
        ""
      ],
      "execution_count": null,
      "outputs": []
    },
    {
      "cell_type": "markdown",
      "metadata": {
        "id": "JFWdWs0WOhS2"
      },
      "source": [
        "### Question 3 (15 points)\n",
        "Which country has the biggest difference between their summer and winter gold medal counts relative to their total gold medal count? Only include countries that have won at least 10 gold in both summer and winter."
      ]
    },
    {
      "cell_type": "code",
      "metadata": {
        "id": "F8W77svZOhS2"
      },
      "source": [
        ""
      ],
      "execution_count": null,
      "outputs": []
    },
    {
      "cell_type": "markdown",
      "metadata": {
        "id": "D8HWa911OhS2"
      },
      "source": [
        "### Question 4 (20 points)\n",
        "Write code to update the dataframe to include a new column called \"Points\" which is a weighted value where each gold medal counts for 4 points, silver medals for 2 points, and bronze mdeals for 1 point. The function should return only the column (a Series object) which you created.\n",
        "\n",
        "*The answer should be a Series named of length 146*"
      ]
    },
    {
      "cell_type": "code",
      "metadata": {
        "id": "YMTL3LxkOhS2"
      },
      "source": [
        ""
      ],
      "execution_count": null,
      "outputs": []
    }
  ]
}