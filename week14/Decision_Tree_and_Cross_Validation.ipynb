{
  "nbformat": 4,
  "nbformat_minor": 0,
  "metadata": {
    "colab": {
      "name": "Decision Tree and Cross Validation.ipynb",
      "provenance": [],
      "authorship_tag": "ABX9TyNUdas74CUMHiga3OwLg4wW",
      "include_colab_link": true
    },
    "kernelspec": {
      "name": "python3",
      "display_name": "Python 3"
    },
    "language_info": {
      "name": "python"
    }
  },
  "cells": [
    {
      "cell_type": "markdown",
      "metadata": {
        "id": "view-in-github",
        "colab_type": "text"
      },
      "source": [
        "<a href=\"https://colab.research.google.com/github/jiangenhe/insc-486-fall-2021/blob/main/week14/Decision_Tree_and_Cross_Validation.ipynb\" target=\"_parent\"><img src=\"https://colab.research.google.com/assets/colab-badge.svg\" alt=\"Open In Colab\"/></a>"
      ]
    },
    {
      "cell_type": "markdown",
      "metadata": {
        "id": "K9doLIx3ITz-"
      },
      "source": [
        "## Decision Tree"
      ]
    },
    {
      "cell_type": "code",
      "metadata": {
        "id": "owZ1DyutH5Su"
      },
      "source": [
        "from sklearn.tree import DecisionTreeClassifier\n",
        "from sklearn.datasets import load_breast_cancer\n",
        "from sklearn.model_selection import train_test_split\n",
        "\n",
        "cancer = load_breast_cancer()\n",
        "(X_cancer, y_cancer) = load_breast_cancer(return_X_y = True)\n",
        "\n",
        "X_train, X_test, y_train, y_test = train_test_split(X_cancer, y_cancer, random_state = 0)\n",
        "\n",
        "clf = DecisionTreeClassifier(max_depth = 4, min_samples_leaf = 8,\n",
        "                            random_state = 0).fit(X_train, y_train)\n",
        "\n"
      ],
      "execution_count": null,
      "outputs": []
    },
    {
      "cell_type": "code",
      "metadata": {
        "id": "dj0vCFMMH5Su",
        "colab": {
          "base_uri": "https://localhost:8080/"
        },
        "outputId": "e5f61684-a36e-4d6b-fbfe-bc2999ef65b4"
      },
      "source": [
        "print('Breast cancer dataset: decision tree')\n",
        "print('Accuracy of DT classifier on training set: {:.2f}'\n",
        "     .format(clf.score(X_train, y_train)))\n",
        "print('Accuracy of DT classifier on test set: {:.2f}'\n",
        "     .format(clf.score(X_test, y_test)))\n",
        "\n",
        "print(cancer.feature_names)\n",
        "print(clf.feature_importances_)"
      ],
      "execution_count": null,
      "outputs": [
        {
          "output_type": "stream",
          "text": [
            "Breast cancer dataset: decision tree\n",
            "Accuracy of DT classifier on training set: 0.96\n",
            "Accuracy of DT classifier on test set: 0.94\n",
            "['mean radius' 'mean texture' 'mean perimeter' 'mean area'\n",
            " 'mean smoothness' 'mean compactness' 'mean concavity'\n",
            " 'mean concave points' 'mean symmetry' 'mean fractal dimension'\n",
            " 'radius error' 'texture error' 'perimeter error' 'area error'\n",
            " 'smoothness error' 'compactness error' 'concavity error'\n",
            " 'concave points error' 'symmetry error' 'fractal dimension error'\n",
            " 'worst radius' 'worst texture' 'worst perimeter' 'worst area'\n",
            " 'worst smoothness' 'worst compactness' 'worst concavity'\n",
            " 'worst concave points' 'worst symmetry' 'worst fractal dimension']\n",
            "[0.         0.         0.         0.         0.         0.\n",
            " 0.         0.78414739 0.         0.         0.         0.\n",
            " 0.         0.01120443 0.         0.         0.         0.\n",
            " 0.         0.         0.         0.07083315 0.         0.12748805\n",
            " 0.00632698 0.         0.         0.         0.         0.        ]\n"
          ],
          "name": "stdout"
        }
      ]
    },
    {
      "cell_type": "markdown",
      "metadata": {
        "id": "Ei6z_tiEIXJX"
      },
      "source": [
        "## Cross Validatation"
      ]
    },
    {
      "cell_type": "code",
      "metadata": {
        "collapsed": true,
        "id": "QZee5PA1H5Sr"
      },
      "source": [
        "from sklearn.svm import SVC\n",
        "from sklearn.model_selection import validation_curve\n",
        "import numpy as np\n",
        "param_range = np.logspace(-3, 3, 4)\n",
        "\n",
        "train_scores, test_scores = validation_curve(SVC(), X_cancer, y_cancer,\n",
        "                                            param_name='gamma',\n",
        "                                            param_range=param_range, cv=3)"
      ],
      "execution_count": null,
      "outputs": []
    },
    {
      "cell_type": "code",
      "metadata": {
        "id": "LOU-F1gkH5Sr",
        "colab": {
          "base_uri": "https://localhost:8080/"
        },
        "outputId": "62dd76d4-0b23-4b48-b2c3-b8719165d714"
      },
      "source": [
        "print(train_scores)"
      ],
      "execution_count": null,
      "outputs": [
        {
          "output_type": "stream",
          "text": [
            "[[0.9762533  0.97361478 0.98421053]\n",
            " [1.         1.         1.        ]\n",
            " [1.         1.         1.        ]\n",
            " [1.         1.         1.        ]]\n"
          ],
          "name": "stdout"
        }
      ]
    },
    {
      "cell_type": "markdown",
      "metadata": {
        "id": "bOwbM8JxZf0d"
      },
      "source": [
        ""
      ]
    },
    {
      "cell_type": "code",
      "metadata": {
        "id": "nhaLk06oH5Sr",
        "colab": {
          "base_uri": "https://localhost:8080/"
        },
        "outputId": "36ecb81d-dc36-4074-cc01-0d3c92180e5e"
      },
      "source": [
        "print(test_scores)"
      ],
      "execution_count": null,
      "outputs": [
        {
          "output_type": "stream",
          "text": [
            "[[0.91578947 0.93684211 0.91005291]\n",
            " [0.62631579 0.62631579 0.62962963]\n",
            " [0.62631579 0.62631579 0.62962963]\n",
            " [0.62631579 0.62631579 0.62962963]]\n"
          ],
          "name": "stdout"
        }
      ]
    },
    {
      "cell_type": "code",
      "metadata": {
        "id": "oaI4NEYQH5Ss",
        "colab": {
          "base_uri": "https://localhost:8080/",
          "height": 303
        },
        "outputId": "1d14a89d-59af-442b-b59e-d41a549b8088"
      },
      "source": [
        "# This code based on scikit-learn validation_plot example\n",
        "#  See:  http://scikit-learn.org/stable/auto_examples/model_selection/plot_validation_curve.html\n",
        "import matplotlib.pyplot as plt\n",
        "\n",
        "plt.figure()\n",
        "\n",
        "train_scores_mean = np.mean(train_scores, axis=1)\n",
        "train_scores_std = np.std(train_scores, axis=1)\n",
        "test_scores_mean = np.mean(test_scores, axis=1)\n",
        "test_scores_std = np.std(test_scores, axis=1)\n",
        "\n",
        "plt.title('Validation Curve with SVM')\n",
        "plt.xlabel('$\\gamma$ (gamma)')\n",
        "plt.ylabel('Score')\n",
        "plt.ylim(0.0, 1.1)\n",
        "lw = 2\n",
        "\n",
        "plt.semilogx(param_range, train_scores_mean, label='Training score',\n",
        "            color='darkorange', lw=lw)\n",
        "\n",
        "plt.fill_between(param_range, train_scores_mean - train_scores_std,\n",
        "                train_scores_mean + train_scores_std, alpha=0.2,\n",
        "                color='darkorange', lw=lw)\n",
        "\n",
        "plt.semilogx(param_range, test_scores_mean, label='Cross-validation score',\n",
        "            color='navy', lw=lw)\n",
        "\n",
        "plt.fill_between(param_range, test_scores_mean - test_scores_std,\n",
        "                test_scores_mean + test_scores_std, alpha=0.2,\n",
        "                color='navy', lw=lw)\n",
        "\n",
        "plt.legend(loc='best')\n",
        "plt.show()"
      ],
      "execution_count": null,
      "outputs": [
        {
          "output_type": "display_data",
          "data": {
            "image/png": "[encoded data removed]",
            "text/plain": [
              "<Figure size 432x288 with 1 Axes>"
            ]
          },
          "metadata": {
            "tags": [],
            "needs_background": "light"
          }
        }
      ]
    }
  ]
}