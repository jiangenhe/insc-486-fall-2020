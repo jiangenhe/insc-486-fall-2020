{
  "nbformat": 4,
  "nbformat_minor": 0,
  "metadata": {
    "colab": {
      "name": "assignment 3.ipynb",
      "provenance": [],
      "collapsed_sections": [],
      "authorship_tag": "ABX9TyPyl4nE20sOpofSuFxLwYqt",
      "include_colab_link": true
    },
    "kernelspec": {
      "name": "python3",
      "display_name": "Python 3"
    }
  },
  "cells": [
    {
      "cell_type": "markdown",
      "metadata": {
        "id": "view-in-github",
        "colab_type": "text"
      },
      "source": [
        "<a href=\"https://colab.research.google.com/github/jiangenhe/insc-486-fall-2021/blob/main/assignment3/assignment_3.ipynb\" target=\"_parent\"><img src=\"https://colab.research.google.com/assets/colab-badge.svg\" alt=\"Open In Colab\"/></a>"
      ]
    },
    {
      "cell_type": "markdown",
      "metadata": {
        "id": "jqvN9QRtWT00"
      },
      "source": [
        "# INSC 486 - Assignment 3: Time Series and Visualization\n",
        "\n",
        "- Submit your Colab link through Canvas\n",
        "- This assignment is worth 90 points that accounts for 9% of your final grade.\n",
        "- **Code efficiency will be considered in grading.**\n",
        "\n",
        "Learning Objectives:\n",
        "- Clean data\n",
        "- Process and analyze time series data\n",
        "- Groupby \n",
        "- Visualization\n",
        "- Enhance your pandas skills"
      ]
    },
    {
      "cell_type": "markdown",
      "metadata": {
        "id": "iQrTCFpkZnj-"
      },
      "source": [
        "## 1. Introduction"
      ]
    },
    {
      "cell_type": "markdown",
      "metadata": {
        "id": "eW9B1nAlZqdf"
      },
      "source": [
        "**Data Set Information**\n",
        "\n",
        "The dataset contains 9358 instances of hourly averaged responses from an array of 5 metal oxide chemical sensors embedded in an Air Quality Chemical Multisensor Device. The device was located on the field in a significantly polluted area, at road level,within an Italian city. Data were recorded from March 2004 to February 2005 (one year)representing the longest freely available recordings of on field deployed air quality chemical sensor devices responses. Missing values are tagged with **-200** value. \n",
        "\n",
        "**Attribute Information**\n",
        "\n",
        "0. Date (DD/MM/YYYY) \n",
        "1. Time (HH.MM.SS) \n",
        "2. True hourly averaged concentration CO in mg/m^3 (reference analyzer) \n",
        "3. PT08.S1 (tin oxide) hourly averaged sensor response (nominally CO targeted) \n",
        "4. True hourly averaged overall Non Metanic HydroCarbons concentration in microg/m^3 (reference analyzer) \n",
        "5. True hourly averaged Benzene concentration in microg/m^3 (reference analyzer) \n",
        "6. PT08.S2 (titania) hourly averaged sensor response (nominally NMHC targeted) \n",
        "7. True hourly averaged NOx concentration in ppb (reference analyzer) \n",
        "8. PT08.S3 (tungsten oxide) hourly averaged sensor response (nominally NOx targeted) \n",
        "9. True hourly averaged NO2 concentration in microg/m^3 (reference analyzer) \n",
        "10. PT08.S4 (tungsten oxide) hourly averaged sensor response (nominally NO2 targeted) \n",
        "11. PT08.S5 (indium oxide) hourly averaged sensor response (nominally O3 targeted) \n",
        "12. Temperature in °C \n",
        "13. Relative Humidity (%) \n",
        "14. AH Absolute Humidity \n"
      ]
    },
    {
      "cell_type": "markdown",
      "metadata": {
        "id": "UgFuoRJ2U0j9"
      },
      "source": [
        "## 2. Read dataset (2 points)\n",
        "\n",
        "https://raw.githubusercontent.com/jiangenhe/insc-486-fall-2021/main/assignment3/AirQualityUCI.csv"
      ]
    },
    {
      "cell_type": "code",
      "metadata": {
        "id": "vl1i02nHVym2"
      },
      "source": [
        ""
      ],
      "execution_count": null,
      "outputs": []
    },
    {
      "cell_type": "markdown",
      "metadata": {
        "id": "0ENcv0_r3g-v"
      },
      "source": [
        "## 3. Clean dataset (10 points)\n",
        "\n",
        "* Remove empty columns and rows.\n",
        "* Remove rows with empty value(s) (not including -200).\n",
        "* Remove rows with -200 value for PT08.S1(CO)."
      ]
    },
    {
      "cell_type": "code",
      "metadata": {
        "id": "xZ2f5XlHUSFl"
      },
      "source": [
        ""
      ],
      "execution_count": null,
      "outputs": []
    },
    {
      "cell_type": "markdown",
      "metadata": {
        "id": "5QmbdvyOAUnJ"
      },
      "source": [
        "## 4. Create a new Datetime column by combining Date and Time columns (6 points)"
      ]
    },
    {
      "cell_type": "code",
      "metadata": {
        "id": "NZ9WamJXUI3I"
      },
      "source": [
        ""
      ],
      "execution_count": null,
      "outputs": []
    },
    {
      "cell_type": "markdown",
      "metadata": {
        "id": "dZ4G-ppfGwky"
      },
      "source": [
        "## 5. Set the datetime column as index (2 points)"
      ]
    },
    {
      "cell_type": "code",
      "metadata": {
        "id": "o6hiC595KXaE"
      },
      "source": [
        ""
      ],
      "execution_count": null,
      "outputs": []
    },
    {
      "cell_type": "markdown",
      "metadata": {
        "id": "13DuYa0TIuck"
      },
      "source": [
        "## 6. It seems the index is from the oldest date. Sort the dateset by index to make the first entry the most recent date and time. (6 points)"
      ]
    },
    {
      "cell_type": "code",
      "metadata": {
        "id": "4okptpcYKVuX"
      },
      "source": [
        ""
      ],
      "execution_count": null,
      "outputs": []
    },
    {
      "cell_type": "markdown",
      "metadata": {
        "id": "rWaGd3amVIM2"
      },
      "source": [
        "## 7. What is the difference in days between the first day and the oldest in the dataset? (10 points)"
      ]
    },
    {
      "cell_type": "code",
      "metadata": {
        "id": "R0z770b7VWOn"
      },
      "source": [
        ""
      ],
      "execution_count": null,
      "outputs": []
    },
    {
      "cell_type": "markdown",
      "metadata": {
        "id": "LDnhhwjpVej7"
      },
      "source": [
        "## 8. Is there any duplicate datetime? (6 points)"
      ]
    },
    {
      "cell_type": "code",
      "metadata": {
        "id": "4KUW_RPKWDds"
      },
      "source": [
        ""
      ],
      "execution_count": null,
      "outputs": []
    },
    {
      "cell_type": "markdown",
      "metadata": {
        "id": "2XdemwQkG5v2"
      },
      "source": [
        "## 9. Group the dataset by year and month, and calcualte mean values of all the columns. Please briefly describe what you can learn from the summary. (10 points)\n"
      ]
    },
    {
      "cell_type": "code",
      "metadata": {
        "id": "6kxNGUkoKWUt"
      },
      "source": [
        ""
      ],
      "execution_count": null,
      "outputs": []
    },
    {
      "cell_type": "markdown",
      "metadata": {
        "id": "UQTfL9k-Q-jb"
      },
      "source": [
        "## 10. Group the dataset only by hours and caluclate mean values of all the columns. (10 points)"
      ]
    },
    {
      "cell_type": "code",
      "metadata": {
        "id": "SZEpASICUDcm"
      },
      "source": [
        ""
      ],
      "execution_count": null,
      "outputs": []
    },
    {
      "cell_type": "markdown",
      "metadata": {
        "id": "bzHBXn7RSohs"
      },
      "source": [
        "## 11. Visualize the results of question 8 and summarize the daily patterns your observed from the results and the visualization. (12 points)"
      ]
    },
    {
      "cell_type": "code",
      "metadata": {
        "id": "witrmC9VUFDH"
      },
      "source": [
        ""
      ],
      "execution_count": null,
      "outputs": []
    },
    {
      "cell_type": "markdown",
      "metadata": {
        "id": "4iruUheBWAg3"
      },
      "source": [
        "## 12. Create a question by yourself and answer it using your pandas and visualiztion skills. (16 points)\n",
        "\n"
      ]
    },
    {
      "cell_type": "code",
      "metadata": {
        "id": "nLXvcGlAWall"
      },
      "source": [
        ""
      ],
      "execution_count": null,
      "outputs": []
    }
  ]
}