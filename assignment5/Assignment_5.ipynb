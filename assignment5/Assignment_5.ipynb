{
  "nbformat": 4,
  "nbformat_minor": 0,
  "metadata": {
    "colab": {
      "name": "Assignment 5.ipynb",
      "provenance": [],
      "collapsed_sections": [],
      "include_colab_link": true
    },
    "kernelspec": {
      "name": "python3",
      "display_name": "Python 3"
    },
    "language_info": {
      "name": "python"
    }
  },
  "cells": [
    {
      "cell_type": "markdown",
      "metadata": {
        "id": "view-in-github",
        "colab_type": "text"
      },
      "source": [
        "<a href=\"https://colab.research.google.com/github/jiangenhe/insc-486-fall-2021/blob/main/assignment5/Assignment_5.ipynb\" target=\"_parent\"><img src=\"https://colab.research.google.com/assets/colab-badge.svg\" alt=\"Open In Colab\"/></a>"
      ]
    },
    {
      "cell_type": "markdown",
      "metadata": {
        "id": "lbEshgPidmY0"
      },
      "source": [
        "# INSC486 Assignment 5 \n",
        "\n",
        "- Submit your Colab link through Canvas\n",
        "- This assignment is worth 90 points that accounts for 9% of your final grade.\n",
        "- **Code quality will be considered in grading.**\n",
        "\n",
        "Learning Objectives:\n",
        "- Logistic regression (Statistical analysis)\n",
        "- Build a supervised machine learning model (Classification)\n",
        "- Enhance your pandas skills"
      ]
    },
    {
      "cell_type": "markdown",
      "metadata": {
        "id": "n-ZZtAf4UkYj"
      },
      "source": [
        "## Task 1: Poisson regression analysis (10 points)"
      ]
    },
    {
      "cell_type": "code",
      "metadata": {
        "id": "0wLpqvdiVuBt"
      },
      "source": [
        "import matplotlib.pyplot as plt\n",
        "import pandas as pd\n",
        "import statsmodels.api as sm\n",
        "import numpy as np"
      ],
      "execution_count": null,
      "outputs": []
    },
    {
      "cell_type": "markdown",
      "metadata": {
        "id": "WTUFaJ4BUti9"
      },
      "source": [
        "**Data**: https://raw.githubusercontent.com/jiangenhe/insc-486-2021-spring/main/assignment5/poisson_sim.csv\n",
        "\n",
        "**num_awards** is the outcome variable and indicates the number of awards earned by students at a high school in a year, **math** is a continuous predictor variable and represents students’ scores on their math final exam, and **prog** is a categorical predictor variable with three levels indicating the type of program in which the students were enrolled. It is coded as 1 = “General”, 2 = “Academic” and 3 = “Vocational”. Let’s start with loading the data and looking at some descriptive statistics."
      ]
    },
    {
      "cell_type": "markdown",
      "metadata": {
        "id": "f1p-TvkjWAjd"
      },
      "source": [
        "### 1. Perform a Poisson regression analaysis to predict the number of awards earned by students at one high school. \n",
        "\n",
        "Predictors of the number of awards earned include the type of program in which the student was enrolled (e.g., vocational, general or academic) and the score on their final exam in math."
      ]
    },
    {
      "cell_type": "code",
      "metadata": {
        "id": "xvIC7qMYXJEy"
      },
      "source": [
        ""
      ],
      "execution_count": null,
      "outputs": []
    },
    {
      "cell_type": "markdown",
      "metadata": {
        "id": "ULCDlmBaXJgk"
      },
      "source": [
        "### 2. Interpret the regression results."
      ]
    },
    {
      "cell_type": "markdown",
      "metadata": {
        "id": "sX8UwUmrXRg-"
      },
      "source": [
        ""
      ]
    },
    {
      "cell_type": "markdown",
      "metadata": {
        "id": "Q9mGqoJmXeO-"
      },
      "source": [
        "## Task 2: Build a classifier (40 points)"
      ]
    },
    {
      "cell_type": "markdown",
      "metadata": {
        "id": "XK4T3KcZYqPo"
      },
      "source": [
        "For this task, you will be using the Breast Cancer Wisconsin (Diagnostic) Database to create a classifier that can help diagnose patients. First, read through the description of the dataset (below)."
      ]
    },
    {
      "cell_type": "code",
      "metadata": {
        "colab": {
          "base_uri": "https://localhost:8080/"
        },
        "id": "IrrDRIqQYpeu",
        "outputId": "1d7d7279-e4e9-4611-ff6f-0442f3329f1b"
      },
      "source": [
        "import numpy as np\n",
        "import pandas as pd\n",
        "from sklearn.datasets import load_breast_cancer\n",
        "\n",
        "cancer = load_breast_cancer()\n",
        "\n",
        "print(cancer.DESCR) # Print the data set description"
      ],
      "execution_count": null,
      "outputs": [
        {
          "output_type": "stream",
          "text": [
            ".. _breast_cancer_dataset:\n",
            "\n",
            "Breast cancer wisconsin (diagnostic) dataset\n",
            "--------------------------------------------\n",
            "\n",
            "**Data Set Characteristics:**\n",
            "\n",
            "    :Number of Instances: 569\n",
            "\n",
            "    :Number of Attributes: 30 numeric, predictive attributes and the class\n",
            "\n",
            "    :Attribute Information:\n",
            "        - radius (mean of distances from center to points on the perimeter)\n",
            "        - texture (standard deviation of gray-scale values)\n",
            "        - perimeter\n",
            "        - area\n",
            "        - smoothness (local variation in radius lengths)\n",
            "        - compactness (perimeter^2 / area - 1.0)\n",
            "        - concavity (severity of concave portions of the contour)\n",
            "        - concave points (number of concave portions of the contour)\n",
            "        - symmetry \n",
            "        - fractal dimension (\"coastline approximation\" - 1)\n",
            "\n",
            "        The mean, standard error, and \"worst\" or largest (mean of the three\n",
            "        largest values) of these features were computed for each image,\n",
            "        resulting in 30 features.  For instance, field 3 is Mean Radius, field\n",
            "        13 is Radius SE, field 23 is Worst Radius.\n",
            "\n",
            "        - class:\n",
            "                - WDBC-Malignant\n",
            "                - WDBC-Benign\n",
            "\n",
            "    :Summary Statistics:\n",
            "\n",
            "    ===================================== ====== ======\n",
            "                                           Min    Max\n",
            "    ===================================== ====== ======\n",
            "    radius (mean):                        6.981  28.11\n",
            "    texture (mean):                       9.71   39.28\n",
            "    perimeter (mean):                     43.79  188.5\n",
            "    area (mean):                          143.5  2501.0\n",
            "    smoothness (mean):                    0.053  0.163\n",
            "    compactness (mean):                   0.019  0.345\n",
            "    concavity (mean):                     0.0    0.427\n",
            "    concave points (mean):                0.0    0.201\n",
            "    symmetry (mean):                      0.106  0.304\n",
            "    fractal dimension (mean):             0.05   0.097\n",
            "    radius (standard error):              0.112  2.873\n",
            "    texture (standard error):             0.36   4.885\n",
            "    perimeter (standard error):           0.757  21.98\n",
            "    area (standard error):                6.802  542.2\n",
            "    smoothness (standard error):          0.002  0.031\n",
            "    compactness (standard error):         0.002  0.135\n",
            "    concavity (standard error):           0.0    0.396\n",
            "    concave points (standard error):      0.0    0.053\n",
            "    symmetry (standard error):            0.008  0.079\n",
            "    fractal dimension (standard error):   0.001  0.03\n",
            "    radius (worst):                       7.93   36.04\n",
            "    texture (worst):                      12.02  49.54\n",
            "    perimeter (worst):                    50.41  251.2\n",
            "    area (worst):                         185.2  4254.0\n",
            "    smoothness (worst):                   0.071  0.223\n",
            "    compactness (worst):                  0.027  1.058\n",
            "    concavity (worst):                    0.0    1.252\n",
            "    concave points (worst):               0.0    0.291\n",
            "    symmetry (worst):                     0.156  0.664\n",
            "    fractal dimension (worst):            0.055  0.208\n",
            "    ===================================== ====== ======\n",
            "\n",
            "    :Missing Attribute Values: None\n",
            "\n",
            "    :Class Distribution: 212 - Malignant, 357 - Benign\n",
            "\n",
            "    :Creator:  Dr. William H. Wolberg, W. Nick Street, Olvi L. Mangasarian\n",
            "\n",
            "    :Donor: Nick Street\n",
            "\n",
            "    :Date: November, 1995\n",
            "\n",
            "This is a copy of UCI ML Breast Cancer Wisconsin (Diagnostic) datasets.\n",
            "https://goo.gl/U2Uwz2\n",
            "\n",
            "Features are computed from a digitized image of a fine needle\n",
            "aspirate (FNA) of a breast mass.  They describe\n",
            "characteristics of the cell nuclei present in the image.\n",
            "\n",
            "Separating plane described above was obtained using\n",
            "Multisurface Method-Tree (MSM-T) [K. P. Bennett, \"Decision Tree\n",
            "Construction Via Linear Programming.\" Proceedings of the 4th\n",
            "Midwest Artificial Intelligence and Cognitive Science Society,\n",
            "pp. 97-101, 1992], a classification method which uses linear\n",
            "programming to construct a decision tree.  Relevant features\n",
            "were selected using an exhaustive search in the space of 1-4\n",
            "features and 1-3 separating planes.\n",
            "\n",
            "The actual linear program used to obtain the separating plane\n",
            "in the 3-dimensional space is that described in:\n",
            "[K. P. Bennett and O. L. Mangasarian: \"Robust Linear\n",
            "Programming Discrimination of Two Linearly Inseparable Sets\",\n",
            "Optimization Methods and Software 1, 1992, 23-34].\n",
            "\n",
            "This database is also available through the UW CS ftp server:\n",
            "\n",
            "ftp ftp.cs.wisc.edu\n",
            "cd math-prog/cpo-dataset/machine-learn/WDBC/\n",
            "\n",
            ".. topic:: References\n",
            "\n",
            "   - W.N. Street, W.H. Wolberg and O.L. Mangasarian. Nuclear feature extraction \n",
            "     for breast tumor diagnosis. IS&T/SPIE 1993 International Symposium on \n",
            "     Electronic Imaging: Science and Technology, volume 1905, pages 861-870,\n",
            "     San Jose, CA, 1993.\n",
            "   - O.L. Mangasarian, W.N. Street and W.H. Wolberg. Breast cancer diagnosis and \n",
            "     prognosis via linear programming. Operations Research, 43(4), pages 570-577, \n",
            "     July-August 1995.\n",
            "   - W.H. Wolberg, W.N. Street, and O.L. Mangasarian. Machine learning techniques\n",
            "     to diagnose breast cancer from fine-needle aspirates. Cancer Letters 77 (1994) \n",
            "     163-171.\n"
          ],
          "name": "stdout"
        }
      ]
    },
    {
      "cell_type": "markdown",
      "metadata": {
        "id": "HYjKWReZjNMI"
      },
      "source": [
        "The object returned by load_breast_cancer() is a scikit-learn Bunch object, which is similar to a dictionary."
      ]
    },
    {
      "cell_type": "code",
      "metadata": {
        "id": "XlwXVcWbjMAS"
      },
      "source": [
        "cancer.keys()"
      ],
      "execution_count": null,
      "outputs": []
    },
    {
      "cell_type": "markdown",
      "metadata": {
        "id": "lhwPuGqXjoU1"
      },
      "source": [
        "### 1. Convert the sklearn.dataset `cancer` to a `(569, 31)` DataFrame `cancerdf`. "
      ]
    },
    {
      "cell_type": "code",
      "metadata": {
        "id": "UJGc0vqzkG1M"
      },
      "source": [
        "cancerdf = "
      ],
      "execution_count": null,
      "outputs": []
    },
    {
      "cell_type": "markdown",
      "metadata": {
        "id": "QzX5ZaxekHN-"
      },
      "source": [
        "### 2. What is the class distribution? (i.e. how many instances of `malignant` (encoded 0) and how many `benign` (encoded 1)?)\n"
      ]
    },
    {
      "cell_type": "code",
      "metadata": {
        "id": "-0LsWRMCkqL3"
      },
      "source": [
        ""
      ],
      "execution_count": null,
      "outputs": []
    },
    {
      "cell_type": "markdown",
      "metadata": {
        "id": "v1VMJ005kqqp"
      },
      "source": [
        "### 3. Split the DataFrame into `X` (the data) and `y` (the labels).\n",
        "\n",
        "* `X`*, a pandas DataFrame, has shape* `(569, 30)`\n",
        "* `y`*, a pandas Series, has shape* `(569,)`."
      ]
    },
    {
      "cell_type": "code",
      "metadata": {
        "id": "0qDbdDL0k2Y9"
      },
      "source": [
        ""
      ],
      "execution_count": null,
      "outputs": []
    },
    {
      "cell_type": "markdown",
      "metadata": {
        "id": "4i1u768Rk24N"
      },
      "source": [
        "### 4. Using `train_test_split`, split `X` and `y` into training and test sets `X_train`, `X_test`, `y_train`, and `y_test`.\n",
        "\n",
        "* `X_train` *has shape* `(426, 30)`\n",
        "* `X_test` *has shape* `(143, 30)`\n",
        "* `y_train` *has shape* `(426,)`\n",
        "* `y_test` *has shape* `(143,)`"
      ]
    },
    {
      "cell_type": "code",
      "metadata": {
        "id": "YtAAU2prlm0z"
      },
      "source": [
        "from sklearn.model_selection import train_test_split\n"
      ],
      "execution_count": null,
      "outputs": []
    },
    {
      "cell_type": "markdown",
      "metadata": {
        "id": "2Pn5kQZalqX3"
      },
      "source": [
        "### 5. Using KNeighborsClassifier, fit a k-nearest neighbors (knn) classifier with `X_train`, `y_train` and using one nearest neighbor (`n_neighbors = 1`)."
      ]
    },
    {
      "cell_type": "code",
      "metadata": {
        "id": "3TvmECMjl1qB"
      },
      "source": [
        "from sklearn.neighbors import KNeighborsClassifier\n",
        "\n",
        "knn = "
      ],
      "execution_count": null,
      "outputs": []
    },
    {
      "cell_type": "markdown",
      "metadata": {
        "id": "EMqdSoGomc7r"
      },
      "source": [
        "### 6. Using your knn classifier, predict the class label using the mean value for each feature.\n",
        "\n",
        "Hint: You can use `cancerdf.mean()[:-1].values.reshape(1, -1)` which gets the mean value for each feature, ignores the target column, and reshapes the data from 1 dimension to 2 (necessary for the precict method of KNeighborsClassifier)."
      ]
    },
    {
      "cell_type": "code",
      "metadata": {
        "id": "proiNBw3m0qp"
      },
      "source": [
        ""
      ],
      "execution_count": null,
      "outputs": []
    },
    {
      "cell_type": "markdown",
      "metadata": {
        "id": "YQ9FuTtpnEno"
      },
      "source": [
        "### 7. Use the knn classifer your created for Question 5 to predict the class labels for the test set `X_text`.\n",
        "\n",
        "*The result should be a numpy array with shape `(143,)` and values either `0.0` or `1.0`.*"
      ]
    },
    {
      "cell_type": "code",
      "metadata": {
        "id": "4n1Yw5UUnut_"
      },
      "source": [
        ""
      ],
      "execution_count": null,
      "outputs": []
    },
    {
      "cell_type": "markdown",
      "metadata": {
        "id": "gm8E9kdbnvEe"
      },
      "source": [
        "### 8. Find the score (mean accuracy) of your knn classifier using `X_test` and `y_test`.\n",
        "\n",
        "*The calculated score should be a float between 0 and 1*"
      ]
    },
    {
      "cell_type": "code",
      "metadata": {
        "id": "Rq7C7novn7dS"
      },
      "source": [
        ""
      ],
      "execution_count": null,
      "outputs": []
    },
    {
      "cell_type": "markdown",
      "metadata": {
        "id": "CoL-s8oXoB3w"
      },
      "source": [
        "### 9. Read and run the code below to visualize the differet predicition scores between training and test sets, as well as malignant and benign cells.\n",
        "\n",
        "*Correct variable names if they are different from yours, including `X_train`, `y_train`, `X_test`, `y_test` from question 4 and `knn` from question 5.*"
      ]
    },
    {
      "cell_type": "code",
      "metadata": {
        "id": "x3RAyEo4oTmc"
      },
      "source": [
        "import matplotlib.pyplot as plt\n",
        "%matplotlib notebook\n",
        "\n",
        "# Find the training and testing accuracies by target value (i.e. malignant, benign)\n",
        "mal_train_X = X_train[y_train==0]\n",
        "mal_train_y = y_train[y_train==0]\n",
        "ben_train_X = X_train[y_train==1]\n",
        "ben_train_y = y_train[y_train==1]\n",
        "\n",
        "mal_test_X = X_test[y_test==0]\n",
        "mal_test_y = y_test[y_test==0]\n",
        "ben_test_X = X_test[y_test==1]\n",
        "ben_test_y = y_test[y_test==1]\n",
        "\n",
        "\n",
        "scores = [knn.score(mal_train_X, mal_train_y), knn.score(ben_train_X, ben_train_y), knn.score(mal_test_X, mal_test_y), knn.score(ben_test_X, ben_test_y)]\n",
        "\n",
        "plt.figure()\n",
        "\n",
        "# Plot the scores as a bar chart\n",
        "bars = plt.bar(np.arange(4), scores, color=['#4c72b0','#4c72b0','#55a868','#55a868'])\n",
        "\n",
        "# directly label the score onto the bars\n",
        "for bar in bars:\n",
        "  height = bar.get_height()\n",
        "  plt.gca().text(bar.get_x() + bar.get_width()/2, height*.90, '{0:.{1}f}'.format(height, 2), ha='center', color='w', fontsize=11)\n",
        "\n",
        "# remove all the ticks (both axes), and tick labels on the Y axis\n",
        "plt.tick_params(top='off', bottom='off', left='off', right='off', labelleft='off', labelbottom='on')\n",
        "\n",
        "# remove the frame of the chart\n",
        "for spine in plt.gca().spines.values():\n",
        "  spine.set_visible(False)\n",
        "\n",
        "plt.xticks([0,1,2,3], ['Malignant\\nTraining', 'Benign\\nTraining', 'Malignant\\nTest', 'Benign\\nTest'], alpha=0.8);\n",
        "plt.title('Training and Test Accuracies for Malignant and Benign Cells', alpha=0.8)"
      ],
      "execution_count": null,
      "outputs": []
    },
    {
      "cell_type": "markdown",
      "metadata": {
        "id": "SzmMScd1sh_w"
      },
      "source": [
        "## Task 3: Classification Playspace (40%)\n",
        "\n",
        "For this task, you will build classifiers to classify an iris species as either (virginica, setosa, or versicolor) for the iris flower dataset. You will use different machine learning algorithm to build the classifiers."
      ]
    },
    {
      "cell_type": "markdown",
      "metadata": {
        "id": "oftnB-oOpesk"
      },
      "source": [
        "### 0. Load Data"
      ]
    },
    {
      "cell_type": "code",
      "metadata": {
        "id": "rvlM9euBn85j"
      },
      "source": [
        "import seaborn as sns\n",
        "iris = sns.load_dataset(\"iris\")\n",
        "\n",
        "# X = feature values, all the columns except the last column\n",
        "X = iris.iloc[:, :-1]\n",
        "\n",
        "# y = target values, last column of the data frame\n",
        "y = iris.iloc[:, -1]"
      ],
      "execution_count": null,
      "outputs": []
    },
    {
      "cell_type": "markdown",
      "metadata": {
        "id": "bA70Sl8Mrbar"
      },
      "source": [
        "### 1. Build a Basic Understanding of the dataset\n",
        "\n",
        "Use head(), describe() and any other pandas features to explore the dataset."
      ]
    },
    {
      "cell_type": "code",
      "metadata": {
        "id": "qivOFPALr9J4"
      },
      "source": [
        ""
      ],
      "execution_count": null,
      "outputs": []
    },
    {
      "cell_type": "markdown",
      "metadata": {
        "id": "BG80-gyCrf3w"
      },
      "source": [
        "### 2. Visualize the Dataset\n",
        "Read the code and run it. You don't need to make any change."
      ]
    },
    {
      "cell_type": "code",
      "metadata": {
        "id": "CVY0m-JjsT6Q"
      },
      "source": [
        "import matplotlib.pyplot as plt\n",
        "\n",
        "plt.xlabel('Features')\n",
        "plt.ylabel('Species')\n",
        "\n",
        "pltX = iris.loc[:, 'sepal_length']\n",
        "pltY = iris.loc[:,'species']\n",
        "plt.scatter(pltX, pltY, color='blue', label='sepal_length')\n",
        "\n",
        "pltX = iris.loc[:, 'sepal_width']\n",
        "pltY = iris.loc[:,'species']\n",
        "plt.scatter(pltX, pltY, color='green', label='sepal_width')\n",
        "\n",
        "pltX = iris.loc[:, 'petal_length']\n",
        "pltY = iris.loc[:,'species']\n",
        "plt.scatter(pltX, pltY, color='red', label='petal_length')\n",
        "\n",
        "pltX = iris.loc[:, 'petal_width']\n",
        "pltY = iris.loc[:,'species']\n",
        "plt.scatter(pltX, pltY, color='black', label='petal_width')\n",
        "\n",
        "plt.legend(loc=4, prop={'size':8})\n",
        "plt.show()\n"
      ],
      "execution_count": null,
      "outputs": []
    },
    {
      "cell_type": "markdown",
      "metadata": {
        "id": "nBh1We45u88-"
      },
      "source": [
        "**For question 3 - 6, you are feel to set hyperparameters that you think is reasonable.**"
      ]
    },
    {
      "cell_type": "markdown",
      "metadata": {
        "id": "HT_b-HSGtGrK"
      },
      "source": [
        "### 3. Use kNN to build a classifier, including train/test data split, fit, and evaluation."
      ]
    },
    {
      "cell_type": "code",
      "metadata": {
        "id": "5nOziStQtqIO"
      },
      "source": [
        ""
      ],
      "execution_count": null,
      "outputs": []
    },
    {
      "cell_type": "markdown",
      "metadata": {
        "id": "g5R0t29rt2p8"
      },
      "source": [
        "### 4. Use logistic model to build a classifier, including train/test data split, fit, and evaluation."
      ]
    },
    {
      "cell_type": "code",
      "metadata": {
        "id": "qjwSGi2St-L5"
      },
      "source": [
        ""
      ],
      "execution_count": null,
      "outputs": []
    },
    {
      "cell_type": "markdown",
      "metadata": {
        "id": "XRn32_H4t_pZ"
      },
      "source": [
        "### 5. Use SVM to build a classifier, including train/test data split, fit, and evaluation."
      ]
    },
    {
      "cell_type": "code",
      "metadata": {
        "id": "3wemFEkeuWOx"
      },
      "source": [
        ""
      ],
      "execution_count": null,
      "outputs": []
    },
    {
      "cell_type": "markdown",
      "metadata": {
        "id": "SpigAbATuYo0"
      },
      "source": [
        "### 6. Use Decision Tree Model to build a classifier, including train/test data split, fit, and evaluation."
      ]
    },
    {
      "cell_type": "code",
      "metadata": {
        "id": "8uSEx_Dgujzd"
      },
      "source": [
        ""
      ],
      "execution_count": null,
      "outputs": []
    },
    {
      "cell_type": "markdown",
      "metadata": {
        "id": "4BhhUIKZuvB7"
      },
      "source": [
        "### 7. Select one of the models to set different hyperparameters to compare the performace difference."
      ]
    },
    {
      "cell_type": "code",
      "metadata": {
        "id": "XotBM2VXvrXq"
      },
      "source": [
        ""
      ],
      "execution_count": null,
      "outputs": []
    },
    {
      "cell_type": "markdown",
      "metadata": {
        "id": "CG0_ENtKuu-H"
      },
      "source": [
        "### 8. Select one of the models to apply cross validataion."
      ]
    },
    {
      "cell_type": "code",
      "metadata": {
        "id": "tbOcIO41v9Wt"
      },
      "source": [
        ""
      ],
      "execution_count": null,
      "outputs": []
    }
  ]
}