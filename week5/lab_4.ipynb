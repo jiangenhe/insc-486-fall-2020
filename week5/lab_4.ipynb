{
  "nbformat": 4,
  "nbformat_minor": 0,
  "metadata": {
    "colab": {
      "name": "lab-5.ipynb",
      "provenance": [],
      "authorship_tag": "ABX9TyOY3MaL9fSxoYbrX93Ral5u",
      "include_colab_link": true
    },
    "kernelspec": {
      "name": "python3",
      "display_name": "Python 3"
    }
  },
  "cells": [
    {
      "cell_type": "markdown",
      "metadata": {
        "id": "view-in-github",
        "colab_type": "text"
      },
      "source": [
        "<a href=\"https://colab.research.google.com/github/jiangenhe/insc-486-2021-spring/blob/main/week5/lab_4.ipynb\" target=\"_parent\"><img src=\"https://colab.research.google.com/assets/colab-badge.svg\" alt=\"Open In Colab\"/></a>"
      ]
    },
    {
      "cell_type": "markdown",
      "metadata": {
        "id": "Uu_pWQRx6oK9"
      },
      "source": [
        "# Lab 4"
      ]
    },
    {
      "cell_type": "markdown",
      "metadata": {
        "id": "Jkf98MqV6kq0"
      },
      "source": [
        "## Question 1"
      ]
    },
    {
      "cell_type": "code",
      "metadata": {
        "id": "vOwWDWPt7Dbc"
      },
      "source": [
        "import pandas as pd\n",
        "import re as re\n",
        "df = pd.DataFrame({\n",
        "    'company_code': ['Abcd','EFGF', 'zefsalf', 'sdfslew', 'zekfsdf'],\n",
        "    'date_of_sale': ['12/05/2002','16/02/1999','05/09/1998','12/02/2022','15/09/1997'],\n",
        "    'address': ['9910 Surrey Ave.','92 N. Bishop Ave.','9910 Golden Star Ave.', '102 Dunbar St.', '17 West Livingston Court']\n",
        "})"
      ],
      "execution_count": null,
      "outputs": []
    },
    {
      "cell_type": "markdown",
      "metadata": {
        "id": "J11U8e_P7KOs"
      },
      "source": [
        "(**Optional**, you may need to use apply method to complete this quesiton) Write a Pandas program to extract date (format: mm-dd-yyyy) from a given column of a given DataFrame. "
      ]
    },
    {
      "cell_type": "code",
      "metadata": {
        "id": "XWA32h0u7QwQ"
      },
      "source": [
        ""
      ],
      "execution_count": null,
      "outputs": []
    },
    {
      "cell_type": "markdown",
      "metadata": {
        "id": "h0kEHk6w7RK9"
      },
      "source": [
        "Write a Pandas program to extract only words from a given column of a given DataFrame."
      ]
    },
    {
      "cell_type": "code",
      "metadata": {
        "id": "-6J04Oe27SdY"
      },
      "source": [
        ""
      ],
      "execution_count": null,
      "outputs": []
    },
    {
      "cell_type": "markdown",
      "metadata": {
        "id": "Ww9RTqkt7U__"
      },
      "source": [
        "## Question 2\n",
        "\n",
        "Write a Pandas program to replace NaNs with median of the specified columns in a given DataFrame."
      ]
    },
    {
      "cell_type": "code",
      "metadata": {
        "id": "rCoHVVQi8A4T"
      },
      "source": [
        "import pandas as pd\n",
        "import numpy as np\n",
        "pd.set_option('display.max_rows', None)\n",
        "#pd.set_option('display.max_columns', None)\n",
        "df = pd.DataFrame({\n",
        "'ord_no':[70001,np.nan,70002,70004,np.nan,70005,np.nan,70010,70003,70012,np.nan,70013],\n",
        "'purch_amt':[150.5,np.nan,65.26,110.5,948.5,np.nan,5760,1983.43,np.nan,250.45, 75.29,3045.6],\n",
        "'sale_amt':[10.5,20.65,np.nan,11.5,98.5,np.nan,57,19.43,np.nan,25.45, 75.29,35.6],\n",
        "'ord_date': ['2012-10-05','2012-09-10',np.nan,'2012-08-17','2012-09-10','2012-07-27','2012-09-10','2012-10-10','2012-10-10','2012-06-27','2012-08-17','2012-04-25'],\n",
        "'customer_id':[3002,3001,3001,3003,3002,3001,3001,3004,3003,3002,3001,3001],\n",
        "'salesman_id':[5002,5003,5001,np.nan,5002,5001,5001,np.nan,5003,5002,5003,np.nan]})"
      ],
      "execution_count": null,
      "outputs": []
    }
  ]
}