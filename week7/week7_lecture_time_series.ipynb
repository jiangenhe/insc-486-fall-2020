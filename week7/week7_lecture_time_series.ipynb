{
  "nbformat": 4,
  "nbformat_minor": 0,
  "metadata": {
    "kernelspec": {
      "display_name": "Python 3",
      "language": "python",
      "name": "python3"
    },
    "language_info": {
      "codemirror_mode": {
        "name": "ipython",
        "version": 3
      },
      "file_extension": ".py",
      "mimetype": "text/x-python",
      "name": "python",
      "nbconvert_exporter": "python",
      "pygments_lexer": "ipython3",
      "version": "3.6.0"
    },
    "colab": {
      "name": "week7-lecture-time-series.ipynb",
      "provenance": [],
      "collapsed_sections": [],
      "include_colab_link": true
    }
  },
  "cells": [
    {
      "cell_type": "markdown",
      "metadata": {
        "id": "view-in-github",
        "colab_type": "text"
      },
      "source": [
        "<a href=\"https://colab.research.google.com/github/jiangenhe/insc-486-fall-2021/blob/main/week7/week7_lecture_time_series.ipynb\" target=\"_parent\"><img src=\"https://colab.research.google.com/assets/colab-badge.svg\" alt=\"Open In Colab\"/></a>"
      ]
    },
    {
      "cell_type": "markdown",
      "metadata": {
        "deletable": true,
        "editable": true,
        "id": "wF2QR8OnWvhm"
      },
      "source": [
        "# Time Series"
      ]
    },
    {
      "cell_type": "code",
      "metadata": {
        "deletable": true,
        "editable": true,
        "id": "eAo08qRjWvht"
      },
      "source": [
        "import numpy as np\n",
        "import pandas as pd"
      ],
      "execution_count": null,
      "outputs": []
    },
    {
      "cell_type": "markdown",
      "metadata": {
        "deletable": true,
        "editable": true,
        "id": "WfP21lEmWvhu"
      },
      "source": [
        "## Date and Time Data Types and Tools"
      ]
    },
    {
      "cell_type": "code",
      "metadata": {
        "deletable": true,
        "editable": true,
        "id": "rQ800-JLWvhu"
      },
      "source": [
        "from datetime import datetime\n",
        "now = datetime.now()\n",
        "now"
      ],
      "execution_count": null,
      "outputs": []
    },
    {
      "cell_type": "code",
      "metadata": {
        "id": "PueYSCq_W_G9"
      },
      "source": [
        "now.year, now.month, now.day"
      ],
      "execution_count": null,
      "outputs": []
    },
    {
      "cell_type": "code",
      "metadata": {
        "deletable": true,
        "editable": true,
        "id": "rJX5UL2BWvhv"
      },
      "source": [
        "delta = datetime(2011, 1, 7) - datetime(2008, 6, 24, 8, 15)\n",
        "delta\n",
        "delta.days\n",
        "delta.seconds"
      ],
      "execution_count": null,
      "outputs": []
    },
    {
      "cell_type": "markdown",
      "metadata": {
        "deletable": true,
        "editable": true,
        "id": "PkdELrYNWvhv"
      },
      "source": [
        "### Converting Between String and Datetime"
      ]
    },
    {
      "cell_type": "code",
      "metadata": {
        "deletable": true,
        "editable": true,
        "colab": {
          "base_uri": "https://localhost:8080/",
          "height": 37
        },
        "id": "tRpXitQFWvhw",
        "outputId": "075d4289-4d4f-4196-b089-22c1f46a44b2"
      },
      "source": [
        "stamp = datetime(2011, 1, 3)\n",
        "str(stamp)"
      ],
      "execution_count": null,
      "outputs": [
        {
          "output_type": "execute_result",
          "data": {
            "application/vnd.google.colaboratory.intrinsic+json": {
              "type": "string"
            },
            "text/plain": [
              "'2011-01-03 00:00:00'"
            ]
          },
          "metadata": {
            "tags": []
          },
          "execution_count": 7
        }
      ]
    },
    {
      "cell_type": "code",
      "metadata": {
        "colab": {
          "base_uri": "https://localhost:8080/",
          "height": 37
        },
        "id": "eZ7_JJRnXsBt",
        "outputId": "706f190a-b581-415c-f74d-f2cb72765c43"
      },
      "source": [
        "stamp.strftime('%Y-%m-%d')"
      ],
      "execution_count": null,
      "outputs": [
        {
          "output_type": "execute_result",
          "data": {
            "application/vnd.google.colaboratory.intrinsic+json": {
              "type": "string"
            },
            "text/plain": [
              "'2011-01-03'"
            ]
          },
          "metadata": {
            "tags": []
          },
          "execution_count": 8
        }
      ]
    },
    {
      "cell_type": "code",
      "metadata": {
        "deletable": true,
        "editable": true,
        "colab": {
          "base_uri": "https://localhost:8080/"
        },
        "id": "6MVQAdZ7Wvhw",
        "outputId": "aa6e67eb-c025-4e42-9289-cd32fbe4c4b1"
      },
      "source": [
        "value = '2011-01-03'\n",
        "datetime.strptime(value, '%Y-%m-%d')"
      ],
      "execution_count": null,
      "outputs": [
        {
          "output_type": "execute_result",
          "data": {
            "text/plain": [
              "datetime.datetime(2011, 1, 3, 0, 0)"
            ]
          },
          "metadata": {
            "tags": []
          },
          "execution_count": 10
        }
      ]
    },
    {
      "cell_type": "code",
      "metadata": {
        "deletable": true,
        "editable": true,
        "id": "H6RbYzd5Wvhw"
      },
      "source": [
        "from dateutil.parser import parse\n",
        "parse('2011-01-03')"
      ],
      "execution_count": null,
      "outputs": []
    },
    {
      "cell_type": "code",
      "metadata": {
        "deletable": true,
        "editable": true,
        "id": "GrfKo8JIWvhw"
      },
      "source": [
        "parse('Jan 31, 1997 10:45 PM')"
      ],
      "execution_count": null,
      "outputs": []
    },
    {
      "cell_type": "code",
      "metadata": {
        "deletable": true,
        "editable": true,
        "id": "nod9jjWkWvhx"
      },
      "source": [
        "parse('6/12/2011', dayfirst=True)"
      ],
      "execution_count": null,
      "outputs": []
    },
    {
      "cell_type": "code",
      "metadata": {
        "deletable": true,
        "editable": true,
        "id": "_YbPRPfRWvhx"
      },
      "source": [
        "datestrs = ['2011-07-06 12:00:00', '2011-08-06 00:00:00']\n",
        "pd.to_datetime(datestrs)"
      ],
      "execution_count": null,
      "outputs": []
    },
    {
      "cell_type": "markdown",
      "metadata": {
        "deletable": true,
        "editable": true,
        "id": "edW5tNkKWvhx"
      },
      "source": [
        "## Time Series Basics"
      ]
    },
    {
      "cell_type": "code",
      "metadata": {
        "deletable": true,
        "editable": true,
        "colab": {
          "base_uri": "https://localhost:8080/"
        },
        "id": "KAKQh7kLWvhy",
        "outputId": "5335e2c3-d62c-4602-db0e-929dba67a2fb"
      },
      "source": [
        "from datetime import datetime\n",
        "dates = [datetime(2011, 1, 2), datetime(2011, 1, 5),\n",
        "         datetime(2011, 1, 7), datetime(2011, 1, 8),\n",
        "         datetime(2011, 1, 10), datetime(2011, 1, 12)]\n",
        "ts = pd.Series(np.random.randn(6), index=dates)\n",
        "ts"
      ],
      "execution_count": null,
      "outputs": [
        {
          "output_type": "execute_result",
          "data": {
            "text/plain": [
              "2011-01-02    0.526228\n",
              "2011-01-05   -0.205805\n",
              "2011-01-07   -1.117844\n",
              "2011-01-08   -0.818618\n",
              "2011-01-10   -1.588775\n",
              "2011-01-12   -0.172666\n",
              "dtype: float64"
            ]
          },
          "metadata": {
            "tags": []
          },
          "execution_count": 12
        }
      ]
    },
    {
      "cell_type": "code",
      "metadata": {
        "deletable": true,
        "editable": true,
        "colab": {
          "base_uri": "https://localhost:8080/"
        },
        "id": "-5Oxt_KnWvhy",
        "outputId": "3d170cdb-0a7f-41a5-a3a5-c8c8109eefa1"
      },
      "source": [
        "ts.index"
      ],
      "execution_count": null,
      "outputs": [
        {
          "output_type": "execute_result",
          "data": {
            "text/plain": [
              "DatetimeIndex(['2011-01-02', '2011-01-05', '2011-01-07', '2011-01-08',\n",
              "               '2011-01-10', '2011-01-12'],\n",
              "              dtype='datetime64[ns]', freq=None)"
            ]
          },
          "metadata": {
            "tags": []
          },
          "execution_count": 13
        }
      ]
    },
    {
      "cell_type": "markdown",
      "metadata": {
        "deletable": true,
        "editable": true,
        "id": "wPBWhA2VWvh0"
      },
      "source": [
        "### Indexing, Selection, Subsetting"
      ]
    },
    {
      "cell_type": "code",
      "metadata": {
        "deletable": true,
        "editable": true,
        "colab": {
          "base_uri": "https://localhost:8080/"
        },
        "id": "XG8JN_IYWvh0",
        "outputId": "45dd8a5f-6464-4517-9bac-b2da3221bbef"
      },
      "source": [
        "stamp = ts.index[2]\n",
        "ts[stamp]"
      ],
      "execution_count": null,
      "outputs": [
        {
          "output_type": "execute_result",
          "data": {
            "text/plain": [
              "-1.1178441320140846"
            ]
          },
          "metadata": {
            "tags": []
          },
          "execution_count": 17
        }
      ]
    },
    {
      "cell_type": "code",
      "metadata": {
        "deletable": true,
        "editable": true,
        "colab": {
          "base_uri": "https://localhost:8080/"
        },
        "id": "NIx8oD9fWvh0",
        "outputId": "189364c4-2341-4281-a470-f36a8b9b0b4f"
      },
      "source": [
        "ts['1/10/2011']\n"
      ],
      "execution_count": null,
      "outputs": [
        {
          "output_type": "execute_result",
          "data": {
            "text/plain": [
              "-1.5887751101543368"
            ]
          },
          "metadata": {
            "tags": []
          },
          "execution_count": 19
        }
      ]
    },
    {
      "cell_type": "code",
      "metadata": {
        "colab": {
          "base_uri": "https://localhost:8080/"
        },
        "id": "dyg2RX4dZuA0",
        "outputId": "f942699a-fe29-46b4-ef11-b7901c4b9a08"
      },
      "source": [
        "ts['20110110']"
      ],
      "execution_count": null,
      "outputs": [
        {
          "output_type": "execute_result",
          "data": {
            "text/plain": [
              "-1.5887751101543368"
            ]
          },
          "metadata": {
            "tags": []
          },
          "execution_count": 20
        }
      ]
    },
    {
      "cell_type": "code",
      "metadata": {
        "deletable": true,
        "editable": true,
        "colab": {
          "base_uri": "https://localhost:8080/"
        },
        "id": "wu5bTFJjWvh1",
        "outputId": "7bfa33d0-f4c0-46d2-cbe1-6a079f1fa9dc"
      },
      "source": [
        "longer_ts = pd.Series(np.random.randn(1000),\n",
        "                      index=pd.date_range('1/1/2000', periods=1000))\n",
        "longer_ts\n"
      ],
      "execution_count": null,
      "outputs": [
        {
          "output_type": "execute_result",
          "data": {
            "text/plain": [
              "2000-01-01   -0.704540\n",
              "2000-01-02    0.898968\n",
              "2000-01-03   -0.053463\n",
              "2000-01-04    0.435670\n",
              "2000-01-05    1.099736\n",
              "                ...   \n",
              "2002-09-22   -0.242121\n",
              "2002-09-23    0.188298\n",
              "2002-09-24    1.147944\n",
              "2002-09-25   -0.255061\n",
              "2002-09-26   -0.353712\n",
              "Freq: D, Length: 1000, dtype: float64"
            ]
          },
          "metadata": {
            "tags": []
          },
          "execution_count": 24
        }
      ]
    },
    {
      "cell_type": "code",
      "metadata": {
        "id": "bnuBliSIa6jY"
      },
      "source": [
        "longer_ts['2001']"
      ],
      "execution_count": null,
      "outputs": []
    },
    {
      "cell_type": "code",
      "metadata": {
        "deletable": true,
        "editable": true,
        "id": "76KhOMR_Wvh1"
      },
      "source": [
        "longer_ts['2001-05']"
      ],
      "execution_count": null,
      "outputs": []
    },
    {
      "cell_type": "code",
      "metadata": {
        "deletable": true,
        "editable": true,
        "id": "2Pnh3e-8Wvh1"
      },
      "source": [
        "ts[datetime(2011, 1, 7):]"
      ],
      "execution_count": null,
      "outputs": []
    },
    {
      "cell_type": "code",
      "metadata": {
        "deletable": true,
        "editable": true,
        "id": "y7jw8Cv3Wvh2"
      },
      "source": [
        "ts\n",
        "ts['1/6/2011':'1/11/2011']"
      ],
      "execution_count": null,
      "outputs": []
    },
    {
      "cell_type": "code",
      "metadata": {
        "deletable": true,
        "editable": true,
        "id": "UoYk0Y_7Wvh2"
      },
      "source": [
        "ts.truncate(after='1/9/2011')"
      ],
      "execution_count": null,
      "outputs": []
    },
    {
      "cell_type": "code",
      "metadata": {
        "deletable": true,
        "editable": true,
        "colab": {
          "base_uri": "https://localhost:8080/",
          "height": 419
        },
        "id": "YXsbBZUXWvh2",
        "outputId": "2b17102f-7726-4d80-f4f2-5fee4b7882bc"
      },
      "source": [
        "dates = pd.date_range('1/1/2000', periods=100, freq='W-WED')\n",
        "long_df = pd.DataFrame(np.random.randn(100, 4),\n",
        "                       index=dates,\n",
        "                       columns=['Colorado', 'Texas',\n",
        "                                'New York', 'Ohio'])\n",
        "long_df"
      ],
      "execution_count": null,
      "outputs": [
        {
          "output_type": "execute_result",
          "data": {
            "text/html": [
              "<div>\n",
              "<style scoped>\n",
              "    .dataframe tbody tr th:only-of-type {\n",
              "        vertical-align: middle;\n",
              "    }\n",
              "\n",
              "    .dataframe tbody tr th {\n",
              "        vertical-align: top;\n",
              "    }\n",
              "\n",
              "    .dataframe thead th {\n",
              "        text-align: right;\n",
              "    }\n",
              "</style>\n",
              "<table border=\"1\" class=\"dataframe\">\n",
              "  <thead>\n",
              "    <tr style=\"text-align: right;\">\n",
              "      <th></th>\n",
              "      <th>Colorado</th>\n",
              "      <th>Texas</th>\n",
              "      <th>New York</th>\n",
              "      <th>Ohio</th>\n",
              "    </tr>\n",
              "  </thead>\n",
              "  <tbody>\n",
              "    <tr>\n",
              "      <th>2000-01-05</th>\n",
              "      <td>0.972350</td>\n",
              "      <td>1.578841</td>\n",
              "      <td>-0.284988</td>\n",
              "      <td>0.844146</td>\n",
              "    </tr>\n",
              "    <tr>\n",
              "      <th>2000-01-12</th>\n",
              "      <td>-0.807381</td>\n",
              "      <td>-0.187178</td>\n",
              "      <td>-0.133185</td>\n",
              "      <td>0.666385</td>\n",
              "    </tr>\n",
              "    <tr>\n",
              "      <th>2000-01-19</th>\n",
              "      <td>0.191429</td>\n",
              "      <td>-1.399120</td>\n",
              "      <td>0.072694</td>\n",
              "      <td>0.627470</td>\n",
              "    </tr>\n",
              "    <tr>\n",
              "      <th>2000-01-26</th>\n",
              "      <td>-0.558658</td>\n",
              "      <td>2.031532</td>\n",
              "      <td>0.360274</td>\n",
              "      <td>-1.261360</td>\n",
              "    </tr>\n",
              "    <tr>\n",
              "      <th>2000-02-02</th>\n",
              "      <td>-1.658576</td>\n",
              "      <td>-0.452781</td>\n",
              "      <td>-0.762814</td>\n",
              "      <td>-0.505018</td>\n",
              "    </tr>\n",
              "    <tr>\n",
              "      <th>...</th>\n",
              "      <td>...</td>\n",
              "      <td>...</td>\n",
              "      <td>...</td>\n",
              "      <td>...</td>\n",
              "    </tr>\n",
              "    <tr>\n",
              "      <th>2001-10-31</th>\n",
              "      <td>0.367397</td>\n",
              "      <td>0.557422</td>\n",
              "      <td>0.775671</td>\n",
              "      <td>-0.059675</td>\n",
              "    </tr>\n",
              "    <tr>\n",
              "      <th>2001-11-07</th>\n",
              "      <td>1.911188</td>\n",
              "      <td>-1.004954</td>\n",
              "      <td>-0.526420</td>\n",
              "      <td>-1.002453</td>\n",
              "    </tr>\n",
              "    <tr>\n",
              "      <th>2001-11-14</th>\n",
              "      <td>-0.188118</td>\n",
              "      <td>-1.068738</td>\n",
              "      <td>0.842537</td>\n",
              "      <td>0.376363</td>\n",
              "    </tr>\n",
              "    <tr>\n",
              "      <th>2001-11-21</th>\n",
              "      <td>0.178820</td>\n",
              "      <td>-1.013820</td>\n",
              "      <td>-0.339818</td>\n",
              "      <td>-1.208330</td>\n",
              "    </tr>\n",
              "    <tr>\n",
              "      <th>2001-11-28</th>\n",
              "      <td>1.744625</td>\n",
              "      <td>1.944608</td>\n",
              "      <td>0.775891</td>\n",
              "      <td>0.183461</td>\n",
              "    </tr>\n",
              "  </tbody>\n",
              "</table>\n",
              "<p>100 rows × 4 columns</p>\n",
              "</div>"
            ],
            "text/plain": [
              "            Colorado     Texas  New York      Ohio\n",
              "2000-01-05  0.972350  1.578841 -0.284988  0.844146\n",
              "2000-01-12 -0.807381 -0.187178 -0.133185  0.666385\n",
              "2000-01-19  0.191429 -1.399120  0.072694  0.627470\n",
              "2000-01-26 -0.558658  2.031532  0.360274 -1.261360\n",
              "2000-02-02 -1.658576 -0.452781 -0.762814 -0.505018\n",
              "...              ...       ...       ...       ...\n",
              "2001-10-31  0.367397  0.557422  0.775671 -0.059675\n",
              "2001-11-07  1.911188 -1.004954 -0.526420 -1.002453\n",
              "2001-11-14 -0.188118 -1.068738  0.842537  0.376363\n",
              "2001-11-21  0.178820 -1.013820 -0.339818 -1.208330\n",
              "2001-11-28  1.744625  1.944608  0.775891  0.183461\n",
              "\n",
              "[100 rows x 4 columns]"
            ]
          },
          "metadata": {
            "tags": []
          },
          "execution_count": 26
        }
      ]
    },
    {
      "cell_type": "code",
      "metadata": {
        "colab": {
          "base_uri": "https://localhost:8080/",
          "height": 204
        },
        "id": "QzcIDgecbNZE",
        "outputId": "ba01d97e-0612-44ca-8f0c-bcfb40cc6dd7"
      },
      "source": [
        "long_df.loc['5-2001']"
      ],
      "execution_count": null,
      "outputs": [
        {
          "output_type": "execute_result",
          "data": {
            "text/html": [
              "<div>\n",
              "<style scoped>\n",
              "    .dataframe tbody tr th:only-of-type {\n",
              "        vertical-align: middle;\n",
              "    }\n",
              "\n",
              "    .dataframe tbody tr th {\n",
              "        vertical-align: top;\n",
              "    }\n",
              "\n",
              "    .dataframe thead th {\n",
              "        text-align: right;\n",
              "    }\n",
              "</style>\n",
              "<table border=\"1\" class=\"dataframe\">\n",
              "  <thead>\n",
              "    <tr style=\"text-align: right;\">\n",
              "      <th></th>\n",
              "      <th>Colorado</th>\n",
              "      <th>Texas</th>\n",
              "      <th>New York</th>\n",
              "      <th>Ohio</th>\n",
              "    </tr>\n",
              "  </thead>\n",
              "  <tbody>\n",
              "    <tr>\n",
              "      <th>2001-05-02</th>\n",
              "      <td>-0.333753</td>\n",
              "      <td>1.406123</td>\n",
              "      <td>0.565658</td>\n",
              "      <td>-0.887611</td>\n",
              "    </tr>\n",
              "    <tr>\n",
              "      <th>2001-05-09</th>\n",
              "      <td>1.874151</td>\n",
              "      <td>-0.827729</td>\n",
              "      <td>-1.975361</td>\n",
              "      <td>-1.938828</td>\n",
              "    </tr>\n",
              "    <tr>\n",
              "      <th>2001-05-16</th>\n",
              "      <td>0.415272</td>\n",
              "      <td>0.569850</td>\n",
              "      <td>-0.516224</td>\n",
              "      <td>0.626977</td>\n",
              "    </tr>\n",
              "    <tr>\n",
              "      <th>2001-05-23</th>\n",
              "      <td>-0.202786</td>\n",
              "      <td>-0.823508</td>\n",
              "      <td>0.616185</td>\n",
              "      <td>-0.474180</td>\n",
              "    </tr>\n",
              "    <tr>\n",
              "      <th>2001-05-30</th>\n",
              "      <td>-0.347943</td>\n",
              "      <td>-0.488419</td>\n",
              "      <td>0.307763</td>\n",
              "      <td>-1.107985</td>\n",
              "    </tr>\n",
              "  </tbody>\n",
              "</table>\n",
              "</div>"
            ],
            "text/plain": [
              "            Colorado     Texas  New York      Ohio\n",
              "2001-05-02 -0.333753  1.406123  0.565658 -0.887611\n",
              "2001-05-09  1.874151 -0.827729 -1.975361 -1.938828\n",
              "2001-05-16  0.415272  0.569850 -0.516224  0.626977\n",
              "2001-05-23 -0.202786 -0.823508  0.616185 -0.474180\n",
              "2001-05-30 -0.347943 -0.488419  0.307763 -1.107985"
            ]
          },
          "metadata": {
            "tags": []
          },
          "execution_count": 27
        }
      ]
    },
    {
      "cell_type": "markdown",
      "metadata": {
        "deletable": true,
        "editable": true,
        "id": "PtPaSmOGWvh2"
      },
      "source": [
        "### Time Series with Duplicate Indices"
      ]
    },
    {
      "cell_type": "code",
      "metadata": {
        "deletable": true,
        "editable": true,
        "colab": {
          "base_uri": "https://localhost:8080/"
        },
        "id": "ymvvn4dkWvh2",
        "outputId": "6e10dcee-f0b6-4a90-fa20-098766a69771"
      },
      "source": [
        "dates = pd.DatetimeIndex(['1/1/2000', '1/2/2000', '1/2/2000',\n",
        "                          '1/2/2000', '1/3/2000'])\n",
        "dup_ts = pd.Series(np.arange(5), index=dates)\n",
        "dup_ts"
      ],
      "execution_count": null,
      "outputs": [
        {
          "output_type": "execute_result",
          "data": {
            "text/plain": [
              "2000-01-01    0\n",
              "2000-01-02    1\n",
              "2000-01-02    2\n",
              "2000-01-02    3\n",
              "2000-01-03    4\n",
              "dtype: int64"
            ]
          },
          "metadata": {
            "tags": []
          },
          "execution_count": 29
        }
      ]
    },
    {
      "cell_type": "code",
      "metadata": {
        "deletable": true,
        "editable": true,
        "colab": {
          "base_uri": "https://localhost:8080/"
        },
        "id": "uqkCdypTWvh2",
        "outputId": "4b33363c-8255-42bb-b265-5a2c5cd7b812"
      },
      "source": [
        "dup_ts.index.is_unique"
      ],
      "execution_count": null,
      "outputs": [
        {
          "output_type": "execute_result",
          "data": {
            "text/plain": [
              "False"
            ]
          },
          "metadata": {
            "tags": []
          },
          "execution_count": 30
        }
      ]
    },
    {
      "cell_type": "code",
      "metadata": {
        "deletable": true,
        "editable": true,
        "colab": {
          "base_uri": "https://localhost:8080/"
        },
        "id": "Bmf9j1yHWvh3",
        "outputId": "3412e739-e496-4684-837d-71a11a052541"
      },
      "source": [
        "dup_ts.groupby(level=0).sum()\n"
      ],
      "execution_count": null,
      "outputs": [
        {
          "output_type": "execute_result",
          "data": {
            "text/plain": [
              "2000    10\n",
              "dtype: int64"
            ]
          },
          "metadata": {
            "tags": []
          },
          "execution_count": 37
        }
      ]
    },
    {
      "cell_type": "markdown",
      "metadata": {
        "deletable": true,
        "editable": true,
        "id": "kXQD4O7rWvh7"
      },
      "source": [
        "### Frequencies and Date Offsets"
      ]
    },
    {
      "cell_type": "code",
      "metadata": {
        "deletable": true,
        "editable": true,
        "id": "KnXhD3j7Wvh7"
      },
      "source": [
        "from pandas.tseries.offsets import Hour, Minute"
      ],
      "execution_count": null,
      "outputs": []
    },
    {
      "cell_type": "code",
      "metadata": {
        "deletable": true,
        "editable": true,
        "colab": {
          "base_uri": "https://localhost:8080/"
        },
        "id": "05cTUXK3Wvh7",
        "outputId": "96d12f2e-f485-4fda-b50c-393f1edd9b05"
      },
      "source": [
        "four_hours = Hour(4)\n",
        "four_hours"
      ],
      "execution_count": null,
      "outputs": [
        {
          "output_type": "execute_result",
          "data": {
            "text/plain": [
              "<4 * Hours>"
            ]
          },
          "metadata": {
            "tags": []
          },
          "execution_count": 45
        }
      ]
    },
    {
      "cell_type": "code",
      "metadata": {
        "deletable": true,
        "editable": true,
        "colab": {
          "base_uri": "https://localhost:8080/"
        },
        "id": "no7GuJtxWvh8",
        "outputId": "a462b5b5-507d-455f-fc17-a0449aceb1c3"
      },
      "source": [
        "ts = pd.date_range('2000-01-01', '2000-01-03 23:59', freq='4h')\n",
        "ts"
      ],
      "execution_count": null,
      "outputs": [
        {
          "output_type": "execute_result",
          "data": {
            "text/plain": [
              "DatetimeIndex(['2000-01-01 00:00:00', '2000-01-01 04:00:00',\n",
              "               '2000-01-01 08:00:00', '2000-01-01 12:00:00',\n",
              "               '2000-01-01 16:00:00', '2000-01-01 20:00:00',\n",
              "               '2000-01-02 00:00:00', '2000-01-02 04:00:00',\n",
              "               '2000-01-02 08:00:00', '2000-01-02 12:00:00',\n",
              "               '2000-01-02 16:00:00', '2000-01-02 20:00:00',\n",
              "               '2000-01-03 00:00:00', '2000-01-03 04:00:00',\n",
              "               '2000-01-03 08:00:00', '2000-01-03 12:00:00',\n",
              "               '2000-01-03 16:00:00', '2000-01-03 20:00:00'],\n",
              "              dtype='datetime64[ns]', freq='4H')"
            ]
          },
          "metadata": {
            "tags": []
          },
          "execution_count": 47
        }
      ]
    },
    {
      "cell_type": "code",
      "metadata": {
        "deletable": true,
        "editable": true,
        "colab": {
          "base_uri": "https://localhost:8080/"
        },
        "id": "rjcbFrfAWvh8",
        "outputId": "60262fab-efd6-4e8a-cbc0-257b7503f707"
      },
      "source": [
        "ts+four_hours"
      ],
      "execution_count": null,
      "outputs": [
        {
          "output_type": "execute_result",
          "data": {
            "text/plain": [
              "DatetimeIndex(['2000-01-01 04:00:00', '2000-01-01 08:00:00',\n",
              "               '2000-01-01 12:00:00', '2000-01-01 16:00:00',\n",
              "               '2000-01-01 20:00:00', '2000-01-02 00:00:00',\n",
              "               '2000-01-02 04:00:00', '2000-01-02 08:00:00',\n",
              "               '2000-01-02 12:00:00', '2000-01-02 16:00:00',\n",
              "               '2000-01-02 20:00:00', '2000-01-03 00:00:00',\n",
              "               '2000-01-03 04:00:00', '2000-01-03 08:00:00',\n",
              "               '2000-01-03 12:00:00', '2000-01-03 16:00:00',\n",
              "               '2000-01-03 20:00:00', '2000-01-04 00:00:00'],\n",
              "              dtype='datetime64[ns]', freq='4H')"
            ]
          },
          "metadata": {
            "tags": []
          },
          "execution_count": 48
        }
      ]
    },
    {
      "cell_type": "code",
      "metadata": {
        "deletable": true,
        "editable": true,
        "id": "nga4-0I4Wvh9"
      },
      "source": [
        "ts + four_hours + Minute(3)"
      ],
      "execution_count": null,
      "outputs": []
    },
    {
      "cell_type": "markdown",
      "metadata": {
        "deletable": true,
        "editable": true,
        "id": "xABbfDZtWvh_"
      },
      "source": [
        "## Time Zone Handling"
      ]
    },
    {
      "cell_type": "code",
      "metadata": {
        "deletable": true,
        "editable": true,
        "colab": {
          "base_uri": "https://localhost:8080/"
        },
        "id": "RM12ASGnWvh_",
        "outputId": "50fdbbed-247b-478e-87f1-4359a21e6b1b"
      },
      "source": [
        "import pytz\n",
        "pytz.common_timezones[:5]"
      ],
      "execution_count": null,
      "outputs": [
        {
          "output_type": "execute_result",
          "data": {
            "text/plain": [
              "['Africa/Abidjan',\n",
              " 'Africa/Accra',\n",
              " 'Africa/Addis_Ababa',\n",
              " 'Africa/Algiers',\n",
              " 'Africa/Asmara']"
            ]
          },
          "metadata": {
            "tags": []
          },
          "execution_count": 54
        }
      ]
    },
    {
      "cell_type": "code",
      "metadata": {
        "deletable": true,
        "editable": true,
        "colab": {
          "base_uri": "https://localhost:8080/"
        },
        "id": "Q0zU5z3qWvh_",
        "outputId": "00298e9d-7e21-42dd-d611-78b106f93e69"
      },
      "source": [
        "tz = pytz.timezone('America/New_York')\n",
        "tz"
      ],
      "execution_count": null,
      "outputs": [
        {
          "output_type": "execute_result",
          "data": {
            "text/plain": [
              "<DstTzInfo 'America/New_York' LMT-1 day, 19:04:00 STD>"
            ]
          },
          "metadata": {
            "tags": []
          },
          "execution_count": 55
        }
      ]
    },
    {
      "cell_type": "markdown",
      "metadata": {
        "deletable": true,
        "editable": true,
        "id": "veutxCr-Wvh_"
      },
      "source": [
        "### Time Zone Localization and Conversion"
      ]
    },
    {
      "cell_type": "code",
      "metadata": {
        "deletable": true,
        "editable": true,
        "colab": {
          "base_uri": "https://localhost:8080/"
        },
        "id": "hnkoIMbKWvh_",
        "outputId": "e2852f85-4762-49e1-d93e-6c8b355ada7c"
      },
      "source": [
        "rng = pd.date_range('3/9/2012 9:30', periods=6, freq='D')\n",
        "ts = pd.Series(np.random.randn(len(rng)), index=rng)\n",
        "ts"
      ],
      "execution_count": null,
      "outputs": [
        {
          "output_type": "execute_result",
          "data": {
            "text/plain": [
              "2012-03-09 09:30:00    0.619238\n",
              "2012-03-10 09:30:00    1.282431\n",
              "2012-03-11 09:30:00    0.915469\n",
              "2012-03-12 09:30:00   -0.673361\n",
              "2012-03-13 09:30:00    1.297960\n",
              "2012-03-14 09:30:00   -0.626374\n",
              "Freq: D, dtype: float64"
            ]
          },
          "metadata": {
            "tags": []
          },
          "execution_count": 62
        }
      ]
    },
    {
      "cell_type": "code",
      "metadata": {
        "deletable": true,
        "editable": true,
        "colab": {
          "base_uri": "https://localhost:8080/"
        },
        "id": "dO4yZ5yKWvh_",
        "outputId": "be5f1075-7f54-4c0f-e8fe-bd723c8c8978"
      },
      "source": [
        "print(ts.index.tz)"
      ],
      "execution_count": null,
      "outputs": [
        {
          "output_type": "stream",
          "text": [
            "None\n"
          ],
          "name": "stdout"
        }
      ]
    },
    {
      "cell_type": "code",
      "metadata": {
        "deletable": true,
        "editable": true,
        "colab": {
          "base_uri": "https://localhost:8080/"
        },
        "id": "iEvHDUC-Wvh_",
        "outputId": "a92a9fe3-e57d-4844-8be6-1032ce423eab"
      },
      "source": [
        "pd.date_range('3/9/2012 9:30', periods=10, freq='D', tz='UTC')"
      ],
      "execution_count": null,
      "outputs": [
        {
          "output_type": "execute_result",
          "data": {
            "text/plain": [
              "DatetimeIndex(['2012-03-09 09:30:00+00:00', '2012-03-10 09:30:00+00:00',\n",
              "               '2012-03-11 09:30:00+00:00', '2012-03-12 09:30:00+00:00',\n",
              "               '2012-03-13 09:30:00+00:00', '2012-03-14 09:30:00+00:00',\n",
              "               '2012-03-15 09:30:00+00:00', '2012-03-16 09:30:00+00:00',\n",
              "               '2012-03-17 09:30:00+00:00', '2012-03-18 09:30:00+00:00'],\n",
              "              dtype='datetime64[ns, UTC]', freq='D')"
            ]
          },
          "metadata": {
            "tags": []
          },
          "execution_count": 65
        }
      ]
    },
    {
      "cell_type": "code",
      "metadata": {
        "deletable": true,
        "editable": true,
        "colab": {
          "base_uri": "https://localhost:8080/"
        },
        "id": "aibQ2tUOWvh_",
        "outputId": "56908791-3862-4d85-e0a2-0102c65eeff2"
      },
      "source": [
        "ts\n",
        "ts_utc = ts.tz_localize('UTC')\n",
        "ts_utc\n",
        "ts_utc.index"
      ],
      "execution_count": null,
      "outputs": [
        {
          "output_type": "execute_result",
          "data": {
            "text/plain": [
              "DatetimeIndex(['2012-03-09 09:30:00+00:00', '2012-03-10 09:30:00+00:00',\n",
              "               '2012-03-11 09:30:00+00:00', '2012-03-12 09:30:00+00:00',\n",
              "               '2012-03-13 09:30:00+00:00', '2012-03-14 09:30:00+00:00'],\n",
              "              dtype='datetime64[ns, UTC]', freq='D')"
            ]
          },
          "metadata": {
            "tags": []
          },
          "execution_count": 66
        }
      ]
    },
    {
      "cell_type": "code",
      "metadata": {
        "deletable": true,
        "editable": true,
        "colab": {
          "base_uri": "https://localhost:8080/"
        },
        "id": "TM2w0QQoWvh_",
        "outputId": "bb494daf-e3c1-401b-b87b-d3308b4da90a"
      },
      "source": [
        "ts_utc.tz_convert('America/New_York')"
      ],
      "execution_count": null,
      "outputs": [
        {
          "output_type": "execute_result",
          "data": {
            "text/plain": [
              "2012-03-09 04:30:00-05:00    0.619238\n",
              "2012-03-10 04:30:00-05:00    1.282431\n",
              "2012-03-11 05:30:00-04:00    0.915469\n",
              "2012-03-12 05:30:00-04:00   -0.673361\n",
              "2012-03-13 05:30:00-04:00    1.297960\n",
              "2012-03-14 05:30:00-04:00   -0.626374\n",
              "Freq: D, dtype: float64"
            ]
          },
          "metadata": {
            "tags": []
          },
          "execution_count": 67
        }
      ]
    },
    {
      "cell_type": "markdown",
      "metadata": {
        "deletable": true,
        "editable": true,
        "id": "2oHjnTn-WviA"
      },
      "source": [
        "### Operations with Time Zone−Aware Timestamp Objects"
      ]
    },
    {
      "cell_type": "code",
      "metadata": {
        "deletable": true,
        "editable": true,
        "id": "LjfPRuygWviA"
      },
      "source": [
        "stamp = pd.Timestamp('2011-03-12 04:00')\n",
        "stamp_utc = stamp.tz_localize('utc')\n",
        "stamp_utc.tz_convert('America/New_York')"
      ],
      "execution_count": null,
      "outputs": []
    },
    {
      "cell_type": "code",
      "metadata": {
        "deletable": true,
        "editable": true,
        "id": "4ChRd_VoWviA"
      },
      "source": [
        "stamp_moscow = pd.Timestamp('2011-03-12 04:00', tz='Europe/Moscow')\n",
        "stamp_moscow"
      ],
      "execution_count": null,
      "outputs": []
    },
    {
      "cell_type": "code",
      "metadata": {
        "deletable": true,
        "editable": true,
        "id": "L4l4oex5WviA"
      },
      "source": [
        "stamp_utc.value\n",
        "stamp_utc.tz_convert('America/New_York').value"
      ],
      "execution_count": null,
      "outputs": []
    },
    {
      "cell_type": "code",
      "metadata": {
        "deletable": true,
        "editable": true,
        "id": "JbDq8JPDWviA"
      },
      "source": [
        "from pandas.tseries.offsets import Hour\n",
        "stamp = pd.Timestamp('2012-03-12 01:30', tz='US/Eastern')\n",
        "stamp\n",
        "stamp + Hour()"
      ],
      "execution_count": null,
      "outputs": []
    },
    {
      "cell_type": "code",
      "metadata": {
        "deletable": true,
        "editable": true,
        "id": "SURAn19rWviA"
      },
      "source": [
        "stamp = pd.Timestamp('2012-11-04 00:30', tz='US/Eastern')\n",
        "stamp\n",
        "stamp + 2 * Hour()"
      ],
      "execution_count": null,
      "outputs": []
    },
    {
      "cell_type": "markdown",
      "metadata": {
        "deletable": true,
        "editable": true,
        "id": "1iaoKAUpWviB"
      },
      "source": [
        "## Periods and Period Arithmetic"
      ]
    },
    {
      "cell_type": "code",
      "metadata": {
        "deletable": true,
        "editable": true,
        "colab": {
          "base_uri": "https://localhost:8080/"
        },
        "id": "D1v0IzfFWviB",
        "outputId": "34bb609e-6de5-4729-f592-07aa15ba10ae"
      },
      "source": [
        "rng = pd.period_range('2000-01-01', '2000-06-30', freq='M')\n",
        "rng"
      ],
      "execution_count": null,
      "outputs": [
        {
          "output_type": "execute_result",
          "data": {
            "text/plain": [
              "PeriodIndex(['2000-01', '2000-02', '2000-03', '2000-04', '2000-05', '2000-06'], dtype='period[M]', freq='M')"
            ]
          },
          "metadata": {
            "tags": []
          },
          "execution_count": 68
        }
      ]
    },
    {
      "cell_type": "code",
      "metadata": {
        "deletable": true,
        "editable": true,
        "colab": {
          "base_uri": "https://localhost:8080/"
        },
        "id": "d9Pvck97WviB",
        "outputId": "9f1f9186-e260-4ff5-8369-c91f61722c27"
      },
      "source": [
        "pd.Series(np.random.randn(6), index=rng)"
      ],
      "execution_count": null,
      "outputs": [
        {
          "output_type": "execute_result",
          "data": {
            "text/plain": [
              "2000-01   -0.695768\n",
              "2000-02    0.648353\n",
              "2000-03   -0.024062\n",
              "2000-04    0.474302\n",
              "2000-05    0.049622\n",
              "2000-06   -0.990864\n",
              "Freq: M, dtype: float64"
            ]
          },
          "metadata": {
            "tags": []
          },
          "execution_count": 69
        }
      ]
    },
    {
      "cell_type": "code",
      "metadata": {
        "deletable": true,
        "editable": true,
        "colab": {
          "base_uri": "https://localhost:8080/"
        },
        "id": "j90X5ZtzWviB",
        "outputId": "df49fb17-80c5-4c5f-fba8-1b42482eff46"
      },
      "source": [
        "values = ['2001Q3', '2002Q2', '2003Q1']\n",
        "index = pd.PeriodIndex(values, freq='Q-DEC')\n",
        "index"
      ],
      "execution_count": null,
      "outputs": [
        {
          "output_type": "execute_result",
          "data": {
            "text/plain": [
              "PeriodIndex(['2001Q3', '2002Q2', '2003Q1'], dtype='period[Q-DEC]', freq='Q-DEC')"
            ]
          },
          "metadata": {
            "tags": []
          },
          "execution_count": 70
        }
      ]
    },
    {
      "cell_type": "markdown",
      "metadata": {
        "deletable": true,
        "editable": true,
        "id": "vHdBKgMLWviC"
      },
      "source": [
        "### Converting Timestamps to Periods (and Back)"
      ]
    },
    {
      "cell_type": "code",
      "metadata": {
        "deletable": true,
        "editable": true,
        "colab": {
          "base_uri": "https://localhost:8080/"
        },
        "id": "av1mF6FjWviC",
        "outputId": "7412d182-384d-416b-db4f-85a8eeb081cb"
      },
      "source": [
        "rng = pd.date_range('1/29/2000', periods=6, freq='D')\n",
        "ts2 = pd.Series(np.random.randn(6), index=rng)\n",
        "ts2\n"
      ],
      "execution_count": null,
      "outputs": [
        {
          "output_type": "execute_result",
          "data": {
            "text/plain": [
              "2000-01-29    0.818630\n",
              "2000-01-30   -0.478903\n",
              "2000-01-31    1.474002\n",
              "2000-02-01   -1.010244\n",
              "2000-02-02   -1.380709\n",
              "2000-02-03    0.561331\n",
              "Freq: D, dtype: float64"
            ]
          },
          "metadata": {
            "tags": []
          },
          "execution_count": 77
        }
      ]
    },
    {
      "cell_type": "code",
      "metadata": {
        "deletable": true,
        "editable": true,
        "colab": {
          "base_uri": "https://localhost:8080/"
        },
        "id": "XMGaG05xWviC",
        "outputId": "bda8baf3-d807-472e-e7a3-784ad83fed94"
      },
      "source": [
        "pts = ts2.to_period('M')\n",
        "pts\n"
      ],
      "execution_count": null,
      "outputs": [
        {
          "output_type": "execute_result",
          "data": {
            "text/plain": [
              "2000-01    0.818630\n",
              "2000-01   -0.478903\n",
              "2000-01    1.474002\n",
              "2000-02   -1.010244\n",
              "2000-02   -1.380709\n",
              "2000-02    0.561331\n",
              "Freq: M, dtype: float64"
            ]
          },
          "metadata": {
            "tags": []
          },
          "execution_count": 78
        }
      ]
    },
    {
      "cell_type": "code",
      "metadata": {
        "colab": {
          "base_uri": "https://localhost:8080/"
        },
        "id": "t_WLtsLZirJE",
        "outputId": "c778753e-8336-4bc6-fb62-dd9e7ae91593"
      },
      "source": [
        "pts.to_timestamp(how='end')"
      ],
      "execution_count": null,
      "outputs": [
        {
          "output_type": "execute_result",
          "data": {
            "text/plain": [
              "2000-01-31 23:59:59.999999999    0.818630\n",
              "2000-01-31 23:59:59.999999999   -0.478903\n",
              "2000-01-31 23:59:59.999999999    1.474002\n",
              "2000-02-29 23:59:59.999999999   -1.010244\n",
              "2000-02-29 23:59:59.999999999   -1.380709\n",
              "2000-02-29 23:59:59.999999999    0.561331\n",
              "dtype: float64"
            ]
          },
          "metadata": {
            "tags": []
          },
          "execution_count": 82
        }
      ]
    },
    {
      "cell_type": "code",
      "metadata": {
        "id": "-YIgOGGAi5li"
      },
      "source": [
        ""
      ],
      "execution_count": null,
      "outputs": []
    }
  ]
}