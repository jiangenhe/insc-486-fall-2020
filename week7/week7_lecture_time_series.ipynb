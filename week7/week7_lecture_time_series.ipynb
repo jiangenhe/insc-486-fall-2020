{
  "nbformat": 4,
  "nbformat_minor": 0,
  "metadata": {
    "kernelspec": {
      "display_name": "Python 3",
      "language": "python",
      "name": "python3"
    },
    "language_info": {
      "codemirror_mode": {
        "name": "ipython",
        "version": 3
      },
      "file_extension": ".py",
      "mimetype": "text/x-python",
      "name": "python",
      "nbconvert_exporter": "python",
      "pygments_lexer": "ipython3",
      "version": "3.6.0"
    },
    "colab": {
      "name": "week7-lecture-time-series.ipynb",
      "provenance": [],
      "collapsed_sections": [],
      "include_colab_link": true
    }
  },
  "cells": [
    {
      "cell_type": "markdown",
      "metadata": {
        "id": "view-in-github",
        "colab_type": "text"
      },
      "source": [
        "<a href=\"https://colab.research.google.com/github/jiangenhe/insc-486-fall-2021/blob/main/week7/week7_lecture_time_series.ipynb\" target=\"_parent\"><img src=\"https://colab.research.google.com/assets/colab-badge.svg\" alt=\"Open In Colab\"/></a>"
      ]
    },
    {
      "cell_type": "markdown",
      "metadata": {
        "deletable": true,
        "editable": true,
        "id": "wF2QR8OnWvhm"
      },
      "source": [
        "# Time Series"
      ]
    },
    {
      "cell_type": "code",
      "metadata": {
        "deletable": true,
        "editable": true,
        "id": "eAo08qRjWvht"
      },
      "source": [
        "import numpy as np\n",
        "import pandas as pd"
      ],
      "execution_count": 1,
      "outputs": []
    },
    {
      "cell_type": "markdown",
      "metadata": {
        "deletable": true,
        "editable": true,
        "id": "WfP21lEmWvhu"
      },
      "source": [
        "## Date and Time Data Types and Tools"
      ]
    },
    {
      "cell_type": "code",
      "metadata": {
        "deletable": true,
        "editable": true,
        "id": "rQ800-JLWvhu",
        "outputId": "d6f4d13c-fddb-4962-bf03-d67f5d625b5a",
        "colab": {
          "base_uri": "https://localhost:8080/"
        }
      },
      "source": [
        "from datetime import datetime\n",
        "now = datetime.now()\n",
        "now"
      ],
      "execution_count": 2,
      "outputs": [
        {
          "output_type": "execute_result",
          "data": {
            "text/plain": [
              "datetime.datetime(2021, 9, 28, 14, 5, 16, 559473)"
            ]
          },
          "metadata": {},
          "execution_count": 2
        }
      ]
    },
    {
      "cell_type": "code",
      "metadata": {
        "id": "PueYSCq_W_G9",
        "outputId": "3e34ca2e-575c-4436-8607-b7f7e1753ffe",
        "colab": {
          "base_uri": "https://localhost:8080/"
        }
      },
      "source": [
        "now.year, now.month, now.day"
      ],
      "execution_count": 3,
      "outputs": [
        {
          "output_type": "execute_result",
          "data": {
            "text/plain": [
              "(2021, 9, 28)"
            ]
          },
          "metadata": {},
          "execution_count": 3
        }
      ]
    },
    {
      "cell_type": "code",
      "metadata": {
        "deletable": true,
        "editable": true,
        "id": "rJX5UL2BWvhv",
        "outputId": "b81ae82f-0132-471c-f641-a0aca0af0277",
        "colab": {
          "base_uri": "https://localhost:8080/"
        }
      },
      "source": [
        "delta = datetime(2011, 1, 7) - datetime(2008, 6, 24, 8, 15)\n",
        "delta\n",
        "delta.days\n",
        "delta.seconds"
      ],
      "execution_count": 4,
      "outputs": [
        {
          "output_type": "execute_result",
          "data": {
            "text/plain": [
              "56700"
            ]
          },
          "metadata": {},
          "execution_count": 4
        }
      ]
    },
    {
      "cell_type": "markdown",
      "metadata": {
        "deletable": true,
        "editable": true,
        "id": "PkdELrYNWvhv"
      },
      "source": [
        "### Converting Between String and Datetime"
      ]
    },
    {
      "cell_type": "code",
      "metadata": {
        "deletable": true,
        "editable": true,
        "colab": {
          "base_uri": "https://localhost:8080/",
          "height": 35
        },
        "id": "tRpXitQFWvhw",
        "outputId": "dda12074-0c61-4cf3-ab6e-b931680cf139"
      },
      "source": [
        "stamp = datetime(2011, 1, 3)\n",
        "str(stamp)"
      ],
      "execution_count": 5,
      "outputs": [
        {
          "output_type": "execute_result",
          "data": {
            "application/vnd.google.colaboratory.intrinsic+json": {
              "type": "string"
            },
            "text/plain": [
              "'2011-01-03 00:00:00'"
            ]
          },
          "metadata": {},
          "execution_count": 5
        }
      ]
    },
    {
      "cell_type": "code",
      "metadata": {
        "colab": {
          "base_uri": "https://localhost:8080/",
          "height": 35
        },
        "id": "eZ7_JJRnXsBt",
        "outputId": "79c284f0-70b6-4f3b-e01f-980a8489093f"
      },
      "source": [
        "stamp.strftime('%Y-%m-%d')"
      ],
      "execution_count": 6,
      "outputs": [
        {
          "output_type": "execute_result",
          "data": {
            "application/vnd.google.colaboratory.intrinsic+json": {
              "type": "string"
            },
            "text/plain": [
              "'2011-01-03'"
            ]
          },
          "metadata": {},
          "execution_count": 6
        }
      ]
    },
    {
      "cell_type": "code",
      "metadata": {
        "deletable": true,
        "editable": true,
        "colab": {
          "base_uri": "https://localhost:8080/"
        },
        "id": "6MVQAdZ7Wvhw",
        "outputId": "96332f4a-8f07-4bec-eb22-26f7c7f67858"
      },
      "source": [
        "value = '2011-01-03'\n",
        "datetime.strptime(value, '%Y-%m-%d')"
      ],
      "execution_count": 7,
      "outputs": [
        {
          "output_type": "execute_result",
          "data": {
            "text/plain": [
              "datetime.datetime(2011, 1, 3, 0, 0)"
            ]
          },
          "metadata": {},
          "execution_count": 7
        }
      ]
    },
    {
      "cell_type": "code",
      "metadata": {
        "deletable": true,
        "editable": true,
        "id": "H6RbYzd5Wvhw",
        "outputId": "b6b34a6c-3f4d-4c47-c5f5-1ed80d0189ad",
        "colab": {
          "base_uri": "https://localhost:8080/"
        }
      },
      "source": [
        "from dateutil.parser import parse\n",
        "parse('2011-01-03')"
      ],
      "execution_count": 8,
      "outputs": [
        {
          "output_type": "execute_result",
          "data": {
            "text/plain": [
              "datetime.datetime(2011, 1, 3, 0, 0)"
            ]
          },
          "metadata": {},
          "execution_count": 8
        }
      ]
    },
    {
      "cell_type": "code",
      "metadata": {
        "deletable": true,
        "editable": true,
        "id": "GrfKo8JIWvhw",
        "outputId": "e4a3488d-8da1-41b4-b461-accc01d3d900",
        "colab": {
          "base_uri": "https://localhost:8080/"
        }
      },
      "source": [
        "parse('Jan 31, 1997 10:45 PM')"
      ],
      "execution_count": 9,
      "outputs": [
        {
          "output_type": "execute_result",
          "data": {
            "text/plain": [
              "datetime.datetime(1997, 1, 31, 22, 45)"
            ]
          },
          "metadata": {},
          "execution_count": 9
        }
      ]
    },
    {
      "cell_type": "code",
      "metadata": {
        "deletable": true,
        "editable": true,
        "id": "nod9jjWkWvhx",
        "outputId": "f771eb9c-aa7d-4b8b-84aa-c909841b1128",
        "colab": {
          "base_uri": "https://localhost:8080/"
        }
      },
      "source": [
        "parse('6/12/2011', dayfirst=True)"
      ],
      "execution_count": 10,
      "outputs": [
        {
          "output_type": "execute_result",
          "data": {
            "text/plain": [
              "datetime.datetime(2011, 12, 6, 0, 0)"
            ]
          },
          "metadata": {},
          "execution_count": 10
        }
      ]
    },
    {
      "cell_type": "code",
      "metadata": {
        "deletable": true,
        "editable": true,
        "id": "_YbPRPfRWvhx",
        "outputId": "89d47e43-aa72-46c8-bbba-fc9be7d2f2a3",
        "colab": {
          "base_uri": "https://localhost:8080/"
        }
      },
      "source": [
        "datestrs = ['2011-07-06 12:00:00', '2011-08-06 00:00:00']\n",
        "pd.to_datetime(datestrs)"
      ],
      "execution_count": 11,
      "outputs": [
        {
          "output_type": "execute_result",
          "data": {
            "text/plain": [
              "DatetimeIndex(['2011-07-06 12:00:00', '2011-08-06 00:00:00'], dtype='datetime64[ns]', freq=None)"
            ]
          },
          "metadata": {},
          "execution_count": 11
        }
      ]
    },
    {
      "cell_type": "markdown",
      "metadata": {
        "deletable": true,
        "editable": true,
        "id": "edW5tNkKWvhx"
      },
      "source": [
        "## Time Series Basics"
      ]
    },
    {
      "cell_type": "code",
      "metadata": {
        "deletable": true,
        "editable": true,
        "colab": {
          "base_uri": "https://localhost:8080/"
        },
        "id": "KAKQh7kLWvhy",
        "outputId": "b7c9e0ab-2e46-4a9c-e55d-9ca0083d8d86"
      },
      "source": [
        "from datetime import datetime\n",
        "dates = [datetime(2011, 1, 2), datetime(2011, 1, 5),\n",
        "         datetime(2011, 1, 7), datetime(2011, 1, 8),\n",
        "         datetime(2011, 1, 10), datetime(2011, 1, 12)]\n",
        "ts = pd.Series(np.random.randn(6), index=dates)\n",
        "ts"
      ],
      "execution_count": 12,
      "outputs": [
        {
          "output_type": "execute_result",
          "data": {
            "text/plain": [
              "2011-01-02   -1.414563\n",
              "2011-01-05    0.021004\n",
              "2011-01-07   -1.530306\n",
              "2011-01-08    0.813631\n",
              "2011-01-10   -1.031645\n",
              "2011-01-12    0.024042\n",
              "dtype: float64"
            ]
          },
          "metadata": {},
          "execution_count": 12
        }
      ]
    },
    {
      "cell_type": "code",
      "metadata": {
        "deletable": true,
        "editable": true,
        "colab": {
          "base_uri": "https://localhost:8080/"
        },
        "id": "-5Oxt_KnWvhy",
        "outputId": "3cb86dc0-316a-4b92-f937-563f5c5fd8ad"
      },
      "source": [
        "ts.index"
      ],
      "execution_count": 13,
      "outputs": [
        {
          "output_type": "execute_result",
          "data": {
            "text/plain": [
              "DatetimeIndex(['2011-01-02', '2011-01-05', '2011-01-07', '2011-01-08',\n",
              "               '2011-01-10', '2011-01-12'],\n",
              "              dtype='datetime64[ns]', freq=None)"
            ]
          },
          "metadata": {},
          "execution_count": 13
        }
      ]
    },
    {
      "cell_type": "markdown",
      "metadata": {
        "deletable": true,
        "editable": true,
        "id": "wPBWhA2VWvh0"
      },
      "source": [
        "### Indexing, Selection, Subsetting"
      ]
    },
    {
      "cell_type": "code",
      "metadata": {
        "deletable": true,
        "editable": true,
        "colab": {
          "base_uri": "https://localhost:8080/"
        },
        "id": "XG8JN_IYWvh0",
        "outputId": "5b90a063-5dc9-4369-fccb-471557f18c72"
      },
      "source": [
        "stamp = ts.index[2]\n",
        "ts[stamp]"
      ],
      "execution_count": 15,
      "outputs": [
        {
          "output_type": "execute_result",
          "data": {
            "text/plain": [
              "-1.5303057383727163"
            ]
          },
          "metadata": {},
          "execution_count": 15
        }
      ]
    },
    {
      "cell_type": "code",
      "metadata": {
        "deletable": true,
        "editable": true,
        "colab": {
          "base_uri": "https://localhost:8080/"
        },
        "id": "NIx8oD9fWvh0",
        "outputId": "743f262a-b21e-4cf1-ff26-9c5fd3da0a0e"
      },
      "source": [
        "ts['1/10/2011']\n"
      ],
      "execution_count": 16,
      "outputs": [
        {
          "output_type": "execute_result",
          "data": {
            "text/plain": [
              "-1.0316452976047992"
            ]
          },
          "metadata": {},
          "execution_count": 16
        }
      ]
    },
    {
      "cell_type": "code",
      "metadata": {
        "colab": {
          "base_uri": "https://localhost:8080/"
        },
        "id": "dyg2RX4dZuA0",
        "outputId": "c7f077cd-5fde-445a-d06d-5230743af506"
      },
      "source": [
        "ts['20110110']"
      ],
      "execution_count": 17,
      "outputs": [
        {
          "output_type": "execute_result",
          "data": {
            "text/plain": [
              "-1.0316452976047992"
            ]
          },
          "metadata": {},
          "execution_count": 17
        }
      ]
    },
    {
      "cell_type": "code",
      "metadata": {
        "deletable": true,
        "editable": true,
        "colab": {
          "base_uri": "https://localhost:8080/"
        },
        "id": "wu5bTFJjWvh1",
        "outputId": "40d629f6-9c53-48fa-8805-53ec21dc374f"
      },
      "source": [
        "longer_ts = pd.Series(np.random.randn(1000),\n",
        "                      index=pd.date_range('1/1/2000', periods=1000))\n",
        "longer_ts\n"
      ],
      "execution_count": 18,
      "outputs": [
        {
          "output_type": "execute_result",
          "data": {
            "text/plain": [
              "2000-01-01    0.823713\n",
              "2000-01-02    1.099765\n",
              "2000-01-03   -0.569516\n",
              "2000-01-04   -0.569657\n",
              "2000-01-05   -0.205433\n",
              "                ...   \n",
              "2002-09-22    0.002740\n",
              "2002-09-23    0.207270\n",
              "2002-09-24    0.395960\n",
              "2002-09-25   -1.056623\n",
              "2002-09-26   -0.774872\n",
              "Freq: D, Length: 1000, dtype: float64"
            ]
          },
          "metadata": {},
          "execution_count": 18
        }
      ]
    },
    {
      "cell_type": "code",
      "metadata": {
        "id": "bnuBliSIa6jY",
        "outputId": "928073e0-2508-4503-e230-2a754731bdab",
        "colab": {
          "base_uri": "https://localhost:8080/"
        }
      },
      "source": [
        "longer_ts['2001']"
      ],
      "execution_count": 19,
      "outputs": [
        {
          "output_type": "execute_result",
          "data": {
            "text/plain": [
              "2001-01-01   -0.517321\n",
              "2001-01-02    1.067318\n",
              "2001-01-03    0.538271\n",
              "2001-01-04   -1.282841\n",
              "2001-01-05    0.435453\n",
              "                ...   \n",
              "2001-12-27    0.657047\n",
              "2001-12-28   -1.332806\n",
              "2001-12-29    0.293641\n",
              "2001-12-30   -1.332813\n",
              "2001-12-31   -0.675980\n",
              "Freq: D, Length: 365, dtype: float64"
            ]
          },
          "metadata": {},
          "execution_count": 19
        }
      ]
    },
    {
      "cell_type": "code",
      "metadata": {
        "deletable": true,
        "editable": true,
        "id": "76KhOMR_Wvh1",
        "outputId": "3c1ef925-cc5e-42da-9a60-f384a06b9ef0",
        "colab": {
          "base_uri": "https://localhost:8080/"
        }
      },
      "source": [
        "longer_ts['2001-05']"
      ],
      "execution_count": 20,
      "outputs": [
        {
          "output_type": "execute_result",
          "data": {
            "text/plain": [
              "2001-05-01   -1.364867\n",
              "2001-05-02    0.812657\n",
              "2001-05-03    1.394532\n",
              "2001-05-04   -0.601794\n",
              "2001-05-05    0.158632\n",
              "2001-05-06   -0.607119\n",
              "2001-05-07    0.678194\n",
              "2001-05-08    0.440815\n",
              "2001-05-09    0.672139\n",
              "2001-05-10   -0.959870\n",
              "2001-05-11    0.305855\n",
              "2001-05-12   -1.285151\n",
              "2001-05-13    0.005475\n",
              "2001-05-14   -0.211649\n",
              "2001-05-15   -2.204286\n",
              "2001-05-16   -2.032790\n",
              "2001-05-17    0.186352\n",
              "2001-05-18    0.269215\n",
              "2001-05-19    0.249310\n",
              "2001-05-20    0.872497\n",
              "2001-05-21    1.219683\n",
              "2001-05-22    0.654999\n",
              "2001-05-23    0.779309\n",
              "2001-05-24   -0.219289\n",
              "2001-05-25    1.387545\n",
              "2001-05-26    0.342877\n",
              "2001-05-27    0.542151\n",
              "2001-05-28    0.299854\n",
              "2001-05-29    1.303892\n",
              "2001-05-30    0.356010\n",
              "2001-05-31    0.982209\n",
              "Freq: D, dtype: float64"
            ]
          },
          "metadata": {},
          "execution_count": 20
        }
      ]
    },
    {
      "cell_type": "code",
      "metadata": {
        "deletable": true,
        "editable": true,
        "id": "2Pnh3e-8Wvh1",
        "outputId": "0a99366b-a4a9-4ce1-a950-901db4f8b736",
        "colab": {
          "base_uri": "https://localhost:8080/"
        }
      },
      "source": [
        "ts[datetime(2011, 1, 7):]"
      ],
      "execution_count": 21,
      "outputs": [
        {
          "output_type": "execute_result",
          "data": {
            "text/plain": [
              "2011-01-07   -1.530306\n",
              "2011-01-08    0.813631\n",
              "2011-01-10   -1.031645\n",
              "2011-01-12    0.024042\n",
              "dtype: float64"
            ]
          },
          "metadata": {},
          "execution_count": 21
        }
      ]
    },
    {
      "cell_type": "code",
      "metadata": {
        "deletable": true,
        "editable": true,
        "id": "y7jw8Cv3Wvh2",
        "outputId": "dcbe378d-3863-499e-dba6-716e0f4410ee",
        "colab": {
          "base_uri": "https://localhost:8080/"
        }
      },
      "source": [
        "ts\n",
        "ts['1/6/2011':'1/11/2011']"
      ],
      "execution_count": 22,
      "outputs": [
        {
          "output_type": "execute_result",
          "data": {
            "text/plain": [
              "2011-01-07   -1.530306\n",
              "2011-01-08    0.813631\n",
              "2011-01-10   -1.031645\n",
              "dtype: float64"
            ]
          },
          "metadata": {},
          "execution_count": 22
        }
      ]
    },
    {
      "cell_type": "code",
      "metadata": {
        "deletable": true,
        "editable": true,
        "colab": {
          "base_uri": "https://localhost:8080/",
          "height": 424
        },
        "id": "YXsbBZUXWvh2",
        "outputId": "4ac27f40-d9aa-4a95-9b97-1024cbba5865"
      },
      "source": [
        "dates = pd.date_range('1/1/2000', periods=100, freq='W-WED')\n",
        "long_df = pd.DataFrame(np.random.randn(100, 4),\n",
        "                       index=dates,\n",
        "                       columns=['Colorado', 'Texas',\n",
        "                                'New York', 'Ohio'])\n",
        "long_df"
      ],
      "execution_count": 24,
      "outputs": [
        {
          "output_type": "execute_result",
          "data": {
            "text/html": [
              "<div>\n",
              "<style scoped>\n",
              "    .dataframe tbody tr th:only-of-type {\n",
              "        vertical-align: middle;\n",
              "    }\n",
              "\n",
              "    .dataframe tbody tr th {\n",
              "        vertical-align: top;\n",
              "    }\n",
              "\n",
              "    .dataframe thead th {\n",
              "        text-align: right;\n",
              "    }\n",
              "</style>\n",
              "<table border=\"1\" class=\"dataframe\">\n",
              "  <thead>\n",
              "    <tr style=\"text-align: right;\">\n",
              "      <th></th>\n",
              "      <th>Colorado</th>\n",
              "      <th>Texas</th>\n",
              "      <th>New York</th>\n",
              "      <th>Ohio</th>\n",
              "    </tr>\n",
              "  </thead>\n",
              "  <tbody>\n",
              "    <tr>\n",
              "      <th>2000-01-05</th>\n",
              "      <td>-1.985645</td>\n",
              "      <td>0.943615</td>\n",
              "      <td>-2.621383</td>\n",
              "      <td>-1.632466</td>\n",
              "    </tr>\n",
              "    <tr>\n",
              "      <th>2000-01-12</th>\n",
              "      <td>-1.135404</td>\n",
              "      <td>1.166573</td>\n",
              "      <td>-1.276871</td>\n",
              "      <td>-0.322698</td>\n",
              "    </tr>\n",
              "    <tr>\n",
              "      <th>2000-01-19</th>\n",
              "      <td>-0.377248</td>\n",
              "      <td>-0.758435</td>\n",
              "      <td>-0.839681</td>\n",
              "      <td>-0.242692</td>\n",
              "    </tr>\n",
              "    <tr>\n",
              "      <th>2000-01-26</th>\n",
              "      <td>0.074051</td>\n",
              "      <td>1.132316</td>\n",
              "      <td>-0.556125</td>\n",
              "      <td>0.304962</td>\n",
              "    </tr>\n",
              "    <tr>\n",
              "      <th>2000-02-02</th>\n",
              "      <td>1.304074</td>\n",
              "      <td>-1.249057</td>\n",
              "      <td>0.972378</td>\n",
              "      <td>-0.835628</td>\n",
              "    </tr>\n",
              "    <tr>\n",
              "      <th>...</th>\n",
              "      <td>...</td>\n",
              "      <td>...</td>\n",
              "      <td>...</td>\n",
              "      <td>...</td>\n",
              "    </tr>\n",
              "    <tr>\n",
              "      <th>2001-10-31</th>\n",
              "      <td>1.613304</td>\n",
              "      <td>-0.065885</td>\n",
              "      <td>-0.899096</td>\n",
              "      <td>-0.290805</td>\n",
              "    </tr>\n",
              "    <tr>\n",
              "      <th>2001-11-07</th>\n",
              "      <td>-0.570371</td>\n",
              "      <td>-1.392782</td>\n",
              "      <td>0.151374</td>\n",
              "      <td>-0.930235</td>\n",
              "    </tr>\n",
              "    <tr>\n",
              "      <th>2001-11-14</th>\n",
              "      <td>-0.822286</td>\n",
              "      <td>-1.160561</td>\n",
              "      <td>-0.427753</td>\n",
              "      <td>-0.391430</td>\n",
              "    </tr>\n",
              "    <tr>\n",
              "      <th>2001-11-21</th>\n",
              "      <td>1.461354</td>\n",
              "      <td>1.259088</td>\n",
              "      <td>1.115633</td>\n",
              "      <td>1.294082</td>\n",
              "    </tr>\n",
              "    <tr>\n",
              "      <th>2001-11-28</th>\n",
              "      <td>1.060803</td>\n",
              "      <td>-0.951103</td>\n",
              "      <td>1.690954</td>\n",
              "      <td>-1.647420</td>\n",
              "    </tr>\n",
              "  </tbody>\n",
              "</table>\n",
              "<p>100 rows × 4 columns</p>\n",
              "</div>"
            ],
            "text/plain": [
              "            Colorado     Texas  New York      Ohio\n",
              "2000-01-05 -1.985645  0.943615 -2.621383 -1.632466\n",
              "2000-01-12 -1.135404  1.166573 -1.276871 -0.322698\n",
              "2000-01-19 -0.377248 -0.758435 -0.839681 -0.242692\n",
              "2000-01-26  0.074051  1.132316 -0.556125  0.304962\n",
              "2000-02-02  1.304074 -1.249057  0.972378 -0.835628\n",
              "...              ...       ...       ...       ...\n",
              "2001-10-31  1.613304 -0.065885 -0.899096 -0.290805\n",
              "2001-11-07 -0.570371 -1.392782  0.151374 -0.930235\n",
              "2001-11-14 -0.822286 -1.160561 -0.427753 -0.391430\n",
              "2001-11-21  1.461354  1.259088  1.115633  1.294082\n",
              "2001-11-28  1.060803 -0.951103  1.690954 -1.647420\n",
              "\n",
              "[100 rows x 4 columns]"
            ]
          },
          "metadata": {},
          "execution_count": 24
        }
      ]
    },
    {
      "cell_type": "code",
      "metadata": {
        "colab": {
          "base_uri": "https://localhost:8080/",
          "height": 206
        },
        "id": "QzcIDgecbNZE",
        "outputId": "ff461157-5f6e-4056-9e1b-5246c44b1072"
      },
      "source": [
        "long_df.loc['5-2001']"
      ],
      "execution_count": 25,
      "outputs": [
        {
          "output_type": "execute_result",
          "data": {
            "text/html": [
              "<div>\n",
              "<style scoped>\n",
              "    .dataframe tbody tr th:only-of-type {\n",
              "        vertical-align: middle;\n",
              "    }\n",
              "\n",
              "    .dataframe tbody tr th {\n",
              "        vertical-align: top;\n",
              "    }\n",
              "\n",
              "    .dataframe thead th {\n",
              "        text-align: right;\n",
              "    }\n",
              "</style>\n",
              "<table border=\"1\" class=\"dataframe\">\n",
              "  <thead>\n",
              "    <tr style=\"text-align: right;\">\n",
              "      <th></th>\n",
              "      <th>Colorado</th>\n",
              "      <th>Texas</th>\n",
              "      <th>New York</th>\n",
              "      <th>Ohio</th>\n",
              "    </tr>\n",
              "  </thead>\n",
              "  <tbody>\n",
              "    <tr>\n",
              "      <th>2001-05-02</th>\n",
              "      <td>1.394457</td>\n",
              "      <td>-1.259683</td>\n",
              "      <td>0.892748</td>\n",
              "      <td>0.047127</td>\n",
              "    </tr>\n",
              "    <tr>\n",
              "      <th>2001-05-09</th>\n",
              "      <td>-0.968617</td>\n",
              "      <td>-2.328876</td>\n",
              "      <td>-0.406763</td>\n",
              "      <td>1.250001</td>\n",
              "    </tr>\n",
              "    <tr>\n",
              "      <th>2001-05-16</th>\n",
              "      <td>-1.345807</td>\n",
              "      <td>-1.306524</td>\n",
              "      <td>1.207847</td>\n",
              "      <td>0.479971</td>\n",
              "    </tr>\n",
              "    <tr>\n",
              "      <th>2001-05-23</th>\n",
              "      <td>-0.379074</td>\n",
              "      <td>-0.672725</td>\n",
              "      <td>0.082937</td>\n",
              "      <td>1.028597</td>\n",
              "    </tr>\n",
              "    <tr>\n",
              "      <th>2001-05-30</th>\n",
              "      <td>-0.570696</td>\n",
              "      <td>0.654505</td>\n",
              "      <td>1.052525</td>\n",
              "      <td>1.454131</td>\n",
              "    </tr>\n",
              "  </tbody>\n",
              "</table>\n",
              "</div>"
            ],
            "text/plain": [
              "            Colorado     Texas  New York      Ohio\n",
              "2001-05-02  1.394457 -1.259683  0.892748  0.047127\n",
              "2001-05-09 -0.968617 -2.328876 -0.406763  1.250001\n",
              "2001-05-16 -1.345807 -1.306524  1.207847  0.479971\n",
              "2001-05-23 -0.379074 -0.672725  0.082937  1.028597\n",
              "2001-05-30 -0.570696  0.654505  1.052525  1.454131"
            ]
          },
          "metadata": {},
          "execution_count": 25
        }
      ]
    },
    {
      "cell_type": "markdown",
      "metadata": {
        "deletable": true,
        "editable": true,
        "id": "PtPaSmOGWvh2"
      },
      "source": [
        "### Time Series with Duplicate Indices"
      ]
    },
    {
      "cell_type": "code",
      "metadata": {
        "deletable": true,
        "editable": true,
        "colab": {
          "base_uri": "https://localhost:8080/"
        },
        "id": "ymvvn4dkWvh2",
        "outputId": "6d300055-0313-4539-9701-f642c0cd0a77"
      },
      "source": [
        "dates = pd.DatetimeIndex(['1/1/2000', '1/2/2000', '1/2/2000',\n",
        "                          '1/2/2000', '1/3/2000'])\n",
        "dup_ts = pd.Series(np.arange(5), index=dates)\n",
        "dup_ts"
      ],
      "execution_count": 26,
      "outputs": [
        {
          "output_type": "execute_result",
          "data": {
            "text/plain": [
              "2000-01-01    0\n",
              "2000-01-02    1\n",
              "2000-01-02    2\n",
              "2000-01-02    3\n",
              "2000-01-03    4\n",
              "dtype: int64"
            ]
          },
          "metadata": {},
          "execution_count": 26
        }
      ]
    },
    {
      "cell_type": "code",
      "metadata": {
        "deletable": true,
        "editable": true,
        "colab": {
          "base_uri": "https://localhost:8080/"
        },
        "id": "uqkCdypTWvh2",
        "outputId": "6f8a5f52-529c-4873-fc5e-609b0807d682"
      },
      "source": [
        "dup_ts.index.is_unique"
      ],
      "execution_count": 27,
      "outputs": [
        {
          "output_type": "execute_result",
          "data": {
            "text/plain": [
              "False"
            ]
          },
          "metadata": {},
          "execution_count": 27
        }
      ]
    },
    {
      "cell_type": "code",
      "metadata": {
        "deletable": true,
        "editable": true,
        "colab": {
          "base_uri": "https://localhost:8080/"
        },
        "id": "Bmf9j1yHWvh3",
        "outputId": "e82c3b78-7850-4381-fb98-60e0f896136d"
      },
      "source": [
        "dup_ts.groupby(level=0).sum()\n"
      ],
      "execution_count": 28,
      "outputs": [
        {
          "output_type": "execute_result",
          "data": {
            "text/plain": [
              "2000-01-01    0\n",
              "2000-01-02    6\n",
              "2000-01-03    4\n",
              "dtype: int64"
            ]
          },
          "metadata": {},
          "execution_count": 28
        }
      ]
    },
    {
      "cell_type": "markdown",
      "metadata": {
        "deletable": true,
        "editable": true,
        "id": "kXQD4O7rWvh7"
      },
      "source": [
        "### Frequencies and Date Offsets"
      ]
    },
    {
      "cell_type": "code",
      "metadata": {
        "deletable": true,
        "editable": true,
        "id": "KnXhD3j7Wvh7"
      },
      "source": [
        "from pandas.tseries.offsets import Hour, Minute"
      ],
      "execution_count": 29,
      "outputs": []
    },
    {
      "cell_type": "code",
      "metadata": {
        "deletable": true,
        "editable": true,
        "colab": {
          "base_uri": "https://localhost:8080/"
        },
        "id": "05cTUXK3Wvh7",
        "outputId": "f5c17c94-e3d3-4cce-f5d1-a46fae332308"
      },
      "source": [
        "four_hours = Hour(4)\n",
        "four_hours"
      ],
      "execution_count": 30,
      "outputs": [
        {
          "output_type": "execute_result",
          "data": {
            "text/plain": [
              "<4 * Hours>"
            ]
          },
          "metadata": {},
          "execution_count": 30
        }
      ]
    },
    {
      "cell_type": "code",
      "metadata": {
        "deletable": true,
        "editable": true,
        "colab": {
          "base_uri": "https://localhost:8080/"
        },
        "id": "no7GuJtxWvh8",
        "outputId": "47e92726-91f1-41bb-c28f-01d6dd2fadbf"
      },
      "source": [
        "ts = pd.date_range('2000-01-01', '2000-01-03 23:59', freq='4h')\n",
        "ts"
      ],
      "execution_count": 31,
      "outputs": [
        {
          "output_type": "execute_result",
          "data": {
            "text/plain": [
              "DatetimeIndex(['2000-01-01 00:00:00', '2000-01-01 04:00:00',\n",
              "               '2000-01-01 08:00:00', '2000-01-01 12:00:00',\n",
              "               '2000-01-01 16:00:00', '2000-01-01 20:00:00',\n",
              "               '2000-01-02 00:00:00', '2000-01-02 04:00:00',\n",
              "               '2000-01-02 08:00:00', '2000-01-02 12:00:00',\n",
              "               '2000-01-02 16:00:00', '2000-01-02 20:00:00',\n",
              "               '2000-01-03 00:00:00', '2000-01-03 04:00:00',\n",
              "               '2000-01-03 08:00:00', '2000-01-03 12:00:00',\n",
              "               '2000-01-03 16:00:00', '2000-01-03 20:00:00'],\n",
              "              dtype='datetime64[ns]', freq='4H')"
            ]
          },
          "metadata": {},
          "execution_count": 31
        }
      ]
    },
    {
      "cell_type": "code",
      "metadata": {
        "deletable": true,
        "editable": true,
        "colab": {
          "base_uri": "https://localhost:8080/"
        },
        "id": "rjcbFrfAWvh8",
        "outputId": "e518cb97-0862-4b97-a723-30c105bb81f7"
      },
      "source": [
        "ts+four_hours"
      ],
      "execution_count": 32,
      "outputs": [
        {
          "output_type": "execute_result",
          "data": {
            "text/plain": [
              "DatetimeIndex(['2000-01-01 04:00:00', '2000-01-01 08:00:00',\n",
              "               '2000-01-01 12:00:00', '2000-01-01 16:00:00',\n",
              "               '2000-01-01 20:00:00', '2000-01-02 00:00:00',\n",
              "               '2000-01-02 04:00:00', '2000-01-02 08:00:00',\n",
              "               '2000-01-02 12:00:00', '2000-01-02 16:00:00',\n",
              "               '2000-01-02 20:00:00', '2000-01-03 00:00:00',\n",
              "               '2000-01-03 04:00:00', '2000-01-03 08:00:00',\n",
              "               '2000-01-03 12:00:00', '2000-01-03 16:00:00',\n",
              "               '2000-01-03 20:00:00', '2000-01-04 00:00:00'],\n",
              "              dtype='datetime64[ns]', freq='4H')"
            ]
          },
          "metadata": {},
          "execution_count": 32
        }
      ]
    },
    {
      "cell_type": "code",
      "metadata": {
        "deletable": true,
        "editable": true,
        "id": "nga4-0I4Wvh9",
        "outputId": "5af3dd3c-078a-4919-d3db-b401a53c80c4",
        "colab": {
          "base_uri": "https://localhost:8080/"
        }
      },
      "source": [
        "ts + four_hours + Minute(3)"
      ],
      "execution_count": 33,
      "outputs": [
        {
          "output_type": "execute_result",
          "data": {
            "text/plain": [
              "DatetimeIndex(['2000-01-01 04:03:00', '2000-01-01 08:03:00',\n",
              "               '2000-01-01 12:03:00', '2000-01-01 16:03:00',\n",
              "               '2000-01-01 20:03:00', '2000-01-02 00:03:00',\n",
              "               '2000-01-02 04:03:00', '2000-01-02 08:03:00',\n",
              "               '2000-01-02 12:03:00', '2000-01-02 16:03:00',\n",
              "               '2000-01-02 20:03:00', '2000-01-03 00:03:00',\n",
              "               '2000-01-03 04:03:00', '2000-01-03 08:03:00',\n",
              "               '2000-01-03 12:03:00', '2000-01-03 16:03:00',\n",
              "               '2000-01-03 20:03:00', '2000-01-04 00:03:00'],\n",
              "              dtype='datetime64[ns]', freq='4H')"
            ]
          },
          "metadata": {},
          "execution_count": 33
        }
      ]
    },
    {
      "cell_type": "markdown",
      "metadata": {
        "deletable": true,
        "editable": true,
        "id": "xABbfDZtWvh_"
      },
      "source": [
        "## Time Zone Handling"
      ]
    },
    {
      "cell_type": "code",
      "metadata": {
        "deletable": true,
        "editable": true,
        "colab": {
          "base_uri": "https://localhost:8080/"
        },
        "id": "RM12ASGnWvh_",
        "outputId": "83d7e87a-6a02-4108-cd5a-c379fd2034d3"
      },
      "source": [
        "import pytz\n",
        "pytz.common_timezones[:10]"
      ],
      "execution_count": 38,
      "outputs": [
        {
          "output_type": "execute_result",
          "data": {
            "text/plain": [
              "['Africa/Abidjan',\n",
              " 'Africa/Accra',\n",
              " 'Africa/Addis_Ababa',\n",
              " 'Africa/Algiers',\n",
              " 'Africa/Asmara',\n",
              " 'Africa/Bamako',\n",
              " 'Africa/Bangui',\n",
              " 'Africa/Banjul',\n",
              " 'Africa/Bissau',\n",
              " 'Africa/Blantyre']"
            ]
          },
          "metadata": {},
          "execution_count": 38
        }
      ]
    },
    {
      "cell_type": "code",
      "metadata": {
        "deletable": true,
        "editable": true,
        "colab": {
          "base_uri": "https://localhost:8080/"
        },
        "id": "Q0zU5z3qWvh_",
        "outputId": "943c2526-7bda-4eb7-bf99-dbdea6c0eb69"
      },
      "source": [
        "tz = pytz.timezone('America/New_York')\n",
        "tz"
      ],
      "execution_count": 39,
      "outputs": [
        {
          "output_type": "execute_result",
          "data": {
            "text/plain": [
              "<DstTzInfo 'America/New_York' LMT-1 day, 19:04:00 STD>"
            ]
          },
          "metadata": {},
          "execution_count": 39
        }
      ]
    },
    {
      "cell_type": "markdown",
      "metadata": {
        "deletable": true,
        "editable": true,
        "id": "veutxCr-Wvh_"
      },
      "source": [
        "### Time Zone Localization and Conversion"
      ]
    },
    {
      "cell_type": "code",
      "metadata": {
        "deletable": true,
        "editable": true,
        "colab": {
          "base_uri": "https://localhost:8080/"
        },
        "id": "hnkoIMbKWvh_",
        "outputId": "350659b0-ed78-4cc5-de1f-4309c32ef2ad"
      },
      "source": [
        "rng = pd.date_range('3/9/2012 9:30', periods=6, freq='D')\n",
        "ts = pd.Series(np.random.randn(len(rng)), index=rng)\n",
        "ts"
      ],
      "execution_count": 40,
      "outputs": [
        {
          "output_type": "execute_result",
          "data": {
            "text/plain": [
              "2012-03-09 09:30:00   -0.162732\n",
              "2012-03-10 09:30:00    0.382577\n",
              "2012-03-11 09:30:00   -0.413857\n",
              "2012-03-12 09:30:00   -1.680880\n",
              "2012-03-13 09:30:00   -1.046378\n",
              "2012-03-14 09:30:00    0.118556\n",
              "Freq: D, dtype: float64"
            ]
          },
          "metadata": {},
          "execution_count": 40
        }
      ]
    },
    {
      "cell_type": "code",
      "metadata": {
        "deletable": true,
        "editable": true,
        "colab": {
          "base_uri": "https://localhost:8080/"
        },
        "id": "dO4yZ5yKWvh_",
        "outputId": "be5f1075-7f54-4c0f-e8fe-bd723c8c8978"
      },
      "source": [
        "print(ts.index.tz)"
      ],
      "execution_count": null,
      "outputs": [
        {
          "output_type": "stream",
          "text": [
            "None\n"
          ],
          "name": "stdout"
        }
      ]
    },
    {
      "cell_type": "code",
      "metadata": {
        "deletable": true,
        "editable": true,
        "colab": {
          "base_uri": "https://localhost:8080/"
        },
        "id": "iEvHDUC-Wvh_",
        "outputId": "d3dd5847-fe76-4a20-8620-dcbc9150b7c3"
      },
      "source": [
        "pd.date_range('3/9/2012 9:30', periods=10, freq='D', tz='UTC')"
      ],
      "execution_count": 41,
      "outputs": [
        {
          "output_type": "execute_result",
          "data": {
            "text/plain": [
              "DatetimeIndex(['2012-03-09 09:30:00+00:00', '2012-03-10 09:30:00+00:00',\n",
              "               '2012-03-11 09:30:00+00:00', '2012-03-12 09:30:00+00:00',\n",
              "               '2012-03-13 09:30:00+00:00', '2012-03-14 09:30:00+00:00',\n",
              "               '2012-03-15 09:30:00+00:00', '2012-03-16 09:30:00+00:00',\n",
              "               '2012-03-17 09:30:00+00:00', '2012-03-18 09:30:00+00:00'],\n",
              "              dtype='datetime64[ns, UTC]', freq='D')"
            ]
          },
          "metadata": {},
          "execution_count": 41
        }
      ]
    },
    {
      "cell_type": "code",
      "metadata": {
        "deletable": true,
        "editable": true,
        "colab": {
          "base_uri": "https://localhost:8080/"
        },
        "id": "aibQ2tUOWvh_",
        "outputId": "e513e11a-7e23-4834-8273-b4f8bbcd3847"
      },
      "source": [
        "ts\n",
        "ts_utc = ts.tz_localize('UTC')\n",
        "ts_utc\n"
      ],
      "execution_count": 44,
      "outputs": [
        {
          "output_type": "execute_result",
          "data": {
            "text/plain": [
              "2012-03-09 09:30:00+00:00   -0.162732\n",
              "2012-03-10 09:30:00+00:00    0.382577\n",
              "2012-03-11 09:30:00+00:00   -0.413857\n",
              "2012-03-12 09:30:00+00:00   -1.680880\n",
              "2012-03-13 09:30:00+00:00   -1.046378\n",
              "2012-03-14 09:30:00+00:00    0.118556\n",
              "Freq: D, dtype: float64"
            ]
          },
          "metadata": {},
          "execution_count": 44
        }
      ]
    },
    {
      "cell_type": "code",
      "metadata": {
        "deletable": true,
        "editable": true,
        "colab": {
          "base_uri": "https://localhost:8080/"
        },
        "id": "TM2w0QQoWvh_",
        "outputId": "bfab468b-db86-428f-b064-959eeb989a1f"
      },
      "source": [
        "ts_utc.tz_convert('America/New_York')"
      ],
      "execution_count": 43,
      "outputs": [
        {
          "output_type": "execute_result",
          "data": {
            "text/plain": [
              "2012-03-09 04:30:00-05:00   -0.162732\n",
              "2012-03-10 04:30:00-05:00    0.382577\n",
              "2012-03-11 05:30:00-04:00   -0.413857\n",
              "2012-03-12 05:30:00-04:00   -1.680880\n",
              "2012-03-13 05:30:00-04:00   -1.046378\n",
              "2012-03-14 05:30:00-04:00    0.118556\n",
              "Freq: D, dtype: float64"
            ]
          },
          "metadata": {},
          "execution_count": 43
        }
      ]
    },
    {
      "cell_type": "markdown",
      "metadata": {
        "deletable": true,
        "editable": true,
        "id": "2oHjnTn-WviA"
      },
      "source": [
        "### Operations with Time Zone−Aware Timestamp Objects"
      ]
    },
    {
      "cell_type": "code",
      "metadata": {
        "deletable": true,
        "editable": true,
        "id": "LjfPRuygWviA",
        "outputId": "1e38dcb7-13c4-45c5-c821-4b64eb98233c",
        "colab": {
          "base_uri": "https://localhost:8080/"
        }
      },
      "source": [
        "stamp = pd.Timestamp('2011-03-12 04:00')\n",
        "stamp_utc = stamp.tz_localize('utc')\n",
        "stamp_utc.tz_convert('America/New_York')"
      ],
      "execution_count": 45,
      "outputs": [
        {
          "output_type": "execute_result",
          "data": {
            "text/plain": [
              "Timestamp('2011-03-11 23:00:00-0500', tz='America/New_York')"
            ]
          },
          "metadata": {},
          "execution_count": 45
        }
      ]
    },
    {
      "cell_type": "code",
      "metadata": {
        "deletable": true,
        "editable": true,
        "id": "4ChRd_VoWviA",
        "outputId": "28f35efc-6e38-4ace-8c23-adde000bc235",
        "colab": {
          "base_uri": "https://localhost:8080/"
        }
      },
      "source": [
        "stamp_moscow = pd.Timestamp('2011-03-12 04:00', tz='Europe/Moscow')\n",
        "stamp_moscow"
      ],
      "execution_count": 46,
      "outputs": [
        {
          "output_type": "execute_result",
          "data": {
            "text/plain": [
              "Timestamp('2011-03-12 04:00:00+0300', tz='Europe/Moscow')"
            ]
          },
          "metadata": {},
          "execution_count": 46
        }
      ]
    },
    {
      "cell_type": "code",
      "metadata": {
        "deletable": true,
        "editable": true,
        "id": "L4l4oex5WviA",
        "outputId": "a002c99d-f744-4277-dd51-740a1168d8a7",
        "colab": {
          "base_uri": "https://localhost:8080/"
        }
      },
      "source": [
        "stamp_utc.value\n",
        "stamp_utc.tz_convert('America/New_York').value"
      ],
      "execution_count": 47,
      "outputs": [
        {
          "output_type": "execute_result",
          "data": {
            "text/plain": [
              "1299902400000000000"
            ]
          },
          "metadata": {},
          "execution_count": 47
        }
      ]
    },
    {
      "cell_type": "code",
      "metadata": {
        "deletable": true,
        "editable": true,
        "id": "JbDq8JPDWviA",
        "outputId": "7b550975-cd97-4b18-a812-0c5905b080d5",
        "colab": {
          "base_uri": "https://localhost:8080/"
        }
      },
      "source": [
        "from pandas.tseries.offsets import Hour\n",
        "stamp = pd.Timestamp('2012-03-12 01:30', tz='US/Eastern')\n",
        "stamp\n",
        "stamp + Hour()"
      ],
      "execution_count": 48,
      "outputs": [
        {
          "output_type": "execute_result",
          "data": {
            "text/plain": [
              "Timestamp('2012-03-12 02:30:00-0400', tz='US/Eastern')"
            ]
          },
          "metadata": {},
          "execution_count": 48
        }
      ]
    },
    {
      "cell_type": "code",
      "metadata": {
        "deletable": true,
        "editable": true,
        "id": "SURAn19rWviA",
        "outputId": "e9965bd9-297f-4ca9-cb56-e018250447a1",
        "colab": {
          "base_uri": "https://localhost:8080/"
        }
      },
      "source": [
        "stamp = pd.Timestamp('2012-11-04 00:30', tz='US/Eastern')\n",
        "stamp\n",
        "stamp + 2 * Hour()"
      ],
      "execution_count": 49,
      "outputs": [
        {
          "output_type": "execute_result",
          "data": {
            "text/plain": [
              "Timestamp('2012-11-04 01:30:00-0500', tz='US/Eastern')"
            ]
          },
          "metadata": {},
          "execution_count": 49
        }
      ]
    },
    {
      "cell_type": "markdown",
      "metadata": {
        "deletable": true,
        "editable": true,
        "id": "1iaoKAUpWviB"
      },
      "source": [
        "## Periods and Period Arithmetic"
      ]
    },
    {
      "cell_type": "code",
      "metadata": {
        "deletable": true,
        "editable": true,
        "colab": {
          "base_uri": "https://localhost:8080/"
        },
        "id": "D1v0IzfFWviB",
        "outputId": "625165ac-8549-44b5-9622-32619b7947a4"
      },
      "source": [
        "rng = pd.period_range('2000-01-01', '2000-06-30', freq='M')\n",
        "rng"
      ],
      "execution_count": 50,
      "outputs": [
        {
          "output_type": "execute_result",
          "data": {
            "text/plain": [
              "PeriodIndex(['2000-01', '2000-02', '2000-03', '2000-04', '2000-05', '2000-06'], dtype='period[M]', freq='M')"
            ]
          },
          "metadata": {},
          "execution_count": 50
        }
      ]
    },
    {
      "cell_type": "code",
      "metadata": {
        "deletable": true,
        "editable": true,
        "colab": {
          "base_uri": "https://localhost:8080/"
        },
        "id": "d9Pvck97WviB",
        "outputId": "88b195df-8f48-456c-cccd-ea378b8f9d3f"
      },
      "source": [
        "pd.Series(np.random.randn(6), index=rng)"
      ],
      "execution_count": 51,
      "outputs": [
        {
          "output_type": "execute_result",
          "data": {
            "text/plain": [
              "2000-01    0.085922\n",
              "2000-02    1.884256\n",
              "2000-03   -0.991876\n",
              "2000-04    0.086399\n",
              "2000-05    1.427486\n",
              "2000-06    1.160591\n",
              "Freq: M, dtype: float64"
            ]
          },
          "metadata": {},
          "execution_count": 51
        }
      ]
    },
    {
      "cell_type": "code",
      "metadata": {
        "deletable": true,
        "editable": true,
        "colab": {
          "base_uri": "https://localhost:8080/"
        },
        "id": "j90X5ZtzWviB",
        "outputId": "316f898d-f8f8-4017-c2bf-b79f6e3f3452"
      },
      "source": [
        "values = ['2001Q3', '2002Q2', '2003Q1']\n",
        "index = pd.PeriodIndex(values, freq='Q-DEC')\n",
        "index"
      ],
      "execution_count": 52,
      "outputs": [
        {
          "output_type": "execute_result",
          "data": {
            "text/plain": [
              "PeriodIndex(['2001Q3', '2002Q2', '2003Q1'], dtype='period[Q-DEC]', freq='Q-DEC')"
            ]
          },
          "metadata": {},
          "execution_count": 52
        }
      ]
    },
    {
      "cell_type": "markdown",
      "metadata": {
        "deletable": true,
        "editable": true,
        "id": "vHdBKgMLWviC"
      },
      "source": [
        "### Converting Timestamps to Periods (and Back)"
      ]
    },
    {
      "cell_type": "code",
      "metadata": {
        "deletable": true,
        "editable": true,
        "colab": {
          "base_uri": "https://localhost:8080/"
        },
        "id": "av1mF6FjWviC",
        "outputId": "7412d182-384d-416b-db4f-85a8eeb081cb"
      },
      "source": [
        "rng = pd.date_range('1/29/2000', periods=6, freq='D')\n",
        "ts2 = pd.Series(np.random.randn(6), index=rng)\n",
        "ts2\n"
      ],
      "execution_count": null,
      "outputs": [
        {
          "output_type": "execute_result",
          "data": {
            "text/plain": [
              "2000-01-29    0.818630\n",
              "2000-01-30   -0.478903\n",
              "2000-01-31    1.474002\n",
              "2000-02-01   -1.010244\n",
              "2000-02-02   -1.380709\n",
              "2000-02-03    0.561331\n",
              "Freq: D, dtype: float64"
            ]
          },
          "metadata": {
            "tags": []
          },
          "execution_count": 77
        }
      ]
    },
    {
      "cell_type": "code",
      "metadata": {
        "deletable": true,
        "editable": true,
        "colab": {
          "base_uri": "https://localhost:8080/"
        },
        "id": "XMGaG05xWviC",
        "outputId": "bda8baf3-d807-472e-e7a3-784ad83fed94"
      },
      "source": [
        "pts = ts2.to_period('M')\n",
        "pts\n"
      ],
      "execution_count": null,
      "outputs": [
        {
          "output_type": "execute_result",
          "data": {
            "text/plain": [
              "2000-01    0.818630\n",
              "2000-01   -0.478903\n",
              "2000-01    1.474002\n",
              "2000-02   -1.010244\n",
              "2000-02   -1.380709\n",
              "2000-02    0.561331\n",
              "Freq: M, dtype: float64"
            ]
          },
          "metadata": {
            "tags": []
          },
          "execution_count": 78
        }
      ]
    },
    {
      "cell_type": "code",
      "metadata": {
        "colab": {
          "base_uri": "https://localhost:8080/"
        },
        "id": "t_WLtsLZirJE",
        "outputId": "c778753e-8336-4bc6-fb62-dd9e7ae91593"
      },
      "source": [
        "pts.to_timestamp(how='end')"
      ],
      "execution_count": null,
      "outputs": [
        {
          "output_type": "execute_result",
          "data": {
            "text/plain": [
              "2000-01-31 23:59:59.999999999    0.818630\n",
              "2000-01-31 23:59:59.999999999   -0.478903\n",
              "2000-01-31 23:59:59.999999999    1.474002\n",
              "2000-02-29 23:59:59.999999999   -1.010244\n",
              "2000-02-29 23:59:59.999999999   -1.380709\n",
              "2000-02-29 23:59:59.999999999    0.561331\n",
              "dtype: float64"
            ]
          },
          "metadata": {
            "tags": []
          },
          "execution_count": 82
        }
      ]
    },
    {
      "cell_type": "code",
      "metadata": {
        "id": "-YIgOGGAi5li"
      },
      "source": [
        ""
      ],
      "execution_count": null,
      "outputs": []
    }
  ]
}