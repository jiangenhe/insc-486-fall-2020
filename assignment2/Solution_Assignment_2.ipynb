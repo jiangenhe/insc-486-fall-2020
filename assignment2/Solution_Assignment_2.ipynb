{
  "nbformat": 4,
  "nbformat_minor": 0,
  "metadata": {
    "anaconda-cloud": {},
    "kernelspec": {
      "display_name": "Python [default]",
      "language": "python",
      "name": "python2"
    },
    "language_info": {
      "codemirror_mode": {
        "name": "ipython",
        "version": 2
      },
      "file_extension": ".py",
      "mimetype": "text/x-python",
      "name": "python",
      "nbconvert_exporter": "python",
      "pygments_lexer": "ipython2",
      "version": "2.7.12"
    },
    "colab": {
      "name": "Solution - Assignment 2.ipynb",
      "provenance": [],
      "collapsed_sections": [],
      "include_colab_link": true
    }
  },
  "cells": [
    {
      "cell_type": "markdown",
      "metadata": {
        "id": "view-in-github",
        "colab_type": "text"
      },
      "source": [
        "<a href=\"https://colab.research.google.com/github/jiangenhe/insc-486-2021-spring/blob/main/assignment2/Solution_Assignment_2.ipynb\" target=\"_parent\"><img src=\"https://colab.research.google.com/assets/colab-badge.svg\" alt=\"Open In Colab\"/></a>"
      ]
    },
    {
      "cell_type": "markdown",
      "metadata": {
        "id": "nm-6L0xuEoXQ"
      },
      "source": [
        "# INSC 486 - Assignment 2\n",
        "\n",
        "- Due: Feburary 26, Friday, 11:59 pm\n",
        "- Submit your Colab link or ipynb file through Canvas\n",
        "- This assignment is worth 100 points that accounts for 10% of your final grade.\n",
        "- All the datasets are available on Canvas.\n",
        "- **Code efficiency will be considered in grading.**\n",
        "\n",
        "Learning Objectives:\n",
        "- Clean data\n",
        "- Combine and merge datasets\n",
        "- String manipulation\n",
        "- Practice your pandas skills"
      ]
    },
    {
      "cell_type": "markdown",
      "metadata": {
        "id": "RdB58f2PQxBV"
      },
      "source": [
        "## Part 1 Auto MPG Data (30%)\n",
        "The following exercise utilizes data from UC Irvine Machine Learning Repository. You can learn more about the dataset by [the link](https://archive.ics.uci.edu/ml/datasets/Auto+MPG)."
      ]
    },
    {
      "cell_type": "markdown",
      "metadata": {
        "id": "-dvbfYa3E2oT"
      },
      "source": [
        "### Step 1. Import the pandas and NumPy libraries"
      ]
    },
    {
      "cell_type": "code",
      "metadata": {
        "id": "6RVufE0yEoXQ"
      },
      "source": [
        "import numpy as np\n",
        "import pandas as pd"
      ],
      "execution_count": null,
      "outputs": []
    },
    {
      "cell_type": "markdown",
      "metadata": {
        "id": "CmHiINsFEoXR"
      },
      "source": [
        "### Step 2. Import dataset cars1.csv to DataFrame cars1\n",
        "You can load the dataset by the following URL without downloading the data.\n",
        "\n",
        "https://raw.githubusercontent.com/jiangenhe/insc-486-2021-spring/main/assignment2/cars2.csv\n",
        "\n",
        "pandas.read_csv can csv from any valid string path. The string could be a URL. Valid URL schemes include http, ftp, s3, gs, and file. For file URLs, a host is expected.\n",
        "\n"
      ]
    },
    {
      "cell_type": "code",
      "metadata": {
        "id": "00ZxO665EhN-",
        "colab": {
          "base_uri": "https://localhost:8080/",
          "height": 204
        },
        "outputId": "4e9c8ac4-7023-44af-e076-0aeb05589165"
      },
      "source": [
        "\n",
        "car1 = pd.read_csv(\"https://raw.githubusercontent.com/jiangenhe/insc-486-2021-spring/main/assignment2/cars1.csv\")\n",
        "car1.head()"
      ],
      "execution_count": null,
      "outputs": [
        {
          "output_type": "execute_result",
          "data": {
            "text/plain": [
              "    mpg  cylinders  displacement horsepower  weight  acceleration  model  \\\n",
              "0  18.0        8.0         307.0        130    3504          12.0     70   \n",
              "1  15.0        8.0         350.0        165    3693          11.5     70   \n",
              "2  18.0        8.0         318.0        150    3436          11.0     70   \n",
              "3  16.0        8.0         304.0        150    3433          12.0     70   \n",
              "4  17.0        8.0         302.0        140    3449          10.5     70   \n",
              "\n",
              "   origin                        car  Unnamed: 9  Unnamed: 10  Unnamed: 11  \\\n",
              "0       1  chevrolet chevelle malibu         NaN          NaN          NaN   \n",
              "1       1          buick skylark 320         NaN          NaN          NaN   \n",
              "2       1         plymouth satellite         NaN          NaN          NaN   \n",
              "3       1              amc rebel sst         NaN          NaN          NaN   \n",
              "4       1                ford torino         NaN          NaN          NaN   \n",
              "\n",
              "   Unnamed: 12  Unnamed: 13  \n",
              "0          NaN          NaN  \n",
              "1          NaN          NaN  \n",
              "2          NaN          NaN  \n",
              "3          NaN          NaN  \n",
              "4          NaN          NaN  "
            ],
            "text/html": [
              "<div>\n",
              "<style scoped>\n",
              "    .dataframe tbody tr th:only-of-type {\n",
              "        vertical-align: middle;\n",
              "    }\n",
              "\n",
              "    .dataframe tbody tr th {\n",
              "        vertical-align: top;\n",
              "    }\n",
              "\n",
              "    .dataframe thead th {\n",
              "        text-align: right;\n",
              "    }\n",
              "</style>\n",
              "<table border=\"1\" class=\"dataframe\">\n",
              "  <thead>\n",
              "    <tr style=\"text-align: right;\">\n",
              "      <th></th>\n",
              "      <th>mpg</th>\n",
              "      <th>cylinders</th>\n",
              "      <th>displacement</th>\n",
              "      <th>horsepower</th>\n",
              "      <th>weight</th>\n",
              "      <th>acceleration</th>\n",
              "      <th>model</th>\n",
              "      <th>origin</th>\n",
              "      <th>car</th>\n",
              "      <th>Unnamed: 9</th>\n",
              "      <th>Unnamed: 10</th>\n",
              "      <th>Unnamed: 11</th>\n",
              "      <th>Unnamed: 12</th>\n",
              "      <th>Unnamed: 13</th>\n",
              "    </tr>\n",
              "  </thead>\n",
              "  <tbody>\n",
              "    <tr>\n",
              "      <th>0</th>\n",
              "      <td>18.0</td>\n",
              "      <td>8.0</td>\n",
              "      <td>307.0</td>\n",
              "      <td>130</td>\n",
              "      <td>3504</td>\n",
              "      <td>12.0</td>\n",
              "      <td>70</td>\n",
              "      <td>1</td>\n",
              "      <td>chevrolet chevelle malibu</td>\n",
              "      <td>NaN</td>\n",
              "      <td>NaN</td>\n",
              "      <td>NaN</td>\n",
              "      <td>NaN</td>\n",
              "      <td>NaN</td>\n",
              "    </tr>\n",
              "    <tr>\n",
              "      <th>1</th>\n",
              "      <td>15.0</td>\n",
              "      <td>8.0</td>\n",
              "      <td>350.0</td>\n",
              "      <td>165</td>\n",
              "      <td>3693</td>\n",
              "      <td>11.5</td>\n",
              "      <td>70</td>\n",
              "      <td>1</td>\n",
              "      <td>buick skylark 320</td>\n",
              "      <td>NaN</td>\n",
              "      <td>NaN</td>\n",
              "      <td>NaN</td>\n",
              "      <td>NaN</td>\n",
              "      <td>NaN</td>\n",
              "    </tr>\n",
              "    <tr>\n",
              "      <th>2</th>\n",
              "      <td>18.0</td>\n",
              "      <td>8.0</td>\n",
              "      <td>318.0</td>\n",
              "      <td>150</td>\n",
              "      <td>3436</td>\n",
              "      <td>11.0</td>\n",
              "      <td>70</td>\n",
              "      <td>1</td>\n",
              "      <td>plymouth satellite</td>\n",
              "      <td>NaN</td>\n",
              "      <td>NaN</td>\n",
              "      <td>NaN</td>\n",
              "      <td>NaN</td>\n",
              "      <td>NaN</td>\n",
              "    </tr>\n",
              "    <tr>\n",
              "      <th>3</th>\n",
              "      <td>16.0</td>\n",
              "      <td>8.0</td>\n",
              "      <td>304.0</td>\n",
              "      <td>150</td>\n",
              "      <td>3433</td>\n",
              "      <td>12.0</td>\n",
              "      <td>70</td>\n",
              "      <td>1</td>\n",
              "      <td>amc rebel sst</td>\n",
              "      <td>NaN</td>\n",
              "      <td>NaN</td>\n",
              "      <td>NaN</td>\n",
              "      <td>NaN</td>\n",
              "      <td>NaN</td>\n",
              "    </tr>\n",
              "    <tr>\n",
              "      <th>4</th>\n",
              "      <td>17.0</td>\n",
              "      <td>8.0</td>\n",
              "      <td>302.0</td>\n",
              "      <td>140</td>\n",
              "      <td>3449</td>\n",
              "      <td>10.5</td>\n",
              "      <td>70</td>\n",
              "      <td>1</td>\n",
              "      <td>ford torino</td>\n",
              "      <td>NaN</td>\n",
              "      <td>NaN</td>\n",
              "      <td>NaN</td>\n",
              "      <td>NaN</td>\n",
              "      <td>NaN</td>\n",
              "    </tr>\n",
              "  </tbody>\n",
              "</table>\n",
              "</div>"
            ]
          },
          "metadata": {
            "tags": []
          },
          "execution_count": 15
        }
      ]
    },
    {
      "cell_type": "markdown",
      "metadata": {
        "id": "CuQ6dNIDGZIQ"
      },
      "source": [
        "### Step 3. car1 dataset has some unnamed blank columns. Fix cars1 dataset by removing these blank columns."
      ]
    },
    {
      "cell_type": "code",
      "metadata": {
        "colab": {
          "base_uri": "https://localhost:8080/"
        },
        "id": "8NOGlIlF9BAR",
        "outputId": "b805f475-8d86-4ddb-a9f7-a9d0ffeb64ae"
      },
      "source": [
        "car1.dropna(how='all', axis=1).shape"
      ],
      "execution_count": null,
      "outputs": [
        {
          "output_type": "execute_result",
          "data": {
            "text/plain": [
              "(198, 9)"
            ]
          },
          "metadata": {
            "tags": []
          },
          "execution_count": 10
        }
      ]
    },
    {
      "cell_type": "code",
      "metadata": {
        "id": "ToW3pJ3zG4uH"
      },
      "source": [
        "car1 = car1.loc[:, 'mpg':'car']"
      ],
      "execution_count": null,
      "outputs": []
    },
    {
      "cell_type": "markdown",
      "metadata": {
        "id": "_tY0J3B-EoXR"
      },
      "source": [
        "   ### Step 4. Supposing clyinder is critical information in your analysis, so you need to remove rows where cylinder column is NaN"
      ]
    },
    {
      "cell_type": "code",
      "metadata": {
        "id": "Qk2XQLaGEoXR"
      },
      "source": [
        "car1.dropna(subset=['cylinders'], inplace=True)"
      ],
      "execution_count": null,
      "outputs": []
    },
    {
      "cell_type": "markdown",
      "metadata": {
        "id": "srhMoFeBEoXS"
      },
      "source": [
        "### Step 5. Use the mean of displacement to fill NaN in displayment column."
      ]
    },
    {
      "cell_type": "code",
      "metadata": {
        "id": "pkwb4ZXFEoXT"
      },
      "source": [
        "car1['displacement'].fillna(car1['displacement'].mean(), inplace=True)"
      ],
      "execution_count": null,
      "outputs": []
    },
    {
      "cell_type": "markdown",
      "metadata": {
        "id": "Mo-qM7EYEoXT"
      },
      "source": [
        "### Step 6. Join cars1 and cars2 into a single DataFrame called cars\n",
        "\n",
        "cars2: https://raw.githubusercontent.com/jiangenhe/insc-486-2021-spring/main/assignment2/cars2.csv"
      ]
    },
    {
      "cell_type": "code",
      "metadata": {
        "id": "U1Bui1mCEoXT"
      },
      "source": [
        "car2 = pd.read_csv(\"https://raw.githubusercontent.com/jiangenhe/insc-486-2021-spring/main/assignment2/cars2.csv\")\n"
      ],
      "execution_count": null,
      "outputs": []
    },
    {
      "cell_type": "code",
      "metadata": {
        "colab": {
          "base_uri": "https://localhost:8080/",
          "height": 204
        },
        "id": "5CI-Leps_mDY",
        "outputId": "c9e6c2a1-47af-47b5-9e09-97f3384bac01"
      },
      "source": [
        "car = car1.append(car2)\n",
        "car.head()"
      ],
      "execution_count": null,
      "outputs": [
        {
          "output_type": "execute_result",
          "data": {
            "text/plain": [
              "    mpg  cylinders  displacement horsepower  weight  acceleration  model  \\\n",
              "0  18.0        8.0         307.0        130    3504          12.0     70   \n",
              "1  15.0        8.0         350.0        165    3693          11.5     70   \n",
              "2  18.0        8.0         318.0        150    3436          11.0     70   \n",
              "3  16.0        8.0         304.0        150    3433          12.0     70   \n",
              "4  17.0        8.0         302.0        140    3449          10.5     70   \n",
              "\n",
              "   origin                        car  \n",
              "0       1  chevrolet chevelle malibu  \n",
              "1       1          buick skylark 320  \n",
              "2       1         plymouth satellite  \n",
              "3       1              amc rebel sst  \n",
              "4       1                ford torino  "
            ],
            "text/html": [
              "<div>\n",
              "<style scoped>\n",
              "    .dataframe tbody tr th:only-of-type {\n",
              "        vertical-align: middle;\n",
              "    }\n",
              "\n",
              "    .dataframe tbody tr th {\n",
              "        vertical-align: top;\n",
              "    }\n",
              "\n",
              "    .dataframe thead th {\n",
              "        text-align: right;\n",
              "    }\n",
              "</style>\n",
              "<table border=\"1\" class=\"dataframe\">\n",
              "  <thead>\n",
              "    <tr style=\"text-align: right;\">\n",
              "      <th></th>\n",
              "      <th>mpg</th>\n",
              "      <th>cylinders</th>\n",
              "      <th>displacement</th>\n",
              "      <th>horsepower</th>\n",
              "      <th>weight</th>\n",
              "      <th>acceleration</th>\n",
              "      <th>model</th>\n",
              "      <th>origin</th>\n",
              "      <th>car</th>\n",
              "    </tr>\n",
              "  </thead>\n",
              "  <tbody>\n",
              "    <tr>\n",
              "      <th>0</th>\n",
              "      <td>18.0</td>\n",
              "      <td>8.0</td>\n",
              "      <td>307.0</td>\n",
              "      <td>130</td>\n",
              "      <td>3504</td>\n",
              "      <td>12.0</td>\n",
              "      <td>70</td>\n",
              "      <td>1</td>\n",
              "      <td>chevrolet chevelle malibu</td>\n",
              "    </tr>\n",
              "    <tr>\n",
              "      <th>1</th>\n",
              "      <td>15.0</td>\n",
              "      <td>8.0</td>\n",
              "      <td>350.0</td>\n",
              "      <td>165</td>\n",
              "      <td>3693</td>\n",
              "      <td>11.5</td>\n",
              "      <td>70</td>\n",
              "      <td>1</td>\n",
              "      <td>buick skylark 320</td>\n",
              "    </tr>\n",
              "    <tr>\n",
              "      <th>2</th>\n",
              "      <td>18.0</td>\n",
              "      <td>8.0</td>\n",
              "      <td>318.0</td>\n",
              "      <td>150</td>\n",
              "      <td>3436</td>\n",
              "      <td>11.0</td>\n",
              "      <td>70</td>\n",
              "      <td>1</td>\n",
              "      <td>plymouth satellite</td>\n",
              "    </tr>\n",
              "    <tr>\n",
              "      <th>3</th>\n",
              "      <td>16.0</td>\n",
              "      <td>8.0</td>\n",
              "      <td>304.0</td>\n",
              "      <td>150</td>\n",
              "      <td>3433</td>\n",
              "      <td>12.0</td>\n",
              "      <td>70</td>\n",
              "      <td>1</td>\n",
              "      <td>amc rebel sst</td>\n",
              "    </tr>\n",
              "    <tr>\n",
              "      <th>4</th>\n",
              "      <td>17.0</td>\n",
              "      <td>8.0</td>\n",
              "      <td>302.0</td>\n",
              "      <td>140</td>\n",
              "      <td>3449</td>\n",
              "      <td>10.5</td>\n",
              "      <td>70</td>\n",
              "      <td>1</td>\n",
              "      <td>ford torino</td>\n",
              "    </tr>\n",
              "  </tbody>\n",
              "</table>\n",
              "</div>"
            ]
          },
          "metadata": {
            "tags": []
          },
          "execution_count": 26
        }
      ]
    },
    {
      "cell_type": "markdown",
      "metadata": {
        "id": "2xUvbIMFEoXT"
      },
      "source": [
        "### Step 7. What is the number of observations in each dataset?"
      ]
    },
    {
      "cell_type": "code",
      "metadata": {
        "id": "sKFRmy_bEoXU",
        "colab": {
          "base_uri": "https://localhost:8080/"
        },
        "outputId": "bba892b2-5a66-495b-edfb-3d7578292776"
      },
      "source": [
        "len(car)"
      ],
      "execution_count": null,
      "outputs": [
        {
          "output_type": "execute_result",
          "data": {
            "text/plain": [
              "395"
            ]
          },
          "metadata": {
            "tags": []
          },
          "execution_count": 28
        }
      ]
    },
    {
      "cell_type": "code",
      "metadata": {
        "colab": {
          "base_uri": "https://localhost:8080/"
        },
        "id": "pSWugy71ALmd",
        "outputId": "bb93049b-40b8-4f18-94c6-01fb5a80fe74"
      },
      "source": [
        "car.shape[0]"
      ],
      "execution_count": null,
      "outputs": [
        {
          "output_type": "execute_result",
          "data": {
            "text/plain": [
              "395"
            ]
          },
          "metadata": {
            "tags": []
          },
          "execution_count": 30
        }
      ]
    },
    {
      "cell_type": "markdown",
      "metadata": {
        "id": "gdJACq-7T8lm"
      },
      "source": [
        "## Part 2 Merge datasets (25%)"
      ]
    },
    {
      "cell_type": "markdown",
      "metadata": {
        "id": "Jl85sbxeUSfV"
      },
      "source": [
        "### Step 1. Import pandas"
      ]
    },
    {
      "cell_type": "code",
      "metadata": {
        "id": "CS0kfHpgUSfV"
      },
      "source": [
        ""
      ],
      "execution_count": null,
      "outputs": []
    },
    {
      "cell_type": "markdown",
      "metadata": {
        "id": "1Smjyt0AUSfW"
      },
      "source": [
        "### Step 2. Create the 3 DataFrames based on the following raw data and assign each to a variable called data1, data2, data3"
      ]
    },
    {
      "cell_type": "code",
      "metadata": {
        "collapsed": true,
        "id": "kqhO3tMuUSfW"
      },
      "source": [
        "raw_data_1 = {\n",
        "        'subject_id': ['1', '2', '3', '4', '5'],\n",
        "        'first_name': ['Alex', 'Amy', 'Allen', 'Alice', 'Ayoung'], \n",
        "        'last_name': ['Anderson', 'Ackerman', 'Ali', 'Aoni', 'Atiches']}\n",
        "\n",
        "raw_data_2 = {\n",
        "        'subject_id': ['4', '5', '6', '7', '8'],\n",
        "        'first_name': ['Billy', 'Brian', 'Bran', 'Bryce', 'Betty'], \n",
        "        'last_name': ['Bonder', 'Black', 'Balwner', 'Brice', 'Btisan']}\n",
        "\n",
        "raw_data_3 = {\n",
        "        'subject_id': ['1', '2', '3', '4', '5', '7', '8', '9', '10', '11'],\n",
        "        'test_id': [51, 15, 15, 61, 16, 14, 15, 1, 61, 16]}\n",
        "\n",
        "data1=pd.DataFrame(raw_data_1)\n",
        "data2=pd.DataFrame(raw_data_2)\n",
        "data3=pd.DataFrame(raw_data_3)"
      ],
      "execution_count": null,
      "outputs": []
    },
    {
      "cell_type": "markdown",
      "metadata": {
        "id": "ymf-bv1AUSfX"
      },
      "source": [
        "### Step 3. Concatenate the two dataframes along rows and assign to varialbe called all"
      ]
    },
    {
      "cell_type": "code",
      "metadata": {
        "id": "z_IAl-9ZUSfX",
        "colab": {
          "base_uri": "https://localhost:8080/",
          "height": 359
        },
        "outputId": "ceafad84-cf83-472b-f2db-468ca83ed3d4"
      },
      "source": [
        "all = pd.concat([data1, data2])\n",
        "all"
      ],
      "execution_count": null,
      "outputs": [
        {
          "output_type": "execute_result",
          "data": {
            "text/plain": [
              "  first_name last_name subject_id\n",
              "0       Alex  Anderson          1\n",
              "1        Amy  Ackerman          2\n",
              "2      Allen       Ali          3\n",
              "3      Alice      Aoni          4\n",
              "4     Ayoung   Atiches          5\n",
              "0      Billy    Bonder          4\n",
              "1      Brian     Black          5\n",
              "2       Bran   Balwner          6\n",
              "3      Bryce     Brice          7\n",
              "4      Betty    Btisan          8"
            ],
            "text/html": [
              "<div>\n",
              "<style scoped>\n",
              "    .dataframe tbody tr th:only-of-type {\n",
              "        vertical-align: middle;\n",
              "    }\n",
              "\n",
              "    .dataframe tbody tr th {\n",
              "        vertical-align: top;\n",
              "    }\n",
              "\n",
              "    .dataframe thead th {\n",
              "        text-align: right;\n",
              "    }\n",
              "</style>\n",
              "<table border=\"1\" class=\"dataframe\">\n",
              "  <thead>\n",
              "    <tr style=\"text-align: right;\">\n",
              "      <th></th>\n",
              "      <th>first_name</th>\n",
              "      <th>last_name</th>\n",
              "      <th>subject_id</th>\n",
              "    </tr>\n",
              "  </thead>\n",
              "  <tbody>\n",
              "    <tr>\n",
              "      <th>0</th>\n",
              "      <td>Alex</td>\n",
              "      <td>Anderson</td>\n",
              "      <td>1</td>\n",
              "    </tr>\n",
              "    <tr>\n",
              "      <th>1</th>\n",
              "      <td>Amy</td>\n",
              "      <td>Ackerman</td>\n",
              "      <td>2</td>\n",
              "    </tr>\n",
              "    <tr>\n",
              "      <th>2</th>\n",
              "      <td>Allen</td>\n",
              "      <td>Ali</td>\n",
              "      <td>3</td>\n",
              "    </tr>\n",
              "    <tr>\n",
              "      <th>3</th>\n",
              "      <td>Alice</td>\n",
              "      <td>Aoni</td>\n",
              "      <td>4</td>\n",
              "    </tr>\n",
              "    <tr>\n",
              "      <th>4</th>\n",
              "      <td>Ayoung</td>\n",
              "      <td>Atiches</td>\n",
              "      <td>5</td>\n",
              "    </tr>\n",
              "    <tr>\n",
              "      <th>0</th>\n",
              "      <td>Billy</td>\n",
              "      <td>Bonder</td>\n",
              "      <td>4</td>\n",
              "    </tr>\n",
              "    <tr>\n",
              "      <th>1</th>\n",
              "      <td>Brian</td>\n",
              "      <td>Black</td>\n",
              "      <td>5</td>\n",
              "    </tr>\n",
              "    <tr>\n",
              "      <th>2</th>\n",
              "      <td>Bran</td>\n",
              "      <td>Balwner</td>\n",
              "      <td>6</td>\n",
              "    </tr>\n",
              "    <tr>\n",
              "      <th>3</th>\n",
              "      <td>Bryce</td>\n",
              "      <td>Brice</td>\n",
              "      <td>7</td>\n",
              "    </tr>\n",
              "    <tr>\n",
              "      <th>4</th>\n",
              "      <td>Betty</td>\n",
              "      <td>Btisan</td>\n",
              "      <td>8</td>\n",
              "    </tr>\n",
              "  </tbody>\n",
              "</table>\n",
              "</div>"
            ]
          },
          "metadata": {
            "tags": []
          },
          "execution_count": 36
        }
      ]
    },
    {
      "cell_type": "markdown",
      "metadata": {
        "id": "SHpz3xmMUSfX"
      },
      "source": [
        "### Step 4. Concatenate the two dataframes along columns and assign to variable called all_col"
      ]
    },
    {
      "cell_type": "code",
      "metadata": {
        "id": "qV64HbtLUSfY",
        "colab": {
          "base_uri": "https://localhost:8080/",
          "height": 204
        },
        "outputId": "7c2e38b7-66eb-4253-f65b-f86960bae63c"
      },
      "source": [
        "all_col = pd.concat([data1, data2], axis=1)"
      ],
      "execution_count": null,
      "outputs": [
        {
          "output_type": "execute_result",
          "data": {
            "text/plain": [
              "  first_name last_name subject_id first_name last_name subject_id\n",
              "0       Alex  Anderson          1      Billy    Bonder          4\n",
              "1        Amy  Ackerman          2      Brian     Black          5\n",
              "2      Allen       Ali          3       Bran   Balwner          6\n",
              "3      Alice      Aoni          4      Bryce     Brice          7\n",
              "4     Ayoung   Atiches          5      Betty    Btisan          8"
            ],
            "text/html": [
              "<div>\n",
              "<style scoped>\n",
              "    .dataframe tbody tr th:only-of-type {\n",
              "        vertical-align: middle;\n",
              "    }\n",
              "\n",
              "    .dataframe tbody tr th {\n",
              "        vertical-align: top;\n",
              "    }\n",
              "\n",
              "    .dataframe thead th {\n",
              "        text-align: right;\n",
              "    }\n",
              "</style>\n",
              "<table border=\"1\" class=\"dataframe\">\n",
              "  <thead>\n",
              "    <tr style=\"text-align: right;\">\n",
              "      <th></th>\n",
              "      <th>first_name</th>\n",
              "      <th>last_name</th>\n",
              "      <th>subject_id</th>\n",
              "      <th>first_name</th>\n",
              "      <th>last_name</th>\n",
              "      <th>subject_id</th>\n",
              "    </tr>\n",
              "  </thead>\n",
              "  <tbody>\n",
              "    <tr>\n",
              "      <th>0</th>\n",
              "      <td>Alex</td>\n",
              "      <td>Anderson</td>\n",
              "      <td>1</td>\n",
              "      <td>Billy</td>\n",
              "      <td>Bonder</td>\n",
              "      <td>4</td>\n",
              "    </tr>\n",
              "    <tr>\n",
              "      <th>1</th>\n",
              "      <td>Amy</td>\n",
              "      <td>Ackerman</td>\n",
              "      <td>2</td>\n",
              "      <td>Brian</td>\n",
              "      <td>Black</td>\n",
              "      <td>5</td>\n",
              "    </tr>\n",
              "    <tr>\n",
              "      <th>2</th>\n",
              "      <td>Allen</td>\n",
              "      <td>Ali</td>\n",
              "      <td>3</td>\n",
              "      <td>Bran</td>\n",
              "      <td>Balwner</td>\n",
              "      <td>6</td>\n",
              "    </tr>\n",
              "    <tr>\n",
              "      <th>3</th>\n",
              "      <td>Alice</td>\n",
              "      <td>Aoni</td>\n",
              "      <td>4</td>\n",
              "      <td>Bryce</td>\n",
              "      <td>Brice</td>\n",
              "      <td>7</td>\n",
              "    </tr>\n",
              "    <tr>\n",
              "      <th>4</th>\n",
              "      <td>Ayoung</td>\n",
              "      <td>Atiches</td>\n",
              "      <td>5</td>\n",
              "      <td>Betty</td>\n",
              "      <td>Btisan</td>\n",
              "      <td>8</td>\n",
              "    </tr>\n",
              "  </tbody>\n",
              "</table>\n",
              "</div>"
            ]
          },
          "metadata": {
            "tags": []
          },
          "execution_count": 37
        }
      ]
    },
    {
      "cell_type": "markdown",
      "metadata": {
        "id": "K55ML2rTUSfY"
      },
      "source": [
        "### Step 5. Merge all and data3 along the subject_id value"
      ]
    },
    {
      "cell_type": "code",
      "metadata": {
        "id": "EHWAGAc8USfY",
        "colab": {
          "base_uri": "https://localhost:8080/",
          "height": 359
        },
        "outputId": "5a679a63-9fd5-4cf9-b06f-1de5caad164e"
      },
      "source": [
        "pd.merge(all, data3, on='subject_id', how='left')"
      ],
      "execution_count": null,
      "outputs": [
        {
          "output_type": "execute_result",
          "data": {
            "text/plain": [
              "  first_name last_name subject_id  test_id\n",
              "0       Alex  Anderson          1     51.0\n",
              "1        Amy  Ackerman          2     15.0\n",
              "2      Allen       Ali          3     15.0\n",
              "3      Alice      Aoni          4     61.0\n",
              "4     Ayoung   Atiches          5     16.0\n",
              "5      Billy    Bonder          4     61.0\n",
              "6      Brian     Black          5     16.0\n",
              "7       Bran   Balwner          6      NaN\n",
              "8      Bryce     Brice          7     14.0\n",
              "9      Betty    Btisan          8     15.0"
            ],
            "text/html": [
              "<div>\n",
              "<style scoped>\n",
              "    .dataframe tbody tr th:only-of-type {\n",
              "        vertical-align: middle;\n",
              "    }\n",
              "\n",
              "    .dataframe tbody tr th {\n",
              "        vertical-align: top;\n",
              "    }\n",
              "\n",
              "    .dataframe thead th {\n",
              "        text-align: right;\n",
              "    }\n",
              "</style>\n",
              "<table border=\"1\" class=\"dataframe\">\n",
              "  <thead>\n",
              "    <tr style=\"text-align: right;\">\n",
              "      <th></th>\n",
              "      <th>first_name</th>\n",
              "      <th>last_name</th>\n",
              "      <th>subject_id</th>\n",
              "      <th>test_id</th>\n",
              "    </tr>\n",
              "  </thead>\n",
              "  <tbody>\n",
              "    <tr>\n",
              "      <th>0</th>\n",
              "      <td>Alex</td>\n",
              "      <td>Anderson</td>\n",
              "      <td>1</td>\n",
              "      <td>51.0</td>\n",
              "    </tr>\n",
              "    <tr>\n",
              "      <th>1</th>\n",
              "      <td>Amy</td>\n",
              "      <td>Ackerman</td>\n",
              "      <td>2</td>\n",
              "      <td>15.0</td>\n",
              "    </tr>\n",
              "    <tr>\n",
              "      <th>2</th>\n",
              "      <td>Allen</td>\n",
              "      <td>Ali</td>\n",
              "      <td>3</td>\n",
              "      <td>15.0</td>\n",
              "    </tr>\n",
              "    <tr>\n",
              "      <th>3</th>\n",
              "      <td>Alice</td>\n",
              "      <td>Aoni</td>\n",
              "      <td>4</td>\n",
              "      <td>61.0</td>\n",
              "    </tr>\n",
              "    <tr>\n",
              "      <th>4</th>\n",
              "      <td>Ayoung</td>\n",
              "      <td>Atiches</td>\n",
              "      <td>5</td>\n",
              "      <td>16.0</td>\n",
              "    </tr>\n",
              "    <tr>\n",
              "      <th>5</th>\n",
              "      <td>Billy</td>\n",
              "      <td>Bonder</td>\n",
              "      <td>4</td>\n",
              "      <td>61.0</td>\n",
              "    </tr>\n",
              "    <tr>\n",
              "      <th>6</th>\n",
              "      <td>Brian</td>\n",
              "      <td>Black</td>\n",
              "      <td>5</td>\n",
              "      <td>16.0</td>\n",
              "    </tr>\n",
              "    <tr>\n",
              "      <th>7</th>\n",
              "      <td>Bran</td>\n",
              "      <td>Balwner</td>\n",
              "      <td>6</td>\n",
              "      <td>NaN</td>\n",
              "    </tr>\n",
              "    <tr>\n",
              "      <th>8</th>\n",
              "      <td>Bryce</td>\n",
              "      <td>Brice</td>\n",
              "      <td>7</td>\n",
              "      <td>14.0</td>\n",
              "    </tr>\n",
              "    <tr>\n",
              "      <th>9</th>\n",
              "      <td>Betty</td>\n",
              "      <td>Btisan</td>\n",
              "      <td>8</td>\n",
              "      <td>15.0</td>\n",
              "    </tr>\n",
              "  </tbody>\n",
              "</table>\n",
              "</div>"
            ]
          },
          "metadata": {
            "tags": []
          },
          "execution_count": 39
        }
      ]
    },
    {
      "cell_type": "markdown",
      "metadata": {
        "id": "41Q7or1RUSfZ"
      },
      "source": [
        "### Step 6. Merge only the data that has the same 'subject_id' on both data1 and data2"
      ]
    },
    {
      "cell_type": "code",
      "metadata": {
        "id": "QVIoLXIaUSfZ"
      },
      "source": [
        "pd.merge(data1, data2, how='inner', on='subject_id')"
      ],
      "execution_count": null,
      "outputs": []
    },
    {
      "cell_type": "markdown",
      "metadata": {
        "id": "DuV2VDNjUSfZ"
      },
      "source": [
        "### Step 7. Merge all values in data1 and data2, with matching records from both sides where available."
      ]
    },
    {
      "cell_type": "code",
      "metadata": {
        "id": "Mh3ZsylcssTr"
      },
      "source": [
        "pd.merge(data1, data2, how='outer', on='subject_id')"
      ],
      "execution_count": null,
      "outputs": []
    },
    {
      "cell_type": "markdown",
      "metadata": {
        "id": "i5t0RFo7sf7_"
      },
      "source": [
        "## Part 3 Chipotle (45%)"
      ]
    },
    {
      "cell_type": "markdown",
      "metadata": {
        "id": "PzhQYev3sf8F"
      },
      "source": [
        "\n",
        "\n",
        "### Step 1. Import pandas"
      ]
    },
    {
      "cell_type": "code",
      "metadata": {
        "id": "4s8Yvq7wsf8G"
      },
      "source": [
        "import pandas as pd\n",
        "import numpy as np\n"
      ],
      "execution_count": 3,
      "outputs": []
    },
    {
      "cell_type": "markdown",
      "metadata": {
        "id": "x77DYxKZsf8G"
      },
      "source": [
        "### Step 2. Import the dataset from this link: https://raw.githubusercontent.com/jiangenhe/insc-486-2021-spring/main/assignment2/chipotle.tsv, and assign it to a variable called chipotle."
      ]
    },
    {
      "cell_type": "code",
      "metadata": {
        "id": "bAsE-_3ctFBd",
        "colab": {
          "base_uri": "https://localhost:8080/",
          "height": 204
        },
        "outputId": "73fc3d06-9845-4a25-b8e9-a5a8429dbab7"
      },
      "source": [
        "df = pd.read_csv(\"https://raw.githubusercontent.com/jiangenhe/insc-486-2021-spring/main/assignment2/chipotle.tsv\", sep='\\t')\n",
        "df.head()"
      ],
      "execution_count": 4,
      "outputs": [
        {
          "output_type": "execute_result",
          "data": {
            "text/plain": [
              "   order_id  quantity                              item_name  \\\n",
              "0         1         1           Chips and Fresh Tomato Salsa   \n",
              "1         1         1                                   Izze   \n",
              "2         1         1                       Nantucket Nectar   \n",
              "3         1         1  Chips and Tomatillo-Green Chili Salsa   \n",
              "4         2         2                           Chicken Bowl   \n",
              "\n",
              "                                  choice_description item_price  \n",
              "0                                                NaN     $2.39   \n",
              "1                                       [Clementine]     $3.39   \n",
              "2                                            [Apple]     $3.39   \n",
              "3                                                NaN     $2.39   \n",
              "4  [Tomatillo-Red Chili Salsa (Hot), [Black Beans...    $16.98   "
            ],
            "text/html": [
              "<div>\n",
              "<style scoped>\n",
              "    .dataframe tbody tr th:only-of-type {\n",
              "        vertical-align: middle;\n",
              "    }\n",
              "\n",
              "    .dataframe tbody tr th {\n",
              "        vertical-align: top;\n",
              "    }\n",
              "\n",
              "    .dataframe thead th {\n",
              "        text-align: right;\n",
              "    }\n",
              "</style>\n",
              "<table border=\"1\" class=\"dataframe\">\n",
              "  <thead>\n",
              "    <tr style=\"text-align: right;\">\n",
              "      <th></th>\n",
              "      <th>order_id</th>\n",
              "      <th>quantity</th>\n",
              "      <th>item_name</th>\n",
              "      <th>choice_description</th>\n",
              "      <th>item_price</th>\n",
              "    </tr>\n",
              "  </thead>\n",
              "  <tbody>\n",
              "    <tr>\n",
              "      <th>0</th>\n",
              "      <td>1</td>\n",
              "      <td>1</td>\n",
              "      <td>Chips and Fresh Tomato Salsa</td>\n",
              "      <td>NaN</td>\n",
              "      <td>$2.39</td>\n",
              "    </tr>\n",
              "    <tr>\n",
              "      <th>1</th>\n",
              "      <td>1</td>\n",
              "      <td>1</td>\n",
              "      <td>Izze</td>\n",
              "      <td>[Clementine]</td>\n",
              "      <td>$3.39</td>\n",
              "    </tr>\n",
              "    <tr>\n",
              "      <th>2</th>\n",
              "      <td>1</td>\n",
              "      <td>1</td>\n",
              "      <td>Nantucket Nectar</td>\n",
              "      <td>[Apple]</td>\n",
              "      <td>$3.39</td>\n",
              "    </tr>\n",
              "    <tr>\n",
              "      <th>3</th>\n",
              "      <td>1</td>\n",
              "      <td>1</td>\n",
              "      <td>Chips and Tomatillo-Green Chili Salsa</td>\n",
              "      <td>NaN</td>\n",
              "      <td>$2.39</td>\n",
              "    </tr>\n",
              "    <tr>\n",
              "      <th>4</th>\n",
              "      <td>2</td>\n",
              "      <td>2</td>\n",
              "      <td>Chicken Bowl</td>\n",
              "      <td>[Tomatillo-Red Chili Salsa (Hot), [Black Beans...</td>\n",
              "      <td>$16.98</td>\n",
              "    </tr>\n",
              "  </tbody>\n",
              "</table>\n",
              "</div>"
            ]
          },
          "metadata": {
            "tags": []
          },
          "execution_count": 4
        }
      ]
    },
    {
      "cell_type": "markdown",
      "metadata": {
        "id": "ocC0dHghsf8H"
      },
      "source": [
        "### Step 3. How many products cost more than ten dolloars? (6%)\n",
        "(Use item_name and choice_description to define a product)"
      ]
    },
    {
      "cell_type": "code",
      "metadata": {
        "id": "N3mjEh6nsf8H"
      },
      "source": [
        "df['item_price'] = df['item_price'].str.replace(\"$\", \"\").astype(float)\n",
        "df['unit_price'] = df['item_price']/df['quantity']\n"
      ],
      "execution_count": 5,
      "outputs": []
    },
    {
      "cell_type": "code",
      "metadata": {
        "id": "PyfhBG4Azh1F",
        "colab": {
          "base_uri": "https://localhost:8080/"
        },
        "outputId": "53124530-5499-4f26-f7a1-edb650fe201f"
      },
      "source": [
        "product_cost = df.groupby(['item_name', 'choice_description'])['unit_price'].apply(np.mean)\n",
        "len(product_cost[product_cost > 10])"
      ],
      "execution_count": 6,
      "outputs": [
        {
          "output_type": "execute_result",
          "data": {
            "text/plain": [
              "707"
            ]
          },
          "metadata": {
            "tags": []
          },
          "execution_count": 6
        }
      ]
    },
    {
      "cell_type": "markdown",
      "metadata": {
        "id": "mXt1lFAFsf8I"
      },
      "source": [
        "### Step 4. Sort by the name of the item (3%)"
      ]
    },
    {
      "cell_type": "code",
      "metadata": {
        "id": "UZt-cN59sf8I"
      },
      "source": [
        "df.sort_values('item_name', inplace=True)"
      ],
      "execution_count": 8,
      "outputs": []
    },
    {
      "cell_type": "markdown",
      "metadata": {
        "id": "XELB4UP9sf8J"
      },
      "source": [
        "### Step 5. What was the quantity of the most expensive item ordered? (3%)"
      ]
    },
    {
      "cell_type": "code",
      "metadata": {
        "colab": {
          "base_uri": "https://localhost:8080/"
        },
        "id": "dncXlU1vEdUq",
        "outputId": "1e27cce3-2f75-4cde-be83-2fee267630f6"
      },
      "source": [
        "product_cost.idxmax()"
      ],
      "execution_count": 9,
      "outputs": [
        {
          "output_type": "execute_result",
          "data": {
            "text/plain": [
              "('Barbacoa Salad Bowl', '[Fresh Tomato Salsa, Guacamole]')"
            ]
          },
          "metadata": {
            "tags": []
          },
          "execution_count": 9
        }
      ]
    },
    {
      "cell_type": "code",
      "metadata": {
        "id": "-2dAEyIQsf8J",
        "colab": {
          "base_uri": "https://localhost:8080/"
        },
        "outputId": "e21cc2b1-30ba-4ad4-8cfa-5e81e970e72d"
      },
      "source": [
        "\n",
        "df[(df['item_name'] == 'Barbacoa Salad Bowl') & (df['choice_description'] == '[Fresh Tomato Salsa, Guacamole]')]['quantity'].sum()"
      ],
      "execution_count": 10,
      "outputs": [
        {
          "output_type": "execute_result",
          "data": {
            "text/plain": [
              "1"
            ]
          },
          "metadata": {
            "tags": []
          },
          "execution_count": 10
        }
      ]
    },
    {
      "cell_type": "markdown",
      "metadata": {
        "id": "my4TKxtasf8J"
      },
      "source": [
        "### Step 6. How many times was a Veggie Soft Tacos ordered? (3%)"
      ]
    },
    {
      "cell_type": "code",
      "metadata": {
        "id": "dVzTvprrsf8J",
        "colab": {
          "base_uri": "https://localhost:8080/"
        },
        "outputId": "5a1a45fc-8b77-4fb8-9756-1681c74424be"
      },
      "source": [
        "df[(df['item_name'] == 'Veggie Soft Tacos')]['quantity'].sum()"
      ],
      "execution_count": 11,
      "outputs": [
        {
          "output_type": "execute_result",
          "data": {
            "text/plain": [
              "8"
            ]
          },
          "metadata": {
            "tags": []
          },
          "execution_count": 11
        }
      ]
    },
    {
      "cell_type": "markdown",
      "metadata": {
        "id": "is5nGu6zsf8K"
      },
      "source": [
        "### Step 7. How many times did someone order more than one Canned Soda? (3%)"
      ]
    },
    {
      "cell_type": "code",
      "metadata": {
        "id": "lQ9lN7_Osf8K",
        "colab": {
          "base_uri": "https://localhost:8080/"
        },
        "outputId": "f9f46592-64c1-426b-c4bb-8960280da28d"
      },
      "source": [
        "df[(df['item_name'] == 'Canned Soda') & (df['quantity'] > 1)].count()"
      ],
      "execution_count": 12,
      "outputs": [
        {
          "output_type": "execute_result",
          "data": {
            "text/plain": [
              "order_id              20\n",
              "quantity              20\n",
              "item_name             20\n",
              "choice_description    20\n",
              "item_price            20\n",
              "unit_price            20\n",
              "dtype: int64"
            ]
          },
          "metadata": {
            "tags": []
          },
          "execution_count": 12
        }
      ]
    },
    {
      "cell_type": "markdown",
      "metadata": {
        "id": "5vXJt8iiww-X"
      },
      "source": [
        "### Step 8. Create a coloumn for Salsa and remove salsa from choice_description. Which Salsa is the most popular one? (6%)"
      ]
    },
    {
      "cell_type": "code",
      "metadata": {
        "id": "HD1i3bCHxDXl"
      },
      "source": [
        "salsa_df = df.dropna(subset=['choice_description'])\n",
        "salsa_df = salsa_df[salsa_df['choice_description'].str.contains(\"Salsa\")]"
      ],
      "execution_count": 13,
      "outputs": []
    },
    {
      "cell_type": "code",
      "metadata": {
        "id": "GOdzKD-6Qump",
        "colab": {
          "base_uri": "https://localhost:8080/",
          "height": 204
        },
        "outputId": "8c5cfc80-2aaf-4845-8e5e-93977ebee8a8"
      },
      "source": [
        "salsa_df.head()"
      ],
      "execution_count": 14,
      "outputs": [
        {
          "output_type": "execute_result",
          "data": {
            "text/plain": [
              "      order_id  quantity      item_name  \\\n",
              "418        182         1  Barbacoa Bowl   \n",
              "2253       907         1  Barbacoa Bowl   \n",
              "4485      1786         1  Barbacoa Bowl   \n",
              "1032       425         1  Barbacoa Bowl   \n",
              "3017      1200         1  Barbacoa Bowl   \n",
              "\n",
              "                                     choice_description  item_price  \\\n",
              "418   [Fresh Tomato Salsa, [Fajita Vegetables, Rice,...        9.25   \n",
              "2253  [Fresh Tomato Salsa, [Rice, Fajita Vegetables,...        9.25   \n",
              "4485  [Fresh Tomato Salsa, [Fajita Vegetables, Rice,...       11.75   \n",
              "1032  [Fresh Tomato Salsa, [Fajita Vegetables, Rice,...        9.25   \n",
              "3017  [Fresh Tomato Salsa, [Fajita Vegetables, Rice,...       11.75   \n",
              "\n",
              "      unit_price  \n",
              "418         9.25  \n",
              "2253        9.25  \n",
              "4485       11.75  \n",
              "1032        9.25  \n",
              "3017       11.75  "
            ],
            "text/html": [
              "<div>\n",
              "<style scoped>\n",
              "    .dataframe tbody tr th:only-of-type {\n",
              "        vertical-align: middle;\n",
              "    }\n",
              "\n",
              "    .dataframe tbody tr th {\n",
              "        vertical-align: top;\n",
              "    }\n",
              "\n",
              "    .dataframe thead th {\n",
              "        text-align: right;\n",
              "    }\n",
              "</style>\n",
              "<table border=\"1\" class=\"dataframe\">\n",
              "  <thead>\n",
              "    <tr style=\"text-align: right;\">\n",
              "      <th></th>\n",
              "      <th>order_id</th>\n",
              "      <th>quantity</th>\n",
              "      <th>item_name</th>\n",
              "      <th>choice_description</th>\n",
              "      <th>item_price</th>\n",
              "      <th>unit_price</th>\n",
              "    </tr>\n",
              "  </thead>\n",
              "  <tbody>\n",
              "    <tr>\n",
              "      <th>418</th>\n",
              "      <td>182</td>\n",
              "      <td>1</td>\n",
              "      <td>Barbacoa Bowl</td>\n",
              "      <td>[Fresh Tomato Salsa, [Fajita Vegetables, Rice,...</td>\n",
              "      <td>9.25</td>\n",
              "      <td>9.25</td>\n",
              "    </tr>\n",
              "    <tr>\n",
              "      <th>2253</th>\n",
              "      <td>907</td>\n",
              "      <td>1</td>\n",
              "      <td>Barbacoa Bowl</td>\n",
              "      <td>[Fresh Tomato Salsa, [Rice, Fajita Vegetables,...</td>\n",
              "      <td>9.25</td>\n",
              "      <td>9.25</td>\n",
              "    </tr>\n",
              "    <tr>\n",
              "      <th>4485</th>\n",
              "      <td>1786</td>\n",
              "      <td>1</td>\n",
              "      <td>Barbacoa Bowl</td>\n",
              "      <td>[Fresh Tomato Salsa, [Fajita Vegetables, Rice,...</td>\n",
              "      <td>11.75</td>\n",
              "      <td>11.75</td>\n",
              "    </tr>\n",
              "    <tr>\n",
              "      <th>1032</th>\n",
              "      <td>425</td>\n",
              "      <td>1</td>\n",
              "      <td>Barbacoa Bowl</td>\n",
              "      <td>[Fresh Tomato Salsa, [Fajita Vegetables, Rice,...</td>\n",
              "      <td>9.25</td>\n",
              "      <td>9.25</td>\n",
              "    </tr>\n",
              "    <tr>\n",
              "      <th>3017</th>\n",
              "      <td>1200</td>\n",
              "      <td>1</td>\n",
              "      <td>Barbacoa Bowl</td>\n",
              "      <td>[Fresh Tomato Salsa, [Fajita Vegetables, Rice,...</td>\n",
              "      <td>11.75</td>\n",
              "      <td>11.75</td>\n",
              "    </tr>\n",
              "  </tbody>\n",
              "</table>\n",
              "</div>"
            ]
          },
          "metadata": {
            "tags": []
          },
          "execution_count": 14
        }
      ]
    },
    {
      "cell_type": "code",
      "metadata": {
        "id": "8kX1478RDs_k",
        "colab": {
          "base_uri": "https://localhost:8080/"
        },
        "outputId": "28e5ce83-997d-4f57-ce4b-f17522168423"
      },
      "source": [
        "salsa_df['choice_description1'] = salsa_df['choice_description'].str.replace(r'\\[|\\]', '').str.split(',')\n",
        "salsa_df['choice_description1'].head()"
      ],
      "execution_count": 15,
      "outputs": [
        {
          "output_type": "execute_result",
          "data": {
            "text/plain": [
              "418     [Fresh Tomato Salsa,  Fajita Vegetables,  Rice...\n",
              "2253    [Fresh Tomato Salsa,  Rice,  Fajita Vegetables...\n",
              "4485    [Fresh Tomato Salsa,  Fajita Vegetables,  Rice...\n",
              "1032    [Fresh Tomato Salsa,  Fajita Vegetables,  Rice...\n",
              "3017    [Fresh Tomato Salsa,  Fajita Vegetables,  Rice...\n",
              "Name: choice_description1, dtype: object"
            ]
          },
          "metadata": {
            "tags": []
          },
          "execution_count": 15
        }
      ]
    },
    {
      "cell_type": "code",
      "metadata": {
        "colab": {
          "base_uri": "https://localhost:8080/",
          "height": 204
        },
        "id": "ICpAhwpOHiw3",
        "outputId": "693dcc89-f1bc-474a-fa60-4ec107b0cbfb"
      },
      "source": [
        "# turn the series to a list and then reconstruct a datafrem from the list\n",
        "\n",
        "non_salsa_choices = pd.DataFrame(salsa_df['choice_description1'].map(lambda x: [i for i in x if 'Salsa' not in i]).to_list(), index=salsa_df.index)\n",
        "non_salsa_choices.head()\n"
      ],
      "execution_count": 18,
      "outputs": [
        {
          "output_type": "execute_result",
          "data": {
            "text/plain": [
              "                       0                   1             2            3  \\\n",
              "418    Fajita Vegetables                Rice   Black Beans       Cheese   \n",
              "2253                Rice   Fajita Vegetables   Black Beans   Sour Cream   \n",
              "4485   Fajita Vegetables                Rice   Black Beans    Guacamole   \n",
              "1032   Fajita Vegetables                Rice        Cheese   Sour Cream   \n",
              "3017   Fajita Vegetables                Rice   Black Beans       Cheese   \n",
              "\n",
              "               4         5     6     7  \n",
              "418         None      None  None  None  \n",
              "2253        None      None  None  None  \n",
              "4485     Lettuce      None  None  None  \n",
              "1032        None      None  None  None  \n",
              "3017   Guacamole   Lettuce  None  None  "
            ],
            "text/html": [
              "<div>\n",
              "<style scoped>\n",
              "    .dataframe tbody tr th:only-of-type {\n",
              "        vertical-align: middle;\n",
              "    }\n",
              "\n",
              "    .dataframe tbody tr th {\n",
              "        vertical-align: top;\n",
              "    }\n",
              "\n",
              "    .dataframe thead th {\n",
              "        text-align: right;\n",
              "    }\n",
              "</style>\n",
              "<table border=\"1\" class=\"dataframe\">\n",
              "  <thead>\n",
              "    <tr style=\"text-align: right;\">\n",
              "      <th></th>\n",
              "      <th>0</th>\n",
              "      <th>1</th>\n",
              "      <th>2</th>\n",
              "      <th>3</th>\n",
              "      <th>4</th>\n",
              "      <th>5</th>\n",
              "      <th>6</th>\n",
              "      <th>7</th>\n",
              "    </tr>\n",
              "  </thead>\n",
              "  <tbody>\n",
              "    <tr>\n",
              "      <th>418</th>\n",
              "      <td>Fajita Vegetables</td>\n",
              "      <td>Rice</td>\n",
              "      <td>Black Beans</td>\n",
              "      <td>Cheese</td>\n",
              "      <td>None</td>\n",
              "      <td>None</td>\n",
              "      <td>None</td>\n",
              "      <td>None</td>\n",
              "    </tr>\n",
              "    <tr>\n",
              "      <th>2253</th>\n",
              "      <td>Rice</td>\n",
              "      <td>Fajita Vegetables</td>\n",
              "      <td>Black Beans</td>\n",
              "      <td>Sour Cream</td>\n",
              "      <td>None</td>\n",
              "      <td>None</td>\n",
              "      <td>None</td>\n",
              "      <td>None</td>\n",
              "    </tr>\n",
              "    <tr>\n",
              "      <th>4485</th>\n",
              "      <td>Fajita Vegetables</td>\n",
              "      <td>Rice</td>\n",
              "      <td>Black Beans</td>\n",
              "      <td>Guacamole</td>\n",
              "      <td>Lettuce</td>\n",
              "      <td>None</td>\n",
              "      <td>None</td>\n",
              "      <td>None</td>\n",
              "    </tr>\n",
              "    <tr>\n",
              "      <th>1032</th>\n",
              "      <td>Fajita Vegetables</td>\n",
              "      <td>Rice</td>\n",
              "      <td>Cheese</td>\n",
              "      <td>Sour Cream</td>\n",
              "      <td>None</td>\n",
              "      <td>None</td>\n",
              "      <td>None</td>\n",
              "      <td>None</td>\n",
              "    </tr>\n",
              "    <tr>\n",
              "      <th>3017</th>\n",
              "      <td>Fajita Vegetables</td>\n",
              "      <td>Rice</td>\n",
              "      <td>Black Beans</td>\n",
              "      <td>Cheese</td>\n",
              "      <td>Guacamole</td>\n",
              "      <td>Lettuce</td>\n",
              "      <td>None</td>\n",
              "      <td>None</td>\n",
              "    </tr>\n",
              "  </tbody>\n",
              "</table>\n",
              "</div>"
            ]
          },
          "metadata": {
            "tags": []
          },
          "execution_count": 18
        }
      ]
    },
    {
      "cell_type": "code",
      "metadata": {
        "colab": {
          "base_uri": "https://localhost:8080/"
        },
        "id": "Avu8V9YVFg3Q",
        "outputId": "4cefd2c2-6106-47bc-c398-67899aad94bd"
      },
      "source": [
        "# stack the dataframe to a series\n",
        "# remove index at the second level\n",
        "non_salsa_choices = non_salsa_choices.stack().reset_index(level=1, drop=True).str.strip()\n",
        "non_salsa_choices.head()"
      ],
      "execution_count": 22,
      "outputs": [
        {
          "output_type": "execute_result",
          "data": {
            "text/plain": [
              "418     Fajita Vegetables\n",
              "418                  Rice\n",
              "418           Black Beans\n",
              "418                Cheese\n",
              "2253                 Rice\n",
              "dtype: object"
            ]
          },
          "metadata": {
            "tags": []
          },
          "execution_count": 22
        }
      ]
    },
    {
      "cell_type": "code",
      "metadata": {
        "id": "hFySjVCNbp5K"
      },
      "source": [
        "non_salsa_choices.name = 'non_salsa'"
      ],
      "execution_count": 23,
      "outputs": []
    },
    {
      "cell_type": "code",
      "metadata": {
        "id": "Yb7iAYSHRiYX",
        "colab": {
          "base_uri": "https://localhost:8080/"
        },
        "outputId": "3651de44-4f10-4a38-8c70-f41fa4827bdc"
      },
      "source": [
        "salsa_choices = pd.DataFrame(salsa_df['choice_description1'].map(lambda x: [i for i in x if 'Salsa' in i]).to_list(), index=salsa_df.index).stack().reset_index(level=1, drop=True).str.strip()\n",
        "salsa_choices.name = 'salsa'\n",
        "salsa_choices.head()"
      ],
      "execution_count": 29,
      "outputs": [
        {
          "output_type": "execute_result",
          "data": {
            "text/plain": [
              "418     Fresh Tomato Salsa\n",
              "2253    Fresh Tomato Salsa\n",
              "4485    Fresh Tomato Salsa\n",
              "1032    Fresh Tomato Salsa\n",
              "3017    Fresh Tomato Salsa\n",
              "Name: salsa, dtype: object"
            ]
          },
          "metadata": {
            "tags": []
          },
          "execution_count": 29
        }
      ]
    },
    {
      "cell_type": "code",
      "metadata": {
        "colab": {
          "base_uri": "https://localhost:8080/",
          "height": 204
        },
        "id": "so4VpSCjZLz6",
        "outputId": "e6e5057e-73b1-4d17-d605-64e8d86b8114"
      },
      "source": [
        "# merge salsa and non_salsa by their index\n",
        "m = pd.merge(salsa_choices, non_salsa_choices, left_index=True, right_index=True )\n",
        "# merge columns from original dataframe\n",
        "m_quantity = pd.merge(m, salsa_df[['quantity','item_name']], left_index=True, right_index=True)\n",
        "m_quantity.head()"
      ],
      "execution_count": 33,
      "outputs": [
        {
          "output_type": "execute_result",
          "data": {
            "text/plain": [
              "                             salsa    non_salsa  quantity     item_name\n",
              "4  Tomatillo-Red Chili Salsa (Hot)  Black Beans         2  Chicken Bowl\n",
              "4  Tomatillo-Red Chili Salsa (Hot)         Rice         2  Chicken Bowl\n",
              "4  Tomatillo-Red Chili Salsa (Hot)       Cheese         2  Chicken Bowl\n",
              "4  Tomatillo-Red Chili Salsa (Hot)   Sour Cream         2  Chicken Bowl\n",
              "5        Fresh Tomato Salsa (Mild)         Rice         1  Chicken Bowl"
            ],
            "text/html": [
              "<div>\n",
              "<style scoped>\n",
              "    .dataframe tbody tr th:only-of-type {\n",
              "        vertical-align: middle;\n",
              "    }\n",
              "\n",
              "    .dataframe tbody tr th {\n",
              "        vertical-align: top;\n",
              "    }\n",
              "\n",
              "    .dataframe thead th {\n",
              "        text-align: right;\n",
              "    }\n",
              "</style>\n",
              "<table border=\"1\" class=\"dataframe\">\n",
              "  <thead>\n",
              "    <tr style=\"text-align: right;\">\n",
              "      <th></th>\n",
              "      <th>salsa</th>\n",
              "      <th>non_salsa</th>\n",
              "      <th>quantity</th>\n",
              "      <th>item_name</th>\n",
              "    </tr>\n",
              "  </thead>\n",
              "  <tbody>\n",
              "    <tr>\n",
              "      <th>4</th>\n",
              "      <td>Tomatillo-Red Chili Salsa (Hot)</td>\n",
              "      <td>Black Beans</td>\n",
              "      <td>2</td>\n",
              "      <td>Chicken Bowl</td>\n",
              "    </tr>\n",
              "    <tr>\n",
              "      <th>4</th>\n",
              "      <td>Tomatillo-Red Chili Salsa (Hot)</td>\n",
              "      <td>Rice</td>\n",
              "      <td>2</td>\n",
              "      <td>Chicken Bowl</td>\n",
              "    </tr>\n",
              "    <tr>\n",
              "      <th>4</th>\n",
              "      <td>Tomatillo-Red Chili Salsa (Hot)</td>\n",
              "      <td>Cheese</td>\n",
              "      <td>2</td>\n",
              "      <td>Chicken Bowl</td>\n",
              "    </tr>\n",
              "    <tr>\n",
              "      <th>4</th>\n",
              "      <td>Tomatillo-Red Chili Salsa (Hot)</td>\n",
              "      <td>Sour Cream</td>\n",
              "      <td>2</td>\n",
              "      <td>Chicken Bowl</td>\n",
              "    </tr>\n",
              "    <tr>\n",
              "      <th>5</th>\n",
              "      <td>Fresh Tomato Salsa (Mild)</td>\n",
              "      <td>Rice</td>\n",
              "      <td>1</td>\n",
              "      <td>Chicken Bowl</td>\n",
              "    </tr>\n",
              "  </tbody>\n",
              "</table>\n",
              "</div>"
            ]
          },
          "metadata": {
            "tags": []
          },
          "execution_count": 33
        }
      ]
    },
    {
      "cell_type": "markdown",
      "metadata": {
        "id": "rS1lJw-7xDxV"
      },
      "source": [
        "### Step 9. For each Salsa, list ten most ordered item with the Salsa (6%)"
      ]
    },
    {
      "cell_type": "code",
      "metadata": {
        "id": "CVUz06nVy2pv",
        "colab": {
          "base_uri": "https://localhost:8080/",
          "height": 1000
        },
        "outputId": "57d782f4-b1c1-40e3-caab-24bf8fa7fe9b"
      },
      "source": [
        "# Group by salsa and item_name first\n",
        "# Regroup by salsa\n",
        "# sort within each group and obtain top 10\n",
        "m_quantity.groupby(['salsa', 'item_name'])['quantity'].sum().reset_index(level=1).groupby('salsa').apply(lambda x: x.sort_values(by='quantity',ascending=False).head(10))"
      ],
      "execution_count": 55,
      "outputs": [
        {
          "output_type": "execute_result",
          "data": {
            "text/plain": [
              "                                                                                      item_name  \\\n",
              "salsa                                salsa                                                        \n",
              "Fresh Tomato Salsa                   Fresh Tomato Salsa                            Chicken Bowl   \n",
              "                                     Fresh Tomato Salsa                         Chicken Burrito   \n",
              "                                     Fresh Tomato Salsa                           Steak Burrito   \n",
              "                                     Fresh Tomato Salsa                              Steak Bowl   \n",
              "                                     Fresh Tomato Salsa                      Chicken Salad Bowl   \n",
              "                                     Fresh Tomato Salsa                             Veggie Bowl   \n",
              "                                     Fresh Tomato Salsa                          Veggie Burrito   \n",
              "                                     Fresh Tomato Salsa                           Carnitas Bowl   \n",
              "                                     Fresh Tomato Salsa                        Carnitas Burrito   \n",
              "                                     Fresh Tomato Salsa                      Chicken Soft Tacos   \n",
              "Fresh Tomato Salsa (Mild)            Fresh Tomato Salsa (Mild)                     Chicken Bowl   \n",
              "                                     Fresh Tomato Salsa (Mild)                  Chicken Burrito   \n",
              "                                     Fresh Tomato Salsa (Mild)                    Steak Burrito   \n",
              "                                     Fresh Tomato Salsa (Mild)                   Veggie Burrito   \n",
              "                                     Fresh Tomato Salsa (Mild)                       Steak Bowl   \n",
              "                                     Fresh Tomato Salsa (Mild)               Chicken Soft Tacos   \n",
              "                                     Fresh Tomato Salsa (Mild)                      Veggie Bowl   \n",
              "                                     Fresh Tomato Salsa (Mild)                    Carnitas Bowl   \n",
              "                                     Fresh Tomato Salsa (Mild)                 Carnitas Burrito   \n",
              "                                     Fresh Tomato Salsa (Mild)             Chicken Crispy Tacos   \n",
              "Roasted Chili Corn Salsa             Roasted Chili Corn Salsa                      Chicken Bowl   \n",
              "                                     Roasted Chili Corn Salsa                   Chicken Burrito   \n",
              "                                     Roasted Chili Corn Salsa                     Steak Burrito   \n",
              "                                     Roasted Chili Corn Salsa                        Steak Bowl   \n",
              "                                     Roasted Chili Corn Salsa                       Veggie Bowl   \n",
              "                                     Roasted Chili Corn Salsa                Chicken Soft Tacos   \n",
              "                                     Roasted Chili Corn Salsa                  Barbacoa Burrito   \n",
              "                                     Roasted Chili Corn Salsa                     Carnitas Bowl   \n",
              "                                     Roasted Chili Corn Salsa                Chicken Salad Bowl   \n",
              "                                     Roasted Chili Corn Salsa              Chicken Crispy Tacos   \n",
              "...                                                                                         ...   \n",
              "Tomatillo Red Chili Salsa            Tomatillo Red Chili Salsa                  Chicken Burrito   \n",
              "                                     Tomatillo Red Chili Salsa                     Chicken Bowl   \n",
              "                                     Tomatillo Red Chili Salsa                    Steak Burrito   \n",
              "                                     Tomatillo Red Chili Salsa                       Steak Bowl   \n",
              "                                     Tomatillo Red Chili Salsa                 Barbacoa Burrito   \n",
              "                                     Tomatillo Red Chili Salsa                    Barbacoa Bowl   \n",
              "                                     Tomatillo Red Chili Salsa                      Veggie Bowl   \n",
              "                                     Tomatillo Red Chili Salsa                   Veggie Burrito   \n",
              "                                     Tomatillo Red Chili Salsa              Barbacoa Soft Tacos   \n",
              "                                     Tomatillo Red Chili Salsa              Carnitas Soft Tacos   \n",
              "Tomatillo-Green Chili Salsa (Medium) Tomatillo-Green Chili Salsa (Medium)       Chicken Burrito   \n",
              "                                     Tomatillo-Green Chili Salsa (Medium)          Chicken Bowl   \n",
              "                                     Tomatillo-Green Chili Salsa (Medium)         Steak Burrito   \n",
              "                                     Tomatillo-Green Chili Salsa (Medium)            Steak Bowl   \n",
              "                                     Tomatillo-Green Chili Salsa (Medium)         Barbacoa Bowl   \n",
              "                                     Tomatillo-Green Chili Salsa (Medium)        Veggie Burrito   \n",
              "                                     Tomatillo-Green Chili Salsa (Medium)      Barbacoa Burrito   \n",
              "                                     Tomatillo-Green Chili Salsa (Medium)      Steak Soft Tacos   \n",
              "                                     Tomatillo-Green Chili Salsa (Medium)           Veggie Bowl   \n",
              "                                     Tomatillo-Green Chili Salsa (Medium)    Chicken Soft Tacos   \n",
              "Tomatillo-Red Chili Salsa (Hot)      Tomatillo-Red Chili Salsa (Hot)               Chicken Bowl   \n",
              "                                     Tomatillo-Red Chili Salsa (Hot)            Chicken Burrito   \n",
              "                                     Tomatillo-Red Chili Salsa (Hot)              Steak Burrito   \n",
              "                                     Tomatillo-Red Chili Salsa (Hot)                 Steak Bowl   \n",
              "                                     Tomatillo-Red Chili Salsa (Hot)              Carnitas Bowl   \n",
              "                                     Tomatillo-Red Chili Salsa (Hot)                Veggie Bowl   \n",
              "                                     Tomatillo-Red Chili Salsa (Hot)           Barbacoa Burrito   \n",
              "                                     Tomatillo-Red Chili Salsa (Hot)         Chicken Soft Tacos   \n",
              "                                     Tomatillo-Red Chili Salsa (Hot)             Veggie Burrito   \n",
              "                                     Tomatillo-Red Chili Salsa (Hot)           Steak Soft Tacos   \n",
              "\n",
              "                                                                           quantity  \n",
              "salsa                                salsa                                           \n",
              "Fresh Tomato Salsa                   Fresh Tomato Salsa                        1442  \n",
              "                                     Fresh Tomato Salsa                         961  \n",
              "                                     Fresh Tomato Salsa                         458  \n",
              "                                     Fresh Tomato Salsa                         326  \n",
              "                                     Fresh Tomato Salsa                         272  \n",
              "                                     Fresh Tomato Salsa                         157  \n",
              "                                     Fresh Tomato Salsa                         152  \n",
              "                                     Fresh Tomato Salsa                         124  \n",
              "                                     Fresh Tomato Salsa                         117  \n",
              "                                     Fresh Tomato Salsa                         103  \n",
              "Fresh Tomato Salsa (Mild)            Fresh Tomato Salsa (Mild)                  396  \n",
              "                                     Fresh Tomato Salsa (Mild)                  273  \n",
              "                                     Fresh Tomato Salsa (Mild)                  260  \n",
              "                                     Fresh Tomato Salsa (Mild)                  149  \n",
              "                                     Fresh Tomato Salsa (Mild)                  124  \n",
              "                                     Fresh Tomato Salsa (Mild)                   76  \n",
              "                                     Fresh Tomato Salsa (Mild)                   74  \n",
              "                                     Fresh Tomato Salsa (Mild)                   41  \n",
              "                                     Fresh Tomato Salsa (Mild)                   29  \n",
              "                                     Fresh Tomato Salsa (Mild)                   26  \n",
              "Roasted Chili Corn Salsa             Roasted Chili Corn Salsa                   502  \n",
              "                                     Roasted Chili Corn Salsa                   294  \n",
              "                                     Roasted Chili Corn Salsa                   239  \n",
              "                                     Roasted Chili Corn Salsa                   198  \n",
              "                                     Roasted Chili Corn Salsa                   113  \n",
              "                                     Roasted Chili Corn Salsa                    95  \n",
              "                                     Roasted Chili Corn Salsa                    93  \n",
              "                                     Roasted Chili Corn Salsa                    83  \n",
              "                                     Roasted Chili Corn Salsa                    76  \n",
              "                                     Roasted Chili Corn Salsa                    47  \n",
              "...                                                                             ...  \n",
              "Tomatillo Red Chili Salsa            Tomatillo Red Chili Salsa                  295  \n",
              "                                     Tomatillo Red Chili Salsa                  286  \n",
              "                                     Tomatillo Red Chili Salsa                  162  \n",
              "                                     Tomatillo Red Chili Salsa                  107  \n",
              "                                     Tomatillo Red Chili Salsa                   89  \n",
              "                                     Tomatillo Red Chili Salsa                   74  \n",
              "                                     Tomatillo Red Chili Salsa                   52  \n",
              "                                     Tomatillo Red Chili Salsa                   47  \n",
              "                                     Tomatillo Red Chili Salsa                   47  \n",
              "                                     Tomatillo Red Chili Salsa                   45  \n",
              "Tomatillo-Green Chili Salsa (Medium) Tomatillo-Green Chili Salsa (Medium)       161  \n",
              "                                     Tomatillo-Green Chili Salsa (Medium)       115  \n",
              "                                     Tomatillo-Green Chili Salsa (Medium)        83  \n",
              "                                     Tomatillo-Green Chili Salsa (Medium)        44  \n",
              "                                     Tomatillo-Green Chili Salsa (Medium)        30  \n",
              "                                     Tomatillo-Green Chili Salsa (Medium)        30  \n",
              "                                     Tomatillo-Green Chili Salsa (Medium)        30  \n",
              "                                     Tomatillo-Green Chili Salsa (Medium)        26  \n",
              "                                     Tomatillo-Green Chili Salsa (Medium)        22  \n",
              "                                     Tomatillo-Green Chili Salsa (Medium)        12  \n",
              "Tomatillo-Red Chili Salsa (Hot)      Tomatillo-Red Chili Salsa (Hot)            348  \n",
              "                                     Tomatillo-Red Chili Salsa (Hot)            226  \n",
              "                                     Tomatillo-Red Chili Salsa (Hot)            203  \n",
              "                                     Tomatillo-Red Chili Salsa (Hot)             91  \n",
              "                                     Tomatillo-Red Chili Salsa (Hot)             56  \n",
              "                                     Tomatillo-Red Chili Salsa (Hot)             38  \n",
              "                                     Tomatillo-Red Chili Salsa (Hot)             38  \n",
              "                                     Tomatillo-Red Chili Salsa (Hot)             36  \n",
              "                                     Tomatillo-Red Chili Salsa (Hot)             33  \n",
              "                                     Tomatillo-Red Chili Salsa (Hot)             28  \n",
              "\n",
              "[82 rows x 2 columns]"
            ],
            "text/html": [
              "<div>\n",
              "<style scoped>\n",
              "    .dataframe tbody tr th:only-of-type {\n",
              "        vertical-align: middle;\n",
              "    }\n",
              "\n",
              "    .dataframe tbody tr th {\n",
              "        vertical-align: top;\n",
              "    }\n",
              "\n",
              "    .dataframe thead th {\n",
              "        text-align: right;\n",
              "    }\n",
              "</style>\n",
              "<table border=\"1\" class=\"dataframe\">\n",
              "  <thead>\n",
              "    <tr style=\"text-align: right;\">\n",
              "      <th></th>\n",
              "      <th></th>\n",
              "      <th>item_name</th>\n",
              "      <th>quantity</th>\n",
              "    </tr>\n",
              "    <tr>\n",
              "      <th>salsa</th>\n",
              "      <th>salsa</th>\n",
              "      <th></th>\n",
              "      <th></th>\n",
              "    </tr>\n",
              "  </thead>\n",
              "  <tbody>\n",
              "    <tr>\n",
              "      <th rowspan=\"10\" valign=\"top\">Fresh Tomato Salsa</th>\n",
              "      <th>Fresh Tomato Salsa</th>\n",
              "      <td>Chicken Bowl</td>\n",
              "      <td>1442</td>\n",
              "    </tr>\n",
              "    <tr>\n",
              "      <th>Fresh Tomato Salsa</th>\n",
              "      <td>Chicken Burrito</td>\n",
              "      <td>961</td>\n",
              "    </tr>\n",
              "    <tr>\n",
              "      <th>Fresh Tomato Salsa</th>\n",
              "      <td>Steak Burrito</td>\n",
              "      <td>458</td>\n",
              "    </tr>\n",
              "    <tr>\n",
              "      <th>Fresh Tomato Salsa</th>\n",
              "      <td>Steak Bowl</td>\n",
              "      <td>326</td>\n",
              "    </tr>\n",
              "    <tr>\n",
              "      <th>Fresh Tomato Salsa</th>\n",
              "      <td>Chicken Salad Bowl</td>\n",
              "      <td>272</td>\n",
              "    </tr>\n",
              "    <tr>\n",
              "      <th>Fresh Tomato Salsa</th>\n",
              "      <td>Veggie Bowl</td>\n",
              "      <td>157</td>\n",
              "    </tr>\n",
              "    <tr>\n",
              "      <th>Fresh Tomato Salsa</th>\n",
              "      <td>Veggie Burrito</td>\n",
              "      <td>152</td>\n",
              "    </tr>\n",
              "    <tr>\n",
              "      <th>Fresh Tomato Salsa</th>\n",
              "      <td>Carnitas Bowl</td>\n",
              "      <td>124</td>\n",
              "    </tr>\n",
              "    <tr>\n",
              "      <th>Fresh Tomato Salsa</th>\n",
              "      <td>Carnitas Burrito</td>\n",
              "      <td>117</td>\n",
              "    </tr>\n",
              "    <tr>\n",
              "      <th>Fresh Tomato Salsa</th>\n",
              "      <td>Chicken Soft Tacos</td>\n",
              "      <td>103</td>\n",
              "    </tr>\n",
              "    <tr>\n",
              "      <th rowspan=\"10\" valign=\"top\">Fresh Tomato Salsa (Mild)</th>\n",
              "      <th>Fresh Tomato Salsa (Mild)</th>\n",
              "      <td>Chicken Bowl</td>\n",
              "      <td>396</td>\n",
              "    </tr>\n",
              "    <tr>\n",
              "      <th>Fresh Tomato Salsa (Mild)</th>\n",
              "      <td>Chicken Burrito</td>\n",
              "      <td>273</td>\n",
              "    </tr>\n",
              "    <tr>\n",
              "      <th>Fresh Tomato Salsa (Mild)</th>\n",
              "      <td>Steak Burrito</td>\n",
              "      <td>260</td>\n",
              "    </tr>\n",
              "    <tr>\n",
              "      <th>Fresh Tomato Salsa (Mild)</th>\n",
              "      <td>Veggie Burrito</td>\n",
              "      <td>149</td>\n",
              "    </tr>\n",
              "    <tr>\n",
              "      <th>Fresh Tomato Salsa (Mild)</th>\n",
              "      <td>Steak Bowl</td>\n",
              "      <td>124</td>\n",
              "    </tr>\n",
              "    <tr>\n",
              "      <th>Fresh Tomato Salsa (Mild)</th>\n",
              "      <td>Chicken Soft Tacos</td>\n",
              "      <td>76</td>\n",
              "    </tr>\n",
              "    <tr>\n",
              "      <th>Fresh Tomato Salsa (Mild)</th>\n",
              "      <td>Veggie Bowl</td>\n",
              "      <td>74</td>\n",
              "    </tr>\n",
              "    <tr>\n",
              "      <th>Fresh Tomato Salsa (Mild)</th>\n",
              "      <td>Carnitas Bowl</td>\n",
              "      <td>41</td>\n",
              "    </tr>\n",
              "    <tr>\n",
              "      <th>Fresh Tomato Salsa (Mild)</th>\n",
              "      <td>Carnitas Burrito</td>\n",
              "      <td>29</td>\n",
              "    </tr>\n",
              "    <tr>\n",
              "      <th>Fresh Tomato Salsa (Mild)</th>\n",
              "      <td>Chicken Crispy Tacos</td>\n",
              "      <td>26</td>\n",
              "    </tr>\n",
              "    <tr>\n",
              "      <th rowspan=\"10\" valign=\"top\">Roasted Chili Corn Salsa</th>\n",
              "      <th>Roasted Chili Corn Salsa</th>\n",
              "      <td>Chicken Bowl</td>\n",
              "      <td>502</td>\n",
              "    </tr>\n",
              "    <tr>\n",
              "      <th>Roasted Chili Corn Salsa</th>\n",
              "      <td>Chicken Burrito</td>\n",
              "      <td>294</td>\n",
              "    </tr>\n",
              "    <tr>\n",
              "      <th>Roasted Chili Corn Salsa</th>\n",
              "      <td>Steak Burrito</td>\n",
              "      <td>239</td>\n",
              "    </tr>\n",
              "    <tr>\n",
              "      <th>Roasted Chili Corn Salsa</th>\n",
              "      <td>Steak Bowl</td>\n",
              "      <td>198</td>\n",
              "    </tr>\n",
              "    <tr>\n",
              "      <th>Roasted Chili Corn Salsa</th>\n",
              "      <td>Veggie Bowl</td>\n",
              "      <td>113</td>\n",
              "    </tr>\n",
              "    <tr>\n",
              "      <th>Roasted Chili Corn Salsa</th>\n",
              "      <td>Chicken Soft Tacos</td>\n",
              "      <td>95</td>\n",
              "    </tr>\n",
              "    <tr>\n",
              "      <th>Roasted Chili Corn Salsa</th>\n",
              "      <td>Barbacoa Burrito</td>\n",
              "      <td>93</td>\n",
              "    </tr>\n",
              "    <tr>\n",
              "      <th>Roasted Chili Corn Salsa</th>\n",
              "      <td>Carnitas Bowl</td>\n",
              "      <td>83</td>\n",
              "    </tr>\n",
              "    <tr>\n",
              "      <th>Roasted Chili Corn Salsa</th>\n",
              "      <td>Chicken Salad Bowl</td>\n",
              "      <td>76</td>\n",
              "    </tr>\n",
              "    <tr>\n",
              "      <th>Roasted Chili Corn Salsa</th>\n",
              "      <td>Chicken Crispy Tacos</td>\n",
              "      <td>47</td>\n",
              "    </tr>\n",
              "    <tr>\n",
              "      <th>...</th>\n",
              "      <th>...</th>\n",
              "      <td>...</td>\n",
              "      <td>...</td>\n",
              "    </tr>\n",
              "    <tr>\n",
              "      <th rowspan=\"10\" valign=\"top\">Tomatillo Red Chili Salsa</th>\n",
              "      <th>Tomatillo Red Chili Salsa</th>\n",
              "      <td>Chicken Burrito</td>\n",
              "      <td>295</td>\n",
              "    </tr>\n",
              "    <tr>\n",
              "      <th>Tomatillo Red Chili Salsa</th>\n",
              "      <td>Chicken Bowl</td>\n",
              "      <td>286</td>\n",
              "    </tr>\n",
              "    <tr>\n",
              "      <th>Tomatillo Red Chili Salsa</th>\n",
              "      <td>Steak Burrito</td>\n",
              "      <td>162</td>\n",
              "    </tr>\n",
              "    <tr>\n",
              "      <th>Tomatillo Red Chili Salsa</th>\n",
              "      <td>Steak Bowl</td>\n",
              "      <td>107</td>\n",
              "    </tr>\n",
              "    <tr>\n",
              "      <th>Tomatillo Red Chili Salsa</th>\n",
              "      <td>Barbacoa Burrito</td>\n",
              "      <td>89</td>\n",
              "    </tr>\n",
              "    <tr>\n",
              "      <th>Tomatillo Red Chili Salsa</th>\n",
              "      <td>Barbacoa Bowl</td>\n",
              "      <td>74</td>\n",
              "    </tr>\n",
              "    <tr>\n",
              "      <th>Tomatillo Red Chili Salsa</th>\n",
              "      <td>Veggie Bowl</td>\n",
              "      <td>52</td>\n",
              "    </tr>\n",
              "    <tr>\n",
              "      <th>Tomatillo Red Chili Salsa</th>\n",
              "      <td>Veggie Burrito</td>\n",
              "      <td>47</td>\n",
              "    </tr>\n",
              "    <tr>\n",
              "      <th>Tomatillo Red Chili Salsa</th>\n",
              "      <td>Barbacoa Soft Tacos</td>\n",
              "      <td>47</td>\n",
              "    </tr>\n",
              "    <tr>\n",
              "      <th>Tomatillo Red Chili Salsa</th>\n",
              "      <td>Carnitas Soft Tacos</td>\n",
              "      <td>45</td>\n",
              "    </tr>\n",
              "    <tr>\n",
              "      <th rowspan=\"10\" valign=\"top\">Tomatillo-Green Chili Salsa (Medium)</th>\n",
              "      <th>Tomatillo-Green Chili Salsa (Medium)</th>\n",
              "      <td>Chicken Burrito</td>\n",
              "      <td>161</td>\n",
              "    </tr>\n",
              "    <tr>\n",
              "      <th>Tomatillo-Green Chili Salsa (Medium)</th>\n",
              "      <td>Chicken Bowl</td>\n",
              "      <td>115</td>\n",
              "    </tr>\n",
              "    <tr>\n",
              "      <th>Tomatillo-Green Chili Salsa (Medium)</th>\n",
              "      <td>Steak Burrito</td>\n",
              "      <td>83</td>\n",
              "    </tr>\n",
              "    <tr>\n",
              "      <th>Tomatillo-Green Chili Salsa (Medium)</th>\n",
              "      <td>Steak Bowl</td>\n",
              "      <td>44</td>\n",
              "    </tr>\n",
              "    <tr>\n",
              "      <th>Tomatillo-Green Chili Salsa (Medium)</th>\n",
              "      <td>Barbacoa Bowl</td>\n",
              "      <td>30</td>\n",
              "    </tr>\n",
              "    <tr>\n",
              "      <th>Tomatillo-Green Chili Salsa (Medium)</th>\n",
              "      <td>Veggie Burrito</td>\n",
              "      <td>30</td>\n",
              "    </tr>\n",
              "    <tr>\n",
              "      <th>Tomatillo-Green Chili Salsa (Medium)</th>\n",
              "      <td>Barbacoa Burrito</td>\n",
              "      <td>30</td>\n",
              "    </tr>\n",
              "    <tr>\n",
              "      <th>Tomatillo-Green Chili Salsa (Medium)</th>\n",
              "      <td>Steak Soft Tacos</td>\n",
              "      <td>26</td>\n",
              "    </tr>\n",
              "    <tr>\n",
              "      <th>Tomatillo-Green Chili Salsa (Medium)</th>\n",
              "      <td>Veggie Bowl</td>\n",
              "      <td>22</td>\n",
              "    </tr>\n",
              "    <tr>\n",
              "      <th>Tomatillo-Green Chili Salsa (Medium)</th>\n",
              "      <td>Chicken Soft Tacos</td>\n",
              "      <td>12</td>\n",
              "    </tr>\n",
              "    <tr>\n",
              "      <th rowspan=\"10\" valign=\"top\">Tomatillo-Red Chili Salsa (Hot)</th>\n",
              "      <th>Tomatillo-Red Chili Salsa (Hot)</th>\n",
              "      <td>Chicken Bowl</td>\n",
              "      <td>348</td>\n",
              "    </tr>\n",
              "    <tr>\n",
              "      <th>Tomatillo-Red Chili Salsa (Hot)</th>\n",
              "      <td>Chicken Burrito</td>\n",
              "      <td>226</td>\n",
              "    </tr>\n",
              "    <tr>\n",
              "      <th>Tomatillo-Red Chili Salsa (Hot)</th>\n",
              "      <td>Steak Burrito</td>\n",
              "      <td>203</td>\n",
              "    </tr>\n",
              "    <tr>\n",
              "      <th>Tomatillo-Red Chili Salsa (Hot)</th>\n",
              "      <td>Steak Bowl</td>\n",
              "      <td>91</td>\n",
              "    </tr>\n",
              "    <tr>\n",
              "      <th>Tomatillo-Red Chili Salsa (Hot)</th>\n",
              "      <td>Carnitas Bowl</td>\n",
              "      <td>56</td>\n",
              "    </tr>\n",
              "    <tr>\n",
              "      <th>Tomatillo-Red Chili Salsa (Hot)</th>\n",
              "      <td>Veggie Bowl</td>\n",
              "      <td>38</td>\n",
              "    </tr>\n",
              "    <tr>\n",
              "      <th>Tomatillo-Red Chili Salsa (Hot)</th>\n",
              "      <td>Barbacoa Burrito</td>\n",
              "      <td>38</td>\n",
              "    </tr>\n",
              "    <tr>\n",
              "      <th>Tomatillo-Red Chili Salsa (Hot)</th>\n",
              "      <td>Chicken Soft Tacos</td>\n",
              "      <td>36</td>\n",
              "    </tr>\n",
              "    <tr>\n",
              "      <th>Tomatillo-Red Chili Salsa (Hot)</th>\n",
              "      <td>Veggie Burrito</td>\n",
              "      <td>33</td>\n",
              "    </tr>\n",
              "    <tr>\n",
              "      <th>Tomatillo-Red Chili Salsa (Hot)</th>\n",
              "      <td>Steak Soft Tacos</td>\n",
              "      <td>28</td>\n",
              "    </tr>\n",
              "  </tbody>\n",
              "</table>\n",
              "<p>82 rows × 2 columns</p>\n",
              "</div>"
            ]
          },
          "metadata": {
            "tags": []
          },
          "execution_count": 55
        }
      ]
    },
    {
      "cell_type": "markdown",
      "metadata": {
        "id": "erx4Ocgny3CV"
      },
      "source": [
        "### Step 10. How many times Black Beans have been ordered? Which item is the most popular combination with Black Beans? Which choice is the most popular combination with Black Beans? (15%)"
      ]
    },
    {
      "cell_type": "code",
      "metadata": {
        "id": "kh72H-xtiZiS",
        "colab": {
          "base_uri": "https://localhost:8080/"
        },
        "outputId": "9fedaaa6-f7fc-4380-ceeb-45ec4f046fa6"
      },
      "source": [
        "m_quantity[m_quantity['non_salsa'] == 'Black Beans'].groupby(['salsa','non_salsa'])['quantity'].sum().reset_index().max()"
      ],
      "execution_count": 34,
      "outputs": [
        {
          "output_type": "execute_result",
          "data": {
            "text/plain": [
              "salsa        Tomatillo-Red Chili Salsa (Hot)\n",
              "non_salsa                        Black Beans\n",
              "quantity                                 517\n",
              "dtype: object"
            ]
          },
          "metadata": {
            "tags": []
          },
          "execution_count": 34
        }
      ]
    }
  ]
}