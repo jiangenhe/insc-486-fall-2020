{
  "nbformat": 4,
  "nbformat_minor": 0,
  "metadata": {
    "anaconda-cloud": {},
    "kernelspec": {
      "display_name": "Python [default]",
      "language": "python",
      "name": "python2"
    },
    "language_info": {
      "codemirror_mode": {
        "name": "ipython",
        "version": 2
      },
      "file_extension": ".py",
      "mimetype": "text/x-python",
      "name": "python",
      "nbconvert_exporter": "python",
      "pygments_lexer": "ipython2",
      "version": "2.7.12"
    },
    "colab": {
      "name": "Assignment 2.ipynb",
      "provenance": [],
      "include_colab_link": true
    }
  },
  "cells": [
    {
      "cell_type": "markdown",
      "metadata": {
        "id": "view-in-github",
        "colab_type": "text"
      },
      "source": [
        "<a href=\"https://colab.research.google.com/github/jiangenhe/insc-486-fall-2021/blob/main/assignment2/Assignment_2.ipynb\" target=\"_parent\"><img src=\"https://colab.research.google.com/assets/colab-badge.svg\" alt=\"Open In Colab\"/></a>"
      ]
    },
    {
      "cell_type": "markdown",
      "metadata": {
        "id": "nm-6L0xuEoXQ"
      },
      "source": [
        "# INSC 486 - Assignment 2\n",
        "\n",
        "- Due: 10/01, Friday, 11:59 pm\n",
        "- Submit your Colab link through Canvas\n",
        "- This assignment is worth 90 points that accounts for 9% of your final grade.\n",
        "- **Code efficiency will be considered in grading.**\n",
        "\n",
        "Learning Objectives:\n",
        "- Clean data\n",
        "- Combine and merge datasets\n",
        "- String manipulation\n",
        "- Practice your pandas skills"
      ]
    },
    {
      "cell_type": "markdown",
      "metadata": {
        "id": "RdB58f2PQxBV"
      },
      "source": [
        "## Part 1 Auto MPG Data (25 points)\n",
        "The following exercise utilizes data from UC Irvine Machine Learning Repository. You can learn more about the dataset by [the link](https://archive.ics.uci.edu/ml/datasets/Auto+MPG)."
      ]
    },
    {
      "cell_type": "markdown",
      "metadata": {
        "id": "-dvbfYa3E2oT"
      },
      "source": [
        "### Step 1. Import the pandas and NumPy libraries"
      ]
    },
    {
      "cell_type": "code",
      "metadata": {
        "id": "6RVufE0yEoXQ"
      },
      "source": [
        "import numpy as np\n",
        "import pandas as pd"
      ],
      "execution_count": null,
      "outputs": []
    },
    {
      "cell_type": "markdown",
      "metadata": {
        "id": "CmHiINsFEoXR"
      },
      "source": [
        "### Step 2. Import dataset cars1.csv to DataFrame cars1 (2 points)\n",
        "You can load the dataset by the following URL without downloading the data.\n",
        "\n",
        "https://raw.githubusercontent.com/jiangenhe/insc-486-fall-2021/main/assignment2/cars2.csv\n",
        "\n",
        "pandas.read_csv can csv from any valid string path. The string could be a URL. Valid URL schemes include http, ftp, s3, gs, and file. For file URLs, a host is expected.\n",
        "\n"
      ]
    },
    {
      "cell_type": "code",
      "metadata": {
        "id": "00ZxO665EhN-"
      },
      "source": [
        ""
      ],
      "execution_count": null,
      "outputs": []
    },
    {
      "cell_type": "markdown",
      "metadata": {
        "id": "CuQ6dNIDGZIQ"
      },
      "source": [
        "### Step 3. car1 dataset has some unnamed blank columns. Fix cars1 dataset by removing these blank columns. (5 points)"
      ]
    },
    {
      "cell_type": "code",
      "metadata": {
        "id": "ToW3pJ3zG4uH"
      },
      "source": [
        ""
      ],
      "execution_count": null,
      "outputs": []
    },
    {
      "cell_type": "markdown",
      "metadata": {
        "id": "_tY0J3B-EoXR"
      },
      "source": [
        "   ### Step 4. Supposing clyinder is critical information in your analysis, so you need to remove rows where cylinder column is NaN (5 points)"
      ]
    },
    {
      "cell_type": "code",
      "metadata": {
        "id": "Qk2XQLaGEoXR"
      },
      "source": [
        ""
      ],
      "execution_count": null,
      "outputs": []
    },
    {
      "cell_type": "markdown",
      "metadata": {
        "id": "srhMoFeBEoXS"
      },
      "source": [
        "### Step 5. Use the mean of displacement to fill NaN in displayment column. (5 points)"
      ]
    },
    {
      "cell_type": "code",
      "metadata": {
        "id": "pkwb4ZXFEoXT"
      },
      "source": [
        ""
      ],
      "execution_count": null,
      "outputs": []
    },
    {
      "cell_type": "markdown",
      "metadata": {
        "id": "Mo-qM7EYEoXT"
      },
      "source": [
        "### Step 6. Join cars1 and cars2 into a single DataFrame called cars (5 points)\n",
        "\n",
        "cars2: https://raw.githubusercontent.com/jiangenhe/insc-486-fall-2021/main/assignment2/cars1.csv"
      ]
    },
    {
      "cell_type": "code",
      "metadata": {
        "id": "U1Bui1mCEoXT"
      },
      "source": [
        ""
      ],
      "execution_count": null,
      "outputs": []
    },
    {
      "cell_type": "markdown",
      "metadata": {
        "id": "2xUvbIMFEoXT"
      },
      "source": [
        "### Step 7. What is the number of observations in each dataset? (3 points)"
      ]
    },
    {
      "cell_type": "code",
      "metadata": {
        "id": "sKFRmy_bEoXU"
      },
      "source": [
        ""
      ],
      "execution_count": null,
      "outputs": []
    },
    {
      "cell_type": "markdown",
      "metadata": {
        "id": "gdJACq-7T8lm"
      },
      "source": [
        "## Part 2 Merge datasets (25 points)"
      ]
    },
    {
      "cell_type": "markdown",
      "metadata": {
        "id": "Jl85sbxeUSfV"
      },
      "source": [
        "### Step 1. Import pandas"
      ]
    },
    {
      "cell_type": "code",
      "metadata": {
        "id": "CS0kfHpgUSfV"
      },
      "source": [
        ""
      ],
      "execution_count": null,
      "outputs": []
    },
    {
      "cell_type": "markdown",
      "metadata": {
        "id": "1Smjyt0AUSfW"
      },
      "source": [
        "### Step 2. Create the 3 DataFrames based on the following raw data and assign each to a variable called data1, data2, data3"
      ]
    },
    {
      "cell_type": "code",
      "metadata": {
        "collapsed": true,
        "id": "kqhO3tMuUSfW"
      },
      "source": [
        "raw_data_1 = {\n",
        "        'subject_id': ['1', '2', '3', '4', '5'],\n",
        "        'first_name': ['Alex', 'Amy', 'Allen', 'Alice', 'Ayoung'], \n",
        "        'last_name': ['Anderson', 'Ackerman', 'Ali', 'Aoni', 'Atiches']}\n",
        "\n",
        "raw_data_2 = {\n",
        "        'subject_id': ['4', '5', '6', '7', '8'],\n",
        "        'first_name': ['Billy', 'Brian', 'Bran', 'Bryce', 'Betty'], \n",
        "        'last_name': ['Bonder', 'Black', 'Balwner', 'Brice', 'Btisan']}\n",
        "\n",
        "raw_data_3 = {\n",
        "        'subject_id': ['1', '2', '3', '4', '5', '7', '8', '9', '10', '11'],\n",
        "        'test_id': [51, 15, 15, 61, 16, 14, 15, 1, 61, 16]}"
      ],
      "execution_count": null,
      "outputs": []
    },
    {
      "cell_type": "markdown",
      "metadata": {
        "id": "ymf-bv1AUSfX"
      },
      "source": [
        "### Step 3. Concatenate the two dataframes along rows and assign to varialbe called all (5 points)"
      ]
    },
    {
      "cell_type": "code",
      "metadata": {
        "id": "z_IAl-9ZUSfX"
      },
      "source": [
        ""
      ],
      "execution_count": null,
      "outputs": []
    },
    {
      "cell_type": "markdown",
      "metadata": {
        "id": "SHpz3xmMUSfX"
      },
      "source": [
        "### Step 4. Concatenate the two dataframes along columns and assing to variable called all_col (5 points)"
      ]
    },
    {
      "cell_type": "code",
      "metadata": {
        "id": "qV64HbtLUSfY"
      },
      "source": [
        ""
      ],
      "execution_count": null,
      "outputs": []
    },
    {
      "cell_type": "markdown",
      "metadata": {
        "id": "K55ML2rTUSfY"
      },
      "source": [
        "### Step 5. Merge all and data3 along the subject_id value (5 points)"
      ]
    },
    {
      "cell_type": "code",
      "metadata": {
        "id": "EHWAGAc8USfY"
      },
      "source": [
        ""
      ],
      "execution_count": null,
      "outputs": []
    },
    {
      "cell_type": "markdown",
      "metadata": {
        "id": "41Q7or1RUSfZ"
      },
      "source": [
        "### Step 6. Merge only the data that has the same 'subject_id' on both data1 and data2 (5 points)"
      ]
    },
    {
      "cell_type": "code",
      "metadata": {
        "id": "QVIoLXIaUSfZ"
      },
      "source": [
        ""
      ],
      "execution_count": null,
      "outputs": []
    },
    {
      "cell_type": "markdown",
      "metadata": {
        "id": "DuV2VDNjUSfZ"
      },
      "source": [
        "### Step 7. Merge all values in data1 and data2, with matching records from both sides where available. (5 points)"
      ]
    },
    {
      "cell_type": "code",
      "metadata": {
        "id": "Mh3ZsylcssTr"
      },
      "source": [
        ""
      ],
      "execution_count": null,
      "outputs": []
    },
    {
      "cell_type": "markdown",
      "metadata": {
        "id": "i5t0RFo7sf7_"
      },
      "source": [
        "## Part 3 Chipotle (40 points)"
      ]
    },
    {
      "cell_type": "markdown",
      "metadata": {
        "id": "PzhQYev3sf8F"
      },
      "source": [
        "\n",
        "\n",
        "### Step 1. Import pandas"
      ]
    },
    {
      "cell_type": "code",
      "metadata": {
        "id": "4s8Yvq7wsf8G"
      },
      "source": [
        ""
      ],
      "execution_count": null,
      "outputs": []
    },
    {
      "cell_type": "markdown",
      "metadata": {
        "id": "x77DYxKZsf8G"
      },
      "source": [
        "### Step 2. Import the dataset from this link: https://raw.githubusercontent.com/jiangenhe/insc-486-fall-2021/main/assignment2/chipotle.tsv, and assign it to a variable called chipotle. (2 points)"
      ]
    },
    {
      "cell_type": "code",
      "metadata": {
        "id": "bAsE-_3ctFBd"
      },
      "source": [
        ""
      ],
      "execution_count": null,
      "outputs": []
    },
    {
      "cell_type": "markdown",
      "metadata": {
        "id": "ocC0dHghsf8H"
      },
      "source": [
        "### Step 3. How many products cost more than ten dolloars? (6%)\n",
        "(Use item_name and choice_description to define a product)"
      ]
    },
    {
      "cell_type": "code",
      "metadata": {
        "id": "N3mjEh6nsf8H"
      },
      "source": [
        ""
      ],
      "execution_count": null,
      "outputs": []
    },
    {
      "cell_type": "markdown",
      "metadata": {
        "id": "mXt1lFAFsf8I"
      },
      "source": [
        "### Step 4. Sort by the name of the item (4%)"
      ]
    },
    {
      "cell_type": "code",
      "metadata": {
        "id": "UZt-cN59sf8I"
      },
      "source": [
        ""
      ],
      "execution_count": null,
      "outputs": []
    },
    {
      "cell_type": "markdown",
      "metadata": {
        "id": "XELB4UP9sf8J"
      },
      "source": [
        "### Step 5. What was the quantity of the most expensive item ordered? (6%)"
      ]
    },
    {
      "cell_type": "code",
      "metadata": {
        "id": "-2dAEyIQsf8J"
      },
      "source": [
        ""
      ],
      "execution_count": null,
      "outputs": []
    },
    {
      "cell_type": "markdown",
      "metadata": {
        "id": "my4TKxtasf8J"
      },
      "source": [
        "### Step 6. How many times was a Veggie Soft Tacos ordered? (6%)"
      ]
    },
    {
      "cell_type": "code",
      "metadata": {
        "id": "dVzTvprrsf8J"
      },
      "source": [
        ""
      ],
      "execution_count": null,
      "outputs": []
    },
    {
      "cell_type": "markdown",
      "metadata": {
        "id": "is5nGu6zsf8K"
      },
      "source": [
        "### Step 7. How many times did someone order more than one Canned Soda? (6%)"
      ]
    },
    {
      "cell_type": "code",
      "metadata": {
        "id": "lQ9lN7_Osf8K"
      },
      "source": [
        ""
      ],
      "execution_count": null,
      "outputs": []
    },
    {
      "cell_type": "markdown",
      "metadata": {
        "id": "5vXJt8iiww-X"
      },
      "source": [
        "### Step 8. Create a coloumn for Salsa and remove salsa from choice_description. Which Salsa is the most popular one? (10%)"
      ]
    },
    {
      "cell_type": "code",
      "metadata": {
        "id": "HD1i3bCHxDXl"
      },
      "source": [
        ""
      ],
      "execution_count": null,
      "outputs": []
    }
  ]
}