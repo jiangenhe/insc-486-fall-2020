{
  "nbformat": 4,
  "nbformat_minor": 0,
  "metadata": {
    "colab": {
      "name": "lab2_read_csv_numpy.ipynb",
      "provenance": [],
      "authorship_tag": "ABX9TyPAMAqrqbU11uSvm+jnsFgL",
      "include_colab_link": true
    },
    "kernelspec": {
      "name": "python3",
      "display_name": "Python 3"
    }
  },
  "cells": [
    {
      "cell_type": "markdown",
      "metadata": {
        "id": "view-in-github",
        "colab_type": "text"
      },
      "source": [
        "<a href=\"https://colab.research.google.com/github/jiangenhe/insc-486-fall-2021/blob/main/week3/lab2_read_csv_numpy.ipynb\" target=\"_parent\"><img src=\"https://colab.research.google.com/assets/colab-badge.svg\" alt=\"Open In Colab\"/></a>"
      ]
    },
    {
      "cell_type": "markdown",
      "metadata": {
        "id": "VvoYqZR4QLpm"
      },
      "source": [
        "# Lab 2: Numpy"
      ]
    },
    {
      "cell_type": "markdown",
      "metadata": {
        "id": "fP-aPv-cRqLv"
      },
      "source": [
        "## 1. Write a NumPy program to create an array of 5 zeros, an array of 5 ones, an array of 5 fives."
      ]
    },
    {
      "cell_type": "code",
      "metadata": {
        "id": "TO1-1irbShhd"
      },
      "source": [
        ""
      ],
      "execution_count": null,
      "outputs": []
    },
    {
      "cell_type": "markdown",
      "metadata": {
        "id": "ImMekSbCSDkT"
      },
      "source": [
        "## 2. Write a NumPy program to create an array of all the even integers from 20 to 50."
      ]
    },
    {
      "cell_type": "code",
      "metadata": {
        "id": "RIhenC3uSrRk"
      },
      "source": [
        ""
      ],
      "execution_count": null,
      "outputs": []
    },
    {
      "cell_type": "markdown",
      "metadata": {
        "id": "rKH1wO66Ss_5"
      },
      "source": [
        "## 3. Write a NumPy program to split an array of 14 elements into 2 arrays, each of which has 6 and 8 elements in the original order. \n",
        "\n",
        "  Expected Output:\n",
        "\n",
        "  Original array: [ 1 2 3 4 5 6 7 8 9 10 11 12 13 14]\n",
        "\n",
        "  After splitting:\n",
        "\n",
        "  [array([1, 2, 3, 4, 5, 6]), array([ 7, 8, 9, 10, 11, 12, 13, 14])]"
      ]
    },
    {
      "cell_type": "code",
      "metadata": {
        "id": "852B_jbIRoz1"
      },
      "source": [
        ""
      ],
      "execution_count": null,
      "outputs": []
    },
    {
      "cell_type": "markdown",
      "metadata": {
        "id": "p5jB9Ph6ULb8"
      },
      "source": [
        "## 4. Use conditional indexing to select values larger than 5 from the original array you created in question 3. "
      ]
    },
    {
      "cell_type": "code",
      "metadata": {
        "id": "0A-9AeiWVAtq"
      },
      "source": [
        ""
      ],
      "execution_count": null,
      "outputs": []
    },
    {
      "cell_type": "markdown",
      "metadata": {
        "id": "QD2J59HjVBQq"
      },
      "source": [
        "## 5. Get maximum value from the second row and minimum value from the second column."
      ]
    },
    {
      "cell_type": "code",
      "metadata": {
        "id": "CFbS3E4eVsW4"
      },
      "source": [
        "a = np.array([[7, 8, 9], [10, 11, 12], [22,32,1]])"
      ],
      "execution_count": null,
      "outputs": []
    }
  ]
}
