{
  "nbformat": 4,
  "nbformat_minor": 0,
  "metadata": {
    "kernelspec": {
      "display_name": "Python 3",
      "language": "python",
      "name": "python3"
    },
    "language_info": {
      "codemirror_mode": {
        "name": "ipython",
        "version": 3
      },
      "file_extension": ".py",
      "mimetype": "text/x-python",
      "name": "python",
      "nbconvert_exporter": "python",
      "pygments_lexer": "ipython3",
      "version": "3.6.0"
    },
    "colab": {
      "name": "Week 6 - lecture - groupby.ipynb",
      "provenance": [],
      "collapsed_sections": [
        "gzfiFsBOUx-Y",
        "4i7EZ6PZUx-Z",
        "r5t6lMIeUx-b",
        "91UgG67pUx-b",
        "djsRTbHCUx-c",
        "YQBKDeOsUx-e",
        "SZp1XzFUUx-f",
        "rmUAykAcUx-g",
        "lcjHi8XpUx-i"
      ],
      "include_colab_link": true
    }
  },
  "cells": [
    {
      "cell_type": "markdown",
      "metadata": {
        "id": "view-in-github",
        "colab_type": "text"
      },
      "source": [
        "<a href=\"https://colab.research.google.com/github/jiangenhe/insc-486-2021-spring/blob/main/week6/Week_6_lecture_groupby.ipynb\" target=\"_parent\"><img src=\"https://colab.research.google.com/assets/colab-badge.svg\" alt=\"Open In Colab\"/></a>"
      ]
    },
    {
      "cell_type": "markdown",
      "metadata": {
        "deletable": true,
        "editable": true,
        "id": "X62SZ53vUx-N"
      },
      "source": [
        "# Data Aggregation and Group Operations"
      ]
    },
    {
      "cell_type": "code",
      "metadata": {
        "deletable": true,
        "editable": true,
        "id": "ago3gVP4Ux-P"
      },
      "source": [
        "import numpy as np\n",
        "import pandas as pd\n",
        "PREVIOUS_MAX_ROWS = pd.options.display.max_rows\n",
        "pd.options.display.max_rows = 20\n",
        "np.random.seed(12345)\n",
        "import matplotlib.pyplot as plt\n",
        "plt.rc('figure', figsize=(10, 6))\n",
        "np.set_printoptions(precision=4, suppress=True)"
      ],
      "execution_count": 5,
      "outputs": []
    },
    {
      "cell_type": "markdown",
      "metadata": {
        "deletable": true,
        "editable": true,
        "id": "_tcUtqWwUx-P"
      },
      "source": [
        "## GroupBy Mechanics"
      ]
    },
    {
      "cell_type": "code",
      "metadata": {
        "deletable": true,
        "editable": true,
        "colab": {
          "base_uri": "https://localhost:8080/",
          "height": 204
        },
        "id": "6Gj0_yJaUx-Q",
        "outputId": "b0f3c655-2d3e-4056-a644-09c495e45e77"
      },
      "source": [
        "df = pd.DataFrame({'key1' : ['a', 'a', 'b', 'b', 'a'],\n",
        "                   'key2' : ['one', 'two', 'one', 'two', 'one'],\n",
        "                   'data1' : np.random.randn(5),\n",
        "                   'data2' : np.random.randn(5)})\n",
        "df"
      ],
      "execution_count": 6,
      "outputs": [
        {
          "output_type": "execute_result",
          "data": {
            "text/html": [
              "<div>\n",
              "<style scoped>\n",
              "    .dataframe tbody tr th:only-of-type {\n",
              "        vertical-align: middle;\n",
              "    }\n",
              "\n",
              "    .dataframe tbody tr th {\n",
              "        vertical-align: top;\n",
              "    }\n",
              "\n",
              "    .dataframe thead th {\n",
              "        text-align: right;\n",
              "    }\n",
              "</style>\n",
              "<table border=\"1\" class=\"dataframe\">\n",
              "  <thead>\n",
              "    <tr style=\"text-align: right;\">\n",
              "      <th></th>\n",
              "      <th>key1</th>\n",
              "      <th>key2</th>\n",
              "      <th>data1</th>\n",
              "      <th>data2</th>\n",
              "    </tr>\n",
              "  </thead>\n",
              "  <tbody>\n",
              "    <tr>\n",
              "      <th>0</th>\n",
              "      <td>a</td>\n",
              "      <td>one</td>\n",
              "      <td>-0.204708</td>\n",
              "      <td>1.393406</td>\n",
              "    </tr>\n",
              "    <tr>\n",
              "      <th>1</th>\n",
              "      <td>a</td>\n",
              "      <td>two</td>\n",
              "      <td>0.478943</td>\n",
              "      <td>0.092908</td>\n",
              "    </tr>\n",
              "    <tr>\n",
              "      <th>2</th>\n",
              "      <td>b</td>\n",
              "      <td>one</td>\n",
              "      <td>-0.519439</td>\n",
              "      <td>0.281746</td>\n",
              "    </tr>\n",
              "    <tr>\n",
              "      <th>3</th>\n",
              "      <td>b</td>\n",
              "      <td>two</td>\n",
              "      <td>-0.555730</td>\n",
              "      <td>0.769023</td>\n",
              "    </tr>\n",
              "    <tr>\n",
              "      <th>4</th>\n",
              "      <td>a</td>\n",
              "      <td>one</td>\n",
              "      <td>1.965781</td>\n",
              "      <td>1.246435</td>\n",
              "    </tr>\n",
              "  </tbody>\n",
              "</table>\n",
              "</div>"
            ],
            "text/plain": [
              "  key1 key2     data1     data2\n",
              "0    a  one -0.204708  1.393406\n",
              "1    a  two  0.478943  0.092908\n",
              "2    b  one -0.519439  0.281746\n",
              "3    b  two -0.555730  0.769023\n",
              "4    a  one  1.965781  1.246435"
            ]
          },
          "metadata": {
            "tags": []
          },
          "execution_count": 6
        }
      ]
    },
    {
      "cell_type": "markdown",
      "metadata": {
        "deletable": true,
        "editable": true,
        "id": "mUEfLVG6Ux-S"
      },
      "source": [
        "### Iterating Over Groups"
      ]
    },
    {
      "cell_type": "code",
      "metadata": {
        "deletable": true,
        "editable": true,
        "colab": {
          "base_uri": "https://localhost:8080/"
        },
        "id": "pDGRG3vfUx-S",
        "outputId": "e491fb2a-2ed4-4bd7-e8f5-1d3d9a08ad4d"
      },
      "source": [
        "for name, group in df.groupby('key1'):\n",
        "    print(name)\n",
        "    print(group)"
      ],
      "execution_count": 7,
      "outputs": [
        {
          "output_type": "stream",
          "text": [
            "a\n",
            "  key1 key2     data1     data2\n",
            "0    a  one -0.204708  1.393406\n",
            "1    a  two  0.478943  0.092908\n",
            "4    a  one  1.965781  1.246435\n",
            "b\n",
            "  key1 key2     data1     data2\n",
            "2    b  one -0.519439  0.281746\n",
            "3    b  two -0.555730  0.769023\n"
          ],
          "name": "stdout"
        }
      ]
    },
    {
      "cell_type": "code",
      "metadata": {
        "deletable": true,
        "editable": true,
        "colab": {
          "base_uri": "https://localhost:8080/"
        },
        "id": "-cT3mYPuUx-S",
        "outputId": "a2649dbd-49f7-4efa-a416-35fa96d4ac68"
      },
      "source": [
        "for (k1, k2), group in df.groupby(['key1', 'key2']):\n",
        "    print((k1, k2))\n",
        "    print(group)"
      ],
      "execution_count": 8,
      "outputs": [
        {
          "output_type": "stream",
          "text": [
            "('a', 'one')\n",
            "  key1 key2     data1     data2\n",
            "0    a  one -0.204708  1.393406\n",
            "4    a  one  1.965781  1.246435\n",
            "('a', 'two')\n",
            "  key1 key2     data1     data2\n",
            "1    a  two  0.478943  0.092908\n",
            "('b', 'one')\n",
            "  key1 key2     data1     data2\n",
            "2    b  one -0.519439  0.281746\n",
            "('b', 'two')\n",
            "  key1 key2    data1     data2\n",
            "3    b  two -0.55573  0.769023\n"
          ],
          "name": "stdout"
        }
      ]
    },
    {
      "cell_type": "markdown",
      "metadata": {
        "deletable": true,
        "editable": true,
        "id": "skji4a-wUx-T"
      },
      "source": [
        "### Selecting a Column or Subset of Columns"
      ]
    },
    {
      "cell_type": "code",
      "metadata": {
        "deletable": true,
        "editable": true,
        "colab": {
          "base_uri": "https://localhost:8080/"
        },
        "id": "7gbfKbenUx-U",
        "outputId": "5122493c-ec96-4bd6-db58-6d506c0dcc0a"
      },
      "source": [
        "df.groupby('key1')['data1'] \n",
        "df.groupby('key1')[['data2']]"
      ],
      "execution_count": 13,
      "outputs": [
        {
          "output_type": "execute_result",
          "data": {
            "text/plain": [
              "<pandas.core.groupby.generic.DataFrameGroupBy object at 0x7fcfbc6fec50>"
            ]
          },
          "metadata": {
            "tags": []
          },
          "execution_count": 13
        }
      ]
    },
    {
      "cell_type": "markdown",
      "metadata": {
        "deletable": true,
        "editable": true,
        "id": "duv8vlXgUx-U"
      },
      "source": [
        "### Grouping with Dicts and Series"
      ]
    },
    {
      "cell_type": "code",
      "metadata": {
        "deletable": true,
        "editable": true,
        "colab": {
          "base_uri": "https://localhost:8080/",
          "height": 204
        },
        "id": "viIA61sMUx-V",
        "outputId": "e017f2bd-db24-4f0f-baf3-1e0cb0bfe690"
      },
      "source": [
        "people = pd.DataFrame(np.random.randn(5, 5),\n",
        "                      columns=['a', 'b', 'c', 'd', 'e'],\n",
        "                      index=['Information', 'Information', 'Communication', 'Marketing', 'Accounting'])\n",
        "\n",
        "people"
      ],
      "execution_count": 21,
      "outputs": [
        {
          "output_type": "execute_result",
          "data": {
            "text/html": [
              "<div>\n",
              "<style scoped>\n",
              "    .dataframe tbody tr th:only-of-type {\n",
              "        vertical-align: middle;\n",
              "    }\n",
              "\n",
              "    .dataframe tbody tr th {\n",
              "        vertical-align: top;\n",
              "    }\n",
              "\n",
              "    .dataframe thead th {\n",
              "        text-align: right;\n",
              "    }\n",
              "</style>\n",
              "<table border=\"1\" class=\"dataframe\">\n",
              "  <thead>\n",
              "    <tr style=\"text-align: right;\">\n",
              "      <th></th>\n",
              "      <th>a</th>\n",
              "      <th>b</th>\n",
              "      <th>c</th>\n",
              "      <th>d</th>\n",
              "      <th>e</th>\n",
              "    </tr>\n",
              "  </thead>\n",
              "  <tbody>\n",
              "    <tr>\n",
              "      <th>Information</th>\n",
              "      <td>0.862580</td>\n",
              "      <td>-0.010032</td>\n",
              "      <td>0.050009</td>\n",
              "      <td>0.670216</td>\n",
              "      <td>0.852965</td>\n",
              "    </tr>\n",
              "    <tr>\n",
              "      <th>Information</th>\n",
              "      <td>-0.955869</td>\n",
              "      <td>-0.023493</td>\n",
              "      <td>-2.304234</td>\n",
              "      <td>-0.652469</td>\n",
              "      <td>-1.218302</td>\n",
              "    </tr>\n",
              "    <tr>\n",
              "      <th>Communication</th>\n",
              "      <td>-1.332610</td>\n",
              "      <td>1.074623</td>\n",
              "      <td>0.723642</td>\n",
              "      <td>0.690002</td>\n",
              "      <td>1.001543</td>\n",
              "    </tr>\n",
              "    <tr>\n",
              "      <th>Marketing</th>\n",
              "      <td>-0.503087</td>\n",
              "      <td>-0.622274</td>\n",
              "      <td>-0.921169</td>\n",
              "      <td>-0.726213</td>\n",
              "      <td>0.222896</td>\n",
              "    </tr>\n",
              "    <tr>\n",
              "      <th>Accounting</th>\n",
              "      <td>0.051316</td>\n",
              "      <td>-1.157719</td>\n",
              "      <td>0.816707</td>\n",
              "      <td>0.433610</td>\n",
              "      <td>1.010737</td>\n",
              "    </tr>\n",
              "  </tbody>\n",
              "</table>\n",
              "</div>"
            ],
            "text/plain": [
              "                      a         b         c         d         e\n",
              "Information    0.862580 -0.010032  0.050009  0.670216  0.852965\n",
              "Information   -0.955869 -0.023493 -2.304234 -0.652469 -1.218302\n",
              "Communication -1.332610  1.074623  0.723642  0.690002  1.001543\n",
              "Marketing     -0.503087 -0.622274 -0.921169 -0.726213  0.222896\n",
              "Accounting     0.051316 -1.157719  0.816707  0.433610  1.010737"
            ]
          },
          "metadata": {
            "tags": []
          },
          "execution_count": 21
        }
      ]
    },
    {
      "cell_type": "code",
      "metadata": {
        "deletable": true,
        "editable": true,
        "id": "1R_xSVQSUx-V"
      },
      "source": [
        "mapping = {'Information': 'CCI', 'Communication': 'CCI',\n",
        "           'Marketing': 'Business', 'Accounting': 'Business'}"
      ],
      "execution_count": 22,
      "outputs": []
    },
    {
      "cell_type": "code",
      "metadata": {
        "deletable": true,
        "editable": true,
        "colab": {
          "base_uri": "https://localhost:8080/",
          "height": 111
        },
        "id": "w4Y3l_62Ux-V",
        "outputId": "1ff83d6c-6370-4373-b29c-692251ab8db3"
      },
      "source": [
        "by_column = people.groupby(mapping)\n",
        "by_column.sum()"
      ],
      "execution_count": 23,
      "outputs": [
        {
          "output_type": "execute_result",
          "data": {
            "text/html": [
              "<div>\n",
              "<style scoped>\n",
              "    .dataframe tbody tr th:only-of-type {\n",
              "        vertical-align: middle;\n",
              "    }\n",
              "\n",
              "    .dataframe tbody tr th {\n",
              "        vertical-align: top;\n",
              "    }\n",
              "\n",
              "    .dataframe thead th {\n",
              "        text-align: right;\n",
              "    }\n",
              "</style>\n",
              "<table border=\"1\" class=\"dataframe\">\n",
              "  <thead>\n",
              "    <tr style=\"text-align: right;\">\n",
              "      <th></th>\n",
              "      <th>a</th>\n",
              "      <th>b</th>\n",
              "      <th>c</th>\n",
              "      <th>d</th>\n",
              "      <th>e</th>\n",
              "    </tr>\n",
              "  </thead>\n",
              "  <tbody>\n",
              "    <tr>\n",
              "      <th>Business</th>\n",
              "      <td>-0.451771</td>\n",
              "      <td>-1.779994</td>\n",
              "      <td>-0.104462</td>\n",
              "      <td>-0.292604</td>\n",
              "      <td>1.233632</td>\n",
              "    </tr>\n",
              "    <tr>\n",
              "      <th>CCI</th>\n",
              "      <td>-1.425898</td>\n",
              "      <td>1.041097</td>\n",
              "      <td>-1.530583</td>\n",
              "      <td>0.707749</td>\n",
              "      <td>0.636206</td>\n",
              "    </tr>\n",
              "  </tbody>\n",
              "</table>\n",
              "</div>"
            ],
            "text/plain": [
              "                 a         b         c         d         e\n",
              "Business -0.451771 -1.779994 -0.104462 -0.292604  1.233632\n",
              "CCI      -1.425898  1.041097 -1.530583  0.707749  0.636206"
            ]
          },
          "metadata": {
            "tags": []
          },
          "execution_count": 23
        }
      ]
    },
    {
      "cell_type": "markdown",
      "metadata": {
        "deletable": true,
        "editable": true,
        "id": "COyF5jnuUx-W"
      },
      "source": [
        "### Grouping with Functions"
      ]
    },
    {
      "cell_type": "code",
      "metadata": {
        "deletable": true,
        "editable": true,
        "colab": {
          "base_uri": "https://localhost:8080/",
          "height": 173
        },
        "id": "r9afeVSOUx-W",
        "outputId": "5d810e48-3501-49c4-b35b-e03eff9d8c92"
      },
      "source": [
        "people.groupby(len).sum()"
      ],
      "execution_count": 25,
      "outputs": [
        {
          "output_type": "execute_result",
          "data": {
            "text/html": [
              "<div>\n",
              "<style scoped>\n",
              "    .dataframe tbody tr th:only-of-type {\n",
              "        vertical-align: middle;\n",
              "    }\n",
              "\n",
              "    .dataframe tbody tr th {\n",
              "        vertical-align: top;\n",
              "    }\n",
              "\n",
              "    .dataframe thead th {\n",
              "        text-align: right;\n",
              "    }\n",
              "</style>\n",
              "<table border=\"1\" class=\"dataframe\">\n",
              "  <thead>\n",
              "    <tr style=\"text-align: right;\">\n",
              "      <th></th>\n",
              "      <th>a</th>\n",
              "      <th>b</th>\n",
              "      <th>c</th>\n",
              "      <th>d</th>\n",
              "      <th>e</th>\n",
              "    </tr>\n",
              "  </thead>\n",
              "  <tbody>\n",
              "    <tr>\n",
              "      <th>9</th>\n",
              "      <td>-0.503087</td>\n",
              "      <td>-0.622274</td>\n",
              "      <td>-0.921169</td>\n",
              "      <td>-0.726213</td>\n",
              "      <td>0.222896</td>\n",
              "    </tr>\n",
              "    <tr>\n",
              "      <th>10</th>\n",
              "      <td>0.051316</td>\n",
              "      <td>-1.157719</td>\n",
              "      <td>0.816707</td>\n",
              "      <td>0.433610</td>\n",
              "      <td>1.010737</td>\n",
              "    </tr>\n",
              "    <tr>\n",
              "      <th>11</th>\n",
              "      <td>-0.093289</td>\n",
              "      <td>-0.033525</td>\n",
              "      <td>-2.254225</td>\n",
              "      <td>0.017747</td>\n",
              "      <td>-0.365337</td>\n",
              "    </tr>\n",
              "    <tr>\n",
              "      <th>13</th>\n",
              "      <td>-1.332610</td>\n",
              "      <td>1.074623</td>\n",
              "      <td>0.723642</td>\n",
              "      <td>0.690002</td>\n",
              "      <td>1.001543</td>\n",
              "    </tr>\n",
              "  </tbody>\n",
              "</table>\n",
              "</div>"
            ],
            "text/plain": [
              "           a         b         c         d         e\n",
              "9  -0.503087 -0.622274 -0.921169 -0.726213  0.222896\n",
              "10  0.051316 -1.157719  0.816707  0.433610  1.010737\n",
              "11 -0.093289 -0.033525 -2.254225  0.017747 -0.365337\n",
              "13 -1.332610  1.074623  0.723642  0.690002  1.001543"
            ]
          },
          "metadata": {
            "tags": []
          },
          "execution_count": 25
        }
      ]
    },
    {
      "cell_type": "markdown",
      "metadata": {
        "deletable": true,
        "editable": true,
        "id": "vwGY-CwKUx-W"
      },
      "source": [
        "### Grouping by Index Levels"
      ]
    },
    {
      "cell_type": "code",
      "metadata": {
        "deletable": true,
        "editable": true,
        "colab": {
          "base_uri": "https://localhost:8080/",
          "height": 235
        },
        "id": "vlrlJGkkUx-W",
        "outputId": "df015f8e-c085-42ca-f321-23bd4339a59e"
      },
      "source": [
        "people = pd.DataFrame(np.random.randn(5, 5),\n",
        "                      columns=['a', 'b', 'c', 'd', 'e'],\n",
        "                      index=[['CCI', 'CCI', 'CCI', 'Business', 'Business'],\n",
        "                             ['Information', 'Information', 'Communication', 'Marketing', 'Accounting']])\n",
        "people.index.set_names(['college', 'department'], inplace=True)\n",
        "people"
      ],
      "execution_count": 42,
      "outputs": [
        {
          "output_type": "execute_result",
          "data": {
            "text/html": [
              "<div>\n",
              "<style scoped>\n",
              "    .dataframe tbody tr th:only-of-type {\n",
              "        vertical-align: middle;\n",
              "    }\n",
              "\n",
              "    .dataframe tbody tr th {\n",
              "        vertical-align: top;\n",
              "    }\n",
              "\n",
              "    .dataframe thead th {\n",
              "        text-align: right;\n",
              "    }\n",
              "</style>\n",
              "<table border=\"1\" class=\"dataframe\">\n",
              "  <thead>\n",
              "    <tr style=\"text-align: right;\">\n",
              "      <th></th>\n",
              "      <th></th>\n",
              "      <th>a</th>\n",
              "      <th>b</th>\n",
              "      <th>c</th>\n",
              "      <th>d</th>\n",
              "      <th>e</th>\n",
              "    </tr>\n",
              "    <tr>\n",
              "      <th>college</th>\n",
              "      <th>department</th>\n",
              "      <th></th>\n",
              "      <th></th>\n",
              "      <th></th>\n",
              "      <th></th>\n",
              "      <th></th>\n",
              "    </tr>\n",
              "  </thead>\n",
              "  <tbody>\n",
              "    <tr>\n",
              "      <th rowspan=\"3\" valign=\"top\">CCI</th>\n",
              "      <th>Information</th>\n",
              "      <td>1.230769</td>\n",
              "      <td>1.288306</td>\n",
              "      <td>0.851814</td>\n",
              "      <td>-1.529181</td>\n",
              "      <td>-1.551715</td>\n",
              "    </tr>\n",
              "    <tr>\n",
              "      <th>Information</th>\n",
              "      <td>0.297293</td>\n",
              "      <td>0.344791</td>\n",
              "      <td>-0.398103</td>\n",
              "      <td>0.429404</td>\n",
              "      <td>-0.285945</td>\n",
              "    </tr>\n",
              "    <tr>\n",
              "      <th>Communication</th>\n",
              "      <td>-2.228437</td>\n",
              "      <td>0.066559</td>\n",
              "      <td>0.489965</td>\n",
              "      <td>1.867926</td>\n",
              "      <td>2.070438</td>\n",
              "    </tr>\n",
              "    <tr>\n",
              "      <th rowspan=\"2\" valign=\"top\">Business</th>\n",
              "      <th>Marketing</th>\n",
              "      <td>-0.245383</td>\n",
              "      <td>0.762302</td>\n",
              "      <td>0.129015</td>\n",
              "      <td>0.627076</td>\n",
              "      <td>-1.062235</td>\n",
              "    </tr>\n",
              "    <tr>\n",
              "      <th>Accounting</th>\n",
              "      <td>-1.499503</td>\n",
              "      <td>0.545154</td>\n",
              "      <td>0.400823</td>\n",
              "      <td>-1.946230</td>\n",
              "      <td>0.505032</td>\n",
              "    </tr>\n",
              "  </tbody>\n",
              "</table>\n",
              "</div>"
            ],
            "text/plain": [
              "                               a         b         c         d         e\n",
              "college  department                                                     \n",
              "CCI      Information    1.230769  1.288306  0.851814 -1.529181 -1.551715\n",
              "         Information    0.297293  0.344791 -0.398103  0.429404 -0.285945\n",
              "         Communication -2.228437  0.066559  0.489965  1.867926  2.070438\n",
              "Business Marketing     -0.245383  0.762302  0.129015  0.627076 -1.062235\n",
              "         Accounting    -1.499503  0.545154  0.400823 -1.946230  0.505032"
            ]
          },
          "metadata": {
            "tags": []
          },
          "execution_count": 42
        }
      ]
    },
    {
      "cell_type": "code",
      "metadata": {
        "deletable": true,
        "editable": true,
        "colab": {
          "base_uri": "https://localhost:8080/",
          "height": 142
        },
        "id": "CC69SZTbUx-X",
        "outputId": "f70275cd-2b0e-4e4a-d848-1b245e978521"
      },
      "source": [
        "people.groupby(level='college').count()"
      ],
      "execution_count": 45,
      "outputs": [
        {
          "output_type": "execute_result",
          "data": {
            "text/html": [
              "<div>\n",
              "<style scoped>\n",
              "    .dataframe tbody tr th:only-of-type {\n",
              "        vertical-align: middle;\n",
              "    }\n",
              "\n",
              "    .dataframe tbody tr th {\n",
              "        vertical-align: top;\n",
              "    }\n",
              "\n",
              "    .dataframe thead th {\n",
              "        text-align: right;\n",
              "    }\n",
              "</style>\n",
              "<table border=\"1\" class=\"dataframe\">\n",
              "  <thead>\n",
              "    <tr style=\"text-align: right;\">\n",
              "      <th></th>\n",
              "      <th>a</th>\n",
              "      <th>b</th>\n",
              "      <th>c</th>\n",
              "      <th>d</th>\n",
              "      <th>e</th>\n",
              "    </tr>\n",
              "    <tr>\n",
              "      <th>college</th>\n",
              "      <th></th>\n",
              "      <th></th>\n",
              "      <th></th>\n",
              "      <th></th>\n",
              "      <th></th>\n",
              "    </tr>\n",
              "  </thead>\n",
              "  <tbody>\n",
              "    <tr>\n",
              "      <th>Business</th>\n",
              "      <td>2</td>\n",
              "      <td>2</td>\n",
              "      <td>2</td>\n",
              "      <td>2</td>\n",
              "      <td>2</td>\n",
              "    </tr>\n",
              "    <tr>\n",
              "      <th>CCI</th>\n",
              "      <td>3</td>\n",
              "      <td>3</td>\n",
              "      <td>3</td>\n",
              "      <td>3</td>\n",
              "      <td>3</td>\n",
              "    </tr>\n",
              "  </tbody>\n",
              "</table>\n",
              "</div>"
            ],
            "text/plain": [
              "          a  b  c  d  e\n",
              "college                \n",
              "Business  2  2  2  2  2\n",
              "CCI       3  3  3  3  3"
            ]
          },
          "metadata": {
            "tags": []
          },
          "execution_count": 45
        }
      ]
    },
    {
      "cell_type": "markdown",
      "metadata": {
        "deletable": true,
        "editable": true,
        "id": "W_kqsGy-Ux-X"
      },
      "source": [
        "## Data Aggregation"
      ]
    },
    {
      "cell_type": "code",
      "metadata": {
        "deletable": true,
        "editable": true,
        "id": "YCAUqtabUx-X"
      },
      "source": [
        "df"
      ],
      "execution_count": 49,
      "outputs": []
    },
    {
      "cell_type": "code",
      "metadata": {
        "id": "bmlsCUoU1a9T"
      },
      "source": [
        "grouped = df.groupby('key1')"
      ],
      "execution_count": null,
      "outputs": []
    },
    {
      "cell_type": "code",
      "metadata": {
        "deletable": true,
        "editable": true,
        "colab": {
          "base_uri": "https://localhost:8080/",
          "height": 173
        },
        "id": "TXY0YaNQUx-X",
        "outputId": "ba80aa28-45a0-4925-ab91-0babae940834"
      },
      "source": [
        "def peak_to_peak(arr):\n",
        "    return arr.max() - arr.min()\n",
        "grouped.agg([peak_to_peak])"
      ],
      "execution_count": 54,
      "outputs": [
        {
          "output_type": "execute_result",
          "data": {
            "text/html": [
              "<div>\n",
              "<style scoped>\n",
              "    .dataframe tbody tr th:only-of-type {\n",
              "        vertical-align: middle;\n",
              "    }\n",
              "\n",
              "    .dataframe tbody tr th {\n",
              "        vertical-align: top;\n",
              "    }\n",
              "\n",
              "    .dataframe thead tr th {\n",
              "        text-align: left;\n",
              "    }\n",
              "\n",
              "    .dataframe thead tr:last-of-type th {\n",
              "        text-align: right;\n",
              "    }\n",
              "</style>\n",
              "<table border=\"1\" class=\"dataframe\">\n",
              "  <thead>\n",
              "    <tr>\n",
              "      <th></th>\n",
              "      <th>data1</th>\n",
              "      <th>data2</th>\n",
              "    </tr>\n",
              "    <tr>\n",
              "      <th></th>\n",
              "      <th>peak_to_peak</th>\n",
              "      <th>peak_to_peak</th>\n",
              "    </tr>\n",
              "    <tr>\n",
              "      <th>key1</th>\n",
              "      <th></th>\n",
              "      <th></th>\n",
              "    </tr>\n",
              "  </thead>\n",
              "  <tbody>\n",
              "    <tr>\n",
              "      <th>a</th>\n",
              "      <td>2.170488</td>\n",
              "      <td>1.300498</td>\n",
              "    </tr>\n",
              "    <tr>\n",
              "      <th>b</th>\n",
              "      <td>0.036292</td>\n",
              "      <td>0.487276</td>\n",
              "    </tr>\n",
              "  </tbody>\n",
              "</table>\n",
              "</div>"
            ],
            "text/plain": [
              "            data1        data2\n",
              "     peak_to_peak peak_to_peak\n",
              "key1                          \n",
              "a        2.170488     1.300498\n",
              "b        0.036292     0.487276"
            ]
          },
          "metadata": {
            "tags": []
          },
          "execution_count": 54
        }
      ]
    },
    {
      "cell_type": "code",
      "metadata": {
        "deletable": true,
        "editable": true,
        "colab": {
          "base_uri": "https://localhost:8080/",
          "height": 173
        },
        "id": "6l2bYbSnUx-X",
        "outputId": "5aa2a3c8-d105-4431-a3ce-892ae7cedcce"
      },
      "source": [
        "grouped.describe()"
      ],
      "execution_count": 48,
      "outputs": [
        {
          "output_type": "execute_result",
          "data": {
            "text/html": [
              "<div>\n",
              "<style scoped>\n",
              "    .dataframe tbody tr th:only-of-type {\n",
              "        vertical-align: middle;\n",
              "    }\n",
              "\n",
              "    .dataframe tbody tr th {\n",
              "        vertical-align: top;\n",
              "    }\n",
              "\n",
              "    .dataframe thead tr th {\n",
              "        text-align: left;\n",
              "    }\n",
              "\n",
              "    .dataframe thead tr:last-of-type th {\n",
              "        text-align: right;\n",
              "    }\n",
              "</style>\n",
              "<table border=\"1\" class=\"dataframe\">\n",
              "  <thead>\n",
              "    <tr>\n",
              "      <th></th>\n",
              "      <th colspan=\"8\" halign=\"left\">data1</th>\n",
              "      <th colspan=\"8\" halign=\"left\">data2</th>\n",
              "    </tr>\n",
              "    <tr>\n",
              "      <th></th>\n",
              "      <th>count</th>\n",
              "      <th>mean</th>\n",
              "      <th>std</th>\n",
              "      <th>min</th>\n",
              "      <th>25%</th>\n",
              "      <th>50%</th>\n",
              "      <th>75%</th>\n",
              "      <th>max</th>\n",
              "      <th>count</th>\n",
              "      <th>mean</th>\n",
              "      <th>std</th>\n",
              "      <th>min</th>\n",
              "      <th>25%</th>\n",
              "      <th>50%</th>\n",
              "      <th>75%</th>\n",
              "      <th>max</th>\n",
              "    </tr>\n",
              "    <tr>\n",
              "      <th>key1</th>\n",
              "      <th></th>\n",
              "      <th></th>\n",
              "      <th></th>\n",
              "      <th></th>\n",
              "      <th></th>\n",
              "      <th></th>\n",
              "      <th></th>\n",
              "      <th></th>\n",
              "      <th></th>\n",
              "      <th></th>\n",
              "      <th></th>\n",
              "      <th></th>\n",
              "      <th></th>\n",
              "      <th></th>\n",
              "      <th></th>\n",
              "      <th></th>\n",
              "    </tr>\n",
              "  </thead>\n",
              "  <tbody>\n",
              "    <tr>\n",
              "      <th>a</th>\n",
              "      <td>3.0</td>\n",
              "      <td>0.746672</td>\n",
              "      <td>1.109736</td>\n",
              "      <td>-0.204708</td>\n",
              "      <td>0.137118</td>\n",
              "      <td>0.478943</td>\n",
              "      <td>1.222362</td>\n",
              "      <td>1.965781</td>\n",
              "      <td>3.0</td>\n",
              "      <td>0.910916</td>\n",
              "      <td>0.712217</td>\n",
              "      <td>0.092908</td>\n",
              "      <td>0.669671</td>\n",
              "      <td>1.246435</td>\n",
              "      <td>1.319920</td>\n",
              "      <td>1.393406</td>\n",
              "    </tr>\n",
              "    <tr>\n",
              "      <th>b</th>\n",
              "      <td>2.0</td>\n",
              "      <td>-0.537585</td>\n",
              "      <td>0.025662</td>\n",
              "      <td>-0.555730</td>\n",
              "      <td>-0.546657</td>\n",
              "      <td>-0.537585</td>\n",
              "      <td>-0.528512</td>\n",
              "      <td>-0.519439</td>\n",
              "      <td>2.0</td>\n",
              "      <td>0.525384</td>\n",
              "      <td>0.344556</td>\n",
              "      <td>0.281746</td>\n",
              "      <td>0.403565</td>\n",
              "      <td>0.525384</td>\n",
              "      <td>0.647203</td>\n",
              "      <td>0.769023</td>\n",
              "    </tr>\n",
              "  </tbody>\n",
              "</table>\n",
              "</div>"
            ],
            "text/plain": [
              "     data1                      ...     data2                    \n",
              "     count      mean       std  ...       50%       75%       max\n",
              "key1                            ...                              \n",
              "a      3.0  0.746672  1.109736  ...  1.246435  1.319920  1.393406\n",
              "b      2.0 -0.537585  0.025662  ...  0.525384  0.647203  0.769023\n",
              "\n",
              "[2 rows x 16 columns]"
            ]
          },
          "metadata": {
            "tags": []
          },
          "execution_count": 48
        }
      ]
    },
    {
      "cell_type": "markdown",
      "metadata": {
        "deletable": true,
        "editable": true,
        "id": "YQBKDeOsUx-e"
      },
      "source": [
        "### Example: Random Sampling and Permutation"
      ]
    },
    {
      "cell_type": "code",
      "metadata": {
        "deletable": true,
        "editable": true,
        "id": "YaQoPzOlUx-e"
      },
      "source": [
        "# Hearts, Spades, Clubs, Diamonds\n",
        "suits = ['H', 'S', 'C', 'D']\n",
        "card_val = (list(range(1, 11)) + [10] * 3) * 4\n",
        "base_names = ['A'] + list(range(2, 11)) + ['J', 'K', 'Q']\n",
        "cards = []\n",
        "for suit in ['H', 'S', 'C', 'D']:\n",
        "    cards.extend(str(num) + suit for num in base_names)\n",
        "\n",
        "deck = pd.Series(card_val, index=cards)"
      ],
      "execution_count": 63,
      "outputs": []
    },
    {
      "cell_type": "code",
      "metadata": {
        "deletable": true,
        "editable": true,
        "colab": {
          "base_uri": "https://localhost:8080/"
        },
        "id": "Mu8Y841UUx-e",
        "outputId": "f8bc00be-bb63-45ec-fe53-62b38320fc15"
      },
      "source": [
        "deck[:13]"
      ],
      "execution_count": 71,
      "outputs": [
        {
          "output_type": "execute_result",
          "data": {
            "text/plain": [
              "AH      1\n",
              "2H      2\n",
              "3H      3\n",
              "4H      4\n",
              "5H      5\n",
              "6H      6\n",
              "7H      7\n",
              "8H      8\n",
              "9H      9\n",
              "10H    10\n",
              "JH     10\n",
              "KH     10\n",
              "QH     10\n",
              "dtype: int64"
            ]
          },
          "metadata": {
            "tags": []
          },
          "execution_count": 71
        }
      ]
    },
    {
      "cell_type": "code",
      "metadata": {
        "colab": {
          "base_uri": "https://localhost:8080/"
        },
        "id": "g9yZrw547nWD",
        "outputId": "fe50624a-b547-4d0f-e510-a36be863a914"
      },
      "source": [
        "len(deck)"
      ],
      "execution_count": 70,
      "outputs": [
        {
          "output_type": "execute_result",
          "data": {
            "text/plain": [
              "52"
            ]
          },
          "metadata": {
            "tags": []
          },
          "execution_count": 70
        }
      ]
    },
    {
      "cell_type": "code",
      "metadata": {
        "deletable": true,
        "editable": true,
        "colab": {
          "base_uri": "https://localhost:8080/"
        },
        "id": "mRPWM6oOUx-e",
        "outputId": "6adedb5b-bae1-4ae6-e199-cdc2f801f69e"
      },
      "source": [
        "def draw(deck, n=5):\n",
        "    return deck.sample(n)\n",
        "draw(deck)"
      ],
      "execution_count": 65,
      "outputs": [
        {
          "output_type": "execute_result",
          "data": {
            "text/plain": [
              "KD     10\n",
              "JC     10\n",
              "8H      8\n",
              "10D    10\n",
              "2C      2\n",
              "dtype: int64"
            ]
          },
          "metadata": {
            "tags": []
          },
          "execution_count": 65
        }
      ]
    },
    {
      "cell_type": "code",
      "metadata": {
        "deletable": true,
        "editable": true,
        "colab": {
          "base_uri": "https://localhost:8080/"
        },
        "id": "tnRCDxpyUx-f",
        "outputId": "b1e91c75-84fa-41e9-f8a8-7a30b91a9573"
      },
      "source": [
        "get_suit = lambda card: card[-1] # last letter is suit\n",
        "deck.groupby(get_sasuit).apply(draw, n=2)"
      ],
      "execution_count": 66,
      "outputs": [
        {
          "output_type": "execute_result",
          "data": {
            "text/plain": [
              "C  10C    10\n",
              "   9C      9\n",
              "D  5D      5\n",
              "   6D      6\n",
              "H  2H      2\n",
              "   JH     10\n",
              "S  QS     10\n",
              "   8S      8\n",
              "dtype: int64"
            ]
          },
          "metadata": {
            "tags": []
          },
          "execution_count": 66
        }
      ]
    }
  ]
}