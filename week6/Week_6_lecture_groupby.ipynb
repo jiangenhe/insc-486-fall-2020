{
  "nbformat": 4,
  "nbformat_minor": 0,
  "metadata": {
    "kernelspec": {
      "display_name": "Python 3",
      "language": "python",
      "name": "python3"
    },
    "language_info": {
      "codemirror_mode": {
        "name": "ipython",
        "version": 3
      },
      "file_extension": ".py",
      "mimetype": "text/x-python",
      "name": "python",
      "nbconvert_exporter": "python",
      "pygments_lexer": "ipython3",
      "version": "3.6.0"
    },
    "colab": {
      "name": "Week 6 - lecture - groupby.ipynb",
      "provenance": [],
      "collapsed_sections": [
        "gzfiFsBOUx-Y",
        "4i7EZ6PZUx-Z",
        "r5t6lMIeUx-b",
        "91UgG67pUx-b",
        "djsRTbHCUx-c",
        "YQBKDeOsUx-e",
        "SZp1XzFUUx-f",
        "rmUAykAcUx-g",
        "lcjHi8XpUx-i"
      ],
      "toc_visible": true,
      "include_colab_link": true
    }
  },
  "cells": [
    {
      "cell_type": "markdown",
      "metadata": {
        "id": "view-in-github",
        "colab_type": "text"
      },
      "source": [
        "<a href=\"https://colab.research.google.com/github/jiangenhe/insc-486-fall-2021/blob/main/week6/Week_6_lecture_groupby.ipynb\" target=\"_parent\"><img src=\"https://colab.research.google.com/assets/colab-badge.svg\" alt=\"Open In Colab\"/></a>"
      ]
    },
    {
      "cell_type": "markdown",
      "metadata": {
        "deletable": true,
        "editable": true,
        "id": "X62SZ53vUx-N"
      },
      "source": [
        "# Data Aggregation and Group Operations"
      ]
    },
    {
      "cell_type": "code",
      "metadata": {
        "deletable": true,
        "editable": true,
        "id": "ago3gVP4Ux-P"
      },
      "source": [
        "import numpy as np\n",
        "import pandas as pd\n"
      ],
      "execution_count": null,
      "outputs": []
    },
    {
      "cell_type": "markdown",
      "metadata": {
        "deletable": true,
        "editable": true,
        "id": "_tcUtqWwUx-P"
      },
      "source": [
        "## GroupBy Mechanics"
      ]
    },
    {
      "cell_type": "code",
      "metadata": {
        "deletable": true,
        "editable": true,
        "colab": {
          "base_uri": "https://localhost:8080/",
          "height": 204
        },
        "id": "6Gj0_yJaUx-Q",
        "outputId": "295ac736-f5fd-4c36-b895-511d66339cad"
      },
      "source": [
        "df = pd.DataFrame({'key1' : ['a', 'a', 'b', 'b', 'a'],\n",
        "                   'key2' : ['one', 'two', 'one', 'two', 'one'],\n",
        "                   'data1' : np.random.randn(5),\n",
        "                   'data2' : np.random.randn(5)})\n",
        "df"
      ],
      "execution_count": null,
      "outputs": [
        {
          "output_type": "execute_result",
          "data": {
            "text/html": [
              "<div>\n",
              "<style scoped>\n",
              "    .dataframe tbody tr th:only-of-type {\n",
              "        vertical-align: middle;\n",
              "    }\n",
              "\n",
              "    .dataframe tbody tr th {\n",
              "        vertical-align: top;\n",
              "    }\n",
              "\n",
              "    .dataframe thead th {\n",
              "        text-align: right;\n",
              "    }\n",
              "</style>\n",
              "<table border=\"1\" class=\"dataframe\">\n",
              "  <thead>\n",
              "    <tr style=\"text-align: right;\">\n",
              "      <th></th>\n",
              "      <th>key1</th>\n",
              "      <th>key2</th>\n",
              "      <th>data1</th>\n",
              "      <th>data2</th>\n",
              "    </tr>\n",
              "  </thead>\n",
              "  <tbody>\n",
              "    <tr>\n",
              "      <th>0</th>\n",
              "      <td>a</td>\n",
              "      <td>one</td>\n",
              "      <td>0.560488</td>\n",
              "      <td>1.034524</td>\n",
              "    </tr>\n",
              "    <tr>\n",
              "      <th>1</th>\n",
              "      <td>a</td>\n",
              "      <td>two</td>\n",
              "      <td>0.250405</td>\n",
              "      <td>0.264297</td>\n",
              "    </tr>\n",
              "    <tr>\n",
              "      <th>2</th>\n",
              "      <td>b</td>\n",
              "      <td>one</td>\n",
              "      <td>0.162447</td>\n",
              "      <td>1.126248</td>\n",
              "    </tr>\n",
              "    <tr>\n",
              "      <th>3</th>\n",
              "      <td>b</td>\n",
              "      <td>two</td>\n",
              "      <td>0.612355</td>\n",
              "      <td>0.178326</td>\n",
              "    </tr>\n",
              "    <tr>\n",
              "      <th>4</th>\n",
              "      <td>a</td>\n",
              "      <td>one</td>\n",
              "      <td>0.341008</td>\n",
              "      <td>0.477300</td>\n",
              "    </tr>\n",
              "  </tbody>\n",
              "</table>\n",
              "</div>"
            ],
            "text/plain": [
              "  key1 key2     data1     data2\n",
              "0    a  one  0.560488  1.034524\n",
              "1    a  two  0.250405  0.264297\n",
              "2    b  one  0.162447  1.126248\n",
              "3    b  two  0.612355  0.178326\n",
              "4    a  one  0.341008  0.477300"
            ]
          },
          "metadata": {},
          "execution_count": 2
        }
      ]
    },
    {
      "cell_type": "markdown",
      "metadata": {
        "deletable": true,
        "editable": true,
        "id": "mUEfLVG6Ux-S"
      },
      "source": [
        "### Iterating Over Groups"
      ]
    },
    {
      "cell_type": "code",
      "metadata": {
        "deletable": true,
        "editable": true,
        "colab": {
          "base_uri": "https://localhost:8080/"
        },
        "id": "pDGRG3vfUx-S",
        "outputId": "e491fb2a-2ed4-4bd7-e8f5-1d3d9a08ad4d"
      },
      "source": [
        "for name, group in df.groupby('key1'):\n",
        "    print(name)\n",
        "    print(group)"
      ],
      "execution_count": null,
      "outputs": [
        {
          "output_type": "stream",
          "text": [
            "a\n",
            "  key1 key2     data1     data2\n",
            "0    a  one -0.204708  1.393406\n",
            "1    a  two  0.478943  0.092908\n",
            "4    a  one  1.965781  1.246435\n",
            "b\n",
            "  key1 key2     data1     data2\n",
            "2    b  one -0.519439  0.281746\n",
            "3    b  two -0.555730  0.769023\n"
          ],
          "name": "stdout"
        }
      ]
    },
    {
      "cell_type": "code",
      "metadata": {
        "deletable": true,
        "editable": true,
        "colab": {
          "base_uri": "https://localhost:8080/"
        },
        "id": "-cT3mYPuUx-S",
        "outputId": "a2649dbd-49f7-4efa-a416-35fa96d4ac68"
      },
      "source": [
        "for (k1, k2), group in df.groupby(['key1', 'key2']):\n",
        "    print((k1, k2))\n",
        "    print(group)"
      ],
      "execution_count": null,
      "outputs": [
        {
          "output_type": "stream",
          "text": [
            "('a', 'one')\n",
            "  key1 key2     data1     data2\n",
            "0    a  one -0.204708  1.393406\n",
            "4    a  one  1.965781  1.246435\n",
            "('a', 'two')\n",
            "  key1 key2     data1     data2\n",
            "1    a  two  0.478943  0.092908\n",
            "('b', 'one')\n",
            "  key1 key2     data1     data2\n",
            "2    b  one -0.519439  0.281746\n",
            "('b', 'two')\n",
            "  key1 key2    data1     data2\n",
            "3    b  two -0.55573  0.769023\n"
          ],
          "name": "stdout"
        }
      ]
    },
    {
      "cell_type": "markdown",
      "metadata": {
        "deletable": true,
        "editable": true,
        "id": "duv8vlXgUx-U"
      },
      "source": [
        "### Grouping with Dicts and Series"
      ]
    },
    {
      "cell_type": "code",
      "metadata": {
        "deletable": true,
        "editable": true,
        "colab": {
          "base_uri": "https://localhost:8080/",
          "height": 204
        },
        "id": "viIA61sMUx-V",
        "outputId": "7fa39257-11e1-45c0-b15d-706cf8682013"
      },
      "source": [
        "people = pd.DataFrame(np.random.randn(5, 5),\n",
        "                      columns=['a', 'b', 'c', 'd', 'e'],\n",
        "                      index=['Information', 'Information', 'Communication', 'Marketing', 'Accounting'])\n",
        "\n",
        "people"
      ],
      "execution_count": null,
      "outputs": [
        {
          "output_type": "execute_result",
          "data": {
            "text/html": [
              "<div>\n",
              "<style scoped>\n",
              "    .dataframe tbody tr th:only-of-type {\n",
              "        vertical-align: middle;\n",
              "    }\n",
              "\n",
              "    .dataframe tbody tr th {\n",
              "        vertical-align: top;\n",
              "    }\n",
              "\n",
              "    .dataframe thead th {\n",
              "        text-align: right;\n",
              "    }\n",
              "</style>\n",
              "<table border=\"1\" class=\"dataframe\">\n",
              "  <thead>\n",
              "    <tr style=\"text-align: right;\">\n",
              "      <th></th>\n",
              "      <th>a</th>\n",
              "      <th>b</th>\n",
              "      <th>c</th>\n",
              "      <th>d</th>\n",
              "      <th>e</th>\n",
              "    </tr>\n",
              "  </thead>\n",
              "  <tbody>\n",
              "    <tr>\n",
              "      <th>Information</th>\n",
              "      <td>-0.923420</td>\n",
              "      <td>0.118504</td>\n",
              "      <td>1.319457</td>\n",
              "      <td>-2.077877</td>\n",
              "      <td>0.423268</td>\n",
              "    </tr>\n",
              "    <tr>\n",
              "      <th>Information</th>\n",
              "      <td>0.673992</td>\n",
              "      <td>-1.234317</td>\n",
              "      <td>-2.470079</td>\n",
              "      <td>-0.018862</td>\n",
              "      <td>-0.828012</td>\n",
              "    </tr>\n",
              "    <tr>\n",
              "      <th>Communication</th>\n",
              "      <td>0.005276</td>\n",
              "      <td>1.935357</td>\n",
              "      <td>0.729479</td>\n",
              "      <td>1.778803</td>\n",
              "      <td>-0.058150</td>\n",
              "    </tr>\n",
              "    <tr>\n",
              "      <th>Marketing</th>\n",
              "      <td>0.844224</td>\n",
              "      <td>0.390586</td>\n",
              "      <td>-0.604902</td>\n",
              "      <td>0.024523</td>\n",
              "      <td>-0.313069</td>\n",
              "    </tr>\n",
              "    <tr>\n",
              "      <th>Accounting</th>\n",
              "      <td>-0.183892</td>\n",
              "      <td>-0.060227</td>\n",
              "      <td>1.025027</td>\n",
              "      <td>1.087672</td>\n",
              "      <td>1.078066</td>\n",
              "    </tr>\n",
              "  </tbody>\n",
              "</table>\n",
              "</div>"
            ],
            "text/plain": [
              "                      a         b         c         d         e\n",
              "Information   -0.923420  0.118504  1.319457 -2.077877  0.423268\n",
              "Information    0.673992 -1.234317 -2.470079 -0.018862 -0.828012\n",
              "Communication  0.005276  1.935357  0.729479  1.778803 -0.058150\n",
              "Marketing      0.844224  0.390586 -0.604902  0.024523 -0.313069\n",
              "Accounting    -0.183892 -0.060227  1.025027  1.087672  1.078066"
            ]
          },
          "metadata": {},
          "execution_count": 5
        }
      ]
    },
    {
      "cell_type": "code",
      "metadata": {
        "deletable": true,
        "editable": true,
        "id": "1R_xSVQSUx-V"
      },
      "source": [
        "mapping = {'Information': 'CCI', 'Communication': 'CCI',\n",
        "           'Marketing': 'Business', 'Accounting': 'Business'}"
      ],
      "execution_count": null,
      "outputs": []
    },
    {
      "cell_type": "code",
      "metadata": {
        "deletable": true,
        "editable": true,
        "colab": {
          "base_uri": "https://localhost:8080/",
          "height": 111
        },
        "id": "w4Y3l_62Ux-V",
        "outputId": "2d51084c-d8e3-49d9-c045-e3462dd3bd32"
      },
      "source": [
        "by_column = people.groupby(mapping)\n",
        "by_column.sum()"
      ],
      "execution_count": null,
      "outputs": [
        {
          "output_type": "execute_result",
          "data": {
            "text/html": [
              "<div>\n",
              "<style scoped>\n",
              "    .dataframe tbody tr th:only-of-type {\n",
              "        vertical-align: middle;\n",
              "    }\n",
              "\n",
              "    .dataframe tbody tr th {\n",
              "        vertical-align: top;\n",
              "    }\n",
              "\n",
              "    .dataframe thead th {\n",
              "        text-align: right;\n",
              "    }\n",
              "</style>\n",
              "<table border=\"1\" class=\"dataframe\">\n",
              "  <thead>\n",
              "    <tr style=\"text-align: right;\">\n",
              "      <th></th>\n",
              "      <th>a</th>\n",
              "      <th>b</th>\n",
              "      <th>c</th>\n",
              "      <th>d</th>\n",
              "      <th>e</th>\n",
              "    </tr>\n",
              "  </thead>\n",
              "  <tbody>\n",
              "    <tr>\n",
              "      <th>Business</th>\n",
              "      <td>0.660332</td>\n",
              "      <td>0.330359</td>\n",
              "      <td>0.420124</td>\n",
              "      <td>1.112195</td>\n",
              "      <td>0.764997</td>\n",
              "    </tr>\n",
              "    <tr>\n",
              "      <th>CCI</th>\n",
              "      <td>-0.244152</td>\n",
              "      <td>0.819545</td>\n",
              "      <td>-0.421143</td>\n",
              "      <td>-0.317937</td>\n",
              "      <td>-0.462894</td>\n",
              "    </tr>\n",
              "  </tbody>\n",
              "</table>\n",
              "</div>"
            ],
            "text/plain": [
              "                 a         b         c         d         e\n",
              "Business  0.660332  0.330359  0.420124  1.112195  0.764997\n",
              "CCI      -0.244152  0.819545 -0.421143 -0.317937 -0.462894"
            ]
          },
          "metadata": {},
          "execution_count": 8
        }
      ]
    },
    {
      "cell_type": "markdown",
      "metadata": {
        "deletable": true,
        "editable": true,
        "id": "COyF5jnuUx-W"
      },
      "source": [
        "### Grouping with Functions"
      ]
    },
    {
      "cell_type": "code",
      "metadata": {
        "deletable": true,
        "editable": true,
        "colab": {
          "base_uri": "https://localhost:8080/",
          "height": 173
        },
        "id": "r9afeVSOUx-W",
        "outputId": "b21a7b5b-9c5c-4aa7-83dd-effc510e9961"
      },
      "source": [
        "people.groupby(len).sum()"
      ],
      "execution_count": null,
      "outputs": [
        {
          "output_type": "execute_result",
          "data": {
            "text/html": [
              "<div>\n",
              "<style scoped>\n",
              "    .dataframe tbody tr th:only-of-type {\n",
              "        vertical-align: middle;\n",
              "    }\n",
              "\n",
              "    .dataframe tbody tr th {\n",
              "        vertical-align: top;\n",
              "    }\n",
              "\n",
              "    .dataframe thead th {\n",
              "        text-align: right;\n",
              "    }\n",
              "</style>\n",
              "<table border=\"1\" class=\"dataframe\">\n",
              "  <thead>\n",
              "    <tr style=\"text-align: right;\">\n",
              "      <th></th>\n",
              "      <th>a</th>\n",
              "      <th>b</th>\n",
              "      <th>c</th>\n",
              "      <th>d</th>\n",
              "      <th>e</th>\n",
              "    </tr>\n",
              "  </thead>\n",
              "  <tbody>\n",
              "    <tr>\n",
              "      <th>9</th>\n",
              "      <td>0.844224</td>\n",
              "      <td>0.390586</td>\n",
              "      <td>-0.604902</td>\n",
              "      <td>0.024523</td>\n",
              "      <td>-0.313069</td>\n",
              "    </tr>\n",
              "    <tr>\n",
              "      <th>10</th>\n",
              "      <td>-0.183892</td>\n",
              "      <td>-0.060227</td>\n",
              "      <td>1.025027</td>\n",
              "      <td>1.087672</td>\n",
              "      <td>1.078066</td>\n",
              "    </tr>\n",
              "    <tr>\n",
              "      <th>11</th>\n",
              "      <td>-0.249428</td>\n",
              "      <td>-1.115812</td>\n",
              "      <td>-1.150622</td>\n",
              "      <td>-2.096740</td>\n",
              "      <td>-0.404744</td>\n",
              "    </tr>\n",
              "    <tr>\n",
              "      <th>13</th>\n",
              "      <td>0.005276</td>\n",
              "      <td>1.935357</td>\n",
              "      <td>0.729479</td>\n",
              "      <td>1.778803</td>\n",
              "      <td>-0.058150</td>\n",
              "    </tr>\n",
              "  </tbody>\n",
              "</table>\n",
              "</div>"
            ],
            "text/plain": [
              "           a         b         c         d         e\n",
              "9   0.844224  0.390586 -0.604902  0.024523 -0.313069\n",
              "10 -0.183892 -0.060227  1.025027  1.087672  1.078066\n",
              "11 -0.249428 -1.115812 -1.150622 -2.096740 -0.404744\n",
              "13  0.005276  1.935357  0.729479  1.778803 -0.058150"
            ]
          },
          "metadata": {},
          "execution_count": 9
        }
      ]
    },
    {
      "cell_type": "markdown",
      "metadata": {
        "deletable": true,
        "editable": true,
        "id": "vwGY-CwKUx-W"
      },
      "source": [
        "### Grouping by Index Levels"
      ]
    },
    {
      "cell_type": "code",
      "metadata": {
        "deletable": true,
        "editable": true,
        "colab": {
          "base_uri": "https://localhost:8080/",
          "height": 235
        },
        "id": "vlrlJGkkUx-W",
        "outputId": "04758790-8853-47d4-de85-95c7dbf11c9b"
      },
      "source": [
        "people = pd.DataFrame(np.random.randn(5, 5),\n",
        "                      columns=['a', 'b', 'c', 'd', 'e'],\n",
        "                      index=[['CCI', 'CCI', 'CCI', 'Business', 'Business'],\n",
        "                             ['Information', 'Information', 'Communication', 'Marketing', 'Accounting']])\n",
        "people.index.set_names(['college', 'department'], inplace=True)\n",
        "people"
      ],
      "execution_count": null,
      "outputs": [
        {
          "output_type": "execute_result",
          "data": {
            "text/html": [
              "<div>\n",
              "<style scoped>\n",
              "    .dataframe tbody tr th:only-of-type {\n",
              "        vertical-align: middle;\n",
              "    }\n",
              "\n",
              "    .dataframe tbody tr th {\n",
              "        vertical-align: top;\n",
              "    }\n",
              "\n",
              "    .dataframe thead th {\n",
              "        text-align: right;\n",
              "    }\n",
              "</style>\n",
              "<table border=\"1\" class=\"dataframe\">\n",
              "  <thead>\n",
              "    <tr style=\"text-align: right;\">\n",
              "      <th></th>\n",
              "      <th></th>\n",
              "      <th>a</th>\n",
              "      <th>b</th>\n",
              "      <th>c</th>\n",
              "      <th>d</th>\n",
              "      <th>e</th>\n",
              "    </tr>\n",
              "    <tr>\n",
              "      <th>college</th>\n",
              "      <th>department</th>\n",
              "      <th></th>\n",
              "      <th></th>\n",
              "      <th></th>\n",
              "      <th></th>\n",
              "      <th></th>\n",
              "    </tr>\n",
              "  </thead>\n",
              "  <tbody>\n",
              "    <tr>\n",
              "      <th rowspan=\"3\" valign=\"top\">CCI</th>\n",
              "      <th>Information</th>\n",
              "      <td>-0.690678</td>\n",
              "      <td>-1.602280</td>\n",
              "      <td>-2.612404</td>\n",
              "      <td>-0.277266</td>\n",
              "      <td>-0.109416</td>\n",
              "    </tr>\n",
              "    <tr>\n",
              "      <th>Information</th>\n",
              "      <td>-1.919981</td>\n",
              "      <td>-1.249646</td>\n",
              "      <td>0.101367</td>\n",
              "      <td>-0.944347</td>\n",
              "      <td>1.703704</td>\n",
              "    </tr>\n",
              "    <tr>\n",
              "      <th>Communication</th>\n",
              "      <td>-0.724422</td>\n",
              "      <td>-1.224436</td>\n",
              "      <td>-0.577544</td>\n",
              "      <td>-1.821060</td>\n",
              "      <td>0.781122</td>\n",
              "    </tr>\n",
              "    <tr>\n",
              "      <th rowspan=\"2\" valign=\"top\">Business</th>\n",
              "      <th>Marketing</th>\n",
              "      <td>-0.513220</td>\n",
              "      <td>0.524163</td>\n",
              "      <td>-1.108485</td>\n",
              "      <td>1.752837</td>\n",
              "      <td>-0.290873</td>\n",
              "    </tr>\n",
              "    <tr>\n",
              "      <th>Accounting</th>\n",
              "      <td>-0.181595</td>\n",
              "      <td>0.938440</td>\n",
              "      <td>0.734771</td>\n",
              "      <td>1.110126</td>\n",
              "      <td>-0.762199</td>\n",
              "    </tr>\n",
              "  </tbody>\n",
              "</table>\n",
              "</div>"
            ],
            "text/plain": [
              "                               a         b         c         d         e\n",
              "college  department                                                     \n",
              "CCI      Information   -0.690678 -1.602280 -2.612404 -0.277266 -0.109416\n",
              "         Information   -1.919981 -1.249646  0.101367 -0.944347  1.703704\n",
              "         Communication -0.724422 -1.224436 -0.577544 -1.821060  0.781122\n",
              "Business Marketing     -0.513220  0.524163 -1.108485  1.752837 -0.290873\n",
              "         Accounting    -0.181595  0.938440  0.734771  1.110126 -0.762199"
            ]
          },
          "metadata": {},
          "execution_count": 10
        }
      ]
    },
    {
      "cell_type": "code",
      "metadata": {
        "deletable": true,
        "editable": true,
        "colab": {
          "base_uri": "https://localhost:8080/",
          "height": 142
        },
        "id": "CC69SZTbUx-X",
        "outputId": "f70275cd-2b0e-4e4a-d848-1b245e978521"
      },
      "source": [
        "people.groupby(level='college').count()"
      ],
      "execution_count": null,
      "outputs": [
        {
          "output_type": "execute_result",
          "data": {
            "text/html": [
              "<div>\n",
              "<style scoped>\n",
              "    .dataframe tbody tr th:only-of-type {\n",
              "        vertical-align: middle;\n",
              "    }\n",
              "\n",
              "    .dataframe tbody tr th {\n",
              "        vertical-align: top;\n",
              "    }\n",
              "\n",
              "    .dataframe thead th {\n",
              "        text-align: right;\n",
              "    }\n",
              "</style>\n",
              "<table border=\"1\" class=\"dataframe\">\n",
              "  <thead>\n",
              "    <tr style=\"text-align: right;\">\n",
              "      <th></th>\n",
              "      <th>a</th>\n",
              "      <th>b</th>\n",
              "      <th>c</th>\n",
              "      <th>d</th>\n",
              "      <th>e</th>\n",
              "    </tr>\n",
              "    <tr>\n",
              "      <th>college</th>\n",
              "      <th></th>\n",
              "      <th></th>\n",
              "      <th></th>\n",
              "      <th></th>\n",
              "      <th></th>\n",
              "    </tr>\n",
              "  </thead>\n",
              "  <tbody>\n",
              "    <tr>\n",
              "      <th>Business</th>\n",
              "      <td>2</td>\n",
              "      <td>2</td>\n",
              "      <td>2</td>\n",
              "      <td>2</td>\n",
              "      <td>2</td>\n",
              "    </tr>\n",
              "    <tr>\n",
              "      <th>CCI</th>\n",
              "      <td>3</td>\n",
              "      <td>3</td>\n",
              "      <td>3</td>\n",
              "      <td>3</td>\n",
              "      <td>3</td>\n",
              "    </tr>\n",
              "  </tbody>\n",
              "</table>\n",
              "</div>"
            ],
            "text/plain": [
              "          a  b  c  d  e\n",
              "college                \n",
              "Business  2  2  2  2  2\n",
              "CCI       3  3  3  3  3"
            ]
          },
          "metadata": {
            "tags": []
          },
          "execution_count": 45
        }
      ]
    },
    {
      "cell_type": "markdown",
      "metadata": {
        "deletable": true,
        "editable": true,
        "id": "W_kqsGy-Ux-X"
      },
      "source": [
        "## Data Aggregation"
      ]
    },
    {
      "cell_type": "markdown",
      "source": [
        "https://pandas.pydata.org/docs/reference/api/pandas.DataFrame.agg.html"
      ],
      "metadata": {
        "id": "uHLtrHh5Ghog"
      }
    },
    {
      "cell_type": "code",
      "metadata": {
        "deletable": true,
        "editable": true,
        "id": "YCAUqtabUx-X",
        "outputId": "9c343958-7643-4f48-9f5e-d0ae6720a66c",
        "colab": {
          "base_uri": "https://localhost:8080/",
          "height": 204
        }
      },
      "source": [
        "df"
      ],
      "execution_count": null,
      "outputs": [
        {
          "output_type": "execute_result",
          "data": {
            "text/html": [
              "<div>\n",
              "<style scoped>\n",
              "    .dataframe tbody tr th:only-of-type {\n",
              "        vertical-align: middle;\n",
              "    }\n",
              "\n",
              "    .dataframe tbody tr th {\n",
              "        vertical-align: top;\n",
              "    }\n",
              "\n",
              "    .dataframe thead th {\n",
              "        text-align: right;\n",
              "    }\n",
              "</style>\n",
              "<table border=\"1\" class=\"dataframe\">\n",
              "  <thead>\n",
              "    <tr style=\"text-align: right;\">\n",
              "      <th></th>\n",
              "      <th>key1</th>\n",
              "      <th>key2</th>\n",
              "      <th>data1</th>\n",
              "      <th>data2</th>\n",
              "    </tr>\n",
              "  </thead>\n",
              "  <tbody>\n",
              "    <tr>\n",
              "      <th>0</th>\n",
              "      <td>a</td>\n",
              "      <td>one</td>\n",
              "      <td>0.560488</td>\n",
              "      <td>1.034524</td>\n",
              "    </tr>\n",
              "    <tr>\n",
              "      <th>1</th>\n",
              "      <td>a</td>\n",
              "      <td>two</td>\n",
              "      <td>0.250405</td>\n",
              "      <td>0.264297</td>\n",
              "    </tr>\n",
              "    <tr>\n",
              "      <th>2</th>\n",
              "      <td>b</td>\n",
              "      <td>one</td>\n",
              "      <td>0.162447</td>\n",
              "      <td>1.126248</td>\n",
              "    </tr>\n",
              "    <tr>\n",
              "      <th>3</th>\n",
              "      <td>b</td>\n",
              "      <td>two</td>\n",
              "      <td>0.612355</td>\n",
              "      <td>0.178326</td>\n",
              "    </tr>\n",
              "    <tr>\n",
              "      <th>4</th>\n",
              "      <td>a</td>\n",
              "      <td>one</td>\n",
              "      <td>0.341008</td>\n",
              "      <td>0.477300</td>\n",
              "    </tr>\n",
              "  </tbody>\n",
              "</table>\n",
              "</div>"
            ],
            "text/plain": [
              "  key1 key2     data1     data2\n",
              "0    a  one  0.560488  1.034524\n",
              "1    a  two  0.250405  0.264297\n",
              "2    b  one  0.162447  1.126248\n",
              "3    b  two  0.612355  0.178326\n",
              "4    a  one  0.341008  0.477300"
            ]
          },
          "metadata": {},
          "execution_count": 11
        }
      ]
    },
    {
      "cell_type": "code",
      "metadata": {
        "id": "bmlsCUoU1a9T"
      },
      "source": [
        "grouped = df.groupby('key1')"
      ],
      "execution_count": null,
      "outputs": []
    },
    {
      "cell_type": "code",
      "metadata": {
        "deletable": true,
        "editable": true,
        "colab": {
          "base_uri": "https://localhost:8080/",
          "height": 173
        },
        "id": "TXY0YaNQUx-X",
        "outputId": "eecf6988-6fb0-4a5b-cbdd-f5a3502a9098"
      },
      "source": [
        "def peak_to_peak(arr):\n",
        "    return arr.max() - arr.min()\n",
        "grouped.agg([peak_to_peak])"
      ],
      "execution_count": null,
      "outputs": [
        {
          "output_type": "execute_result",
          "data": {
            "text/html": [
              "<div>\n",
              "<style scoped>\n",
              "    .dataframe tbody tr th:only-of-type {\n",
              "        vertical-align: middle;\n",
              "    }\n",
              "\n",
              "    .dataframe tbody tr th {\n",
              "        vertical-align: top;\n",
              "    }\n",
              "\n",
              "    .dataframe thead tr th {\n",
              "        text-align: left;\n",
              "    }\n",
              "\n",
              "    .dataframe thead tr:last-of-type th {\n",
              "        text-align: right;\n",
              "    }\n",
              "</style>\n",
              "<table border=\"1\" class=\"dataframe\">\n",
              "  <thead>\n",
              "    <tr>\n",
              "      <th></th>\n",
              "      <th>data1</th>\n",
              "      <th>data2</th>\n",
              "    </tr>\n",
              "    <tr>\n",
              "      <th></th>\n",
              "      <th>peak_to_peak</th>\n",
              "      <th>peak_to_peak</th>\n",
              "    </tr>\n",
              "    <tr>\n",
              "      <th>key1</th>\n",
              "      <th></th>\n",
              "      <th></th>\n",
              "    </tr>\n",
              "  </thead>\n",
              "  <tbody>\n",
              "    <tr>\n",
              "      <th>a</th>\n",
              "      <td>0.310083</td>\n",
              "      <td>0.770227</td>\n",
              "    </tr>\n",
              "    <tr>\n",
              "      <th>b</th>\n",
              "      <td>0.449908</td>\n",
              "      <td>0.947921</td>\n",
              "    </tr>\n",
              "  </tbody>\n",
              "</table>\n",
              "</div>"
            ],
            "text/plain": [
              "            data1        data2\n",
              "     peak_to_peak peak_to_peak\n",
              "key1                          \n",
              "a        0.310083     0.770227\n",
              "b        0.449908     0.947921"
            ]
          },
          "metadata": {},
          "execution_count": 14
        }
      ]
    },
    {
      "cell_type": "code",
      "metadata": {
        "deletable": true,
        "editable": true,
        "colab": {
          "base_uri": "https://localhost:8080/",
          "height": 173
        },
        "id": "6l2bYbSnUx-X",
        "outputId": "7a5ac86d-4a7d-4f33-e8f4-6a383fff075a"
      },
      "source": [
        "grouped.describe()"
      ],
      "execution_count": null,
      "outputs": [
        {
          "output_type": "execute_result",
          "data": {
            "text/html": [
              "<div>\n",
              "<style scoped>\n",
              "    .dataframe tbody tr th:only-of-type {\n",
              "        vertical-align: middle;\n",
              "    }\n",
              "\n",
              "    .dataframe tbody tr th {\n",
              "        vertical-align: top;\n",
              "    }\n",
              "\n",
              "    .dataframe thead tr th {\n",
              "        text-align: left;\n",
              "    }\n",
              "\n",
              "    .dataframe thead tr:last-of-type th {\n",
              "        text-align: right;\n",
              "    }\n",
              "</style>\n",
              "<table border=\"1\" class=\"dataframe\">\n",
              "  <thead>\n",
              "    <tr>\n",
              "      <th></th>\n",
              "      <th colspan=\"8\" halign=\"left\">data1</th>\n",
              "      <th colspan=\"8\" halign=\"left\">data2</th>\n",
              "    </tr>\n",
              "    <tr>\n",
              "      <th></th>\n",
              "      <th>count</th>\n",
              "      <th>mean</th>\n",
              "      <th>std</th>\n",
              "      <th>min</th>\n",
              "      <th>25%</th>\n",
              "      <th>50%</th>\n",
              "      <th>75%</th>\n",
              "      <th>max</th>\n",
              "      <th>count</th>\n",
              "      <th>mean</th>\n",
              "      <th>std</th>\n",
              "      <th>min</th>\n",
              "      <th>25%</th>\n",
              "      <th>50%</th>\n",
              "      <th>75%</th>\n",
              "      <th>max</th>\n",
              "    </tr>\n",
              "    <tr>\n",
              "      <th>key1</th>\n",
              "      <th></th>\n",
              "      <th></th>\n",
              "      <th></th>\n",
              "      <th></th>\n",
              "      <th></th>\n",
              "      <th></th>\n",
              "      <th></th>\n",
              "      <th></th>\n",
              "      <th></th>\n",
              "      <th></th>\n",
              "      <th></th>\n",
              "      <th></th>\n",
              "      <th></th>\n",
              "      <th></th>\n",
              "      <th></th>\n",
              "      <th></th>\n",
              "    </tr>\n",
              "  </thead>\n",
              "  <tbody>\n",
              "    <tr>\n",
              "      <th>a</th>\n",
              "      <td>3.0</td>\n",
              "      <td>0.383967</td>\n",
              "      <td>0.159443</td>\n",
              "      <td>0.250405</td>\n",
              "      <td>0.295706</td>\n",
              "      <td>0.341008</td>\n",
              "      <td>0.450748</td>\n",
              "      <td>0.560488</td>\n",
              "      <td>3.0</td>\n",
              "      <td>0.592040</td>\n",
              "      <td>0.397726</td>\n",
              "      <td>0.264297</td>\n",
              "      <td>0.370798</td>\n",
              "      <td>0.477300</td>\n",
              "      <td>0.755912</td>\n",
              "      <td>1.034524</td>\n",
              "    </tr>\n",
              "    <tr>\n",
              "      <th>b</th>\n",
              "      <td>2.0</td>\n",
              "      <td>0.387401</td>\n",
              "      <td>0.318133</td>\n",
              "      <td>0.162447</td>\n",
              "      <td>0.274924</td>\n",
              "      <td>0.387401</td>\n",
              "      <td>0.499878</td>\n",
              "      <td>0.612355</td>\n",
              "      <td>2.0</td>\n",
              "      <td>0.652287</td>\n",
              "      <td>0.670282</td>\n",
              "      <td>0.178326</td>\n",
              "      <td>0.415307</td>\n",
              "      <td>0.652287</td>\n",
              "      <td>0.889267</td>\n",
              "      <td>1.126248</td>\n",
              "    </tr>\n",
              "  </tbody>\n",
              "</table>\n",
              "</div>"
            ],
            "text/plain": [
              "     data1                      ...     data2                    \n",
              "     count      mean       std  ...       50%       75%       max\n",
              "key1                            ...                              \n",
              "a      3.0  0.383967  0.159443  ...  0.477300  0.755912  1.034524\n",
              "b      2.0  0.387401  0.318133  ...  0.652287  0.889267  1.126248\n",
              "\n",
              "[2 rows x 16 columns]"
            ]
          },
          "metadata": {},
          "execution_count": 15
        }
      ]
    },
    {
      "cell_type": "markdown",
      "metadata": {
        "deletable": true,
        "editable": true,
        "id": "YQBKDeOsUx-e"
      },
      "source": [
        "### Example: Random Sampling and Permutation"
      ]
    },
    {
      "cell_type": "code",
      "metadata": {
        "deletable": true,
        "editable": true,
        "id": "YaQoPzOlUx-e"
      },
      "source": [
        "# Hearts, Spades, Clubs, Diamonds\n",
        "suits = ['H', 'S', 'C', 'D']\n",
        "card_val = (list(range(1, 11)) + [10] * 3) * 4\n",
        "base_names = ['A'] + list(range(2, 11)) + ['J', 'K', 'Q']\n",
        "cards = []\n",
        "for suit in ['H', 'S', 'C', 'D']:\n",
        "    cards.extend(str(num) + suit for num in base_names)\n",
        "\n",
        "deck = pd.Series(card_val, index=cards)"
      ],
      "execution_count": null,
      "outputs": []
    },
    {
      "cell_type": "code",
      "metadata": {
        "deletable": true,
        "editable": true,
        "colab": {
          "base_uri": "https://localhost:8080/"
        },
        "id": "Mu8Y841UUx-e",
        "outputId": "73607dd8-8150-4f3d-f7f0-4c75642406f7"
      },
      "source": [
        "deck"
      ],
      "execution_count": null,
      "outputs": [
        {
          "output_type": "execute_result",
          "data": {
            "text/plain": [
              "AH      1\n",
              "2H      2\n",
              "3H      3\n",
              "4H      4\n",
              "5H      5\n",
              "6H      6\n",
              "7H      7\n",
              "8H      8\n",
              "9H      9\n",
              "10H    10\n",
              "JH     10\n",
              "KH     10\n",
              "QH     10\n",
              "AS      1\n",
              "2S      2\n",
              "3S      3\n",
              "4S      4\n",
              "5S      5\n",
              "6S      6\n",
              "7S      7\n",
              "8S      8\n",
              "9S      9\n",
              "10S    10\n",
              "JS     10\n",
              "KS     10\n",
              "QS     10\n",
              "AC      1\n",
              "2C      2\n",
              "3C      3\n",
              "4C      4\n",
              "5C      5\n",
              "6C      6\n",
              "7C      7\n",
              "8C      8\n",
              "9C      9\n",
              "10C    10\n",
              "JC     10\n",
              "KC     10\n",
              "QC     10\n",
              "AD      1\n",
              "2D      2\n",
              "3D      3\n",
              "4D      4\n",
              "5D      5\n",
              "6D      6\n",
              "7D      7\n",
              "8D      8\n",
              "9D      9\n",
              "10D    10\n",
              "JD     10\n",
              "KD     10\n",
              "QD     10\n",
              "dtype: int64"
            ]
          },
          "metadata": {},
          "execution_count": 18
        }
      ]
    },
    {
      "cell_type": "code",
      "metadata": {
        "colab": {
          "base_uri": "https://localhost:8080/"
        },
        "id": "g9yZrw547nWD",
        "outputId": "fe50624a-b547-4d0f-e510-a36be863a914"
      },
      "source": [
        "len(deck)"
      ],
      "execution_count": null,
      "outputs": [
        {
          "output_type": "execute_result",
          "data": {
            "text/plain": [
              "52"
            ]
          },
          "metadata": {
            "tags": []
          },
          "execution_count": 70
        }
      ]
    },
    {
      "cell_type": "code",
      "metadata": {
        "deletable": true,
        "editable": true,
        "colab": {
          "base_uri": "https://localhost:8080/"
        },
        "id": "mRPWM6oOUx-e",
        "outputId": "66484305-66d0-40d1-9514-46a45e20b3bb"
      },
      "source": [
        "def draw(deck, n=5):\n",
        "    return deck.sample(n)\n",
        "draw(deck)"
      ],
      "execution_count": null,
      "outputs": [
        {
          "output_type": "execute_result",
          "data": {
            "text/plain": [
              "10C    10\n",
              "2C      2\n",
              "3C      3\n",
              "6S      6\n",
              "8S      8\n",
              "dtype: int64"
            ]
          },
          "metadata": {},
          "execution_count": 19
        }
      ]
    },
    {
      "cell_type": "code",
      "metadata": {
        "deletable": true,
        "editable": true,
        "colab": {
          "base_uri": "https://localhost:8080/"
        },
        "id": "tnRCDxpyUx-f",
        "outputId": "57226794-0522-4f1e-9dde-bacf317d47c6"
      },
      "source": [
        "get_suit = lambda card: card[-1] # last letter is suit\n",
        "deck.groupby(get_suit).apply(draw, n=2)"
      ],
      "execution_count": null,
      "outputs": [
        {
          "output_type": "execute_result",
          "data": {
            "text/plain": [
              "C  6C     6\n",
              "   7C     7\n",
              "D  8D     8\n",
              "   QD    10\n",
              "H  QH    10\n",
              "   8H     8\n",
              "S  KS    10\n",
              "   5S     5\n",
              "dtype: int64"
            ]
          },
          "metadata": {},
          "execution_count": 21
        }
      ]
    }
  ]
}