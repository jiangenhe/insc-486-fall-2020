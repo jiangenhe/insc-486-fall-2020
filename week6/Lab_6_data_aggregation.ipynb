{
  "nbformat": 4,
  "nbformat_minor": 0,
  "metadata": {
    "colab": {
      "name": "Lab-6-data-aggregation.ipynb",
      "provenance": [],
      "collapsed_sections": [],
      "authorship_tag": "ABX9TyPjy+2GmCo/VGatHkUklegE",
      "include_colab_link": true
    },
    "kernelspec": {
      "name": "python3",
      "display_name": "Python 3"
    }
  },
  "cells": [
    {
      "cell_type": "markdown",
      "metadata": {
        "id": "view-in-github",
        "colab_type": "text"
      },
      "source": [
        "<a href=\"https://colab.research.google.com/github/jiangenhe/insc-486-2021-spring/blob/main/week6/Lab_6_data_aggregation.ipynb\" target=\"_parent\"><img src=\"https://colab.research.google.com/assets/colab-badge.svg\" alt=\"Open In Colab\"/></a>"
      ]
    },
    {
      "cell_type": "markdown",
      "metadata": {
        "id": "cFoPmOdaBMNL"
      },
      "source": [
        "# Lab 6: Data Aggregation"
      ]
    },
    {
      "cell_type": "code",
      "metadata": {
        "colab": {
          "base_uri": "https://localhost:8080/",
          "height": 204
        },
        "id": "fxZPkM-6Cn_9",
        "outputId": "b61056ba-d3b8-4d86-c81e-716ccf082f1c"
      },
      "source": [
        "import pandas as pd\n",
        "\n",
        "stadiums = pd.read_csv(\"https://raw.githubusercontent.com/jiangenhe/insc-486-2021-spring/main/week6/stadiums.csv\")\n",
        "stadiums.head()"
      ],
      "execution_count": null,
      "outputs": [
        {
          "output_type": "execute_result",
          "data": {
            "text/html": [
              "<div>\n",
              "<style scoped>\n",
              "    .dataframe tbody tr th:only-of-type {\n",
              "        vertical-align: middle;\n",
              "    }\n",
              "\n",
              "    .dataframe tbody tr th {\n",
              "        vertical-align: top;\n",
              "    }\n",
              "\n",
              "    .dataframe thead th {\n",
              "        text-align: right;\n",
              "    }\n",
              "</style>\n",
              "<table border=\"1\" class=\"dataframe\">\n",
              "  <thead>\n",
              "    <tr style=\"text-align: right;\">\n",
              "      <th></th>\n",
              "      <th>id</th>\n",
              "      <th>lat</th>\n",
              "      <th>lon</th>\n",
              "      <th>name</th>\n",
              "      <th>city</th>\n",
              "      <th>country</th>\n",
              "      <th>team</th>\n",
              "      <th>capacity</th>\n",
              "      <th>year</th>\n",
              "    </tr>\n",
              "  </thead>\n",
              "  <tbody>\n",
              "    <tr>\n",
              "      <th>0</th>\n",
              "      <td>s010</td>\n",
              "      <td>43.1532</td>\n",
              "      <td>-76.2116</td>\n",
              "      <td>Aintree Racecourse</td>\n",
              "      <td>Liverpool</td>\n",
              "      <td>GBR</td>\n",
              "      <td>Grand National Race</td>\n",
              "      <td>75000</td>\n",
              "      <td>1829</td>\n",
              "    </tr>\n",
              "    <tr>\n",
              "      <th>1</th>\n",
              "      <td>s600</td>\n",
              "      <td>46.1500</td>\n",
              "      <td>-60.1667</td>\n",
              "      <td>Sydney Cricket Ground</td>\n",
              "      <td>Sydney</td>\n",
              "      <td>AUS</td>\n",
              "      <td>Sydney Swans FC</td>\n",
              "      <td>44000</td>\n",
              "      <td>1851</td>\n",
              "    </tr>\n",
              "    <tr>\n",
              "      <th>2</th>\n",
              "      <td>s353</td>\n",
              "      <td>28.0782</td>\n",
              "      <td>-80.7534</td>\n",
              "      <td>Melbourne Cricket Ground</td>\n",
              "      <td>Melbourne</td>\n",
              "      <td>AUS</td>\n",
              "      <td>Multi-use</td>\n",
              "      <td>100000</td>\n",
              "      <td>1853</td>\n",
              "    </tr>\n",
              "    <tr>\n",
              "      <th>3</th>\n",
              "      <td>s261</td>\n",
              "      <td>38.2133</td>\n",
              "      <td>-84.2256</td>\n",
              "      <td>Hippodrome de Longchamp</td>\n",
              "      <td>Paris</td>\n",
              "      <td>FRA</td>\n",
              "      <td>Horse Racing-use</td>\n",
              "      <td>50000</td>\n",
              "      <td>1857</td>\n",
              "    </tr>\n",
              "    <tr>\n",
              "      <th>4</th>\n",
              "      <td>s462</td>\n",
              "      <td>22.5697</td>\n",
              "      <td>88.3697</td>\n",
              "      <td>Ranji Stadium</td>\n",
              "      <td>Calcutta</td>\n",
              "      <td>IND</td>\n",
              "      <td>Kolkata Knight Riders</td>\n",
              "      <td>90000</td>\n",
              "      <td>1864</td>\n",
              "    </tr>\n",
              "  </tbody>\n",
              "</table>\n",
              "</div>"
            ],
            "text/plain": [
              "     id      lat      lon  ...                   team capacity  year\n",
              "0  s010  43.1532 -76.2116  ...    Grand National Race    75000  1829\n",
              "1  s600  46.1500 -60.1667  ...        Sydney Swans FC    44000  1851\n",
              "2  s353  28.0782 -80.7534  ...              Multi-use   100000  1853\n",
              "3  s261  38.2133 -84.2256  ...       Horse Racing-use    50000  1857\n",
              "4  s462  22.5697  88.3697  ...  Kolkata Knight Riders    90000  1864\n",
              "\n",
              "[5 rows x 9 columns]"
            ]
          },
          "metadata": {
            "tags": []
          },
          "execution_count": 9
        }
      ]
    },
    {
      "cell_type": "markdown",
      "metadata": {
        "id": "FtDlOy_QCNLJ"
      },
      "source": [
        "1.  Split dataframe 'df' into groups based on country and get mean, min, and max value of capacity for each country."
      ]
    },
    {
      "cell_type": "code",
      "metadata": {
        "id": "S2-UOqrtBLUk"
      },
      "source": [
        ""
      ],
      "execution_count": null,
      "outputs": []
    },
    {
      "cell_type": "markdown",
      "metadata": {
        "id": "Nvw-k_ChDF8l"
      },
      "source": [
        "2. Select stadiums from USA"
      ]
    },
    {
      "cell_type": "code",
      "metadata": {
        "id": "VjsWic14GmNd"
      },
      "source": [
        ""
      ],
      "execution_count": null,
      "outputs": []
    },
    {
      "cell_type": "markdown",
      "metadata": {
        "id": "I9W-vf-CGmw3"
      },
      "source": [
        "3. Group stadiums in USA by decades (like 1900, 1910, 1920,...) and get the numbers of stadiums built for each deacde."
      ]
    },
    {
      "cell_type": "code",
      "metadata": {
        "id": "k8YL8JInH6Sn"
      },
      "source": [
        ""
      ],
      "execution_count": null,
      "outputs": []
    },
    {
      "cell_type": "markdown",
      "metadata": {
        "id": "g12TMbE-KUM7"
      },
      "source": [
        "4. Group stadiums by Northern/Southern Hemisphere and country, and show the capacity of the largest stadium in each country\n",
        "\n",
        "Nothern Hemisphere: lat>0\n",
        "\n",
        "Southern Hemisphere: lat<0\n"
      ]
    },
    {
      "cell_type": "code",
      "metadata": {
        "id": "frijHF8QUIPx"
      },
      "source": [
        ""
      ],
      "execution_count": null,
      "outputs": []
    },
    {
      "cell_type": "markdown",
      "metadata": {
        "id": "zDMpoFqRQGBz"
      },
      "source": [
        "5. Remove countries without a stadium larger than 80,000 from the result of question 4."
      ]
    },
    {
      "cell_type": "code",
      "metadata": {
        "id": "v1g5e2FEUHpt"
      },
      "source": [
        ""
      ],
      "execution_count": null,
      "outputs": []
    },
    {
      "cell_type": "markdown",
      "metadata": {
        "id": "AOZlXDb8NyUr"
      },
      "source": [
        "6. Use program (not by your observation) to find the country with largest stadium in each hemisphere."
      ]
    },
    {
      "cell_type": "code",
      "metadata": {
        "id": "mMoGkGXmPock"
      },
      "source": [
        ""
      ],
      "execution_count": null,
      "outputs": []
    }
  ]
}