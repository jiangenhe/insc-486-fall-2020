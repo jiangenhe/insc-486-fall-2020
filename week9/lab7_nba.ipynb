{
  "nbformat": 4,
  "nbformat_minor": 0,
  "metadata": {
    "colab": {
      "name": "lab7-nba.ipynb",
      "provenance": [],
      "authorship_tag": "ABX9TyNzUf1cV1JoPrpPgyUBLdU1",
      "include_colab_link": true
    },
    "kernelspec": {
      "name": "python3",
      "display_name": "Python 3"
    }
  },
  "cells": [
    {
      "cell_type": "markdown",
      "metadata": {
        "id": "view-in-github",
        "colab_type": "text"
      },
      "source": [
        "<a href=\"https://colab.research.google.com/github/jiangenhe/insc-486-2021-spring/blob/main/week8/lab7_nba.ipynb\" target=\"_parent\"><img src=\"https://colab.research.google.com/assets/colab-badge.svg\" alt=\"Open In Colab\"/></a>"
      ]
    },
    {
      "cell_type": "markdown",
      "metadata": {
        "id": "JBQAdOwvy7jx"
      },
      "source": [
        "# Lab 7: Correlation Analysis"
      ]
    },
    {
      "cell_type": "markdown",
      "metadata": {
        "id": "oNdimgtazuUQ"
      },
      "source": [
        "Use the following dataset to understand how the number of minutes NBA players played is correlated to their 3-point shooting accuracy.\n",
        "\n",
        "https://raw.githubusercontent.com/jiangenhe/insc-486-2021-spring/main/week8/basketball.csv\n"
      ]
    },
    {
      "cell_type": "markdown",
      "metadata": {
        "id": "GljXsGZD0rNv"
      },
      "source": [
        "## 0. Import libraries and load dataset"
      ]
    },
    {
      "cell_type": "code",
      "metadata": {
        "id": "-GNq9WBk01ew"
      },
      "source": [
        ""
      ],
      "execution_count": null,
      "outputs": []
    },
    {
      "cell_type": "markdown",
      "metadata": {
        "id": "MYxcdjzw0guF"
      },
      "source": [
        "## 1. Exploratory data analysis.\n",
        "\n",
        "### 1.1 Calculate mean, median, min, and max of all the variable. \n",
        "\n",
        "use describe()"
      ]
    },
    {
      "cell_type": "code",
      "metadata": {
        "id": "QVFftxl2y0un"
      },
      "source": [
        ""
      ],
      "execution_count": null,
      "outputs": []
    },
    {
      "cell_type": "markdown",
      "metadata": {
        "id": "NdMsTKjM026B"
      },
      "source": [
        "\n",
        " ### 1.2 Visualize minutes played (MP) and 3-point shooting accuracy (3P%) by using a scatterplot.\n",
        "\n",
        " Example: https://pandas.pydata.org/pandas-docs/stable/reference/api/pandas.DataFrame.plot.scatter.html"
      ]
    },
    {
      "cell_type": "code",
      "metadata": {
        "id": "VlrEpaim078Z"
      },
      "source": [
        ""
      ],
      "execution_count": null,
      "outputs": []
    },
    {
      "cell_type": "markdown",
      "metadata": {
        "id": "pnwUzmMp1BzG"
      },
      "source": [
        "## 2. State your hypotheses"
      ]
    },
    {
      "cell_type": "markdown",
      "metadata": {
        "id": "y0JHvNBa1PqX"
      },
      "source": [
        ""
      ]
    },
    {
      "cell_type": "markdown",
      "metadata": {
        "id": "hsNJQVef1Qfp"
      },
      "source": [
        "## 3. Correlation analysis and test"
      ]
    },
    {
      "cell_type": "code",
      "metadata": {
        "id": "fi2Q3TEn1ZpH"
      },
      "source": [
        ""
      ],
      "execution_count": null,
      "outputs": []
    },
    {
      "cell_type": "markdown",
      "metadata": {
        "id": "nJ34hi4b1aG8"
      },
      "source": [
        "## 4. Your findings"
      ]
    },
    {
      "cell_type": "markdown",
      "metadata": {
        "id": "Cu36gslb1zlY"
      },
      "source": [
        ""
      ]
    }
  ]
}