{
  "nbformat": 4,
  "nbformat_minor": 0,
  "metadata": {
    "colab": {
      "name": "lab8-nba-2.ipynb",
      "provenance": [],
      "authorship_tag": "ABX9TyNAEQki2w5pBNGMRz5B/2kR",
      "include_colab_link": true
    },
    "kernelspec": {
      "name": "python3",
      "display_name": "Python 3"
    }
  },
  "cells": [
    {
      "cell_type": "markdown",
      "metadata": {
        "id": "view-in-github",
        "colab_type": "text"
      },
      "source": [
        "<a href=\"https://colab.research.google.com/github/jiangenhe/insc-486-2021-spring/blob/main/week9/lab8_nba_2.ipynb\" target=\"_parent\"><img src=\"https://colab.research.google.com/assets/colab-badge.svg\" alt=\"Open In Colab\"/></a>"
      ]
    },
    {
      "cell_type": "markdown",
      "metadata": {
        "id": "JBQAdOwvy7jx"
      },
      "source": [
        "# Lab 8: Confidence Intervals"
      ]
    },
    {
      "cell_type": "markdown",
      "metadata": {
        "id": "oNdimgtazuUQ"
      },
      "source": [
        "Use the following dataset to understand how the number of minutes NBA players played is correlated to their 3-point shooting accuracy.\n",
        "\n",
        "https://raw.githubusercontent.com/jiangenhe/insc-486-2021-spring/main/week8/basketball.csv\n"
      ]
    },
    {
      "cell_type": "markdown",
      "metadata": {
        "id": "GljXsGZD0rNv"
      },
      "source": [
        "## 0. Import libraries and load dataset"
      ]
    },
    {
      "cell_type": "code",
      "metadata": {
        "id": "-GNq9WBk01ew"
      },
      "source": [
        ""
      ],
      "execution_count": null,
      "outputs": []
    },
    {
      "cell_type": "markdown",
      "metadata": {
        "id": "MYxcdjzw0guF"
      },
      "source": [
        "## 1. What is confidence interval for the mean of 3-point shooting accuracy (3P%)?"
      ]
    },
    {
      "cell_type": "code",
      "metadata": {
        "id": "QVFftxl2y0un"
      },
      "source": [
        ""
      ],
      "execution_count": null,
      "outputs": []
    },
    {
      "cell_type": "markdown",
      "metadata": {
        "id": "uCdTLd1vlOg_"
      },
      "source": [
        "## 2. State your interpretation to the mean confidence interval."
      ]
    },
    {
      "cell_type": "markdown",
      "metadata": {
        "id": "SushC8VSlYs3"
      },
      "source": [
        ""
      ]
    },
    {
      "cell_type": "markdown",
      "metadata": {
        "id": "NdMsTKjM026B"
      },
      "source": [
        "## 3. Compare the mean of Free Throw Percentage (FT%) between team ATL and team BOS (TM) and calculate the confidence interval for the mean difference.\n",
        "\n",
        " Example: https://pandas.pydata.org/pandas-docs/stable/reference/api/pandas.DataFrame.plot.scatter.html"
      ]
    },
    {
      "cell_type": "code",
      "metadata": {
        "id": "VlrEpaim078Z"
      },
      "source": [
        ""
      ],
      "execution_count": null,
      "outputs": []
    },
    {
      "cell_type": "markdown",
      "metadata": {
        "id": "pnwUzmMp1BzG"
      },
      "source": [
        "## 4. State interpretation of the mean difference confidence interval."
      ]
    },
    {
      "cell_type": "markdown",
      "metadata": {
        "id": "pKwEUF-Smmyo"
      },
      "source": [
        ""
      ]
    }
  ]
}