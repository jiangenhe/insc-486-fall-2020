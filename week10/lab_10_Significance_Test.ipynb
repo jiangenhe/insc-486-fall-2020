{
  "nbformat": 4,
  "nbformat_minor": 0,
  "metadata": {
    "colab": {
      "name": "lab-9: Significance Test.ipynb",
      "provenance": [],
      "collapsed_sections": [],
      "authorship_tag": "ABX9TyNKM8RamLcmc9n4DgqwirRe",
      "include_colab_link": true
    },
    "kernelspec": {
      "name": "python3",
      "display_name": "Python 3"
    },
    "language_info": {
      "name": "python"
    }
  },
  "cells": [
    {
      "cell_type": "markdown",
      "metadata": {
        "id": "view-in-github",
        "colab_type": "text"
      },
      "source": [
        "<a href=\"https://colab.research.google.com/github/jiangenhe/insc-486-2021-spring/blob/main/week10/lab_9_Significance_Test.ipynb\" target=\"_parent\"><img src=\"https://colab.research.google.com/assets/colab-badge.svg\" alt=\"Open In Colab\"/></a>"
      ]
    },
    {
      "cell_type": "markdown",
      "metadata": {
        "id": "TON63f_-jbJr"
      },
      "source": [
        "# Lab 9: Significance Test"
      ]
    },
    {
      "cell_type": "markdown",
      "metadata": {
        "id": "A4oFVfBajgBj"
      },
      "source": [
        "Load data: https://raw.githubusercontent.com/jiangenhe/insc-486-2021-spring/main/week10/NHANES.csv\n",
        "\n"
      ]
    },
    {
      "cell_type": "markdown",
      "metadata": {
        "id": "h2hCkV54jx4b"
      },
      "source": [
        "Considering adults in the NHANES data, do males have a significantly higher mean Body Mass Index than females?\n",
        "\n",
        "**Population**: Adults in the NHANES data.  \n",
        "**Parameter of Interest**: $\\mu_1 - \\mu_2$, Body Mass Index.  \n",
        "\n",
        "* Female: ['RIAGENDR'] == 2\n",
        "* Male: ['RIAGENDR'] == 1\n",
        "* Body Mass Index: 'BMXBMI'\n",
        "\n"
      ]
    },
    {
      "cell_type": "markdown",
      "metadata": {
        "id": "IVteSeZJnvOb"
      },
      "source": [
        "## Step 1: State your hypotheses."
      ]
    },
    {
      "cell_type": "code",
      "metadata": {
        "id": "8PZ6pzLUjxLN"
      },
      "source": [
        ""
      ],
      "execution_count": null,
      "outputs": []
    },
    {
      "cell_type": "markdown",
      "metadata": {
        "id": "NMp-cvDbn0Mk"
      },
      "source": [
        "## Step 2.1: Describe Female and Male data "
      ]
    },
    {
      "cell_type": "code",
      "metadata": {
        "id": "_xNoGGzmje_g"
      },
      "source": [
        ""
      ],
      "execution_count": null,
      "outputs": []
    },
    {
      "cell_type": "markdown",
      "metadata": {
        "id": "aXkoqjRnoC7u"
      },
      "source": [
        "## Step 2.2: Check nomality by histogram graph"
      ]
    },
    {
      "cell_type": "code",
      "metadata": {
        "id": "dA4D28KGidkK"
      },
      "source": [
        ""
      ],
      "execution_count": null,
      "outputs": []
    },
    {
      "cell_type": "markdown",
      "metadata": {
        "id": "B9ahqUQ7oYHu"
      },
      "source": [
        "## Step 3: Calculate p-value"
      ]
    },
    {
      "cell_type": "code",
      "metadata": {
        "id": "6VPB-BsqoeSI"
      },
      "source": [
        ""
      ],
      "execution_count": null,
      "outputs": []
    },
    {
      "cell_type": "markdown",
      "metadata": {
        "id": "k_mqyi_RodQ8"
      },
      "source": [
        "## Step 4: Draw your conclusion"
      ]
    },
    {
      "cell_type": "code",
      "metadata": {
        "id": "XkV1KSJ7olRh"
      },
      "source": [
        ""
      ],
      "execution_count": null,
      "outputs": []
    }
  ]
}