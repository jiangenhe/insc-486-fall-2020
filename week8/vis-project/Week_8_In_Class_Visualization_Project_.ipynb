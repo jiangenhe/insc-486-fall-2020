{
  "nbformat": 4,
  "nbformat_minor": 0,
  "metadata": {
    "colab": {
      "name": "Week 8: In-Class Visualization Project .ipynb",
      "provenance": [],
      "authorship_tag": "ABX9TyPKIgw4032PWBDmp8sW1YzA",
      "include_colab_link": true
    },
    "kernelspec": {
      "name": "python3",
      "display_name": "Python 3"
    },
    "language_info": {
      "name": "python"
    }
  },
  "cells": [
    {
      "cell_type": "markdown",
      "metadata": {
        "id": "view-in-github",
        "colab_type": "text"
      },
      "source": [
        "<a href=\"https://colab.research.google.com/github/jiangenhe/insc-486-fall-2021/blob/main/week8/vis-project/Week_8_In_Class_Visualization_Project_.ipynb\" target=\"_parent\"><img src=\"https://colab.research.google.com/assets/colab-badge.svg\" alt=\"Open In Colab\"/></a>"
      ]
    },
    {
      "cell_type": "markdown",
      "metadata": {
        "id": "M0xPgVvzmx7U"
      },
      "source": [
        "# Week 6: In-Class Visualization Project \n",
        "\n",
        "## Activities:\n",
        "1. Read data and two examples in this notebook (5 mins);\n",
        "2. Select or create one or two questions to answer (5 mins);\n",
        "3. Identify visualizations for answering your questions from visualization examples of Seaborn (10 mins);\n",
        "4. Implement at least two visualizations (30 mins);\n",
        "5. Share what you have learned from the visualizations to the class. (2 mins)"
      ]
    },
    {
      "cell_type": "markdown",
      "metadata": {
        "id": "OxRKrSY5m2Tq"
      },
      "source": [
        "# Visualization Examples of Seaborn\n",
        "\n",
        "1. Example Gallery: http://seaborn.pydata.org/examples/index.html\n",
        "\n",
        "2. Week 8 Visualization Lecture: https://colab.research.google.com/github/jiangenhe/insc-486-fall-2021/blob/main/week8/week8_lecture_visualization.ipynb\n",
        "\n",
        "3. 14 Data Visualization Plots of Seaborn: https://towardsdatascience.com/14-data-visualization-plots-of-seaborn-14a7bdd16cd7\n"
      ]
    },
    {
      "cell_type": "markdown",
      "metadata": {
        "id": "NPtxztJOc-8S"
      },
      "source": [
        "# Data Loading and Cleaning"
      ]
    },
    {
      "cell_type": "code",
      "metadata": {
        "id": "4frYsoPQWv_C"
      },
      "source": [
        "import numpy as np \n",
        "import pandas as pd\n",
        "pd.plotting.register_matplotlib_converters()\n",
        "import matplotlib.pyplot as plt\n",
        "%matplotlib inline\n",
        "import seaborn as sns"
      ],
      "execution_count": null,
      "outputs": []
    },
    {
      "cell_type": "code",
      "metadata": {
        "colab": {
          "base_uri": "https://localhost:8080/",
          "height": 382
        },
        "id": "35NekBUJYvQy",
        "outputId": "0a65eb76-2f21-497e-9bb3-03d034482532"
      },
      "source": [
        "hr_data = pd.read_csv(\"https://raw.githubusercontent.com/jiangenhe/insc-486-fall-2021/main/week8/vis-project/HRDataset.csv\")\n",
        "hr_data.head()"
      ],
      "execution_count": null,
      "outputs": [
        {
          "output_type": "execute_result",
          "data": {
            "text/html": [
              "<div>\n",
              "<style scoped>\n",
              "    .dataframe tbody tr th:only-of-type {\n",
              "        vertical-align: middle;\n",
              "    }\n",
              "\n",
              "    .dataframe tbody tr th {\n",
              "        vertical-align: top;\n",
              "    }\n",
              "\n",
              "    .dataframe thead th {\n",
              "        text-align: right;\n",
              "    }\n",
              "</style>\n",
              "<table border=\"1\" class=\"dataframe\">\n",
              "  <thead>\n",
              "    <tr style=\"text-align: right;\">\n",
              "      <th></th>\n",
              "      <th>Employee_Name</th>\n",
              "      <th>EmpID</th>\n",
              "      <th>MarriedID</th>\n",
              "      <th>MaritalStatusID</th>\n",
              "      <th>GenderID</th>\n",
              "      <th>EmpStatusID</th>\n",
              "      <th>DeptID</th>\n",
              "      <th>PerfScoreID</th>\n",
              "      <th>FromDiversityJobFairID</th>\n",
              "      <th>Salary</th>\n",
              "      <th>Termd</th>\n",
              "      <th>PositionID</th>\n",
              "      <th>Position</th>\n",
              "      <th>State</th>\n",
              "      <th>Zip</th>\n",
              "      <th>DOB</th>\n",
              "      <th>Sex</th>\n",
              "      <th>MaritalDesc</th>\n",
              "      <th>CitizenDesc</th>\n",
              "      <th>HispanicLatino</th>\n",
              "      <th>RaceDesc</th>\n",
              "      <th>DateofHire</th>\n",
              "      <th>DateofTermination</th>\n",
              "      <th>TermReason</th>\n",
              "      <th>EmploymentStatus</th>\n",
              "      <th>Department</th>\n",
              "      <th>ManagerName</th>\n",
              "      <th>ManagerID</th>\n",
              "      <th>RecruitmentSource</th>\n",
              "      <th>PerformanceScore</th>\n",
              "      <th>EngagementSurvey</th>\n",
              "      <th>EmpSatisfaction</th>\n",
              "      <th>SpecialProjectsCount</th>\n",
              "      <th>LastPerformanceReview_Date</th>\n",
              "      <th>DaysLateLast30</th>\n",
              "      <th>Absences</th>\n",
              "    </tr>\n",
              "  </thead>\n",
              "  <tbody>\n",
              "    <tr>\n",
              "      <th>0</th>\n",
              "      <td>Adinolfi, Wilson  K</td>\n",
              "      <td>10026</td>\n",
              "      <td>0</td>\n",
              "      <td>0</td>\n",
              "      <td>1</td>\n",
              "      <td>1</td>\n",
              "      <td>5</td>\n",
              "      <td>4</td>\n",
              "      <td>0</td>\n",
              "      <td>62506</td>\n",
              "      <td>0</td>\n",
              "      <td>19</td>\n",
              "      <td>Production Technician I</td>\n",
              "      <td>MA</td>\n",
              "      <td>1960</td>\n",
              "      <td>07/10/83</td>\n",
              "      <td>M</td>\n",
              "      <td>Single</td>\n",
              "      <td>US Citizen</td>\n",
              "      <td>No</td>\n",
              "      <td>White</td>\n",
              "      <td>7/5/2011</td>\n",
              "      <td>NaN</td>\n",
              "      <td>N/A-StillEmployed</td>\n",
              "      <td>Active</td>\n",
              "      <td>Production</td>\n",
              "      <td>Michael Albert</td>\n",
              "      <td>22.0</td>\n",
              "      <td>LinkedIn</td>\n",
              "      <td>Exceeds</td>\n",
              "      <td>4.60</td>\n",
              "      <td>5</td>\n",
              "      <td>0</td>\n",
              "      <td>1/17/2019</td>\n",
              "      <td>0</td>\n",
              "      <td>1</td>\n",
              "    </tr>\n",
              "    <tr>\n",
              "      <th>1</th>\n",
              "      <td>Ait Sidi, Karthikeyan</td>\n",
              "      <td>10084</td>\n",
              "      <td>1</td>\n",
              "      <td>1</td>\n",
              "      <td>1</td>\n",
              "      <td>5</td>\n",
              "      <td>3</td>\n",
              "      <td>3</td>\n",
              "      <td>0</td>\n",
              "      <td>104437</td>\n",
              "      <td>1</td>\n",
              "      <td>27</td>\n",
              "      <td>Sr. DBA</td>\n",
              "      <td>MA</td>\n",
              "      <td>2148</td>\n",
              "      <td>05/05/75</td>\n",
              "      <td>M</td>\n",
              "      <td>Married</td>\n",
              "      <td>US Citizen</td>\n",
              "      <td>No</td>\n",
              "      <td>White</td>\n",
              "      <td>3/30/2015</td>\n",
              "      <td>6/16/2016</td>\n",
              "      <td>career change</td>\n",
              "      <td>Voluntarily Terminated</td>\n",
              "      <td>IT/IS</td>\n",
              "      <td>Simon Roup</td>\n",
              "      <td>4.0</td>\n",
              "      <td>Indeed</td>\n",
              "      <td>Fully Meets</td>\n",
              "      <td>4.96</td>\n",
              "      <td>3</td>\n",
              "      <td>6</td>\n",
              "      <td>2/24/2016</td>\n",
              "      <td>0</td>\n",
              "      <td>17</td>\n",
              "    </tr>\n",
              "    <tr>\n",
              "      <th>2</th>\n",
              "      <td>Akinkuolie, Sarah</td>\n",
              "      <td>10196</td>\n",
              "      <td>1</td>\n",
              "      <td>1</td>\n",
              "      <td>0</td>\n",
              "      <td>5</td>\n",
              "      <td>5</td>\n",
              "      <td>3</td>\n",
              "      <td>0</td>\n",
              "      <td>64955</td>\n",
              "      <td>1</td>\n",
              "      <td>20</td>\n",
              "      <td>Production Technician II</td>\n",
              "      <td>MA</td>\n",
              "      <td>1810</td>\n",
              "      <td>09/19/88</td>\n",
              "      <td>F</td>\n",
              "      <td>Married</td>\n",
              "      <td>US Citizen</td>\n",
              "      <td>No</td>\n",
              "      <td>White</td>\n",
              "      <td>7/5/2011</td>\n",
              "      <td>9/24/2012</td>\n",
              "      <td>hours</td>\n",
              "      <td>Voluntarily Terminated</td>\n",
              "      <td>Production</td>\n",
              "      <td>Kissy Sullivan</td>\n",
              "      <td>20.0</td>\n",
              "      <td>LinkedIn</td>\n",
              "      <td>Fully Meets</td>\n",
              "      <td>3.02</td>\n",
              "      <td>3</td>\n",
              "      <td>0</td>\n",
              "      <td>5/15/2012</td>\n",
              "      <td>0</td>\n",
              "      <td>3</td>\n",
              "    </tr>\n",
              "    <tr>\n",
              "      <th>3</th>\n",
              "      <td>Alagbe,Trina</td>\n",
              "      <td>10088</td>\n",
              "      <td>1</td>\n",
              "      <td>1</td>\n",
              "      <td>0</td>\n",
              "      <td>1</td>\n",
              "      <td>5</td>\n",
              "      <td>3</td>\n",
              "      <td>0</td>\n",
              "      <td>64991</td>\n",
              "      <td>0</td>\n",
              "      <td>19</td>\n",
              "      <td>Production Technician I</td>\n",
              "      <td>MA</td>\n",
              "      <td>1886</td>\n",
              "      <td>09/27/88</td>\n",
              "      <td>F</td>\n",
              "      <td>Married</td>\n",
              "      <td>US Citizen</td>\n",
              "      <td>No</td>\n",
              "      <td>White</td>\n",
              "      <td>1/7/2008</td>\n",
              "      <td>NaN</td>\n",
              "      <td>N/A-StillEmployed</td>\n",
              "      <td>Active</td>\n",
              "      <td>Production</td>\n",
              "      <td>Elijiah Gray</td>\n",
              "      <td>16.0</td>\n",
              "      <td>Indeed</td>\n",
              "      <td>Fully Meets</td>\n",
              "      <td>4.84</td>\n",
              "      <td>5</td>\n",
              "      <td>0</td>\n",
              "      <td>1/3/2019</td>\n",
              "      <td>0</td>\n",
              "      <td>15</td>\n",
              "    </tr>\n",
              "    <tr>\n",
              "      <th>4</th>\n",
              "      <td>Anderson, Carol</td>\n",
              "      <td>10069</td>\n",
              "      <td>0</td>\n",
              "      <td>2</td>\n",
              "      <td>0</td>\n",
              "      <td>5</td>\n",
              "      <td>5</td>\n",
              "      <td>3</td>\n",
              "      <td>0</td>\n",
              "      <td>50825</td>\n",
              "      <td>1</td>\n",
              "      <td>19</td>\n",
              "      <td>Production Technician I</td>\n",
              "      <td>MA</td>\n",
              "      <td>2169</td>\n",
              "      <td>09/08/89</td>\n",
              "      <td>F</td>\n",
              "      <td>Divorced</td>\n",
              "      <td>US Citizen</td>\n",
              "      <td>No</td>\n",
              "      <td>White</td>\n",
              "      <td>7/11/2011</td>\n",
              "      <td>9/6/2016</td>\n",
              "      <td>return to school</td>\n",
              "      <td>Voluntarily Terminated</td>\n",
              "      <td>Production</td>\n",
              "      <td>Webster Butler</td>\n",
              "      <td>39.0</td>\n",
              "      <td>Google Search</td>\n",
              "      <td>Fully Meets</td>\n",
              "      <td>5.00</td>\n",
              "      <td>4</td>\n",
              "      <td>0</td>\n",
              "      <td>2/1/2016</td>\n",
              "      <td>0</td>\n",
              "      <td>2</td>\n",
              "    </tr>\n",
              "  </tbody>\n",
              "</table>\n",
              "</div>"
            ],
            "text/plain": [
              "              Employee_Name  EmpID  ...  DaysLateLast30  Absences\n",
              "0       Adinolfi, Wilson  K  10026  ...               0         1\n",
              "1  Ait Sidi, Karthikeyan     10084  ...               0        17\n",
              "2         Akinkuolie, Sarah  10196  ...               0         3\n",
              "3              Alagbe,Trina  10088  ...               0        15\n",
              "4          Anderson, Carol   10069  ...               0         2\n",
              "\n",
              "[5 rows x 36 columns]"
            ]
          },
          "metadata": {},
          "execution_count": 11
        }
      ]
    },
    {
      "cell_type": "code",
      "metadata": {
        "id": "QaYmp3BlnpsA"
      },
      "source": [
        "# Data Cleaning\n",
        "hr_data = hr_data.drop(columns=['DateofTermination'])\n",
        "hr_data = hr_data.dropna()"
      ],
      "execution_count": null,
      "outputs": []
    },
    {
      "cell_type": "code",
      "metadata": {
        "id": "Cbfr3SZocmuK"
      },
      "source": [
        "# Convert date columns to real date.\n",
        "hr_data['LastPerformanceReview_Date'] = pd.to_datetime(hr_data['LastPerformanceReview_Date']) \n",
        "hr_data['DOB'] = pd.to_datetime(hr_data['DOB']) \n",
        "hr_data['DateofHire'] = pd.to_datetime(hr_data['DateofHire']) "
      ],
      "execution_count": null,
      "outputs": []
    },
    {
      "cell_type": "code",
      "metadata": {
        "id": "5SWhEC6tcs79"
      },
      "source": [
        "# Add age column\n",
        "hr_data['Age'] = abs(2021 - pd.DatetimeIndex(hr_data['DOB']).year)"
      ],
      "execution_count": null,
      "outputs": []
    },
    {
      "cell_type": "markdown",
      "metadata": {
        "id": "W9IO3Ox8dEMA"
      },
      "source": [
        "# Example #1: Diversity Profile\n",
        "\n",
        "## Question: What is the overall diversity profile?"
      ]
    },
    {
      "cell_type": "code",
      "metadata": {
        "colab": {
          "base_uri": "https://localhost:8080/",
          "height": 405
        },
        "id": "IPk7Q88vdkTA",
        "outputId": "0ccfb8d8-0878-4b34-f2ea-4f880f45d177"
      },
      "source": [
        "plt.figure(figsize=(10,6))\n",
        "sns.countplot(x = \"Sex\", data=hr_data)"
      ],
      "execution_count": null,
      "outputs": [
        {
          "output_type": "execute_result",
          "data": {
            "text/plain": [
              "<matplotlib.axes._subplots.AxesSubplot at 0x7f637d8bf090>"
            ]
          },
          "metadata": {},
          "execution_count": 15
        },
        {
          "output_type": "display_data",
          "data": {
            "image/png": "[encoded data removed]",
            "text/plain": [
              "<Figure size 720x432 with 1 Axes>"
            ]
          },
          "metadata": {
            "needs_background": "light"
          }
        }
      ]
    },
    {
      "cell_type": "code",
      "metadata": {
        "colab": {
          "base_uri": "https://localhost:8080/",
          "height": 405
        },
        "id": "qNUSJRLxd5gy",
        "outputId": "396ee76e-b637-429b-f055-8f4f6d44f0ef"
      },
      "source": [
        "plt.figure(figsize=(14,6))\n",
        "sns.countplot(x = \"RaceDesc\", data=hr_data)"
      ],
      "execution_count": null,
      "outputs": [
        {
          "output_type": "execute_result",
          "data": {
            "text/plain": [
              "<matplotlib.axes._subplots.AxesSubplot at 0x7f637da65250>"
            ]
          },
          "metadata": {},
          "execution_count": 16
        },
        {
          "output_type": "display_data",
          "data": {
            "image/png": "[encoded data removed]",
            "text/plain": [
              "<Figure size 1008x432 with 1 Axes>"
            ]
          },
          "metadata": {
            "needs_background": "light"
          }
        }
      ]
    },
    {
      "cell_type": "markdown",
      "metadata": {
        "id": "dTnq-G2jfwbH"
      },
      "source": [
        "# Example #2: Salary across Races\n",
        "\n",
        "## Question: Is there a relationship between race and salary?"
      ]
    },
    {
      "cell_type": "code",
      "metadata": {
        "colab": {
          "base_uri": "https://localhost:8080/",
          "height": 459
        },
        "id": "32XmHIuafqrM",
        "outputId": "805cddad-3318-4a10-abae-613c2a1892fb"
      },
      "source": [
        "plt.figure(figsize=(15,7))\n",
        "# Show each observation with a scatterplot\n",
        "sns.stripplot(x=\"Salary\", y=\"RaceDesc\", hue=\"RaceDesc\",\n",
        "              data=hr_data[hr_data['Salary']<150000], dodge=True, alpha=.3, zorder=1, size=12)\n",
        "\n"
      ],
      "execution_count": null,
      "outputs": [
        {
          "output_type": "execute_result",
          "data": {
            "text/plain": [
              "<matplotlib.axes._subplots.AxesSubplot at 0x7f637d86b390>"
            ]
          },
          "metadata": {},
          "execution_count": 17
        },
        {
          "output_type": "display_data",
          "data": {
            "image/png": "[encoded data removed]",
            "text/plain": [
              "<Figure size 1080x504 with 1 Axes>"
            ]
          },
          "metadata": {
            "needs_background": "light"
          }
        }
      ]
    },
    {
      "cell_type": "markdown",
      "metadata": {
        "id": "BByMd5f2kUya"
      },
      "source": [
        "# Your Visualizations\n",
        "\n",
        "## Some sample questions:\n",
        "1. What is the diversity profile based on race/sex and position/salary?\n",
        "2. Is there a relationship between age/martial status/absence and performance?\n",
        "3. Does working on special projects affects performance?\n",
        "4. What are the best recruiting sources (RecruitmentSource column) if we want to improve diversity? "
      ]
    }
  ]
}