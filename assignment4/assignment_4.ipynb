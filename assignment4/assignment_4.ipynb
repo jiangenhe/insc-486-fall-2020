{
  "nbformat": 4,
  "nbformat_minor": 0,
  "metadata": {
    "colab": {
      "name": "Copy of assignment 4 - part 2.ipynb",
      "provenance": [],
      "collapsed_sections": [],
      "authorship_tag": "ABX9TyPgVnQkEcPGwa7z7TLzeG0U",
      "include_colab_link": true
    },
    "kernelspec": {
      "name": "python3",
      "display_name": "Python 3"
    },
    "language_info": {
      "name": "python"
    }
  },
  "cells": [
    {
      "cell_type": "markdown",
      "metadata": {
        "id": "view-in-github",
        "colab_type": "text"
      },
      "source": [
        "<a href=\"https://colab.research.google.com/github/jiangenhe/insc-486-fall-2021/blob/main/assignment4/assignment_4.ipynb\" target=\"_parent\"><img src=\"https://colab.research.google.com/assets/colab-badge.svg\" alt=\"Open In Colab\"/></a>"
      ]
    },
    {
      "cell_type": "markdown",
      "metadata": {
        "id": "lbEshgPidmY0"
      },
      "source": [
        "# INSC486 Assignment 4\n",
        "\n",
        "- This assignment is worth 90 points that accounts for 9% of your final grade.\n",
        "- **Code efficiency will be considered in grading.**\n",
        "\n",
        "Learning Objectives:\n",
        "- Confidence intervals\n",
        "- t-test and p-value\n",
        "- Linear regression\n",
        "- Enhance your pandas skills"
      ]
    },
    {
      "cell_type": "markdown",
      "metadata": {
        "id": "qZk1whNiei_B"
      },
      "source": [
        "## Task 1: Confidence intervals in python (25 points)\n",
        "In this task, you will look at data from a study on toddler sleep habits. \n"
      ]
    },
    {
      "cell_type": "code",
      "metadata": {
        "id": "_IZqmq8OdNk8"
      },
      "source": [
        "import numpy as np\n",
        "import pandas as pd\n",
        "from scipy.stats import t"
      ],
      "execution_count": null,
      "outputs": []
    },
    {
      "cell_type": "markdown",
      "metadata": {
        "id": "8RE-PDuZfd9K"
      },
      "source": [
        "Your goal is to analyze data which is the result of a study that examined\n",
        "differences in a number of sleep variables between napping and non-napping toddlers. Some of these sleep variables included: \n",
        "\n",
        "- Bedtime (lights-off time in decimalized time)\n",
        "- Night Sleep Onset Time (indecimalized time)\n",
        "- Wake Time (sleep end time in decimalized time)\n",
        "- Night Sleep Duration (interval between sleep onset and sleep end in minutes)\n",
        "- Total 24-Hour Sleep Duration (in minutes). \n",
        "\n",
        "Note:\n",
        "[Decimalized time](https://en.wikipedia.org/wiki/Decimal_time) is the representation of the time of day using units which are decimally related.   \n",
        "\n",
        "\n",
        "The 20 study participants were healthy, normally developing toddlers with no sleep or behavioral problems. These children were categorized as napping or non-napping based upon parental report of children’s habitual sleep patterns. \n",
        "\n",
        "You are specifically interested in the results for Bedtime. "
      ]
    },
    {
      "cell_type": "markdown",
      "metadata": {
        "id": "LkjU9s_hixjQ"
      },
      "source": [
        "### 1. Load the dataset\n",
        "\n",
        "https://raw.githubusercontent.com/jiangenhe/insc-486-fall-2021/main/assignment4/nap_no_nap.csv\n"
      ]
    },
    {
      "cell_type": "code",
      "metadata": {
        "id": "151vl6M4iw74"
      },
      "source": [
        ""
      ],
      "execution_count": null,
      "outputs": []
    },
    {
      "cell_type": "markdown",
      "metadata": {
        "id": "X34XpNrjjcp2"
      },
      "source": [
        "### 2. What is the overall sample size $n$? What is the sample size for toddlers who nap (napping=1), $n_1$, and toddlers who don't nap (napping=0), $n_2$?"
      ]
    },
    {
      "cell_type": "code",
      "metadata": {
        "id": "pD7ukbL0j8Ia"
      },
      "source": [
        ""
      ],
      "execution_count": null,
      "outputs": []
    },
    {
      "cell_type": "markdown",
      "metadata": {
        "id": "7ZJWECzqj8sK"
      },
      "source": [
        "### 3. What is the average bedtime confidence interval for napping and non-napping toddlers?\n",
        "\n",
        "Create two 95% confidence intervals for the average bedtime, one for toddler who nap and one for toddlers who don't."
      ]
    },
    {
      "cell_type": "code",
      "metadata": {
        "id": "-if8IZDnkmqJ"
      },
      "source": [
        ""
      ],
      "execution_count": null,
      "outputs": []
    },
    {
      "cell_type": "markdown",
      "metadata": {
        "id": "gD_04DpklRgh"
      },
      "source": [
        "### 4. Interpret the confidence interval"
      ]
    },
    {
      "cell_type": "markdown",
      "metadata": {
        "id": "-DfclpsSZTYl"
      },
      "source": [
        ""
      ]
    },
    {
      "cell_type": "markdown",
      "metadata": {
        "id": "DAMrhs8hZT9o"
      },
      "source": [
        "## Task 2: Hypothesis Tests in Python (30 points)\n",
        "In this task, you will look at the dataset you used for Task 1.\n"
      ]
    },
    {
      "cell_type": "markdown",
      "metadata": {
        "id": "Be_7vSGrukXz"
      },
      "source": [
        "**Question: Is the average bedtime for toddlers who nap later than the average bedtime for toddlers who don't nap?**"
      ]
    },
    {
      "cell_type": "markdown",
      "metadata": {
        "id": "OMFNxG8ru52n"
      },
      "source": [
        "### 1. State null hypothesis $H_0$ and alternative hypothesis $H_a$ for the question"
      ]
    },
    {
      "cell_type": "markdown",
      "metadata": {
        "id": "Xt63aCCUvWsm"
      },
      "source": [
        "$H_0$:\n",
        "\n",
        "$H_a$:"
      ]
    },
    {
      "cell_type": "markdown",
      "metadata": {
        "id": "Tr4v52ufvZl2"
      },
      "source": [
        "### 2. Find the sample mean bedtime for nap and no_nap."
      ]
    },
    {
      "cell_type": "code",
      "metadata": {
        "id": "T0On0BSnvn10"
      },
      "source": [
        ""
      ],
      "execution_count": null,
      "outputs": []
    },
    {
      "cell_type": "markdown",
      "metadata": {
        "id": "d2etyQZvvoY4"
      },
      "source": [
        "### 3. What is the sample difference of mean bedtime for nappers minus no nappers?"
      ]
    },
    {
      "cell_type": "code",
      "metadata": {
        "id": "IoNj88RivwrM"
      },
      "source": [
        ""
      ],
      "execution_count": null,
      "outputs": []
    },
    {
      "cell_type": "markdown",
      "metadata": {
        "id": "3cc3blkowjEv"
      },
      "source": [
        "### 4. What is the t-statistic and p-value for the hypothesis test?"
      ]
    },
    {
      "cell_type": "code",
      "metadata": {
        "id": "VaNYoTnNwzNy"
      },
      "source": [
        ""
      ],
      "execution_count": null,
      "outputs": []
    },
    {
      "cell_type": "markdown",
      "metadata": {
        "id": "tEUEALGVxIf0"
      },
      "source": [
        "### 5. Interpret the test results."
      ]
    },
    {
      "cell_type": "markdown",
      "metadata": {
        "id": "r9tF3gxoxYjG"
      },
      "source": [
        ""
      ]
    },
    {
      "cell_type": "markdown",
      "metadata": {
        "id": "O7w_YjXdzIFr"
      },
      "source": [
        "## Task 3: Regression Analysis (35 points)\n",
        "\n",
        "You will us the Boston housing dataset to complete this task.\n",
        "\n",
        "Here is the description for each column:\n",
        "\n",
        "* __CRIM:__ Per capita crime rate by town\n",
        "* __ZN:__ Proportion of residential land zoned for lots over 25,000 sq. ft\n",
        "* __INDUS:__ Proportion of non-retail business acres per town\n",
        "* __CHAS:__ Charles River dummy variable (= 1 if tract bounds river; 0 otherwise)\n",
        "* __NOX:__ Nitric oxide concentration (parts per 10 million)\n",
        "* __RM:__ Average number of rooms per dwelling\n",
        "* __AGE:__ Proportion of owner-occupied units built prior to 1940\n",
        "* __DIS:__ Weighted distances to five Boston employment centers\n",
        "* __RAD:__ Index of accessibility to radial highways\n",
        "* __TAX:__ Full-value property tax rate per $\\$10,000$\n",
        "* __PTRATIO:__ Pupil-teacher ratio by town\n",
        "* __B:__ $1000(Bk — 0.63)^2$, where Bk is the proportion of [people of African American descent] by town\n",
        "* __LSTAT:__ Percentage of lower status of the population\n",
        "* __MEDV:__ Median value of owner-occupied homes in $\\$1000$s"
      ]
    },
    {
      "cell_type": "markdown",
      "metadata": {
        "id": "KV4dfUxa3E9R"
      },
      "source": [
        "### 0. Load the Boston housing dataset."
      ]
    },
    {
      "cell_type": "code",
      "metadata": {
        "id": "nD7-nlby2-lt"
      },
      "source": [
        "import numpy as np\n",
        "import statsmodels.api as sm\n",
        "import pandas as pd  \n",
        "\n",
        "from sklearn.datasets import load_boston\n",
        "boston_dataset = load_boston() \n",
        "\n",
        "boston = pd.DataFrame(data=boston_dataset.data, columns=boston_dataset.feature_names)\n",
        "boston[\"MEDV\"] = boston_dataset.target"
      ],
      "execution_count": null,
      "outputs": []
    },
    {
      "cell_type": "markdown",
      "metadata": {
        "id": "8DFCep_n3JMz"
      },
      "source": [
        "### 1. Write code to generate a simple linear regression with two independent variables (RM and CRIM) and a dependent variable (MEDV) and output the model summary."
      ]
    },
    {
      "cell_type": "code",
      "metadata": {
        "id": "bclXGSkN84Rp"
      },
      "source": [
        ""
      ],
      "execution_count": null,
      "outputs": []
    },
    {
      "cell_type": "markdown",
      "metadata": {
        "id": "kH4xJIWP84-4"
      },
      "source": [
        "### 2. What is the value of the coefficient for independent variable RM?"
      ]
    },
    {
      "cell_type": "markdown",
      "metadata": {
        "id": "NVexEPfQ9FRN"
      },
      "source": [
        ""
      ]
    },
    {
      "cell_type": "markdown",
      "metadata": {
        "id": "W0X70DbU9JdH"
      },
      "source": [
        "### 3. Are the independent variables for this model statistically significant?"
      ]
    },
    {
      "cell_type": "markdown",
      "metadata": {
        "id": "bJyce-959bw0"
      },
      "source": [
        ""
      ]
    },
    {
      "cell_type": "markdown",
      "metadata": {
        "id": "37FqvmD49cXj"
      },
      "source": [
        "### 4. Add another independent variable (LSTAT) to the model and output the summary of the new model."
      ]
    },
    {
      "cell_type": "code",
      "metadata": {
        "id": "5RdOlLkx9teF"
      },
      "source": [
        ""
      ],
      "execution_count": null,
      "outputs": []
    },
    {
      "cell_type": "markdown",
      "metadata": {
        "id": "BkW7gm2O9t9J"
      },
      "source": [
        "### 5. What happened to our R-Squared value when we added the third predictor __LSTAT__ to our initial model?"
      ]
    },
    {
      "cell_type": "markdown",
      "metadata": {
        "id": "35xBekcf92Y0"
      },
      "source": [
        ""
      ]
    },
    {
      "cell_type": "markdown",
      "metadata": {
        "id": "htx5fzgC930H"
      },
      "source": [
        "### 6. What type of model should we use when our target outcome, or dependent variable is continuous?"
      ]
    },
    {
      "cell_type": "markdown",
      "metadata": {
        "id": "8wXAg9se-W_j"
      },
      "source": [
        ""
      ]
    }
  ]
}